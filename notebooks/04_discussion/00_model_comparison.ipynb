{
 "cells": [
  {
   "cell_type": "markdown",
   "id": "d91b6c78-e427-4ecb-8b88-478d4a698b4d",
   "metadata": {},
   "source": [
    "# Model code comparison\n",
    "\n",
    "## Critical Care Unit\n",
    "\n",
    "The final code files from stage 1 and stage 2 (our internal replication) for the critical care unit model and its interface were overall very similar.  Minor differences included naming of variables, functions and classes. Another minor difference was the setup of random number generators for each activity in the model.  However, both approaches in stage 1 and 2 were acceptable.\n",
    "\n",
    "A more substantial difference is that the stage 2 code is arguably easier to understand for a new user than stage 1 code.  For example, the LLM generated an `Experiment` class where each parameter used in a statistical distribution was implemented as a named variable. For example, the mean inter-arrival times all had a clear variable that could be set. Where-as in stage one code the LLM generated an `Experiment` class where inter-arrival means were set via a list of unnamed parameter values. This increased clarify resulted in more lines of code in stage 2 than stage 1; although we do not consider this a good or bad outcome.  A similar difference in clarity can be seen in the code to convert the mean and standard deviation of a log normal into scale and shape parameters (suitable for the `numpy` lognormal functions).  In stage 2 the logic was (optimally) implemented in a reusable function.  In stage one the conversion logic is coded directly into each process and harder to follow and test.\n",
    "\n"
   ]
  },
  {
   "cell_type": "markdown",
   "id": "d30d515f-765b-4b55-8c90-29b67c8c336a",
   "metadata": {},
   "source": [
    "## Stroke capacity planning model"
   ]
  },
  {
   "cell_type": "code",
   "execution_count": null,
   "id": "3b9aea2b-4456-4616-86b4-7b65647cf146",
   "metadata": {},
   "outputs": [],
   "source": []
  }
 ],
 "metadata": {
  "kernelspec": {
   "display_name": "Python 3 (ipykernel)",
   "language": "python",
   "name": "python3"
  },
  "language_info": {
   "codemirror_mode": {
    "name": "ipython",
    "version": 3
   },
   "file_extension": ".py",
   "mimetype": "text/x-python",
   "name": "python",
   "nbconvert_exporter": "python",
   "pygments_lexer": "ipython3",
   "version": "3.10.13"
  }
 },
 "nbformat": 4,
 "nbformat_minor": 5
}

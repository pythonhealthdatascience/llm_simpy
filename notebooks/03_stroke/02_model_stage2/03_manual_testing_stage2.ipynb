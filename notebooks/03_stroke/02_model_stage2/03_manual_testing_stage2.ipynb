{
 "cells": [
  {
   "cell_type": "markdown",
   "id": "aaac1ded-9d92-4a46-a7c5-168ff6358857",
   "metadata": {},
   "source": [
    "# Manual model testing\n",
    "\n",
    "This notebook contains a number of tests for the simulation model where the output must be interpreted by a user to determine if the model is functioning correctly.   This may include inspecting:\n",
    "\n",
    "* a simulated log of events\n",
    "* the distribution of an output\n",
    "* a chart or plot produced by the model"
   ]
  },
  {
   "cell_type": "markdown",
   "id": "6fc9dd7c-4baf-4b29-9427-f2b85600d72a",
   "metadata": {},
   "source": [
    "## Imports"
   ]
  },
  {
   "cell_type": "code",
   "execution_count": 5,
   "id": "b7c6f72e-c812-45b5-8c13-c96f02864421",
   "metadata": {},
   "outputs": [],
   "source": [
    "import numpy as np\n",
    "import statistics"
   ]
  },
  {
   "cell_type": "markdown",
   "id": "2e52ec2d-eadf-43e0-9850-7b1961d2b830",
   "metadata": {},
   "source": [
    "## Model imports"
   ]
  },
  {
   "cell_type": "code",
   "execution_count": 6,
   "id": "63453d69-b6ef-4351-93c4-630a129897e5",
   "metadata": {},
   "outputs": [],
   "source": [
    "from s2_stroke_rehab_model import *"
   ]
  },
  {
   "cell_type": "markdown",
   "id": "2151ddaa-b83c-4841-968c-b73079907e5a",
   "metadata": {},
   "source": [
    "## Results collection tests"
   ]
  },
  {
   "cell_type": "code",
   "execution_count": 47,
   "id": "cea5b9c2-e5e5-45fa-b596-e9b5a016d6fc",
   "metadata": {},
   "outputs": [],
   "source": [
    "def test_results_collection_moments_1(audit_interval=1):\n",
    "    '''\n",
    "    Test ASU ward occupancy data collected is in a sensible range.\n",
    "    \n",
    "    Expected result: The type collected is int. The values are in \n",
    "    the range in the range 0 to 50 with sensible moments.\n",
    "\n",
    "    prints out:\n",
    "    min\n",
    "    max\n",
    "    mean\n",
    "    deciles\n",
    "\n",
    "    Params:\n",
    "    ------\n",
    "    audit_interval: 1\n",
    "        duration of audit.\n",
    "\n",
    "    Returns:\n",
    "    -------\n",
    "    None\n",
    "    '''\n",
    "\n",
    "    # Create the experiment\n",
    "    experiment = Experiment({\n",
    "        'trace': False,\n",
    "        'acute_audit_interval': audit_interval\n",
    "    })\n",
    "\n",
    "    # Create the simulation environment\n",
    "    env = simpy.Environment()\n",
    "\n",
    "    rehab_unit = RehabilitationUnit(env, experiment)\n",
    "\n",
    "\n",
    "    # Create the AcuteStrokeUnit\n",
    "    asu = AcuteStrokeUnit(env, experiment, rehab_unit)\n",
    "\n",
    "    # Start the audit process - modified iteration 21\n",
    "    env.process(experiment.audit_acute_occupancy(env, 1, audit_interval, asu, experiment))\n",
    "\n",
    "    # Run the model - modified iteration 21\n",
    "    asu.run()\n",
    "    env.run(until=experiment.params['results_collection_period'])\n",
    "\n",
    "    # Calculate statistics\n",
    "    min_occupancy = min(experiment.asu_occupancy)\n",
    "    max_occupancy = max(experiment.asu_occupancy)\n",
    "    mean_occupancy = statistics.fmean(experiment.asu_occupancy)\n",
    "    deciles = [round(q, 1) for q in statistics.quantiles(experiment.asu_occupancy, n=10)]\n",
    "\n",
    "    # Print results\n",
    "    print(f'Minimum occupancy: {min_occupancy}')\n",
    "    print(f'Maximum occupancy: {max_occupancy}')\n",
    "    print(f'Mean occupancy: {mean_occupancy}')\n",
    "    print(f'Deciles of occupancy: {deciles}')\n"
   ]
  },
  {
   "cell_type": "code",
   "execution_count": 48,
   "id": "a1c1948a-76e8-4db9-b895-4b3f3e1b5212",
   "metadata": {},
   "outputs": [],
   "source": [
    "def test_results_collection_moments_2(audit_interval=1):\n",
    "    '''\n",
    "    Test REHAB ward occupancy data collected is in a sensible range.\n",
    "    \n",
    "    Expected result: The type collected is int. The values are in \n",
    "    the range 1 to [10-15] with sensible moments.\n",
    "\n",
    "    Note this is when the Rehab unit is used independently\n",
    "    with external arrivals only i.e. no transfers from ASU.\n",
    "\n",
    "    prints out:\n",
    "    min\n",
    "    max\n",
    "    mean\n",
    "    deciles\n",
    "\n",
    "    Params:\n",
    "    ------\n",
    "    audit_interval: 1\n",
    "        duration of audit.\n",
    "\n",
    "    Returns:\n",
    "    -------\n",
    "    None\n",
    "    '''\n",
    "    # Create the simulation environment\n",
    "    env = simpy.Environment()\n",
    "    \n",
    "    # create experiment\n",
    "    experiment = Experiment()\n",
    "    \n",
    "    rehab_unit = RehabilitationUnit(env, experiment)\n",
    "    rehab_unit.run()\n",
    "    \n",
    "    # Start the audit process - modified iteration 21\n",
    "    env.process(experiment.audit_rehab_occupancy(env, 1, audit_interval, rehab_unit, experiment))\n",
    "    \n",
    "    # Run the model for the default run length in the experiment - modified in iteration 21\n",
    "    env.run(until=experiment.params['results_collection_period'])\n",
    "    \n",
    "    print(f'min(experiment.rehab_occupancy)={min(experiment.rehab_occupancy)}')\n",
    "    print(f'max(experiment.rehab_occupancy)={max(experiment.rehab_occupancy)}')\n",
    "    print(f'statistics.fmean(experiment.rehab_occupancy)={statistics.fmean(experiment.rehab_occupancy)}')\n",
    "    print('Deciles:', [round(q, 1) for q in statistics.quantiles(experiment.rehab_occupancy, n=10)])\n"
   ]
  },
  {
   "cell_type": "code",
   "execution_count": 49,
   "id": "0ceaa44b-46bf-4d95-919c-4b2d4be2a998",
   "metadata": {},
   "outputs": [],
   "source": [
    "def test_results_collection_moments_3(audit_interval=1):\n",
    "    '''\n",
    "    SYSTEM TEST\n",
    "    \n",
    "    Test REHAB ward occupancy data collected is in a sensible range\n",
    "    when it is connected to the ASU model.\n",
    "    \n",
    "    Expected result: The type collected is int. The values are in \n",
    "    the range in the range 1 to [10-15] with sensible moments.\n",
    "\n",
    "    Expected result: \n",
    "        len(experiment.asu_occupancy) == env.now - 1 AND\n",
    "        len(experiment.rehab_occupancy) == env.now - 1\n",
    "\n",
    "    Params:\n",
    "    ------\n",
    "    audit_interval: 1\n",
    "        duration of audit.\n",
    "\n",
    "    Returns:\n",
    "    -------\n",
    "    bool: does the model pass the test.\n",
    "    '''\n",
    "    # Create the simulation environment\n",
    "    env = simpy.Environment()\n",
    "    \n",
    "    # Create an experiment with default parameters\n",
    "    experiment = Experiment()\n",
    "\n",
    "    # Create models\n",
    "    rehab_unit = RehabilitationUnit(env, experiment)\n",
    "    asu = AcuteStrokeUnit(env, experiment, rehab_unit)\n",
    "    \n",
    "    # Start the ASU patient generators for each type of patient\n",
    "    asu.run()\n",
    "    rehab_unit.run()\n",
    "\n",
    "    # Start the audit process - modified iteration 21\n",
    "    env.process(experiment.audit_rehab_occupancy(env, 1, audit_interval, rehab_unit, experiment))\n",
    "    env.process(experiment.audit_acute_occupancy(env, 1, audit_interval, asu, experiment))\n",
    "    \n",
    "    # Run the simulation until the specified run length in the Experiment parameters - modified in iteration 21\n",
    "    env.run(until=experiment.params['results_collection_period']*10)\n",
    "\n",
    "    # Print info for debug\n",
    "    print(f'min(experiment.rehab_occupancy)={min(experiment.rehab_occupancy)}')\n",
    "    print(f'max(experiment.rehab_occupancy)={max(experiment.rehab_occupancy)}')\n",
    "    print(f'statistics.fmean(experiment.rehab_occupancy)={statistics.fmean(experiment.rehab_occupancy)}')\n",
    "    print('Deciles:', [round(q, 1) for q in statistics.quantiles(experiment.rehab_occupancy, n=10)])\n",
    "\n",
    "    # Test\n",
    "    return len(experiment.asu_occupancy) == (env.now - 1) and \\\n",
    "           len(experiment.rehab_occupancy) == (env.now - 1)\n"
   ]
  },
  {
   "cell_type": "markdown",
   "id": "0fc08079-3a77-4df6-a1df-4d84181c8cb7",
   "metadata": {},
   "source": [
    "## Test suppress trace\n",
    "\n",
    "These tests check that the simulated log can be suppressed when the model is running"
   ]
  },
  {
   "cell_type": "code",
   "execution_count": 53,
   "id": "397c357c-4a52-4882-bf4f-664e4d6f1943",
   "metadata": {},
   "outputs": [],
   "source": [
    "def test_suppress_log_asu(trace):\n",
    "    '''\n",
    "    Test that setting experiment.trace \n",
    "    False suppresses output.\n",
    "\n",
    "    Expected result: patient_count > 0\n",
    "\n",
    "    Params:\n",
    "    ------\n",
    "    trace: bool\n",
    "        is trace outputted or not?\n",
    "\n",
    "    Returns:\n",
    "    -------\n",
    "    int: number of patient arrivals.\n",
    "    '''\n",
    "    experiment = Experiment({'trace': trace})\n",
    "    env = simpy.Environment()\n",
    "    rehab_unit = RehabilitationUnit(env, experiment)\n",
    "    model = AcuteStrokeUnit(env, experiment, rehab_unit)\n",
    "    model.run()\n",
    "    env.run(until=experiment.params['results_collection_period'])\n",
    "    \n",
    "    print(\"\\nSimulation completed.\")\n",
    "    print(f\"Total simulation time: {model.env.now:.2f} days\")\n",
    "    print(f\"Total patient arrivals: {model.total_arrivals}\")\n",
    "    for patient_type in model.patient_types.values():\n",
    "        print(f\"Total {patient_type.name} arrivals: {patient_type.count}\")"
   ]
  },
  {
   "cell_type": "code",
   "execution_count": 57,
   "id": "e5f8d7b0-3023-491d-aeec-06783a5ebc80",
   "metadata": {},
   "outputs": [],
   "source": [
    "def test_suppress_log_rehab(trace):\n",
    "    '''\n",
    "    Test that setting experiment.trace to\n",
    "    False suppresses output in the rehab model\n",
    "\n",
    "    Expected result: patient_count > 0\n",
    "\n",
    "    Params:\n",
    "    ------\n",
    "    trace: bool\n",
    "        is trace outputted or not?\n",
    "\n",
    "    Returns:\n",
    "    -------\n",
    "    int: number of patient arrivals.\n",
    "    '''\n",
    "    experiment = Experiment({'trace': trace})\n",
    "    env = simpy.Environment()\n",
    "    model = RehabilitationUnit(env, experiment)\n",
    "    asu = AcuteStrokeUnit(env, experiment, model)\n",
    "    model.run()\n",
    "    env.run(until=100)\n",
    "    \n",
    "    print(\"\\nSimulation completed.\")\n",
    "    print(f\"Total simulation time: {model.env.now:.2f} days\")\n",
    "    print(f\"Total patient arrivals: {model.total_arrivals}\")\n",
    "    print(f\"Final rehab patient counts: {model.patient_counts}\")"
   ]
  },
  {
   "cell_type": "markdown",
   "id": "5ac3172e-38bd-4e50-90c2-7a4afa58bd81",
   "metadata": {},
   "source": [
    "### Extreme value tests\n",
    "\n",
    "Extreme value tests are used pragmatically to block of routes/arrivals/activites in the simulation model and check the results.\n",
    "\n",
    "The most simple way to modify the model for these tests is to set parameters to $M$ a very large number."
   ]
  },
  {
   "cell_type": "code",
   "execution_count": 59,
   "id": "f6695e54-7160-4047-8666-880cee0a97de",
   "metadata": {},
   "outputs": [],
   "source": [
    "def ev_test_1(large_number):\n",
    "    '''\n",
    "    TIA, Complex Neuro, Other, have their inter-arrival \n",
    "    time is set to $M$ a very large number\n",
    "    \n",
    "    Expected result: The only type of patient to arrive to the model \n",
    "    is \"Stroke\". This is seen in the event log\n",
    "\n",
    "    Params:\n",
    "    -------\n",
    "    large_number: int\n",
    "        M a very large number \n",
    "\n",
    "    Returns:\n",
    "    --------\n",
    "    int: the number of patients that arrived to the model.\n",
    "    '''\n",
    "    # Create the simulation environment\n",
    "    def main(arrival_rates=None, results_collection_period=None):\n",
    "        custom_params = {}\n",
    "        \n",
    "        if arrival_rates:\n",
    "            custom_params['patient_types'] = arrival_rates\n",
    "        \n",
    "        if results_collection_period:\n",
    "            custom_params['results_collection_period'] = results_collection_period\n",
    "    \n",
    "        # Create an Experiment instance with custom parameters\n",
    "        experiment = Experiment(custom_params)\n",
    "    \n",
    "        # Run the simulation with the custom experiment\n",
    "        env = simpy.Environment()\n",
    "        rehab_unit = RehabilitationUnit(env, experiment)\n",
    "        model = AcuteStrokeUnit(env, experiment, rehab_unit)\n",
    "        model.run()\n",
    "        env.run(until=experiment.params['results_collection_period'])\n",
    "    \n",
    "        # Print results to check\n",
    "        print(\"\\nSimulation completed.\")\n",
    "        print(f\"Total simulation time: {model.env.now:.2f} days\")\n",
    "        print(f\"Total patient arrivals: {model.total_arrivals}\")\n",
    "        for patient_type in model.patient_types.values():\n",
    "            print(f\"Total {patient_type.name} arrivals: {patient_type.count}\")\n",
    "    \n",
    "    if __name__ == \"__main__\":\n",
    "        large_number = M\n",
    "        \n",
    "        asu_arrival_rates = {\n",
    "            'Stroke': {'interarrival_time': 1.2},\n",
    "            'TIA': {'interarrival_time': large_number},\n",
    "            'Complex Neurological': {'interarrival_time': large_number},\n",
    "            'Other': {'interarrival_time': large_number}\n",
    "        }\n",
    "    \n",
    "    main(asu_arrival_rates, results_collection_period=2*365)  # Run for 2 years with custom parameters\n"
   ]
  },
  {
   "cell_type": "markdown",
   "id": "d641768e-318e-4396-b568-9f7e881cf2e6",
   "metadata": {},
   "source": [
    "## Run tests\n",
    "\n",
    "### Results collection moments 1 (ASU only)"
   ]
  },
  {
   "cell_type": "code",
   "execution_count": 50,
   "id": "6c836a7b-a6b0-4792-96fa-04870a48b49b",
   "metadata": {},
   "outputs": [
    {
     "name": "stdout",
     "output_type": "stream",
     "text": [
      "Minimum occupancy: 1\n",
      "Maximum occupancy: 21\n",
      "Mean occupancy: 8.296600877192983\n",
      "Deciles of occupancy: [5.0, 6.0, 7.0, 7.0, 8.0, 9.0, 10.0, 11.0, 12.0]\n"
     ]
    }
   ],
   "source": [
    "test_results_collection_moments_1()"
   ]
  },
  {
   "cell_type": "markdown",
   "id": "404ff0d4-f84a-446e-8501-bc4c2b35979c",
   "metadata": {},
   "source": [
    "### Results collection moments 2 (REHAB only)"
   ]
  },
  {
   "cell_type": "code",
   "execution_count": 51,
   "id": "143e1a3e-ab16-4163-8811-9ade87030d36",
   "metadata": {},
   "outputs": [
    {
     "name": "stdout",
     "output_type": "stream",
     "text": [
      "min(experiment.rehab_occupancy)=0\n",
      "max(experiment.rehab_occupancy)=8\n",
      "statistics.fmean(experiment.rehab_occupancy)=2.633771929824561\n",
      "Deciles: [1.0, 1.0, 2.0, 2.0, 2.0, 3.0, 3.0, 4.0, 5.0]\n"
     ]
    }
   ],
   "source": [
    "test_results_collection_moments_2()"
   ]
  },
  {
   "cell_type": "markdown",
   "id": "060ce897-7865-4331-ba7d-4d74d6966f24",
   "metadata": {},
   "source": [
    "### Results collection moment 3 (ASU+REHAB)"
   ]
  },
  {
   "cell_type": "code",
   "execution_count": 52,
   "id": "ca0c5665-f7ad-4d0b-9d87-dcd71d604f53",
   "metadata": {},
   "outputs": [
    {
     "name": "stdout",
     "output_type": "stream",
     "text": [
      "min(experiment.rehab_occupancy)=0\n",
      "max(experiment.rehab_occupancy)=21\n",
      "statistics.fmean(experiment.rehab_occupancy)=9.399145158638829\n",
      "Deciles: [6.0, 7.0, 8.0, 9.0, 9.0, 10.0, 11.0, 12.0, 13.0]\n"
     ]
    },
    {
     "data": {
      "text/plain": [
       "True"
      ]
     },
     "execution_count": 52,
     "metadata": {},
     "output_type": "execute_result"
    }
   ],
   "source": [
    "test_results_collection_moments_3()"
   ]
  },
  {
   "cell_type": "markdown",
   "id": "ee111cc0-04f5-4bdf-9262-ed77e7afc589",
   "metadata": {},
   "source": [
    "### Test suppress trace\n",
    "The following tests should only output statistics after the model run. There should be no printed log from within the run."
   ]
  },
  {
   "cell_type": "code",
   "execution_count": 54,
   "id": "a3ed757f-2fa8-4b3b-9569-e530a5bb70f6",
   "metadata": {},
   "outputs": [
    {
     "name": "stdout",
     "output_type": "stream",
     "text": [
      "\n",
      "Simulation completed.\n",
      "Total simulation time: 1825.00 days\n",
      "Total patient arrivals: 2821\n",
      "Total Stroke arrivals: 1525\n",
      "Total TIA arrivals: 216\n",
      "Total Complex Neurological arrivals: 541\n",
      "Total Other arrivals: 539\n"
     ]
    }
   ],
   "source": [
    "test_suppress_log_asu(trace=False)"
   ]
  },
  {
   "cell_type": "code",
   "execution_count": 58,
   "id": "a388fecf-0a62-4833-850b-1dc37d0b1069",
   "metadata": {},
   "outputs": [
    {
     "name": "stdout",
     "output_type": "stream",
     "text": [
      "\n",
      "Simulation completed.\n",
      "Total simulation time: 100.00 days\n",
      "Total patient arrivals: 8\n",
      "Final rehab patient counts: {'Stroke': 4, 'Complex Neurological': 1, 'Other': 3, 'TIA': 0}\n"
     ]
    }
   ],
   "source": [
    "test_suppress_log_rehab(trace=False)"
   ]
  },
  {
   "cell_type": "markdown",
   "id": "46577539-480b-4f7f-bb72-0d7fbf2ae229",
   "metadata": {},
   "source": [
    "### Extreme value tests"
   ]
  },
  {
   "cell_type": "code",
   "execution_count": 60,
   "id": "c1371f22-d264-4d52-b03b-7b664b15ae4b",
   "metadata": {},
   "outputs": [],
   "source": [
    "M = 10_000_000"
   ]
  },
  {
   "cell_type": "code",
   "execution_count": 61,
   "id": "f0c24878-58b2-498e-8658-81c368ef449c",
   "metadata": {},
   "outputs": [
    {
     "name": "stdout",
     "output_type": "stream",
     "text": [
      "\n",
      "Simulation completed.\n",
      "Total simulation time: 730.00 days\n",
      "Total patient arrivals: 607\n",
      "Total Stroke arrivals: 607\n",
      "Total TIA arrivals: 0\n",
      "Total Complex Neurological arrivals: 0\n",
      "Total Other arrivals: 0\n"
     ]
    }
   ],
   "source": [
    "ev_test_1(M)"
   ]
  }
 ],
 "metadata": {
  "kernelspec": {
   "display_name": "Python 3 (ipykernel)",
   "language": "python",
   "name": "python3"
  },
  "language_info": {
   "codemirror_mode": {
    "name": "ipython",
    "version": 3
   },
   "file_extension": ".py",
   "mimetype": "text/x-python",
   "name": "python",
   "nbconvert_exporter": "python",
   "pygments_lexer": "ipython3",
   "version": "3.10.13"
  }
 },
 "nbformat": 4,
 "nbformat_minor": 5
}

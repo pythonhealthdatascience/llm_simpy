{
 "cells": [
  {
   "cell_type": "markdown",
   "id": "b3882170-bde8-4fc2-9d58-b46e3dfaa7bd",
   "metadata": {},
   "source": [
    "# Model output comparison\n",
    "\n",
    "Here we run the Stroke+Rehab models for stage one and two (our internal replication test) and compare the quantitative results.\n",
    "\n",
    "This notebook assume that it is in the same directory as the following Python modules:\n",
    "\n",
    "* `stroke_rehab_model.py`  (produced in stage 1 of the study)\n",
    "* `s2_stroke_rehab_model` (produced in the internal replication test)"
   ]
  },
  {
   "cell_type": "markdown",
   "id": "81b14252-c683-4aab-8a57-0e03390b32a0",
   "metadata": {},
   "source": [
    "# 1. Imports\n",
    "\n",
    "### 1.1 General imports"
   ]
  },
  {
   "cell_type": "code",
   "execution_count": 1,
   "id": "aa1f356d-c472-4435-8cf4-b303fcb9a718",
   "metadata": {},
   "outputs": [],
   "source": [
    "import numpy as np"
   ]
  },
  {
   "cell_type": "markdown",
   "id": "116abe39-7dc8-4e46-a496-2a6627b086ff",
   "metadata": {},
   "source": [
    "### 1.2 Stroke+Rehab stage 1 code"
   ]
  },
  {
   "cell_type": "code",
   "execution_count": 2,
   "id": "d72eee51-4076-4d4c-9689-4647d3c4ade9",
   "metadata": {},
   "outputs": [],
   "source": [
    "from stroke_rehab_model import (\n",
    "    Experiment, \n",
    "    multiple_replications,\n",
    "    combine_pdelay_results,\n",
    "    combine_occup_results,\n",
    "    mean_results,\n",
    "    prob_delay_plot,\n",
    "    occupancy_plot,\n",
    "    summary_table,\n",
    ")"
   ]
  },
  {
   "cell_type": "markdown",
   "id": "984f061a-8656-49aa-8cba-76ede4f68977",
   "metadata": {},
   "source": [
    "### 1.3 Stroke+rehab stage 2 code"
   ]
  },
  {
   "cell_type": "code",
   "execution_count": 3,
   "id": "db3b7fbb-9d3e-4d09-bf5b-be1fd80985c1",
   "metadata": {},
   "outputs": [],
   "source": [
    "from s2_stroke_rehab_model import (\n",
    "    Experiment as Experiment2, \n",
    "    multiple_replications as multiple_replications2,\n",
    "    combine_pdelay_results as combine_pdelay_results2,\n",
    "    combine_occup_results as combine_occup_results2,\n",
    "    mean_results as mean_results2,\n",
    "    prob_delay_plot as prob_delay_plot2,\n",
    "    occupancy_plot as occupancy_plot2,\n",
    "    summary_table as summary_table2,\n",
    ")"
   ]
  },
  {
   "cell_type": "markdown",
   "id": "1828c9cf-4e36-4656-84bf-3f683fdd4eb3",
   "metadata": {},
   "source": [
    "## 2. Run experiments with both models"
   ]
  },
  {
   "cell_type": "markdown",
   "id": "c9ddd2c9-1a36-4863-acf0-7d3dc5692868",
   "metadata": {},
   "source": [
    "Here we perform a full run of the models and compare the results using the tabular format of the original publication.\n",
    "\n",
    "### 2.1 Stage 1 run function"
   ]
  },
  {
   "cell_type": "code",
   "execution_count": 4,
   "id": "79aa5a80-019c-4e9c-bffe-28d6b8f0b83b",
   "metadata": {},
   "outputs": [],
   "source": [
    "def get_mean_results(rep_results):\n",
    "    \"\"\"Combine replication results and return the mean distribution \"\"\"\n",
    "    pd_asu, pd_rehab = combine_pdelay_results(rep_results)\n",
    "    rel_asu, rel_rehab = combine_occup_results(rep_results)\n",
    "    mean_pd_asu, mean_pd_rehab = mean_results(pd_asu), mean_results(pd_rehab)\n",
    "    mean_rel_asu, mean_rel_rehab = mean_results(rel_asu), mean_results(rel_rehab)\n",
    "    return mean_pd_asu, mean_pd_rehab, mean_rel_asu, mean_rel_rehab"
   ]
  },
  {
   "cell_type": "code",
   "execution_count": 5,
   "id": "e3f564b9-824d-42f5-a644-781d33f82ada",
   "metadata": {},
   "outputs": [],
   "source": [
    "def run_stage_1():\n",
    "    \"\"\"Base run of stage 1 model. Results tabular results for acute and rehab\"\"\"\n",
    "    # create experiment\n",
    "    default_experiment = Experiment()\n",
    "    \n",
    "    # conduct multiple independent replications and store results \n",
    "    rep_results = multiple_replications(default_experiment, num_replications=100)\n",
    "    \n",
    "    # combine replication results into single table and calculate the mean distribution\n",
    "    mean_pd_asu, mean_pd_rehab, mean_rel_asu, mean_rel_rehab = get_mean_results(rep_results)\n",
    "    \n",
    "    # tabular results\n",
    "    df_acute = summary_table(mean_pd_asu, 9, 14, \"acute\")\n",
    "    df_rehab = summary_table(mean_pd_rehab, 10, 16, \"rehab\")\n",
    "\n",
    "    return df_acute, df_rehab"
   ]
  },
  {
   "cell_type": "markdown",
   "id": "54ec2b6a-c37d-4fa8-abbf-359a5a32229f",
   "metadata": {},
   "source": [
    "### 2.2. Stage 2 run function"
   ]
  },
  {
   "cell_type": "code",
   "execution_count": 6,
   "id": "da11a4bb-bb81-491f-8061-58a625a39b12",
   "metadata": {},
   "outputs": [],
   "source": [
    "def get_mean_results_s2(rep_results):\n",
    "    \"\"\"Combine replication results and return the mean distribution STAGE 2\"\"\"\n",
    "    pd_asu, pd_rehab = combine_pdelay_results2(rep_results)\n",
    "    rel_asu, rel_rehab = combine_occup_results2(rep_results)\n",
    "    mean_pd_asu, mean_pd_rehab = mean_results2(pd_asu), mean_results2(pd_rehab)\n",
    "    mean_rel_asu, mean_rel_rehab = mean_results2(rel_asu), mean_results2(rel_rehab)\n",
    "    return mean_pd_asu, mean_pd_rehab, mean_rel_asu, mean_rel_rehab"
   ]
  },
  {
   "cell_type": "code",
   "execution_count": 7,
   "id": "61eaf2d2-2184-4a5f-bb90-389c0c870b8d",
   "metadata": {},
   "outputs": [],
   "source": [
    "def run_stage_2():\n",
    "    \"\"\"Base run of stage 2 model. Results tabular results for acute and rehab.\n",
    "    \n",
    "    Note that the functions and classes are postfixed with 2\"\"\"\n",
    "    # create experiment\n",
    "    default_experiment = Experiment2()\n",
    "    \n",
    "    # conduct multiple independent replications and store results \n",
    "    rep_results = multiple_replications2(default_experiment, num_replications=100)\n",
    "    \n",
    "    # combine replication results into single table and calculate the mean distribution\n",
    "    mean_pd_asu, mean_pd_rehab, mean_rel_asu, mean_rel_rehab = get_mean_results_s2(rep_results)\n",
    "\n",
    "    df_acute = summary_table2(mean_pd_asu, 9, 14, \"acute\")\n",
    "    df_rehab = summary_table2(mean_pd_rehab, 10, 16, \"rehab\")\n",
    "\n",
    "    return df_acute, df_rehab"
   ]
  },
  {
   "cell_type": "markdown",
   "id": "82a04c66-166f-49c4-831e-dfa22dee496b",
   "metadata": {},
   "source": [
    "### 2.3 Tabular comparison"
   ]
  },
  {
   "cell_type": "code",
   "execution_count": 8,
   "id": "342c47b6-e28b-4031-9d39-7ad25e18c7f2",
   "metadata": {},
   "outputs": [],
   "source": [
    "df_acute_s1, df_rehab_s1 = run_stage_1()"
   ]
  },
  {
   "cell_type": "code",
   "execution_count": 9,
   "id": "34bee0e4-76e1-45fd-982f-74da954d0d19",
   "metadata": {},
   "outputs": [],
   "source": [
    "df_acute_s2, df_rehab_s2 = run_stage_2()"
   ]
  },
  {
   "cell_type": "markdown",
   "id": "cdfb86a0-4b1b-40a1-8cf8-b7c8b33f4277",
   "metadata": {},
   "source": [
    "#### 2.3.1 Acute tables"
   ]
  },
  {
   "cell_type": "code",
   "execution_count": 10,
   "id": "eafdd292-a506-4b74-8e1e-d1edadc887b5",
   "metadata": {},
   "outputs": [
    {
     "data": {
      "text/html": [
       "<div>\n",
       "<style scoped>\n",
       "    .dataframe tbody tr th:only-of-type {\n",
       "        vertical-align: middle;\n",
       "    }\n",
       "\n",
       "    .dataframe tbody tr th {\n",
       "        vertical-align: top;\n",
       "    }\n",
       "\n",
       "    .dataframe thead th {\n",
       "        text-align: right;\n",
       "    }\n",
       "</style>\n",
       "<table border=\"1\" class=\"dataframe\">\n",
       "  <thead>\n",
       "    <tr style=\"text-align: right;\">\n",
       "      <th></th>\n",
       "      <th>p(delay)</th>\n",
       "      <th>1 in every n patients delayed</th>\n",
       "    </tr>\n",
       "    <tr>\n",
       "      <th>No. acute beds</th>\n",
       "      <th></th>\n",
       "      <th></th>\n",
       "    </tr>\n",
       "  </thead>\n",
       "  <tbody>\n",
       "    <tr>\n",
       "      <th>9</th>\n",
       "      <td>0.18</td>\n",
       "      <td>5</td>\n",
       "    </tr>\n",
       "    <tr>\n",
       "      <th>10</th>\n",
       "      <td>0.13</td>\n",
       "      <td>7</td>\n",
       "    </tr>\n",
       "    <tr>\n",
       "      <th>11</th>\n",
       "      <td>0.09</td>\n",
       "      <td>11</td>\n",
       "    </tr>\n",
       "    <tr>\n",
       "      <th>12</th>\n",
       "      <td>0.06</td>\n",
       "      <td>17</td>\n",
       "    </tr>\n",
       "    <tr>\n",
       "      <th>13</th>\n",
       "      <td>0.03</td>\n",
       "      <td>28</td>\n",
       "    </tr>\n",
       "    <tr>\n",
       "      <th>14</th>\n",
       "      <td>0.02</td>\n",
       "      <td>51</td>\n",
       "    </tr>\n",
       "  </tbody>\n",
       "</table>\n",
       "</div>"
      ],
      "text/plain": [
       "                p(delay)  1 in every n patients delayed\n",
       "No. acute beds                                         \n",
       "9                   0.18                              5\n",
       "10                  0.13                              7\n",
       "11                  0.09                             11\n",
       "12                  0.06                             17\n",
       "13                  0.03                             28\n",
       "14                  0.02                             51"
      ]
     },
     "execution_count": 10,
     "metadata": {},
     "output_type": "execute_result"
    }
   ],
   "source": [
    "# stage 1\n",
    "df_acute_s1"
   ]
  },
  {
   "cell_type": "code",
   "execution_count": 11,
   "id": "50d56ba1-bc60-4ea7-952d-5551b21625e2",
   "metadata": {},
   "outputs": [
    {
     "data": {
      "text/html": [
       "<div>\n",
       "<style scoped>\n",
       "    .dataframe tbody tr th:only-of-type {\n",
       "        vertical-align: middle;\n",
       "    }\n",
       "\n",
       "    .dataframe tbody tr th {\n",
       "        vertical-align: top;\n",
       "    }\n",
       "\n",
       "    .dataframe thead th {\n",
       "        text-align: right;\n",
       "    }\n",
       "</style>\n",
       "<table border=\"1\" class=\"dataframe\">\n",
       "  <thead>\n",
       "    <tr style=\"text-align: right;\">\n",
       "      <th></th>\n",
       "      <th>Probability of delay</th>\n",
       "      <th>% patients delayed</th>\n",
       "      <th>1 in every n patients delayed</th>\n",
       "    </tr>\n",
       "    <tr>\n",
       "      <th>No. acute beds</th>\n",
       "      <th></th>\n",
       "      <th></th>\n",
       "      <th></th>\n",
       "    </tr>\n",
       "  </thead>\n",
       "  <tbody>\n",
       "    <tr>\n",
       "      <th>9</th>\n",
       "      <td>0.18</td>\n",
       "      <td>18.3%</td>\n",
       "      <td>5</td>\n",
       "    </tr>\n",
       "    <tr>\n",
       "      <th>10</th>\n",
       "      <td>0.13</td>\n",
       "      <td>13.2%</td>\n",
       "      <td>7</td>\n",
       "    </tr>\n",
       "    <tr>\n",
       "      <th>11</th>\n",
       "      <td>0.09</td>\n",
       "      <td>8.9%</td>\n",
       "      <td>11</td>\n",
       "    </tr>\n",
       "    <tr>\n",
       "      <th>12</th>\n",
       "      <td>0.06</td>\n",
       "      <td>5.7%</td>\n",
       "      <td>17</td>\n",
       "    </tr>\n",
       "    <tr>\n",
       "      <th>13</th>\n",
       "      <td>0.03</td>\n",
       "      <td>3.5%</td>\n",
       "      <td>28</td>\n",
       "    </tr>\n",
       "    <tr>\n",
       "      <th>14</th>\n",
       "      <td>0.02</td>\n",
       "      <td>2.0%</td>\n",
       "      <td>51</td>\n",
       "    </tr>\n",
       "  </tbody>\n",
       "</table>\n",
       "</div>"
      ],
      "text/plain": [
       "               Probability of delay % patients delayed  \\\n",
       "No. acute beds                                           \n",
       "9                              0.18              18.3%   \n",
       "10                             0.13              13.2%   \n",
       "11                             0.09               8.9%   \n",
       "12                             0.06               5.7%   \n",
       "13                             0.03               3.5%   \n",
       "14                             0.02               2.0%   \n",
       "\n",
       "                1 in every n patients delayed  \n",
       "No. acute beds                                 \n",
       "9                                           5  \n",
       "10                                          7  \n",
       "11                                         11  \n",
       "12                                         17  \n",
       "13                                         28  \n",
       "14                                         51  "
      ]
     },
     "execution_count": 11,
     "metadata": {},
     "output_type": "execute_result"
    }
   ],
   "source": [
    "# stage 2\n",
    "df_acute_s2"
   ]
  },
  {
   "cell_type": "markdown",
   "id": "b4b07354-1d7e-412a-b811-c94a4afc1b37",
   "metadata": {},
   "source": [
    "#### 2.3.2 Rehab tables"
   ]
  },
  {
   "cell_type": "code",
   "execution_count": 12,
   "id": "6790ea9f-5cde-4e7a-aaa2-b76d620c4390",
   "metadata": {},
   "outputs": [
    {
     "data": {
      "text/html": [
       "<div>\n",
       "<style scoped>\n",
       "    .dataframe tbody tr th:only-of-type {\n",
       "        vertical-align: middle;\n",
       "    }\n",
       "\n",
       "    .dataframe tbody tr th {\n",
       "        vertical-align: top;\n",
       "    }\n",
       "\n",
       "    .dataframe thead th {\n",
       "        text-align: right;\n",
       "    }\n",
       "</style>\n",
       "<table border=\"1\" class=\"dataframe\">\n",
       "  <thead>\n",
       "    <tr style=\"text-align: right;\">\n",
       "      <th></th>\n",
       "      <th>p(delay)</th>\n",
       "      <th>1 in every n patients delayed</th>\n",
       "    </tr>\n",
       "    <tr>\n",
       "      <th>No. rehab beds</th>\n",
       "      <th></th>\n",
       "      <th></th>\n",
       "    </tr>\n",
       "  </thead>\n",
       "  <tbody>\n",
       "    <tr>\n",
       "      <th>10</th>\n",
       "      <td>0.21</td>\n",
       "      <td>4</td>\n",
       "    </tr>\n",
       "    <tr>\n",
       "      <th>11</th>\n",
       "      <td>0.15</td>\n",
       "      <td>6</td>\n",
       "    </tr>\n",
       "    <tr>\n",
       "      <th>12</th>\n",
       "      <td>0.11</td>\n",
       "      <td>8</td>\n",
       "    </tr>\n",
       "    <tr>\n",
       "      <th>13</th>\n",
       "      <td>0.08</td>\n",
       "      <td>12</td>\n",
       "    </tr>\n",
       "    <tr>\n",
       "      <th>14</th>\n",
       "      <td>0.05</td>\n",
       "      <td>18</td>\n",
       "    </tr>\n",
       "    <tr>\n",
       "      <th>15</th>\n",
       "      <td>0.03</td>\n",
       "      <td>31</td>\n",
       "    </tr>\n",
       "    <tr>\n",
       "      <th>16</th>\n",
       "      <td>0.02</td>\n",
       "      <td>50</td>\n",
       "    </tr>\n",
       "  </tbody>\n",
       "</table>\n",
       "</div>"
      ],
      "text/plain": [
       "                p(delay)  1 in every n patients delayed\n",
       "No. rehab beds                                         \n",
       "10                  0.21                              4\n",
       "11                  0.15                              6\n",
       "12                  0.11                              8\n",
       "13                  0.08                             12\n",
       "14                  0.05                             18\n",
       "15                  0.03                             31\n",
       "16                  0.02                             50"
      ]
     },
     "execution_count": 12,
     "metadata": {},
     "output_type": "execute_result"
    }
   ],
   "source": [
    "df_rehab_s1"
   ]
  },
  {
   "cell_type": "code",
   "execution_count": 13,
   "id": "49b7bed2-6b70-400d-b918-703f61188698",
   "metadata": {},
   "outputs": [
    {
     "data": {
      "text/html": [
       "<div>\n",
       "<style scoped>\n",
       "    .dataframe tbody tr th:only-of-type {\n",
       "        vertical-align: middle;\n",
       "    }\n",
       "\n",
       "    .dataframe tbody tr th {\n",
       "        vertical-align: top;\n",
       "    }\n",
       "\n",
       "    .dataframe thead th {\n",
       "        text-align: right;\n",
       "    }\n",
       "</style>\n",
       "<table border=\"1\" class=\"dataframe\">\n",
       "  <thead>\n",
       "    <tr style=\"text-align: right;\">\n",
       "      <th></th>\n",
       "      <th>Probability of delay</th>\n",
       "      <th>% patients delayed</th>\n",
       "      <th>1 in every n patients delayed</th>\n",
       "    </tr>\n",
       "    <tr>\n",
       "      <th>No. rehab beds</th>\n",
       "      <th></th>\n",
       "      <th></th>\n",
       "      <th></th>\n",
       "    </tr>\n",
       "  </thead>\n",
       "  <tbody>\n",
       "    <tr>\n",
       "      <th>10</th>\n",
       "      <td>0.21</td>\n",
       "      <td>20.6%</td>\n",
       "      <td>4</td>\n",
       "    </tr>\n",
       "    <tr>\n",
       "      <th>11</th>\n",
       "      <td>0.15</td>\n",
       "      <td>15.5%</td>\n",
       "      <td>6</td>\n",
       "    </tr>\n",
       "    <tr>\n",
       "      <th>12</th>\n",
       "      <td>0.11</td>\n",
       "      <td>11.2%</td>\n",
       "      <td>8</td>\n",
       "    </tr>\n",
       "    <tr>\n",
       "      <th>13</th>\n",
       "      <td>0.08</td>\n",
       "      <td>7.8%</td>\n",
       "      <td>12</td>\n",
       "    </tr>\n",
       "    <tr>\n",
       "      <th>14</th>\n",
       "      <td>0.05</td>\n",
       "      <td>5.3%</td>\n",
       "      <td>18</td>\n",
       "    </tr>\n",
       "    <tr>\n",
       "      <th>15</th>\n",
       "      <td>0.03</td>\n",
       "      <td>3.2%</td>\n",
       "      <td>31</td>\n",
       "    </tr>\n",
       "    <tr>\n",
       "      <th>16</th>\n",
       "      <td>0.02</td>\n",
       "      <td>2.0%</td>\n",
       "      <td>50</td>\n",
       "    </tr>\n",
       "  </tbody>\n",
       "</table>\n",
       "</div>"
      ],
      "text/plain": [
       "               Probability of delay % patients delayed  \\\n",
       "No. rehab beds                                           \n",
       "10                             0.21              20.6%   \n",
       "11                             0.15              15.5%   \n",
       "12                             0.11              11.2%   \n",
       "13                             0.08               7.8%   \n",
       "14                             0.05               5.3%   \n",
       "15                             0.03               3.2%   \n",
       "16                             0.02               2.0%   \n",
       "\n",
       "                1 in every n patients delayed  \n",
       "No. rehab beds                                 \n",
       "10                                          4  \n",
       "11                                          6  \n",
       "12                                          8  \n",
       "13                                         12  \n",
       "14                                         18  \n",
       "15                                         31  \n",
       "16                                         50  "
      ]
     },
     "execution_count": 13,
     "metadata": {},
     "output_type": "execute_result"
    }
   ],
   "source": [
    "df_rehab_s2"
   ]
  },
  {
   "cell_type": "code",
   "execution_count": null,
   "id": "fb0caef4-2ba6-4d0a-8f73-beec770839fa",
   "metadata": {},
   "outputs": [],
   "source": []
  },
  {
   "cell_type": "markdown",
   "id": "bebe9855-07e7-4cc7-ae5a-4d8fb93828c1",
   "metadata": {},
   "source": [
    "## To DO\n",
    "\n",
    "* Convert the comparison into a function that produces a combined table and also LaTeX output for paper.\n",
    "* We probably should provide some information on model run time and computer model spec used.\n",
    "* Compare to original paper as these results are very similar. Include original paper results as CSV file."
   ]
  }
 ],
 "metadata": {
  "kernelspec": {
   "display_name": "Python 3 (ipykernel)",
   "language": "python",
   "name": "python3"
  },
  "language_info": {
   "codemirror_mode": {
    "name": "ipython",
    "version": 3
   },
   "file_extension": ".py",
   "mimetype": "text/x-python",
   "name": "python",
   "nbconvert_exporter": "python",
   "pygments_lexer": "ipython3",
   "version": "3.10.13"
  }
 },
 "nbformat": 4,
 "nbformat_minor": 5
}

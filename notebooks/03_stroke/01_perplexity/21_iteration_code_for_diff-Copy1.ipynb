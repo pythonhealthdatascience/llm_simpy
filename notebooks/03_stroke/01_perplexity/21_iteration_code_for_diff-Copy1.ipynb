{
 "cells": [
  {
   "cell_type": "markdown",
   "id": "f80a9659-62b8-45db-b729-698300677ef9",
   "metadata": {
    "editable": true,
    "slideshow": {
     "slide_type": ""
    },
    "tags": []
   },
   "source": [
    "# Iteration 20: Link models (2) \n",
    "\n",
    "## Plain English Summary\n",
    "\n",
    "This is the second step of linking the Acute Stroke Unit (ASUU) and Rehab Unit (RU) models.  Here we enable transfers between models and also create a script to run both models (completed in a second prompt that does not affect model logic).\n",
    "\n",
    "**Steps:**\n",
    "\n",
    "1. Modify the ASU class to hold an instance of the RU. Prepare acute treatment functions to transfer patients labelled as \"Rehab\".\n",
    "2. Modify all ASU acute treatment functions to transfer patients to the RU if a patient is labelled \"Rehab\" (This notebook)\n",
    "\n",
    "> NOTE: The new constructor for the ASU class means that all testing functions and scripts must now be updated."
   ]
  },
  {
   "cell_type": "markdown",
   "id": "2e3176fc-587b-434d-a3d2-ee98f6501b7e",
   "metadata": {
    "editable": true,
    "slideshow": {
     "slide_type": ""
    },
    "tags": []
   },
   "source": [
    "## Notebook imports"
   ]
  },
  {
   "cell_type": "code",
   "execution_count": 1,
   "id": "c55ce33a-76d3-45a4-a286-3d3afd633dce",
   "metadata": {
    "editable": true,
    "slideshow": {
     "slide_type": ""
    },
    "tags": []
   },
   "outputs": [],
   "source": [
    "from IPython.display import Markdown, display, HTML\n",
    "import math\n",
    "import statistics\n",
    "from sim_tools.distributions import Lognormal"
   ]
  },
  {
   "cell_type": "markdown",
   "id": "a55c3ecc-617e-419e-8fb5-f4559bbc45c6",
   "metadata": {
    "editable": true,
    "slideshow": {
     "slide_type": ""
    },
    "tags": []
   },
   "source": [
    "## LLM Prompt 1 <a class=\"anchor\" id=\"llm_prompt\"></a>"
   ]
  },
  {
   "cell_type": "code",
   "execution_count": 2,
   "id": "b2ec31fa-8440-403e-b7e7-aa24eaf705f1",
   "metadata": {
    "editable": true,
    "slideshow": {
     "slide_type": ""
    },
    "tags": []
   },
   "outputs": [
    {
     "data": {
      "text/markdown": [
       "append new code to the end of four methods in `AcuteStrokeUnit` postfixed with \"acute_treatment\": if `post_asu_destination` is \"Rehab\" then a.) incrememnt `rehab_unit.occupancy` and then b.) call the `rehab_unit` function with the same patient_type as a simpy process.  For example, `stroke_patient_generator` called `rehab_unit.stroke_rehab_treatment`. Do not pass any parameters. The code should be located after \"self.occupancy -= 1\". Do not use the yield keyword.  \n",
       "\n",
       "Display all code in the  `AcuteStrokeUnit class including all treatment and patient generator methods.\n",
       "\n",
       "\n"
      ],
      "text/plain": [
       "<IPython.core.display.Markdown object>"
      ]
     },
     "metadata": {},
     "output_type": "display_data"
    }
   ],
   "source": [
    "display(Markdown(\"inputs/20_iteration.md\"))"
   ]
  },
  {
   "cell_type": "markdown",
   "id": "2bcf6d11-0f77-4b35-9e26-23c43d0204be",
   "metadata": {},
   "source": [
    "## LLM Prompt 2 (for creating a script to run both models)"
   ]
  },
  {
   "cell_type": "code",
   "execution_count": 3,
   "id": "06d9c5b2-5df5-4f7f-b899-66882b20aa70",
   "metadata": {},
   "outputs": [
    {
     "data": {
      "text/markdown": [
       "Combine the two scripts below create a new single script that follows these steps:\n",
       "\n",
       "1. create an instance of `Experiment`\n",
       "2. create an instance of a simpy environment\n",
       "3. create an instance RehabilitationUnit \n",
       "4. create an instance of AcuteStrokeUnit. Pass the RehabilitationUnit as a parameter\n",
       "5. initialise the four methods postfixed with \"generator\" in AcuteStrokeUnit  as simpy processes\n",
       "6. initialise the three methods postfixed with \"generator\" in RehabilitationUnit  simpy processes\n",
       "7. initialise the audit of rehab occupancy as a simpy process. Use an interval of 1 day.  Pass in env\n",
       "8. initialise the audit of the AcuteStrokeUnit occupancy as a simpy process. Use an interval of 1 day.\n",
       "9. run the model for the default run length in the experiment * 50\n",
       "10. use `calculate_occupancy_frequencies` to calculate occupancy frequencies of both the AcuteStrokeUnit and the rehab occupancy\n",
       "11. use `calculate_prob_delay` to calculate the probability of delay for AcuteStrokeUnit and rehab  \n",
       "12. use `prob_delay_plot` to display a prob of delay plot for AcuteStrokeUnit and rehab.  Use appropriate x_label values for the AcuteStrokeUnit and rehab unit\n",
       "\n",
       "Only show the code in the script. Do no modify the functions or classes used.\n",
       "\n",
       "```python\n",
       "# Create an instance of the Experiment class with default parameters and trace set to False\n",
       "default_experiment_params = Experiment()\n",
       "\n",
       "# Create the simulation environment and AcuteStrokeUnit instance with the Experiment parameters\n",
       "env = simpy.Environment()\n",
       "\n",
       "## MODIFIED BY TESTER\n",
       "#  create instance of RU, but we do not run the model at this stage\n",
       "rehab_unit = RehabilitationUnit(env, default_experiment_params)\n",
       "##\n",
       "\n",
       "acu_experiment = AcuteStrokeUnit(env, default_experiment_params, rehab_unit)\n",
       "\n",
       "# Start the patient generators for each type of patient in the AcuteStrokeUnit instance\n",
       "env.process(acu_experiment.stroke_patient_generator())\n",
       "env.process(acu_experiment.tia_patient_generator())\n",
       "env.process(acu_experiment.neuro_patient_generator())\n",
       "env.process(acu_experiment.other_patient_generator())\n",
       "\n",
       "# Start the audit_acute_occupancy generator function to record ASU occupancy at intervals\n",
       "env.process(audit_acute_occupancy(1, acu_experiment, default_experiment_params))\n",
       "\n",
       "# Run the simulation until the specified run length in the Experiment parameters\n",
       "# modified by tester - run length * 10\n",
       "env.run(until=default_experiment_params.run_length * 10)\n",
       "\n",
       "# Calculate occupancy frequencies and plot the relative frequency distribution\n",
       "relative_freq, cumulative_freq, unique_vals = calculate_occupancy_frequencies(default_experiment_params.asu_occupancy)\n",
       "\n",
       "# Calculate probability of delay and plot the step chart\n",
       "prob_delay = calculate_prob_delay(relative_freq, cumulative_freq)\n",
       "prob_delay_plot(prob_delay, unique_vals)\n",
       "```\n",
       "\n",
       "```python\n",
       "# 1. Create an experiment\n",
       "experiment = Experiment()\n",
       "\n",
       "# 2. Create an instance of a simpy environment\n",
       "env = simpy.Environment()\n",
       "\n",
       "# 3. Create an instance of RehabilitationUnit\n",
       "rehab_unit = RehabilitationUnit(env, experiment)\n",
       "\n",
       "# 4. Initialize the patient generators as simpy processes\n",
       "env.process(rehab_unit.stroke_patient_generator())\n",
       "env.process(rehab_unit.neuro_patient_generator())\n",
       "env.process(rehab_unit.other_patient_generator())\n",
       "\n",
       "# 5. Initialize the audit of rehab occupancy as a simpy process with an interval of 1 day\n",
       "env.process(audit_rehab_occupancy(env, 1, rehab_unit, experiment))\n",
       "\n",
       "# 6. Run the model for the default run length in the experiment * 10\n",
       "env.run(until=experiment.run_length * 10)\n",
       "\n",
       "# 7. Calculate occupancy frequencies of the rehab occupancy\n",
       "relative_frequency, cumulative_frequency, unique_values = calculate_occupancy_frequencies(experiment.rehab_occupancy)\n",
       "\n",
       "# 8. Display an occupancy plot for the rehab unit\n",
       "occupancy_plot(relative_frequency, unique_values, x_label=\"No. of people in rehab\")\n",
       "\n",
       "# 9. Calculate the probability of delay for rehab\n",
       "prob_delay = calculate_prob_delay(relative_frequency, cumulative_frequency)\n",
       "\n",
       "# 10. Display a probability of delay plot for rehab\n",
       "prob_delay_plot(prob_delay, unique_values, x_label=\"No. rehab beds available\")\n",
       "\n",
       "```"
      ],
      "text/plain": [
       "<IPython.core.display.Markdown object>"
      ]
     },
     "metadata": {},
     "output_type": "display_data"
    }
   ],
   "source": [
    "display(Markdown(\"inputs/20a_iteration.md\"))"
   ]
  },
  {
   "cell_type": "markdown",
   "id": "c5a0002d-d8da-4fc7-a667-d6c357e10d8f",
   "metadata": {
    "editable": true,
    "slideshow": {
     "slide_type": ""
    },
    "tags": []
   },
   "source": [
    "## Diff of notebooks. <a class=\"anchor\" id=\"diff\"></a>"
   ]
  },
  {
   "cell_type": "code",
   "execution_count": 4,
   "id": "c06a4518-e1d6-4b6a-8335-206882a16853",
   "metadata": {
    "editable": true,
    "slideshow": {
     "slide_type": ""
    },
    "tags": []
   },
   "outputs": [],
   "source": [
    "#display(HTML(\"diffs/20_iteration.html\"))"
   ]
  },
  {
   "cell_type": "markdown",
   "id": "33dcc018-7a80-4c3f-9994-6103be666c64",
   "metadata": {
    "editable": true,
    "slideshow": {
     "slide_type": ""
    },
    "tags": []
   },
   "source": [
    "## Date and time of input to LLM\n",
    "\n",
    "> 1400 21st March 2024"
   ]
  },
  {
   "cell_type": "markdown",
   "id": "c7329706-d5b3-4392-9f6d-36ba96024902",
   "metadata": {
    "editable": true,
    "slideshow": {
     "slide_type": ""
    },
    "tags": []
   },
   "source": [
    "## Observations on the LLM Output\n",
    "\n",
    "* The diff confirms that the conditional logic has been added to `AcuteStrokeUnit` to transfer patients and incrememt rehab occupancy\n",
    "* The strategy to create a combined script was to provide both code snippets in the prompt and provide a new ordering of operations.  The LLM was not able to simply combine the scripts and remove redundant steps.  When asked to do this it concatenated the scripts.\n"
   ]
  },
  {
   "cell_type": "markdown",
   "id": "a73aeb4c-2ae8-4a9f-bf35-7dfcb6b6fd67",
   "metadata": {
    "editable": true,
    "slideshow": {
     "slide_type": ""
    },
    "tags": []
   },
   "source": [
    "## Sources reported by the LLM\n",
    "\n",
    "* None reported at time of generation."
   ]
  },
  {
   "cell_type": "markdown",
   "id": "01cff9a7-9b08-4dab-a359-597bab9e08b0",
   "metadata": {
    "editable": true,
    "slideshow": {
     "slide_type": ""
    },
    "tags": []
   },
   "source": [
    "## Code carried over from iteration 13\n",
    "\n",
    "We carry over:\n",
    "\n",
    "* `normal_moments_from_lognormal` - a function for converting moments of a lognormal to underlying normal\n",
    "*  `audit_acute_occupancy` - code to observe the ASU occupancy at specified time intervals.\n",
    "*  `calculate_occupancy_frequencies` - calculate relative frequencies of occupancy observations\n",
    "*  `occupancy_plot` - show occupancy as a bar chart.\n",
    "*  `calculate_prob_delay`\n",
    "*  `prob_delay_plot`\n",
    "*  `Experiment`\n",
    "*  `RehabilitationUnit`"
   ]
  },
  {
   "cell_type": "markdown",
   "id": "020f6824-986e-46ba-a1c7-3dbd9755f16d",
   "metadata": {
    "editable": true,
    "slideshow": {
     "slide_type": ""
    },
    "tags": []
   },
   "source": [
    "## Model code <a class=\"anchor\" id=\"model_code\"></a>"
   ]
  },
  {
   "cell_type": "markdown",
   "id": "65ac84c8-67b2-4b41-9cdd-0303d9a1853d",
   "metadata": {
    "editable": true,
    "slideshow": {
     "slide_type": ""
    },
    "tags": []
   },
   "source": [
    "### Imports"
   ]
  },
  {
   "cell_type": "code",
   "execution_count": 5,
   "id": "910bcb07-ed10-46e2-9f73-cc9f71976792",
   "metadata": {
    "editable": true,
    "slideshow": {
     "slide_type": ""
    },
    "tags": []
   },
   "outputs": [],
   "source": [
    "import simpy\n",
    "import numpy as np\n",
    "import matplotlib.pyplot as plt"
   ]
  },
  {
   "cell_type": "markdown",
   "id": "35517d9f-5733-4ce9-b6a2-46beb038adae",
   "metadata": {},
   "source": [
    "### lognormal function"
   ]
  },
  {
   "cell_type": "code",
   "execution_count": 6,
   "id": "2cf26c9e-15b4-4ac4-a7be-dd3f54a95c75",
   "metadata": {},
   "outputs": [],
   "source": [
    "# External function to convert Lognormal moments to Normal moments\n",
    "def normal_moments_from_lognormal(mean, std_dev):\n",
    "    phi = np.sqrt(std_dev ** 2 + mean ** 2)\n",
    "    mu = np.log(mean ** 2 / np.sqrt(std_dev ** 2 + mean ** 2))\n",
    "    sigma = np.sqrt(np.log(phi ** 2 / mean ** 2))\n",
    "    return mu, sigma"
   ]
  },
  {
   "cell_type": "markdown",
   "id": "0dfb09c5-8349-409b-853f-b248492a0c5d",
   "metadata": {},
   "source": [
    "### Experiment class"
   ]
  },
  {
   "cell_type": "code",
   "execution_count": 7,
   "id": "1193cbbe-92ca-4ec1-8a99-80ad4ee34669",
   "metadata": {
    "editable": true,
    "slideshow": {
     "slide_type": ""
    },
    "tags": []
   },
   "outputs": [],
   "source": [
    "class Experiment:\n",
    "    def __init__(self, stroke_mean=1.2, tia_mean=9.3, neuro_mean=3.6, other_mean=3.2,\n",
    "                 rehab_mean=7.4, rehab_std_dev=8.6, esd_mean=4.6, esd_std_dev=4.8,\n",
    "                 other_dest_mean=7.0, other_dest_std_dev=8.7,\n",
    "                 tia_dest_mean=1.8, tia_dest_std_dev=5.0,\n",
    "                 neuro_dest_mean=4.0, neuro_dest_std_dev=5.0,\n",
    "                 other_dest_mean_2=3.8, other_dest_std_dev_2=5.2,\n",
    "                 run_length=1825, trace=False,\n",
    "                 rehab_stroke_iat=21.8, rehab_neuro_iat=31.7, rehab_other_iat=28.6,\n",
    "                 rehab_stroke_esd_mean=30.3, rehab_stroke_esd_std_dev=23.1,\n",
    "                 rehab_stroke_other_mean=28.4, rehab_stroke_other_std_dev=27.2,\n",
    "                 rehab_neuro_mean=27.6, rehab_neuro_std_dev=28.4,\n",
    "                 rehab_other_mean=16.1, rehab_other_std_dev=14.1,\n",
    "                 rehab_stroke_post_destination_prob=[0.4, 0.6],\n",
    "                 rehab_neuro_post_destination_prob=[0.09, 0.91],\n",
    "                 rehab_other_post_destination_prob=[0.12, 0.88]):\n",
    "        self.stroke_interarrival_mean = stroke_mean\n",
    "        self.tia_interarrival_mean = tia_mean\n",
    "        self.neuro_interarrival_mean = neuro_mean\n",
    "        self.other_interarrival_mean = other_mean\n",
    "        self.rehab_mean = rehab_mean\n",
    "        self.rehab_std_dev = rehab_std_dev\n",
    "        self.esd_mean = esd_mean\n",
    "        self.esd_std_dev = esd_std_dev\n",
    "        self.other_dest_mean = other_dest_mean\n",
    "        self.other_dest_std_dev = other_dest_std_dev\n",
    "        self.tia_dest_mean = tia_dest_mean\n",
    "        self.tia_dest_std_dev = tia_dest_std_dev\n",
    "        self.neuro_dest_mean = neuro_dest_mean\n",
    "        self.neuro_dest_std_dev = neuro_dest_std_dev\n",
    "        self.other_dest_mean_2 = other_dest_mean_2\n",
    "        self.other_dest_std_dev_2 = other_dest_std_dev_2\n",
    "        self.run_length = run_length\n",
    "        self.trace = trace\n",
    "        self.asu_occupancy = []  # List to store ASU occupancy data\n",
    "        self.rehab_occupancy = []  # List to store Rehabilitation Unit occupancy data\n",
    "\n",
    "        \n",
    "        # New parameters for RehabilitationUnit treatment distributions and probabilities\n",
    "        self.rehab_stroke_iat = rehab_stroke_iat\n",
    "        self.rehab_neuro_iat = rehab_neuro_iat\n",
    "        self.rehab_other_iat = rehab_other_iat\n",
    "        \n",
    "        self.rehab_stroke_esd_mean = rehab_stroke_esd_mean\n",
    "        self.rehab_stroke_esd_std_dev = rehab_stroke_esd_std_dev\n",
    "        \n",
    "        self.rehab_stroke_other_mean = rehab_stroke_other_mean\n",
    "        self.rehab_stroke_other_std_dev = rehab_stroke_other_std_dev\n",
    "        \n",
    "        self.rehab_neuro_mean = rehab_neuro_mean\n",
    "        self.rehab_neuro_std_dev = rehab_neuro_std_dev\n",
    "        \n",
    "        self.rehab_other_mean = rehab_other_mean\n",
    "        self.rehab_other_std_dev = rehab_other_std_dev\n",
    "        \n",
    "        # Probabilities for post-rehab destination sampling for each patient type in RehabilitationUnit\n",
    "        self.rehab_stroke_post_destination_prob = rehab_stroke_post_destination_prob\n",
    "        self.rehab_neuro_post_destination_prob = rehab_neuro_post_destination_prob\n",
    "        self.rehab_other_post_destination_prob = rehab_other_post_destination_prob"
   ]
  },
  {
   "cell_type": "markdown",
   "id": "44685dd5-75e6-4542-b31b-644d34fd05c3",
   "metadata": {
    "editable": true,
    "slideshow": {
     "slide_type": ""
    },
    "tags": []
   },
   "source": [
    "### Acute stroke unit class#\n",
    "\n",
    "> This class was modified in iteration 19"
   ]
  },
  {
   "cell_type": "code",
   "execution_count": 8,
   "id": "57332d3b-b6e3-4a7c-b132-2d93c7c9920e",
   "metadata": {},
   "outputs": [],
   "source": [
    "class AcuteStrokeUnit:\n",
    "    def __init__(self, env, experiment, rehab_unit):\n",
    "        self.env = env\n",
    "        self.experiment = experiment\n",
    "        self.rehab_unit = rehab_unit\n",
    "        self.patient_count = 0\n",
    "        self.occupancy = 0\n",
    "\n",
    "    def stroke_acute_treatment(self, post_asu_destination):\n",
    "        if post_asu_destination == \"Rehab\":\n",
    "            mu, sigma = normal_moments_from_lognormal(self.experiment.rehab_mean, self.experiment.rehab_std_dev)\n",
    "            length_of_stay = np.random.lognormal(mean=mu, sigma=sigma)\n",
    "        elif post_asu_destination == \"ESD\":\n",
    "            mu, sigma = normal_moments_from_lognormal(self.experiment.esd_mean, self.experiment.esd_std_dev)\n",
    "            length_of_stay = np.random.lognormal(mean=mu, sigma=sigma)\n",
    "        else:\n",
    "            mu, sigma = normal_moments_from_lognormal(self.experiment.other_dest_mean, self.experiment.other_dest_std_dev)\n",
    "            length_of_stay = np.random.lognormal(mean=mu, sigma=sigma)\n",
    "        \n",
    "        self.occupancy += 1  # Increment occupancy when a patient arrives\n",
    "        yield self.env.timeout(length_of_stay)\n",
    "        if self.experiment.trace:\n",
    "            print(f\"Stroke patient {self.patient_count} finished treatment at {self.env.now} days\")\n",
    "        self.occupancy -= 1  # Decrement occupancy at the end of treatment\n",
    "        if post_asu_destination == \"Rehab\":\n",
    "            self.rehab_unit.occupancy += 1\n",
    "            self.env.process(self.rehab_unit.stroke_rehab_treatment())\n",
    "\n",
    "    def tia_acute_treatment(self, post_asu_destination):\n",
    "        mu, sigma = normal_moments_from_lognormal(self.experiment.tia_dest_mean, self.experiment.tia_dest_std_dev)\n",
    "        length_of_stay = np.random.lognormal(mean=mu, sigma=sigma)\n",
    "        \n",
    "        self.occupancy += 1  # Increment occupancy when a patient arrives\n",
    "        yield self.env.timeout(length_of_stay)\n",
    "        if self.experiment.trace:\n",
    "            print(f\"TIA patient {self.patient_count} finished treatment at {self.env.now} days\")\n",
    "        self.occupancy -= 1  # Decrement occupancy at the end of treatment\n",
    "        if post_asu_destination == \"Rehab\":\n",
    "            self.rehab_unit.occupancy += 1\n",
    "            self.env.process(self.rehab_unit.tia_rehab_treatment())\n",
    "\n",
    "    def neuro_acute_treatment(self, post_asu_destination):\n",
    "        mu, sigma = normal_moments_from_lognormal(self.experiment.neuro_dest_mean, self.experiment.neuro_dest_std_dev)\n",
    "        length_of_stay = np.random.lognormal(mean=mu, sigma=sigma)\n",
    "        \n",
    "        self.occupancy += 1  # Increment occupancy when a patient arrives\n",
    "        yield self.env.timeout(length_of_stay)\n",
    "        if self.experiment.trace:\n",
    "            print(f\"Complex Neuro patient {self.patient_count} finished treatment at {self.env.now} days\")\n",
    "        self.occupancy -= 1  # Decrement occupancy at the end of treatment\n",
    "        if post_asu_destination == \"Rehab\":\n",
    "            self.rehab_unit.occupancy += 1\n",
    "            self.env.process(self.rehab_unit.neuro_rehab_treatment())\n",
    "\n",
    "    def other_acute_treatment(self, post_asu_destination):\n",
    "        mu, sigma = normal_moments_from_lognormal(self.experiment.other_dest_mean_2, self.experiment.other_dest_std_dev_2)\n",
    "        length_of_stay = np.random.lognormal(mean=mu, sigma=sigma)\n",
    "        \n",
    "        self.occupancy += 1  # Increment occupancy when a patient arrives\n",
    "        yield self.env.timeout(length_of_stay)\n",
    "        if self.experiment.trace:\n",
    "            print(f\"Other patient {self.patient_count} finished treatment at {self.env.now} days\")\n",
    "        self.occupancy -= 1  # Decrement occupancy at the end of treatment\n",
    "        if post_asu_destination == \"Rehab\":\n",
    "            self.rehab_unit.occupancy += 1\n",
    "            self.env.process(self.rehab_unit.other_rehab_treatment())\n",
    "\n",
    "    def stroke_patient_generator(self):\n",
    "        while True:\n",
    "            interarrival_time = np.random.exponential(self.experiment.stroke_interarrival_mean)\n",
    "            yield self.env.timeout(interarrival_time)\n",
    "            self.patient_count += 1\n",
    "            post_asu_destination = np.random.choice([\"Rehab\", \"ESD\", \"Other\"], p=[0.24, 0.13, 0.63])\n",
    "            if self.experiment.trace:\n",
    "                print(f\"Stroke patient {self.patient_count} arrived at {self.env.now} days and will go to {post_asu_destination}\")\n",
    "            self.env.process(self.stroke_acute_treatment(post_asu_destination))\n",
    "\n",
    "    def tia_patient_generator(self):\n",
    "        while True:\n",
    "            interarrival_time = np.random.exponential(self.experiment.tia_interarrival_mean)\n",
    "            yield self.env.timeout(interarrival_time)\n",
    "            self.patient_count += 1\n",
    "            post_asu_destination = np.random.choice([\"Rehab\", \"ESD\", \"Other\"], p=[0.01, 0.01, 0.98])\n",
    "            if self.experiment.trace:\n",
    "                print(f\"TIA patient {self.patient_count} arrived at {self.env.now} days and will go to {post_asu_destination}\")\n",
    "            self.env.process(self.tia_acute_treatment(post_asu_destination))\n",
    "\n",
    "    def neuro_patient_generator(self):\n",
    "        while True:\n",
    "            interarrival_time = np.random.exponential(self.experiment.neuro_interarrival_mean)\n",
    "            yield self.env.timeout(interarrival_time)\n",
    "            self.patient_count += 1\n",
    "            post_asu_destination = np.random.choice([\"Rehab\", \"ESD\", \"Other\"], p=[0.11, 0.05, 0.84])\n",
    "            if self.experiment.trace:\n",
    "                print(f\"Complex Neuro patient {self.patient_count} arrived at {self.env.now} days and will go to {post_asu_destination}\")\n",
    "            self.env.process(self.neuro_acute_treatment(post_asu_destination))\n",
    "\n",
    "    def other_patient_generator(self):\n",
    "        while True:\n",
    "            interarrival_time = np.random.exponential(self.experiment.other_interarrival_mean)\n",
    "            yield self.env.timeout(interarrival_time)\n",
    "            self.patient_count += 1\n",
    "            post_asu_destination = np.random.choice([\"Rehab\", \"ESD\", \"Other\"], p=[0.05, 0.10, 0.85])\n",
    "            if self.experiment.trace:\n",
    "                print(f\"Other patient {self.patient_count} arrived at {self.env.now} days and will go to {post_asu_destination}\")\n",
    "            self.env.process(self.other_acute_treatment(post_asu_destination))"
   ]
  },
  {
   "cell_type": "markdown",
   "id": "812bba68-ab4f-4b4e-aadc-12a0d034810a",
   "metadata": {},
   "source": [
    "### Rehabilitation Unit class <a class=\"anchor\" id=\"iteration_code_a\"></a>"
   ]
  },
  {
   "cell_type": "code",
   "execution_count": 9,
   "id": "8f346ad4-d65f-4c1a-8454-55afc82152ac",
   "metadata": {
    "editable": true,
    "slideshow": {
     "slide_type": ""
    },
    "tags": []
   },
   "outputs": [],
   "source": [
    "class RehabilitationUnit:\n",
    "    def __init__(self, env, experiment):\n",
    "        self.env = env\n",
    "        self.experiment = experiment\n",
    "        self.patient_count = 0\n",
    "        self.stroke_count = 0\n",
    "        self.neuro_count = 0\n",
    "        self.other_count = 0\n",
    "        self.occupancy = 0\n",
    "\n",
    "    def stroke_patient_generator(self):\n",
    "        while True:\n",
    "            interarrival_time = np.random.exponential(self.experiment.rehab_stroke_iat)\n",
    "            yield self.env.timeout(interarrival_time)\n",
    "            self.patient_count += 1\n",
    "            self.stroke_count += 1\n",
    "            if self.experiment.trace:\n",
    "                print(f\"Stroke patient {self.patient_count} arrived at Rehabilitation Unit at {self.env.now} days\")\n",
    "            self.occupancy += 1\n",
    "            self.env.process(self.stroke_rehab_treatment())\n",
    "\n",
    "    def neuro_patient_generator(self):\n",
    "        while True:\n",
    "            interarrival_time = np.random.exponential(self.experiment.rehab_neuro_iat)\n",
    "            yield self.env.timeout(interarrival_time)\n",
    "            self.patient_count += 1\n",
    "            self.neuro_count += 1\n",
    "            if self.experiment.trace:\n",
    "                print(f\"Complex Neurological patient {self.patient_count} arrived at Rehabilitation Unit at {self.env.now} days\")\n",
    "            self.occupancy += 1\n",
    "            self.env.process(self.neuro_rehab_treatment())\n",
    "\n",
    "    def other_patient_generator(self):\n",
    "        while True:\n",
    "            interarrival_time = np.random.exponential(self.experiment.rehab_other_iat)\n",
    "            yield self.env.timeout(interarrival_time)\n",
    "            self.patient_count += 1\n",
    "            self.other_count += 1\n",
    "            if self.experiment.trace:\n",
    "                print(f\"Other patient {self.patient_count} arrived at Rehabilitation Unit at {self.env.now} days\")\n",
    "            self.occupancy += 1\n",
    "            self.env.process(self.other_rehab_treatment())\n",
    "\n",
    "    def tia_rehab_treatment(self):\n",
    "        post_rehab_destination = np.random.choice([0, 100])\n",
    "        mu, sigma = normal_moments_from_lognormal(18.7, 23.5)\n",
    "        \n",
    "        length_of_stay = np.random.lognormal(mean=mu, sigma=sigma)\n",
    "        \n",
    "        yield self.env.timeout(length_of_stay)\n",
    "        \n",
    "        if self.experiment.trace:\n",
    "            print(f\"TIA patient {self.patient_count} finished treatment at Rehabilitation Unit at {self.env.now} days\")\n",
    "        \n",
    "        self.occupancy -= 1\n",
    "\n",
    "    def stroke_rehab_treatment(self):\n",
    "        post_rehab_destination = np.random.choice([\"ESD\", \"Other\"], p=self.experiment.rehab_stroke_post_destination_prob)\n",
    "        if post_rehab_destination == \"ESD\":\n",
    "            mu, sigma = normal_moments_from_lognormal(self.experiment.rehab_stroke_esd_mean, self.experiment.rehab_stroke_esd_std_dev)\n",
    "        else:\n",
    "            mu, sigma = normal_moments_from_lognormal(self.experiment.rehab_stroke_other_mean, self.experiment.rehab_stroke_other_std_dev)\n",
    "        \n",
    "        length_of_stay = np.random.lognormal(mean=mu, sigma=sigma)\n",
    "        \n",
    "        yield self.env.timeout(length_of_stay)\n",
    "        \n",
    "        if self.experiment.trace:\n",
    "            print(f\"Stroke patient {self.patient_count} finished treatment at Rehabilitation Unit at {self.env.now} days\")\n",
    "        \n",
    "        self.occupancy -= 1\n",
    "\n",
    "    def neuro_rehab_treatment(self):\n",
    "        post_rehab_destination = np.random.choice([\"ESD\", \"Other\"], p=self.experiment.rehab_neuro_post_destination_prob)\n",
    "        mu, sigma = normal_moments_from_lognormal(self.experiment.rehab_neuro_mean, self.experiment.rehab_neuro_std_dev)\n",
    "        \n",
    "        length_of_stay = np.random.lognormal(mean=mu, sigma=sigma)\n",
    "        \n",
    "        yield self.env.timeout(length_of_stay)\n",
    "        \n",
    "        if self.experiment.trace:\n",
    "            print(f\"Complex Neurological patient {self.patient_count} finished treatment at Rehabilitation Unit at {self.env.now} days\")\n",
    "        \n",
    "        self.occupancy -= 1\n",
    "\n",
    "    def other_rehab_treatment(self):\n",
    "        post_rehab_destination = np.random.choice([\"ESD\", \"Other\"], p=self.experiment.rehab_other_post_destination_prob)\n",
    "        mu, sigma = normal_moments_from_lognormal(self.experiment.rehab_other_mean, self.experiment.rehab_other_std_dev)\n",
    "        \n",
    "        length_of_stay = np.random.lognormal(mean=mu, sigma=sigma)\n",
    "        \n",
    "        yield self.env.timeout(length_of_stay)\n",
    "        \n",
    "        if self.experiment.trace:\n",
    "            print(f\"Other patient {self.patient_count} finished treatment at Rehabilitation Unit at {self.env.now} days\")\n",
    "        \n",
    "        self.occupancy -= 1"
   ]
  },
  {
   "cell_type": "markdown",
   "id": "6302e778-2a11-46b0-89d9-bf8bbdd7c423",
   "metadata": {},
   "source": [
    "### Occupancy auditing function"
   ]
  },
  {
   "cell_type": "code",
   "execution_count": 10,
   "id": "5527591e-75ac-45b2-b2ae-c09103c54663",
   "metadata": {},
   "outputs": [],
   "source": [
    "def audit_rehab_occupancy(env, first_interval, audit_interval, rehab_unit, experiment):\n",
    "    yield env.timeout(first_interval)\n",
    "    while True:\n",
    "        experiment.rehab_occupancy.append(rehab_unit.occupancy)\n",
    "        yield env.timeout(audit_interval)"
   ]
  },
  {
   "cell_type": "code",
   "execution_count": 11,
   "id": "da88feb8-31b0-4d22-8a7d-240c42daa627",
   "metadata": {},
   "outputs": [],
   "source": [
    "def audit_acute_occupancy(env, first_interval, audit_interval, asu, experiment):\n",
    "    yield env.timeout(first_interval)\n",
    "    while True:\n",
    "        experiment.asu_occupancy.append(asu.occupancy)\n",
    "        yield env.timeout(audit_interval)"
   ]
  },
  {
   "cell_type": "markdown",
   "id": "d6015e1c-fec5-4eab-801b-9b6bede2a9ef",
   "metadata": {},
   "source": [
    "### Occupancy post-processing code"
   ]
  },
  {
   "cell_type": "code",
   "execution_count": 12,
   "id": "a9c406e4-bbdd-47ed-8935-7316549fa55f",
   "metadata": {},
   "outputs": [],
   "source": [
    "def calculate_occupancy_frequencies(data):\n",
    "    unique_values, counts = np.unique(data, return_counts=True)\n",
    "    relative_frequency = counts / len(data)\n",
    "    cumulative_frequency = np.cumsum(relative_frequency)\n",
    "    return relative_frequency, cumulative_frequency, unique_values"
   ]
  },
  {
   "cell_type": "code",
   "execution_count": 13,
   "id": "fdaf260b-748b-45cd-a78f-96c6a1a44575",
   "metadata": {},
   "outputs": [],
   "source": [
    "def occupancy_plot(relative_frequency, unique_values, x_label=\"No. people in ASU\", fig_size=(12, 5)):\n",
    "    fig, ax = plt.subplots(figsize=fig_size)\n",
    "    ax.bar(unique_values, relative_frequency, align='center', alpha=0.7)\n",
    "    ax.set_xticks(np.arange(0, 31, 1))\n",
    "    ax.set_xlabel(x_label)\n",
    "    ax.set_ylabel('Relative Frequency')\n",
    "    plt.grid(axis='y', linestyle='--', alpha=0.6)\n",
    "    plt.title('Occupancy Relative Frequency Distribution')\n",
    "    plt.show()\n",
    "    return fig, ax"
   ]
  },
  {
   "cell_type": "markdown",
   "id": "9f89fe55-50ea-4442-9631-f1d8ae1b6197",
   "metadata": {},
   "source": [
    "### Probability of deplay post-processing code"
   ]
  },
  {
   "cell_type": "code",
   "execution_count": 14,
   "id": "ca5bbd3c-e4ab-49ca-b2f8-0496eefdbb3a",
   "metadata": {},
   "outputs": [],
   "source": [
    "def calculate_prob_delay(relative_frequencies, cumulative_frequencies):\n",
    "    prob_delay = np.array(relative_frequencies) / np.array(cumulative_frequencies)\n",
    "    return prob_delay"
   ]
  },
  {
   "cell_type": "code",
   "execution_count": 15,
   "id": "d350f88b-51db-4a13-bcba-cf372e5db03d",
   "metadata": {},
   "outputs": [],
   "source": [
    "def prob_delay_plot(prob_delay, unique_values, x_label=\"No. acute beds available\", fig_size=(12, 5)):\n",
    "    fig, ax = plt.subplots(figsize=fig_size)\n",
    "    ax.step(unique_values, prob_delay, where='post')\n",
    "    ax.set_xticks(np.arange(0, 31, 1))\n",
    "    ax.set_xlabel(x_label)\n",
    "    ax.set_ylabel('Probability of Delay')\n",
    "    plt.grid(axis='y', linestyle='--', alpha=0.6)\n",
    "    plt.title('Probability of Delay Distribution')\n",
    "    plt.show()\n",
    "    return fig, ax"
   ]
  },
  {
   "cell_type": "markdown",
   "id": "22e49aea-95f4-4830-8a67-926769d1cadf",
   "metadata": {},
   "source": [
    "### Script to run the model (ASU only)"
   ]
  },
  {
   "cell_type": "code",
   "execution_count": 16,
   "id": "4b899df1-6354-4fd4-8398-d093de1f1e48",
   "metadata": {},
   "outputs": [
    {
     "data": {
      "image/png": "[encoded data removed]",
      "text/plain": [
       "<Figure size 1200x500 with 1 Axes>"
      ]
     },
     "metadata": {},
     "output_type": "display_data"
    },
    {
     "data": {
      "text/plain": [
       "(<Figure size 1200x500 with 1 Axes>,\n",
       " <Axes: title={'center': 'Probability of Delay Distribution'}, xlabel='No. acute beds available', ylabel='Probability of Delay'>)"
      ]
     },
     "execution_count": 16,
     "metadata": {},
     "output_type": "execute_result"
    }
   ],
   "source": [
    "# Create an instance of the Experiment class with default parameters and trace set to False\n",
    "default_experiment_params = Experiment()\n",
    "\n",
    "# Create the simulation environment and AcuteStrokeUnit instance with the Experiment parameters\n",
    "env = simpy.Environment()\n",
    "\n",
    "## MODIFIED BY TESTER\n",
    "#  create instance of RU, but we do not run the model at this stage\n",
    "rehab_unit = RehabilitationUnit(env, default_experiment_params)\n",
    "##\n",
    "\n",
    "acu_experiment = AcuteStrokeUnit(env, default_experiment_params, rehab_unit)\n",
    "\n",
    "# Start the patient generators for each type of patient in the AcuteStrokeUnit instance\n",
    "env.process(acu_experiment.stroke_patient_generator())\n",
    "env.process(acu_experiment.tia_patient_generator())\n",
    "env.process(acu_experiment.neuro_patient_generator())\n",
    "env.process(acu_experiment.other_patient_generator())\n",
    "\n",
    "# Start the audit_acute_occupancy generator function to record ASU occupancy at intervals\n",
    "env.process(audit_acute_occupancy(env, 1095, 1, acu_experiment, default_experiment_params))\n",
    "\n",
    "# Run the simulation until the specified run length in the Experiment parameters\n",
    "# modified by tester - run length * 10\n",
    "env.run(until=default_experiment_params.run_length * 10)\n",
    "\n",
    "# Calculate occupancy frequencies and plot the relative frequency distribution\n",
    "relative_freq, cumulative_freq, unique_vals = calculate_occupancy_frequencies(default_experiment_params.asu_occupancy)\n",
    "\n",
    "# Calculate probability of delay and plot the step chart\n",
    "prob_delay = calculate_prob_delay(relative_freq, cumulative_freq)\n",
    "prob_delay_plot(prob_delay, unique_vals)\n"
   ]
  },
  {
   "cell_type": "code",
   "execution_count": 17,
   "id": "e11d2b65-4f28-47ea-935e-6f9eeca236c1",
   "metadata": {},
   "outputs": [
    {
     "name": "stdout",
     "output_type": "stream",
     "text": [
      "len(default_experiment_params.asu_occupancy)=17155\n",
      "env.now=18250\n"
     ]
    }
   ],
   "source": [
    "# added by tester\n",
    "print(f'{len(default_experiment_params.asu_occupancy)=}')\n",
    "print(f'{env.now=}')"
   ]
  },
  {
   "cell_type": "markdown",
   "id": "82e4aff2-bc1a-49a2-9a30-7e57685ac77e",
   "metadata": {},
   "source": [
    "### Script to run the model (Rehab unit only) <a class=\"anchor\" id=\"iteration_code_b\"></a>"
   ]
  },
  {
   "cell_type": "code",
   "execution_count": 18,
   "id": "b4d6a8e7-db88-4dc2-8d01-389a10f1c45c",
   "metadata": {
    "editable": true,
    "slideshow": {
     "slide_type": ""
    },
    "tags": []
   },
   "outputs": [
    {
     "data": {
      "image/png": "[encoded data removed]",
      "text/plain": [
       "<Figure size 1200x500 with 1 Axes>"
      ]
     },
     "metadata": {},
     "output_type": "display_data"
    },
    {
     "data": {
      "image/png": "[encoded data removed]",
      "text/plain": [
       "<Figure size 1200x500 with 1 Axes>"
      ]
     },
     "metadata": {},
     "output_type": "display_data"
    },
    {
     "data": {
      "text/plain": [
       "(<Figure size 1200x500 with 1 Axes>,\n",
       " <Axes: title={'center': 'Probability of Delay Distribution'}, xlabel='No. rehab beds available', ylabel='Probability of Delay'>)"
      ]
     },
     "execution_count": 18,
     "metadata": {},
     "output_type": "execute_result"
    }
   ],
   "source": [
    "# 1. Create an experiment\n",
    "experiment = Experiment()\n",
    "\n",
    "# 2. Create an instance of a simpy environment\n",
    "env = simpy.Environment()\n",
    "\n",
    "# 3. Create an instance of RehabilitationUnit\n",
    "rehab_unit = RehabilitationUnit(env, experiment)\n",
    "\n",
    "# 4. Initialize the patient generators as simpy processes\n",
    "env.process(rehab_unit.stroke_patient_generator())\n",
    "env.process(rehab_unit.neuro_patient_generator())\n",
    "env.process(rehab_unit.other_patient_generator())\n",
    "\n",
    "# 5. Initialize the audit of rehab occupancy as a simpy process with an interval of 1 day\n",
    "env.process(audit_rehab_occupancy(env, 1095, 1, rehab_unit, experiment))\n",
    "\n",
    "# 6. Run the model for the default run length in the experiment * 10\n",
    "env.run(until=experiment.run_length * 10)\n",
    "\n",
    "# 7. Calculate occupancy frequencies of the rehab occupancy\n",
    "relative_frequency, cumulative_frequency, unique_values = calculate_occupancy_frequencies(experiment.rehab_occupancy)\n",
    "\n",
    "# 8. Display an occupancy plot for the rehab unit\n",
    "occupancy_plot(relative_frequency, unique_values, x_label=\"No. of people in rehab\")\n",
    "\n",
    "# 9. Calculate the probability of delay for rehab\n",
    "prob_delay = calculate_prob_delay(relative_frequency, cumulative_frequency)\n",
    "\n",
    "# 10. Display a probability of delay plot for rehab\n",
    "prob_delay_plot(prob_delay, unique_values, x_label=\"No. rehab beds available\")"
   ]
  },
  {
   "cell_type": "markdown",
   "id": "42c0c84c-b8b8-45b9-b1a1-1a3251159410",
   "metadata": {},
   "source": [
    "## Script to run the model (SYSTEM TEST: ASU+REHAB)\n",
    "\n",
    "> This code was generated in iteration 20a"
   ]
  },
  {
   "cell_type": "code",
   "execution_count": 29,
   "id": "39677f7e-2def-455d-9a01-87330258e91a",
   "metadata": {},
   "outputs": [
    {
     "data": {
      "image/png": "[encoded data removed]",
      "text/plain": [
       "<Figure size 1200x500 with 1 Axes>"
      ]
     },
     "metadata": {},
     "output_type": "display_data"
    },
    {
     "data": {
      "image/png": "[encoded data removed]",
      "text/plain": [
       "<Figure size 1200x500 with 1 Axes>"
      ]
     },
     "metadata": {},
     "output_type": "display_data"
    },
    {
     "data": {
      "text/plain": [
       "(<Figure size 1200x500 with 1 Axes>,\n",
       " <Axes: title={'center': 'Probability of Delay Distribution'}, xlabel='No. of people in Rehab Unit', ylabel='Probability of Delay'>)"
      ]
     },
     "execution_count": 29,
     "metadata": {},
     "output_type": "execute_result"
    }
   ],
   "source": [
    "# Combine the two scripts into a single script following the specified steps\n",
    "\n",
    "# Create an instance of the Experiment class with default parameters and trace set to False\n",
    "default_experiment_params = Experiment()\n",
    "\n",
    "# Create the simulation environment\n",
    "env = simpy.Environment()\n",
    "\n",
    "# Create an instance of RehabilitationUnit\n",
    "rehab_unit = RehabilitationUnit(env, default_experiment_params)\n",
    "\n",
    "# Create an instance of AcuteStrokeUnit. Pass the RehabilitationUnit as a parameter\n",
    "acu_experiment = AcuteStrokeUnit(env, default_experiment_params, rehab_unit)\n",
    "\n",
    "# Initialise the patient generators in AcuteStrokeUnit as simpy processes\n",
    "env.process(acu_experiment.stroke_patient_generator())\n",
    "env.process(acu_experiment.tia_patient_generator())\n",
    "env.process(acu_experiment.neuro_patient_generator())\n",
    "env.process(acu_experiment.other_patient_generator())\n",
    "\n",
    "# Initialise the patient generators in RehabilitationUnit as simpy processes\n",
    "env.process(rehab_unit.stroke_patient_generator())\n",
    "env.process(rehab_unit.neuro_patient_generator())\n",
    "env.process(rehab_unit.other_patient_generator())\n",
    "\n",
    "# Initialise the audit of rehab occupancy as a simpy process. Use an interval of 1 day.\n",
    "env.process(audit_rehab_occupancy(env, 1095, 1, rehab_unit, default_experiment_params))\n",
    "\n",
    "# Initialise the audit of AcuteStrokeUnit occupancy as a simpy process. Use an interval of 1 day.\n",
    "env.process(audit_acute_occupancy(env, 1095, 1, acu_experiment, default_experiment_params))\n",
    "\n",
    "# Run the model for the default run length in the experiment * 50\n",
    "env.run(until=default_experiment_params.run_length + 1095)\n",
    "\n",
    "# Calculate occupancy frequencies of both AcuteStrokeUnit and rehab occupancy\n",
    "relative_freq_asu, cumulative_freq_asu, unique_vals_asu = calculate_occupancy_frequencies(default_experiment_params.asu_occupancy)\n",
    "relative_freq_rehab, cumulative_freq_rehab, unique_vals_rehab = calculate_occupancy_frequencies(default_experiment_params.rehab_occupancy)\n",
    "\n",
    "# Calculate probability of delay for both AcuteStrokeUnit and rehab\n",
    "prob_delay_asu = calculate_prob_delay(relative_freq_asu, cumulative_freq_asu)\n",
    "prob_delay_rehab = calculate_prob_delay(relative_freq_rehab, cumulative_freq_rehab)\n",
    "\n",
    "# Display probability of delay plot for both AcuteStrokeUnit and rehab unit with appropriate x_label values\n",
    "prob_delay_plot(prob_delay_asu, unique_vals_asu, x_label=\"No. of people in Acute Stroke Unit\")\n",
    "prob_delay_plot(prob_delay_rehab, unique_vals_rehab, x_label=\"No. of people in Rehab Unit\")\n"
   ]
  },
  {
   "cell_type": "markdown",
   "id": "50d6948f-b241-4af3-80a3-014119f29d91",
   "metadata": {},
   "source": [
    "## Testing <a class=\"anchor\" id=\"testing_code\"></a>\n",
    "* **Results processing 1**: code correctly calculates relative and cumulative frequencies\n",
    "    * Expected result: for [1, 1, 1, 1, 2, 2, 2, 3, 3, 4] relative = [4/10, 3/10, 2/10, 1/10] and cum = [4/10, 7/10, 9/10, 1.0]\n",
    "    * Actual result (PASS): for [1, 1, 1, 1, 2, 2, 2, 3, 3, 4] relative = [4/10, 3/10, 2/10, 1/10] and cum = [4/10, 7/10, 9/10, 1.0]\n",
    "* **Results processing 2**: test that prob delay is calculated correctly.\n",
    "    * Expected result: The probability of delay is [1.0, 0.3/0.7, 0.2/0.9, 0.1/1.0]\n",
    "    * Actual result (PASS): The probability of delay is [1.0, 0.3/0.7, 0.2/0.9, 0.1/1.0]\n",
    "* **Results collection test 1**: Test the result collection process for ASU collects ward occupancy every day\n",
    "    * Expected result: The number of observations taken is 1 less the number of days the model is run.\n",
    "    * Actual result (PASS):  The number of observations taken is 1 less the number of days the model is run.\n",
    "* **Results collection test 2**: Test ASU ward occupancy data collected is in a sensible range.\n",
    "    * Expected result: The type collected is int. The values are in the range 0 to 50 with sensible moments.\n",
    "    * Actual result (PASS):  The type collected is int. The values are in the range 0 to 50 with sensible moments.\n",
    "* **Results collection test 3**: Test the result collection process for REHAB collects unit occupancy every day\n",
    "    * Expected result: The number of observations taken is 1 less the number of days the model is run.\n",
    "    * Actual result (PASS):  The number of observations taken is 1 less the number of days the model is run.\n",
    "* **Results collection test 4**: Test REHAB unit occupancy data collected is in a sensible range.\n",
    "    * Expected result: The type collected is int. The values are in the range 0 to (10-15) with sensible moments.\n",
    "    * Actual result (PASS):  The type collected is int. The values are 0 to (10-15) with sensible moments.\n",
    "* **Results collection test 5**: **SYSTEM TEST**: Test the result collection process for ASU+REHAB collects ward occupancy every day\n",
    "    * Expected result: The number of observations taken is 1 less the number of days the model is run.\n",
    "    * Actual result (PASS):  The number of observations taken is 1 less the number of days the model is run.\n",
    "* **Suppress simulated trace**: Test that setting experiment.trace = False suppresses ASU output by default.\n",
    "    * Expected result: The ASU model runs with no simulated log output\n",
    "    * Actual result (PASS): The ASU model runs with no simulated log output\n",
    "* **Suppress simulated trace 2**: Test that setting experiment.trace = False suppresses REHAB output by default.\n",
    "    * Expected result: The REHAB model runs with no simulated log output\n",
    "    * Actual result (PASS): The REHAB model runs with no simulated log output\n",
    "* **Testing lognormal function**: Test that lognomal function correctly calculates the moments of the underlying normal dist.\n",
    "    * Expected result: The LLM generated function and `sim-tools.distributions.Lognormal` perform the same conversion.\n",
    "    * Actual results (PASS):  The functions generate the same values.\n",
    "* **Extreme value test 1**: TIA, Complex Neuro, Other, have their inter-arrival time is set to $M$ a very large number\n",
    "    * Expected result: The only type of patient to arrive to the model is \"Stroke\"\n",
    "    * Actual result (PASS): The only type of patient to arrive to the model is \"Stroke\"\n",
    "* **Extreme value test 2**: All patient types have have their inter-arrival time is set to $M$ a very large number\n",
    "    * Expected result: No patients arrive to the model.\n",
    "    * Actual result (PASS): No patients arrive to the model.\n",
    "* **Different run length**: The run length of the model is set to 10 days.\n",
    "    * Expected result: The model should runs no longer than 10 simulated time periods\n",
    "    * Actual result (PASS): The model runs no longer than 10 simulated time periods\n",
    "* **Extreme value test 3**: All patient types have have their mean length of stay time set to $M$ a very large number\n",
    "    * Expected result: No patients depart the model (only arrivals seen in log)\n",
    "    * Actual Results (PASS): No patients depart the model.\n",
    "* **Extreme value test 4**: All patient types apart from stroke->rehab have have their mean length of stay time set to $M$ a very large number\n",
    "    * Expected result: Only stroke patients depart the model (seen in log)\n",
    "    * Actual Results (PASS): Only stroke patient depart the model.\n",
    "* **Extreme value test 5**: In rehab, Complex Neuro, and Other, have their inter-arrival time is set to $M$ a very large number\n",
    "    * Expected result: The only type of patient to arrive to the rehab model is \"Stroke\"\n",
    "    * Actual result (PASS): The only type of patient to arrive to the rehab model is \"Stroke\"\n",
    "* **Extreme value test 6**: In the rehab model, all patient types have have their inter-arrival time is set to $M$ a very large number\n",
    "    * Expected result: No patients arrive to the model.\n",
    "    * Actual result (PASS): No patients arrive to the model.\n",
    "* **Extreme value test 7**: In the rehab model, all patient types have their length of stay means set to $M$ a very larger number.\n",
    "    * Expected result: Patients arrive to the model as normal, but do not depart.\n",
    "    * Actual result (PASS): Patients arrive to the model as normal, but do not depart."
   ]
  },
  {
   "cell_type": "markdown",
   "id": "9dfd2334-3493-4ba2-802c-9a476015aedb",
   "metadata": {},
   "source": [
    "### Results processing 1\n",
    "\n",
    "Test that the code correctly calculates the relative and cumulative frequencies of a python list of integer values.\n",
    "\n",
    "(PASS)"
   ]
  },
  {
   "cell_type": "code",
   "execution_count": 20,
   "id": "e11366d5-bd0b-4465-8f98-212040cff775",
   "metadata": {},
   "outputs": [],
   "source": [
    "def result_processing_test_1(values, rel_expected, cum_expected):\n",
    "    '''\n",
    "    Test the `calculate_occupancy_frequencies` function works\n",
    "    as expected.\n",
    "\n",
    "    Expected result: relative frequencies and cumulative freqs\n",
    "    are the same as expected values.\n",
    "\n",
    "    Params:\n",
    "    ------\n",
    "    values: list\n",
    "        list of values to test\n",
    "\n",
    "    rel_expected: list\n",
    "        list of floats - expected relative freqs\n",
    "\n",
    "    cum_expected: list\n",
    "        list of floats - expected cumulative freqs\n",
    "\n",
    "    Returns:\n",
    "    -------\n",
    "    bool: does the model pass the test.\n",
    "    '''\n",
    "    rel, cum, unique = calculate_occupancy_frequencies(values)\n",
    "    # use all close to allow for minor floating point differences.\n",
    "    return (set(rel) == set(rel_expected)) and  np.allclose(np.array(cum_expected), cum)"
   ]
  },
  {
   "cell_type": "code",
   "execution_count": 21,
   "id": "ca7daa1a-5d97-4f78-9cb8-7bbd0903150f",
   "metadata": {},
   "outputs": [
    {
     "data": {
      "text/plain": [
       "True"
      ]
     },
     "execution_count": 21,
     "metadata": {},
     "output_type": "execute_result"
    }
   ],
   "source": [
    "result_processing_test_1(values=[1, 1, 1, 1, 2, 2, 2, 3, 3, 4],\n",
    "                         rel_expected=[0.4, 0.3, 0.2, 0.1],\n",
    "                         cum_expected=[0.4, 0.7, 0.9, 1.0])"
   ]
  },
  {
   "cell_type": "markdown",
   "id": "212b7b68-9e52-415c-80dd-779849b1dcac",
   "metadata": {},
   "source": [
    "### Results Processing test 2\n",
    "\n",
    "Test that the calculation of the probability of delay is correct.\n",
    "\n",
    "(PASS)"
   ]
  },
  {
   "cell_type": "code",
   "execution_count": 22,
   "id": "81298f3b-4d22-4649-8616-7dab92eedae2",
   "metadata": {},
   "outputs": [],
   "source": [
    "def result_processing_test_2(relative, cum, p_delay_expected):\n",
    "    '''\n",
    "    Test the probability of delay is calculated correctly.\n",
    "    \n",
    "    Params:\n",
    "    ------\n",
    "    relative: list\n",
    "        list of floats - relative freqs\n",
    "\n",
    "    cum: list\n",
    "        list of floats - cumulative freqs\n",
    "\n",
    "    Returns:\n",
    "    -------\n",
    "    bool: does the function pass the test.\n",
    "    '''\n",
    "    p_delay = calculate_prob_delay(relative, cum)\n",
    "    # use all close to allow for minor floating point differences.\n",
    "    return np.allclose(np.array(p_delay_expected), p_delay)"
   ]
  },
  {
   "cell_type": "code",
   "execution_count": 23,
   "id": "8f2cee8a-672f-4d81-beae-ac3e505e37b6",
   "metadata": {},
   "outputs": [
    {
     "data": {
      "text/plain": [
       "True"
      ]
     },
     "execution_count": 23,
     "metadata": {},
     "output_type": "execute_result"
    }
   ],
   "source": [
    "relative = [0.4, 0.3, 0.2, 0.1],\n",
    "cum = [0.4, 0.7, 0.9, 1.0]\n",
    "expected = [1.0, 0.3/0.7, 0.2/0.9, 0.1/1.0]\n",
    "result = result_processing_test_2(relative, cum, expected)\n",
    "result"
   ]
  },
  {
   "cell_type": "markdown",
   "id": "4306f786-8429-4ccb-9d06-9b419fc5a16f",
   "metadata": {},
   "source": [
    "### Results collection test 1\n",
    "\n",
    "Test the optional results collection process works correctly.  The process should collect acute stroke occupancy every day\n",
    "\n",
    "(PASS)"
   ]
  },
  {
   "cell_type": "code",
   "execution_count": 24,
   "id": "5a08cfa3-2c28-4cfa-955e-77aa35e7d2e5",
   "metadata": {},
   "outputs": [],
   "source": [
    "def results_collection_test1(audit_interval=1):\n",
    "    '''\n",
    "    Test the model collects acute stroke occupancy every day\n",
    "\n",
    "    Expected result: len(experiment.occupancy) == env.now - 1\n",
    "\n",
    "    Params:\n",
    "    ------\n",
    "    audit_interval: 1\n",
    "        duration of audit.\n",
    "\n",
    "    Returns:\n",
    "    -------\n",
    "    bool: does the model pass the test.\n",
    "    '''\n",
    "    # Create the simulation environment\n",
    "    env = simpy.Environment()\n",
    "    \n",
    "    # Initialize the Acute Stroke Unit model#\n",
    "    # set ASU arr~ival rates\n",
    "    default_experiment_params = Experiment()\n",
    "\n",
    "    # modified iteration 19. \n",
    "    # add RU, but do not run the model\n",
    "    rehab_unit = RehabilitationUnit(env, default_experiment_params)\n",
    "    \n",
    "    acu_experiment = AcuteStrokeUnit(env, default_experiment_params, rehab_unit)\n",
    "    \n",
    "    # Start the patient generators for each type of patient\n",
    "    env.process(acu_experiment.stroke_patient_generator())\n",
    "    env.process(acu_experiment.tia_patient_generator())\n",
    "    env.process(acu_experiment.neuro_patient_generator())\n",
    "    env.process(acu_experiment.other_patient_generator())\n",
    "\n",
    "    # optional results collection\n",
    "    # Start the audit_acute_occupancy generator function to record ASU occupancy at intervals\n",
    "    env.process(audit_acute_occupancy(audit_interval, acu_experiment, default_experiment_params))\n",
    "    \n",
    "    # Run the simulation until the specified run length in the Experiment parameters\n",
    "    env.run(until=default_experiment_params.run_length)\n",
    "\n",
    "    print(f'{len(default_experiment_params.asu_occupancy)=}')\n",
    "    print(f'{env.now=}')\n",
    "    return len(default_experiment_params.asu_occupancy) == (env.now - 1)"
   ]
  },
  {
   "cell_type": "code",
   "execution_count": 25,
   "id": "231bb816-5d1d-4a4a-8b7e-ed692c831a0e",
   "metadata": {},
   "outputs": [
    {
     "ename": "TypeError",
     "evalue": "audit_acute_occupancy() missing 2 required positional arguments: 'asu' and 'experiment'",
     "output_type": "error",
     "traceback": [
      "\u001b[0;31m---------------------------------------------------------------------------\u001b[0m",
      "\u001b[0;31mTypeError\u001b[0m                                 Traceback (most recent call last)",
      "Cell \u001b[0;32mIn[25], line 1\u001b[0m\n\u001b[0;32m----> 1\u001b[0m \u001b[43mresults_collection_test1\u001b[49m\u001b[43m(\u001b[49m\u001b[43m)\u001b[49m\n",
      "Cell \u001b[0;32mIn[24], line 37\u001b[0m, in \u001b[0;36mresults_collection_test1\u001b[0;34m(audit_interval)\u001b[0m\n\u001b[1;32m     33\u001b[0m env\u001b[38;5;241m.\u001b[39mprocess(acu_experiment\u001b[38;5;241m.\u001b[39mother_patient_generator())\n\u001b[1;32m     35\u001b[0m \u001b[38;5;66;03m# optional results collection\u001b[39;00m\n\u001b[1;32m     36\u001b[0m \u001b[38;5;66;03m# Start the audit_acute_occupancy generator function to record ASU occupancy at intervals\u001b[39;00m\n\u001b[0;32m---> 37\u001b[0m env\u001b[38;5;241m.\u001b[39mprocess(\u001b[43maudit_acute_occupancy\u001b[49m\u001b[43m(\u001b[49m\u001b[43maudit_interval\u001b[49m\u001b[43m,\u001b[49m\u001b[43m \u001b[49m\u001b[43macu_experiment\u001b[49m\u001b[43m,\u001b[49m\u001b[43m \u001b[49m\u001b[43mdefault_experiment_params\u001b[49m\u001b[43m)\u001b[49m)\n\u001b[1;32m     39\u001b[0m \u001b[38;5;66;03m# Run the simulation until the specified run length in the Experiment parameters\u001b[39;00m\n\u001b[1;32m     40\u001b[0m env\u001b[38;5;241m.\u001b[39mrun(until\u001b[38;5;241m=\u001b[39mdefault_experiment_params\u001b[38;5;241m.\u001b[39mrun_length)\n",
      "\u001b[0;31mTypeError\u001b[0m: audit_acute_occupancy() missing 2 required positional arguments: 'asu' and 'experiment'"
     ]
    }
   ],
   "source": [
    "results_collection_test1()"
   ]
  },
  {
   "cell_type": "markdown",
   "id": "1130def9-bda9-4fb0-adc4-21cd21f46ba0",
   "metadata": {},
   "source": [
    "### Result collection test 2\n",
    "\n",
    "(PASS)"
   ]
  },
  {
   "cell_type": "code",
   "execution_count": null,
   "id": "3067d6a8-028a-449e-a99d-e72b80628d14",
   "metadata": {},
   "outputs": [],
   "source": [
    "def results_collection_test2(audit_interval=1):\n",
    "    '''\n",
    "    Test ASU ward occupancy data collected is in a sensible range.\n",
    "    \n",
    "    Expected result: The type collected is int. The values are in \n",
    "    the range in the range 0 to 50 with sensible moments.\n",
    "\n",
    "    prints out:\n",
    "    min\n",
    "    max\n",
    "    mean\n",
    "    deciles\n",
    "\n",
    "    Params:\n",
    "    ------\n",
    "    audit_interval: 1\n",
    "        duration of audit.\n",
    "\n",
    "    Returns:\n",
    "    -------\n",
    "    None\n",
    "    '''\n",
    "    # Create the simulation environment\n",
    "    env = simpy.Environment()\n",
    "    \n",
    "    # Initialize the Acute Stroke Unit model#\n",
    "    # set ASU arr~ival rates\n",
    "    default_experiment_params = Experiment()\n",
    "\n",
    "    # modified iteration 19. \n",
    "    # add RU, but do not run the model\n",
    "    rehab_unit = RehabilitationUnit(env, default_experiment_params)\n",
    "    \n",
    "    acu_experiment = AcuteStrokeUnit(env, default_experiment_params, rehab_unit)\n",
    "    \n",
    "    # Start the patient generators for each type of patient\n",
    "    env.process(acu_experiment.stroke_patient_generator())\n",
    "    env.process(acu_experiment.tia_patient_generator())\n",
    "    env.process(acu_experiment.neuro_patient_generator())\n",
    "    env.process(acu_experiment.other_patient_generator())\n",
    "\n",
    "    # optional results collection\n",
    "    # Start the audit_acute_occupancy generator function to record ASU occupancy at intervals\n",
    "    env.process(audit_acute_occupancy(audit_interval, acu_experiment, default_experiment_params))\n",
    "    \n",
    "    # Run the simulation until the specified run length in the Experiment parameters\n",
    "    env.run(until=default_experiment_params.run_length)\n",
    "\n",
    "    print(f'{min(default_experiment_params.asu_occupancy)=}')\n",
    "    print(f'{max(default_experiment_params.asu_occupancy)=}')\n",
    "    print(f'{statistics.fmean(default_experiment_params.asu_occupancy)=}')\n",
    "    print([round(q, 1) for q in statistics.quantiles(default_experiment_params.asu_occupancy, n=10)])"
   ]
  },
  {
   "cell_type": "code",
   "execution_count": null,
   "id": "46a4d967-c017-4289-8a4c-164972a4715b",
   "metadata": {},
   "outputs": [],
   "source": [
    "results_collection_test2()"
   ]
  },
  {
   "cell_type": "markdown",
   "id": "64033bd8-4945-4563-8b04-344c4ecdecc6",
   "metadata": {},
   "source": [
    "### Results collection test 3\n",
    "\n",
    "Test the optional results collection process works correctly for rehab.  The process should collect rehab unit occupancy every day.\n",
    "\n",
    "(PASS)\n"
   ]
  },
  {
   "cell_type": "code",
   "execution_count": null,
   "id": "a01d3834-0847-49fa-ba14-2b43722dd3a4",
   "metadata": {},
   "outputs": [],
   "source": [
    "def results_collection_test3(audit_interval=1):\n",
    "    '''\n",
    "    Test the model collects rehab occupancy every day\n",
    "\n",
    "    Expected result: len(experiment.rehab_occupancy) == env.now - 1\n",
    "\n",
    "    Params:\n",
    "    ------\n",
    "    audit_interval: 1\n",
    "        duration of audit.\n",
    "\n",
    "    Returns:\n",
    "    -------\n",
    "    bool: does the model pass the test.\n",
    "    '''\n",
    "    # Create the simulation environment\n",
    "    env = simpy.Environment()\n",
    "\n",
    "    # create experiment\n",
    "    default_experiment = Experiment()\n",
    "    \n",
    "    rehab_unit = RehabilitationUnit(env, default_experiment)\n",
    "\n",
    "    # Initialise the patient generators as simpy processes\n",
    "    env.process(rehab_unit.stroke_patient_generator())\n",
    "    env.process(rehab_unit.neuro_patient_generator())\n",
    "    env.process(rehab_unit.other_patient_generator())\n",
    "    \n",
    "    # Initialise the audit of rehab occupancy as a simpy process with an interval of 1 day\n",
    "    env.process(audit_rehab_occupancy(env, audit_interval, rehab_unit, default_experiment))\n",
    "    \n",
    "    # Run the model for the default run length in the experiment\n",
    "    env.run(until=default_experiment.run_length)\n",
    "    print(f'{len(default_experiment.rehab_occupancy)=}')\n",
    "    print(f'{env.now=}')\n",
    "    return len(default_experiment.rehab_occupancy) == (env.now - 1)"
   ]
  },
  {
   "cell_type": "code",
   "execution_count": null,
   "id": "b5000279-c878-48c9-b43a-94f38bd0f858",
   "metadata": {},
   "outputs": [],
   "source": [
    "results_collection_test3()"
   ]
  },
  {
   "cell_type": "markdown",
   "id": "7ee9c68f-32a2-4d26-8574-844b64b03ece",
   "metadata": {},
   "source": [
    "## Results Collection Test 4\n",
    "\n",
    "(PASS)"
   ]
  },
  {
   "cell_type": "code",
   "execution_count": null,
   "id": "9000cc9f-f969-462a-b9f9-5fdbf9dce556",
   "metadata": {},
   "outputs": [],
   "source": [
    "def results_collection_test4(audit_interval=1):\n",
    "    '''\n",
    "    Test REHAB ward occupancy data collected is in a sensible range.\n",
    "    \n",
    "    Expected result: The type collected is int. The values are in \n",
    "    the range in the range 1 to [10-15] with sensible moments.\n",
    "\n",
    "    Note this is when the Rehab unit is used independently\n",
    "    with external arrivals only i.e. no transfers from ASU.\n",
    "\n",
    "    prints out:\n",
    "    min\n",
    "    max\n",
    "    mean\n",
    "    deciles\n",
    "\n",
    "    Params:\n",
    "    ------\n",
    "    audit_interval: 1\n",
    "        duration of audit.\n",
    "\n",
    "    Returns:\n",
    "    -------\n",
    "    None\n",
    "    '''\n",
    "    # Create the simulation environment\n",
    "    env = simpy.Environment()\n",
    "    \n",
    "    # create experiment\n",
    "    default_experiment = Experiment()\n",
    "    \n",
    "    rehab_unit = RehabilitationUnit(env, default_experiment)\n",
    "\n",
    "    # Initialise the patient generators as simpy processes\n",
    "    env.process(rehab_unit.stroke_patient_generator())\n",
    "    env.process(rehab_unit.neuro_patient_generator())\n",
    "    env.process(rehab_unit.other_patient_generator())\n",
    "    \n",
    "    # Initialise the audit of rehab occupancy as a simpy process with an interval of 1 day\n",
    "    env.process(audit_rehab_occupancy(env, audit_interval, rehab_unit, default_experiment))\n",
    "    \n",
    "    # Run the model for the default run length in the experiment\n",
    "    env.run(until=default_experiment.run_length)\n",
    "    \n",
    "    print(f'{min(default_experiment.rehab_occupancy)=}')\n",
    "    print(f'{max(default_experiment.rehab_occupancy)=}')\n",
    "    print(f'{statistics.fmean(default_experiment.rehab_occupancy)=}')\n",
    "    print([round(q, 1) for q in statistics.quantiles(default_experiment.rehab_occupancy, n=10)])"
   ]
  },
  {
   "cell_type": "code",
   "execution_count": null,
   "id": "af6d15ae-196a-473f-a2b4-bb8bdfdc9bb8",
   "metadata": {},
   "outputs": [],
   "source": [
    "results_collection_test4()"
   ]
  },
  {
   "cell_type": "markdown",
   "id": "9a084951-598f-4b02-9fb5-d32f9af41b5c",
   "metadata": {},
   "source": [
    "### Results Collection Test 5 (SYSTEM TEST)\n",
    "\n",
    "Test that when the models are linked that the occupancy is audited correctly."
   ]
  },
  {
   "cell_type": "code",
   "execution_count": null,
   "id": "0d1807a3-a435-40d0-826a-7d309b470680",
   "metadata": {},
   "outputs": [],
   "source": [
    "def results_collection_test5(audit_interval=1):\n",
    "    '''\n",
    "    Test REHAB ward occupancy data collected is in a sensible range\n",
    "    when it is connected to the ASU model.\n",
    "    \n",
    "    Expected result: The type collected is int. The values are in \n",
    "    the range in the range 1 to [10-15] with sensible moments.\n",
    "\n",
    "    Expected result: \n",
    "        len(experiment.asu_occupancy) == env.now - 1 AND\n",
    "        len(experiment.rehab_occupancy) == env.now - 1\n",
    "\n",
    "    Params:\n",
    "    ------\n",
    "    audit_interval: 1\n",
    "        duration of audit.\n",
    "\n",
    "    Returns:\n",
    "    -------\n",
    "    bool: does the model pass the test.\n",
    "    '''\n",
    "    # Create the simulation environment\n",
    "    env = simpy.Environment()\n",
    "    \n",
    "    # a default experiment\n",
    "    default_experiment_params = Experiment()\n",
    "\n",
    "    # create models\n",
    "    rehab_unit = RehabilitationUnit(env, default_experiment_params)\n",
    "    acu_experiment = AcuteStrokeUnit(env, default_experiment_params, rehab_unit)\n",
    "    \n",
    "    # Start the ASU patient generators for each type of patient\n",
    "    env.process(acu_experiment.stroke_patient_generator())\n",
    "    env.process(acu_experiment.tia_patient_generator())\n",
    "    env.process(acu_experiment.neuro_patient_generator())\n",
    "    env.process(acu_experiment.other_patient_generator())\n",
    "\n",
    "    # Initialize the pREHAB atient generators as simpy processes\n",
    "    env.process(rehab_unit.stroke_patient_generator())\n",
    "    env.process(rehab_unit.neuro_patient_generator())\n",
    "    env.process(rehab_unit.other_patient_generator())  \n",
    "\n",
    "    # optional results collection\n",
    "    # Start the audit_acute_occupancy generator function to record ASU occupancy at intervals\n",
    "    env.process(audit_acute_occupancy(audit_interval, acu_experiment, default_experiment_params))\n",
    "\n",
    "    # Initialize the audit of rehab occupancy as a simpy process with an interval of 1 day\n",
    "    env.process(audit_rehab_occupancy(env, audit_interval, rehab_unit, default_experiment_params))\n",
    "    \n",
    "    # Run the simulation until the specified run length in the Experiment parameters\n",
    "    env.run(until=default_experiment_params.run_length)\n",
    "\n",
    "    # print info for debug\n",
    "    print(f'{len(default_experiment_params.asu_occupancy)=}')\n",
    "    print(f'{len(default_experiment_params.rehab_occupancy)=}')\n",
    "    print(f'{env.now=}')\n",
    "\n",
    "    # test\n",
    "    return len(default_experiment_params.asu_occupancy) == (env.now - 1) and \\\n",
    "        len(default_experiment_params.rehab_occupancy) == (env.now - 1)"
   ]
  },
  {
   "cell_type": "code",
   "execution_count": null,
   "id": "e38f72c3-2114-4101-a78f-b80c4a85d141",
   "metadata": {},
   "outputs": [],
   "source": [
    "results_collection_test5()"
   ]
  },
  {
   "cell_type": "code",
   "execution_count": null,
   "id": "acb265d6-4105-4c9c-8207-d52a32931165",
   "metadata": {},
   "outputs": [],
   "source": [
    "### Results Collection Test 6 (SYSTEM TEST)\n"
   ]
  },
  {
   "cell_type": "code",
   "execution_count": null,
   "id": "84f1f9fa-734b-48be-91b6-7283b1a03fb1",
   "metadata": {},
   "outputs": [],
   "source": [
    "def results_collection_test6(audit_interval=1):\n",
    "    '''\n",
    "    Test the model collects acute stroke occupancy every day\n",
    "\n",
    "    Expected result: The type collected is int. The values are in \n",
    "    the range in the range 1 to ~25 with sensible moments.\n",
    "\n",
    "    Note this is when the Rehab unit is linked to the ASU.\n",
    "    I.e. transfers from ASU + external arrivals\n",
    "\n",
    "    prints out:\n",
    "    min\n",
    "    max\n",
    "    mean\n",
    "    deciles\n",
    "\n",
    "    Params:\n",
    "    ------\n",
    "    audit_interval: 1\n",
    "        duration of audit.\n",
    "\n",
    "    Returns:\n",
    "    -------\n",
    "    bool: does the model pass the test.\n",
    "    '''\n",
    "    # Create the simulation environment\n",
    "    env = simpy.Environment()\n",
    "    \n",
    "    # a default experiment\n",
    "    default_experiment_params = Experiment()\n",
    "\n",
    "    # create models\n",
    "    rehab_unit = RehabilitationUnit(env, default_experiment_params)\n",
    "    acu_experiment = AcuteStrokeUnit(env, default_experiment_params, rehab_unit)\n",
    "    \n",
    "    # Start the ASU patient generators for each type of patient\n",
    "    env.process(acu_experiment.stroke_patient_generator())\n",
    "    env.process(acu_experiment.tia_patient_generator())\n",
    "    env.process(acu_experiment.neuro_patient_generator())\n",
    "    env.process(acu_experiment.other_patient_generator())\n",
    "\n",
    "    # Initialize the pREHAB atient generators as simpy processes\n",
    "    env.process(rehab_unit.stroke_patient_generator())\n",
    "    env.process(rehab_unit.neuro_patient_generator())\n",
    "    env.process(rehab_unit.other_patient_generator())  \n",
    "\n",
    "    # optional results collection\n",
    "    # Start the audit_acute_occupancy generator function to record ASU occupancy at intervals\n",
    "    env.process(audit_acute_occupancy(audit_interval, acu_experiment, default_experiment_params))\n",
    "\n",
    "    # Initialize the audit of rehab occupancy as a simpy process with an interval of 1 day\n",
    "    env.process(audit_rehab_occupancy(env, audit_interval, rehab_unit, default_experiment_params))\n",
    "    \n",
    "    # Run the simulation until the specified run length in the Experiment parameters\n",
    "    env.run(until=default_experiment_params.run_length * 10)\n",
    "\n",
    "    # test\n",
    "    print(f'{min(default_experiment_params.rehab_occupancy)=}')\n",
    "    print(f'{max(default_experiment_params.rehab_occupancy)=}')\n",
    "    print(f'{statistics.fmean(default_experiment_params.rehab_occupancy)=}')\n",
    "    print([round(q, 1) for q in statistics.quantiles(default_experiment_params.rehab_occupancy, n=10)])"
   ]
  },
  {
   "cell_type": "code",
   "execution_count": null,
   "id": "8932a363-c1d9-4101-ac2a-567eb1a6f649",
   "metadata": {},
   "outputs": [],
   "source": [
    "results_collection_test6()"
   ]
  },
  {
   "cell_type": "markdown",
   "id": "54122006-f691-4866-a56a-5620e2622cd7",
   "metadata": {},
   "source": [
    "## Test suppress trace 1\n",
    "\n",
    "(PASS)"
   ]
  },
  {
   "cell_type": "code",
   "execution_count": null,
   "id": "566f3bae-937f-4ca9-be1c-e9bbf08c696d",
   "metadata": {},
   "outputs": [],
   "source": [
    "def test_suppress_log(trace):\n",
    "    '''\n",
    "    Test that setting experiment.trace \n",
    "    False suppresses output.\n",
    "\n",
    "    Expected result: patient_count > 0\n",
    "\n",
    "    Params:\n",
    "    ------\n",
    "    trace: bool\n",
    "        is trace outputted or not?\n",
    "\n",
    "    Returns:\n",
    "    -------\n",
    "    int: number of patient arrivals.\n",
    "    '''\n",
    "    # Create the simulation environment\n",
    "    env = simpy.Environment()\n",
    "    \n",
    "    # Initialize the Acute Stroke Unit model#\n",
    "    # set ASU arr~ival rates\n",
    "    default_experiment_params = Experiment(\n",
    "        trace=trace,\n",
    "    )\n",
    "\n",
    "    # modified iteration 19. \n",
    "    # add RU, but do not run the model\n",
    "    rehab_unit = RehabilitationUnit(env, default_experiment_params)\n",
    "    \n",
    "    acu_experiment = AcuteStrokeUnit(env, default_experiment_params, rehab_unit)\n",
    "    \n",
    "    # Start the patient generators for each type of patient\n",
    "    env.process(acu_experiment.stroke_patient_generator())\n",
    "    env.process(acu_experiment.tia_patient_generator())\n",
    "    env.process(acu_experiment.neuro_patient_generator())\n",
    "    env.process(acu_experiment.other_patient_generator())\n",
    "    \n",
    "    # Run the simulation until the specified run length in the Experiment parameters\n",
    "    env.run(until=default_experiment_params.run_length)\n",
    "\n",
    "    return acu_experiment.patient_count"
   ]
  },
  {
   "cell_type": "code",
   "execution_count": null,
   "id": "bc7be17e-ea4a-4578-9cc2-35807c6992fa",
   "metadata": {},
   "outputs": [],
   "source": [
    "test_suppress_log(trace=False)"
   ]
  },
  {
   "cell_type": "markdown",
   "id": "9c28082e-cf8a-455b-8800-a3d746eba1f4",
   "metadata": {},
   "source": [
    "### Test suppress trace 2"
   ]
  },
  {
   "cell_type": "code",
   "execution_count": null,
   "id": "07b8e0f8-6667-429c-a571-bb76255874b7",
   "metadata": {},
   "outputs": [],
   "source": [
    "def test_suppress_log_rehab(trace):\n",
    "    '''\n",
    "    Test that setting experiment.trace to\n",
    "    False suppresses output in the rehab model\n",
    "\n",
    "    Expected result: patient_count > 0\n",
    "\n",
    "    Params:\n",
    "    ------\n",
    "    trace: bool\n",
    "        is trace outputted or not?\n",
    "\n",
    "    Returns:\n",
    "    -------\n",
    "    int: number of patient arrivals.\n",
    "    '''\n",
    "    # Create the simulation environment\n",
    "    env = simpy.Environment()\n",
    "\n",
    "    # create experiment\n",
    "    default_experiment_params = Experiment(\n",
    "\n",
    "        trace=trace,   \n",
    "    )\n",
    "\n",
    "    # this will be need to be modified in subsequent iterations\n",
    "    rehab_unit = RehabilitationUnit(env, default_experiment_params)\n",
    "    \n",
    "    # Start the patient generators for each type of patient in the instance\n",
    "    env.process(rehab_unit.stroke_patient_generator())\n",
    "    env.process(rehab_unit.neuro_patient_generator())\n",
    "    env.process(rehab_unit.other_patient_generator())\n",
    "        \n",
    "    # Run the simulation until the specified run length\n",
    "    env.run(until=100)\n",
    "\n",
    "    # print out stats collected\n",
    "    print(f'{rehab_unit.patient_count=}')\n",
    "    print(f'{rehab_unit.stroke_count=}')\n",
    "    print(f'{rehab_unit.neuro_count=}')\n",
    "    print(f'{rehab_unit.other_count=}')\n",
    "    print(f'{rehab_unit.occupancy=}')\n",
    "    return rehab_unit.patient_count"
   ]
  },
  {
   "cell_type": "code",
   "execution_count": null,
   "id": "291ca888-af7b-4a65-aa3e-2b00560921a7",
   "metadata": {},
   "outputs": [],
   "source": [
    "test_suppress_log_rehab(False)"
   ]
  },
  {
   "cell_type": "markdown",
   "id": "9dbc35be-fac1-449f-bbde-d16d280717ff",
   "metadata": {},
   "source": [
    "### Lognormal test\n",
    "\n",
    "Test that lognomal function correctly calculates the moments of the underlying normal dist.\n",
    "\n",
    "**Result: PASS**"
   ]
  },
  {
   "cell_type": "code",
   "execution_count": null,
   "id": "1f8ae16a-821f-40b1-8167-7375c65eff35",
   "metadata": {},
   "outputs": [],
   "source": [
    "def test_lognormal_moments(mean, std):\n",
    "    '''\n",
    "    Test that lognomal function correctly calculates \n",
    "    the moments of the underlying normal dist.\n",
    "\n",
    "    Params:\n",
    "    ------\n",
    "    mean: float\n",
    "        mean of the lognormal distribution\n",
    "\n",
    "    std: float\n",
    "        st dev of the lognormal distribution\n",
    "\n",
    "    Returns:\n",
    "    -------\n",
    "    bool\n",
    "    '''\n",
    "   \n",
    "    # Lognormal class from sim-tools.\n",
    "    expected_moments = Lognormal(mean, std)\n",
    "    print(expected_moments.mu, expected_moments.sigma)\n",
    "    \n",
    "    ## llm code\n",
    "    llm_mu, llm_sigma = normal_moments_from_lognormal(mean, std)\n",
    "    print(llm_mu, llm_sigma)\n",
    "    \n",
    "    return (llm_mu, llm_sigma) == (expected_moments.mu, expected_moments.sigma)"
   ]
  },
  {
   "cell_type": "code",
   "execution_count": null,
   "id": "c3a69cab-0fb2-44a3-9489-c61615e65974",
   "metadata": {},
   "outputs": [],
   "source": [
    "test_lognormal_moments(128.79, 267.51)"
   ]
  },
  {
   "cell_type": "markdown",
   "id": "01c955f7-4f58-4cbb-baa5-77af846341b8",
   "metadata": {},
   "source": [
    "### Extreme value test 1\n",
    "\n",
    "The model uses hard coded parameters.  The most simple way to modify the code for this test was to change hard coded parameters for $M$\n",
    "\n",
    "**Result: PASS**"
   ]
  },
  {
   "cell_type": "code",
   "execution_count": null,
   "id": "74b78bdc-8be1-4f85-a58c-71826b5703dd",
   "metadata": {},
   "outputs": [],
   "source": [
    "M = 10_000_000"
   ]
  },
  {
   "cell_type": "code",
   "execution_count": null,
   "id": "b277f021-44cc-4bcd-b0a2-3daa72c036f1",
   "metadata": {},
   "outputs": [],
   "source": [
    "def ev_test_1(large_number):\n",
    "    '''\n",
    "    TIA, Complex Neuro, Other, have their inter-arrival \n",
    "    time is set to $M$ a very large number\n",
    "    \n",
    "    Expected result: The only type of patient to arrive to the model \n",
    "    is \"Stroke\". This is seen in the event log\n",
    "\n",
    "    Params:\n",
    "    -------\n",
    "    large_number: int\n",
    "        M a very large number \n",
    "\n",
    "    Returns:\n",
    "    --------\n",
    "    int: the number of patients that arrived to the model.\n",
    "    '''\n",
    "    # Create the simulation environment\n",
    "    env = simpy.Environment()\n",
    "    \n",
    "    # Initialize the Acute Stroke Unit model#\n",
    "    # set ASU arrival rates\n",
    "    default_experiment_params = Experiment(\n",
    "        tia_mean=large_number,\n",
    "        neuro_mean=large_number,\n",
    "        other_mean=large_number,\n",
    "        trace=True,\n",
    "    )\n",
    "\n",
    "    # modified iteration 19. \n",
    "    # add RU, but do not run the model\n",
    "    rehab_unit = RehabilitationUnit(env, default_experiment_params)\n",
    "    \n",
    "    acu_experiment = AcuteStrokeUnit(env, default_experiment_params, rehab_unit)\n",
    "    \n",
    "    # Start the patient generators for each type of patient\n",
    "    env.process(acu_experiment.stroke_patient_generator())\n",
    "    env.process(acu_experiment.tia_patient_generator())\n",
    "    env.process(acu_experiment.neuro_patient_generator())\n",
    "    env.process(acu_experiment.other_patient_generator())\n",
    "    \n",
    "    # Run the simulation until the specified run length in the Experiment parameters\n",
    "    env.run(until=default_experiment_params.run_length)\n",
    "\n",
    "    return acu_experiment.patient_count"
   ]
  },
  {
   "cell_type": "code",
   "execution_count": null,
   "id": "c409b7c0-4b01-4a3a-a466-67b756314b6f",
   "metadata": {
    "scrolled": true
   },
   "outputs": [],
   "source": [
    "ev_test_1(M)"
   ]
  },
  {
   "cell_type": "markdown",
   "id": "d000305c-76f9-4247-ab82-085d6ec73bd0",
   "metadata": {},
   "source": [
    "### Extreme value test 2\n",
    "\n",
    "* An experiment is setup so that all patient types have a mean inter-arrival rate of $M$\n",
    "\n",
    "**Result: PASS**"
   ]
  },
  {
   "cell_type": "code",
   "execution_count": null,
   "id": "ec28e400-44cd-436d-b224-5952ffba99b4",
   "metadata": {
    "editable": true,
    "slideshow": {
     "slide_type": ""
    },
    "tags": []
   },
   "outputs": [],
   "source": [
    "def ev_test_2(large_number):\n",
    "    '''\n",
    "    All patient types have have their inter-arrival time is \n",
    "    set to $M$ a very large number\n",
    "    \n",
    "    Expected result: No patients arrive to the model.\n",
    "    \n",
    "    Params:\n",
    "    -------\n",
    "    large_number: int\n",
    "        M a very large number \n",
    "\n",
    "    Returns:\n",
    "    --------\n",
    "    int: the number of patients that arrived to the model.\n",
    "    '''\n",
    "    # Create the simulation environment\n",
    "    env = simpy.Environment()\n",
    "    \n",
    "    # Initialize the Acute Stroke Unit model#\n",
    "    # set ASU arrival rates\n",
    "    default_experiment_params = Experiment(\n",
    "        stroke_mean=large_number,\n",
    "        tia_mean=large_number,\n",
    "        neuro_mean=large_number,\n",
    "        other_mean=large_number,\n",
    "        trace=False,\n",
    "    )\n",
    "\n",
    "    # modified iteration 19. \n",
    "    # add RU, but do not run the model\n",
    "    rehab_unit = RehabilitationUnit(env, default_experiment_params)\n",
    "    \n",
    "    acu_experiment = AcuteStrokeUnit(env, default_experiment_params, rehab_unit)\n",
    "    \n",
    "    # Start the patient generators for each type of patient\n",
    "    env.process(acu_experiment.stroke_patient_generator())\n",
    "    env.process(acu_experiment.tia_patient_generator())\n",
    "    env.process(acu_experiment.neuro_patient_generator())\n",
    "    env.process(acu_experiment.other_patient_generator())\n",
    "    \n",
    "    # Run the simulation until the specified run length in the Experiment parameters\n",
    "    env.run(until=default_experiment_params.run_length)\n",
    "\n",
    "    return acu_experiment.patient_count"
   ]
  },
  {
   "cell_type": "code",
   "execution_count": null,
   "id": "a1925613-adc7-47f3-929c-c3c6ca6da3cd",
   "metadata": {},
   "outputs": [],
   "source": [
    "ev_test_2(M)"
   ]
  },
  {
   "cell_type": "markdown",
   "id": "f0d99368-5f17-4bbd-be4a-30b5f25ad041",
   "metadata": {},
   "source": [
    "### Different run length test\n",
    "\n",
    "The model has again been modified to use the original code and parameters generated by the LLM."
   ]
  },
  {
   "cell_type": "code",
   "execution_count": null,
   "id": "9fc2b79e-10b8-4dc7-b1ba-8a2dfaa3434f",
   "metadata": {},
   "outputs": [],
   "source": [
    "TEN_DAYS = 10"
   ]
  },
  {
   "cell_type": "code",
   "execution_count": null,
   "id": "96d6c215-6a1f-4fb0-9243-e930d4b90e95",
   "metadata": {},
   "outputs": [],
   "source": [
    "def test_run_length(run_length):\n",
    "    '''\n",
    "    Test that the run length of the model can be modified.\n",
    "    \n",
    "    Expected result: The model should runs no longer than the new run length.\n",
    "\n",
    "    Params:\n",
    "    ------\n",
    "    run_length: float\n",
    "        Run length of the model in days.\n",
    "\n",
    "    Returns:\n",
    "    -------\n",
    "    float\n",
    "        Simulation end time.\n",
    "    '''\n",
    "    # Create the simulation environment\n",
    "    env = simpy.Environment()\n",
    "    \n",
    "    # Initialize the Acute Stroke Unit model#\n",
    "    # set ASU arrival rates\n",
    "    default_experiment_params = Experiment(\n",
    "        run_length=run_length,\n",
    "        trace=False,\n",
    "    )\n",
    "\n",
    "    # modified iteration 19. \n",
    "    # add RU, but do not run the model\n",
    "    rehab_unit = RehabilitationUnit(env, default_experiment_params)\n",
    "    \n",
    "    acu_experiment = AcuteStrokeUnit(env, default_experiment_params, rehab_unit)\n",
    "    \n",
    "    # Start the patient generators for each type of patient\n",
    "    env.process(acu_experiment.stroke_patient_generator())\n",
    "    env.process(acu_experiment.tia_patient_generator())\n",
    "    env.process(acu_experiment.neuro_patient_generator())\n",
    "    env.process(acu_experiment.other_patient_generator())\n",
    "    \n",
    "    # Run the simulation until the specified run length in the Experiment parameters\n",
    "    env.run(until=default_experiment_params.run_length)\n",
    "\n",
    "    return env.now"
   ]
  },
  {
   "cell_type": "code",
   "execution_count": null,
   "id": "b4dca7a2-8676-4402-b921-416f86e69c9e",
   "metadata": {},
   "outputs": [],
   "source": [
    "test_run_length(TEN_DAYS)"
   ]
  },
  {
   "cell_type": "markdown",
   "id": "0953988f-8e6e-466c-a9c5-cf90d8e1a9eb",
   "metadata": {},
   "source": [
    "### Extreme value test 3\n",
    "\n",
    "* An experiment is setup so that all patient types have a mean length of stay on the ASU of $M$\n",
    "\n",
    "**Result: PASS**"
   ]
  },
  {
   "cell_type": "code",
   "execution_count": null,
   "id": "16d218cc-b15b-4a28-acb2-4e8ac6bdd42c",
   "metadata": {},
   "outputs": [],
   "source": [
    "def ev_test_3(large_number):\n",
    "    '''\n",
    "    All patient types have have their mean length \n",
    "    of stay time set to $M$ a very large number\n",
    "    \n",
    "    Expected result: No patients depart the model \n",
    "    The number of arrivals = the occupancy of the model.\n",
    "\n",
    "    Params:\n",
    "    -------\n",
    "    large_number: int\n",
    "        M a very large number \n",
    "    '''\n",
    "    # Create the simulation environment\n",
    "    env = simpy.Environment()\n",
    "    \n",
    "    # Initialize the Acute Stroke Unit model#\n",
    "    # set ASU arrival rates\n",
    "    default_experiment_params = Experiment(\n",
    "        rehab_mean=M,  # stroke->rehab\n",
    "        esd_mean=M,    # stroke-> ESD\n",
    "        other_dest_mean=M, # stroke->other\n",
    "        tia_dest_mean=M,   # TIA patients\n",
    "        neuro_dest_mean=M, # complex neuro patients\n",
    "        other_dest_mean_2=M, # other (med outlier) patients\n",
    "        trace=False,\n",
    "    )\n",
    "\n",
    "    # modified iteration 19. \n",
    "    # add RU, but do not run the model\n",
    "    rehab_unit = RehabilitationUnit(env, default_experiment_params)\n",
    "    \n",
    "    acu_experiment = AcuteStrokeUnit(env, default_experiment_params, rehab_unit)\n",
    "    \n",
    "    # Start the patient generators for each type of patient\n",
    "    env.process(acu_experiment.stroke_patient_generator())\n",
    "    env.process(acu_experiment.tia_patient_generator())\n",
    "    env.process(acu_experiment.neuro_patient_generator())\n",
    "    env.process(acu_experiment.other_patient_generator())\n",
    "    \n",
    "    # Run the simulation until the specified run length in the Experiment parameters\n",
    "    env.run(until=default_experiment_params.run_length)\n",
    "\n",
    "    print(f'{acu_experiment.patient_count=}')\n",
    "    print(f'{acu_experiment.occupancy=}')\n",
    "    \n",
    "    return acu_experiment.patient_count == acu_experiment.occupancy"
   ]
  },
  {
   "cell_type": "code",
   "execution_count": null,
   "id": "7f43765e-a4a9-4df3-8592-ed10ab354be2",
   "metadata": {},
   "outputs": [],
   "source": [
    "result = ev_test_3(M)"
   ]
  },
  {
   "cell_type": "code",
   "execution_count": null,
   "id": "c19a1d5e-573e-4d29-a45c-c453978b7273",
   "metadata": {},
   "outputs": [],
   "source": [
    "result"
   ]
  },
  {
   "cell_type": "markdown",
   "id": "77675bb5-5c74-41f1-827e-7531545c7212",
   "metadata": {},
   "source": [
    "### Extreme value test 4\n",
    "\n",
    "* An experiment is setup so that all patient types other than stroke->rehab have a mean length of stay on the ASU of $M$\n",
    "\n",
    "**Result: PASS**"
   ]
  },
  {
   "cell_type": "code",
   "execution_count": null,
   "id": "83ffacff-be4f-43ad-9995-30eeeeb96d1c",
   "metadata": {},
   "outputs": [],
   "source": [
    "def ev_test_4(large_number):\n",
    "    '''\n",
    "    All patient types apart from stroke-rehab patients\n",
    "    have have their mean length \n",
    "    of stay time set to $M$ a very large number\n",
    "    \n",
    "    Expected result: Only stroke patients depart the\n",
    "    model.\n",
    "    (assed by viewing  log and patient_count > occupancy)\n",
    "\n",
    "    Params:\n",
    "    -------\n",
    "    large_number: int\n",
    "        M a very large number \n",
    "    '''\n",
    "    # Create the simulation environment\n",
    "    env = simpy.Environment()\n",
    "    \n",
    "    # Initialize the Acute Stroke Unit model#\n",
    "    # set ASU arrival rates\n",
    "    default_experiment_params = Experiment(\n",
    "        rehab_mean=7.4,  # stroke->rehab\n",
    "        esd_mean=M,    # stroke-> ESD\n",
    "        other_dest_mean=M, # stroke->other\n",
    "        tia_dest_mean=M,   # TIA patients\n",
    "        neuro_dest_mean=M, # complex neuro patients\n",
    "        other_dest_mean_2=M, # other (med outlier) patients\n",
    "        trace=False,\n",
    "    )\n",
    "\n",
    "    # modified iteration 19. \n",
    "    # add RU, but do not run the model\n",
    "    rehab_unit = RehabilitationUnit(env, default_experiment_params)\n",
    "    \n",
    "    acu_experiment = AcuteStrokeUnit(env, default_experiment_params, rehab_unit)\n",
    "    \n",
    "    # Start the patient generators for each type of patient\n",
    "    env.process(acu_experiment.stroke_patient_generator())\n",
    "    env.process(acu_experiment.tia_patient_generator())\n",
    "    env.process(acu_experiment.neuro_patient_generator())\n",
    "    env.process(acu_experiment.other_patient_generator())\n",
    "    \n",
    "    # Run the simulation until the specified run length in the Experiment parameters\n",
    "    env.run(until=default_experiment_params.run_length)\n",
    "\n",
    "    print(f'{acu_experiment.patient_count=}')\n",
    "    print(f'{acu_experiment.occupancy=}')\n",
    "    \n",
    "    return acu_experiment.patient_count > acu_experiment.occupancy"
   ]
  },
  {
   "cell_type": "code",
   "execution_count": null,
   "id": "b4569b66-2aa9-419b-b912-a81205ce2892",
   "metadata": {},
   "outputs": [],
   "source": [
    "results = ev_test_4(M)"
   ]
  },
  {
   "cell_type": "code",
   "execution_count": null,
   "id": "42105453-74eb-4b50-b358-cb684cab9815",
   "metadata": {},
   "outputs": [],
   "source": [
    "results"
   ]
  },
  {
   "cell_type": "markdown",
   "id": "adfc0b22-ea8f-4ed4-b9b2-f657d7f08c43",
   "metadata": {},
   "source": [
    "### Extreme value test 5\n",
    "\n",
    "Only stroke arrivals to the Rehab unit\n",
    "\n",
    "(PASS)"
   ]
  },
  {
   "cell_type": "code",
   "execution_count": null,
   "id": "eef10b85-bbf4-4efd-a11f-6f1d460bc38d",
   "metadata": {},
   "outputs": [],
   "source": [
    "def ev_test_5(large_number):\n",
    "    '''\n",
    "    Complex Neuro, Other, have their rehab inter-arrival \n",
    "    time is set to $M$ a very large number\n",
    "    \n",
    "    Expected result: The only type of patient to arrive to the rehab model \n",
    "    is \"Stroke\". This is verified by the patient counts variables in the model.\n",
    "\n",
    "    Notes:\n",
    "    ------\n",
    "    This test will need to be modified when the hardcoded parameters\n",
    "    are migrated to the Experiment class. \n",
    "\n",
    "    Params:\n",
    "    -------\n",
    "    large_number: int\n",
    "        M a very large number \n",
    "\n",
    "    Returns:\n",
    "    --------\n",
    "    bool: rehab_unit.stroke_count == rehab_unit.patient_count\n",
    "    '''\n",
    "    # Create the simulation environment\n",
    "    env = simpy.Environment()\n",
    "    \n",
    "    # set Rehab arrival rates\n",
    "    default_experiment_params = Experiment(\n",
    "        rehab_neuro_iat = large_number,\n",
    "        rehab_other_iat = large_number,\n",
    "    )\n",
    "    \n",
    "    # this will be need to be modified in subsequent iterations\n",
    "    rehab_unit = RehabilitationUnit(env, default_experiment_params)\n",
    "        \n",
    "    # Start the patient generators for each type of patient in the RehabilitationUnit instance\n",
    "    env.process(rehab_unit.stroke_patient_generator())\n",
    "    env.process(rehab_unit.neuro_patient_generator())\n",
    "    env.process(rehab_unit.other_patient_generator())\n",
    "        \n",
    "    # Run the simulation until the specified run length\n",
    "    env.run(until=1825)\n",
    "\n",
    "    # print out stats collected\n",
    "    print(f'{rehab_unit.patient_count=}')\n",
    "    print(f'{rehab_unit.stroke_count=}')\n",
    "    print(f'{rehab_unit.neuro_count=}')\n",
    "    print(f'{rehab_unit.other_count=}')\n",
    "    \n",
    "    return rehab_unit.stroke_count == rehab_unit.patient_count"
   ]
  },
  {
   "cell_type": "code",
   "execution_count": null,
   "id": "db9b5fdc-567f-4201-9f6f-335a3b9d9644",
   "metadata": {},
   "outputs": [],
   "source": [
    "ev_test_5(M)"
   ]
  },
  {
   "cell_type": "markdown",
   "id": "59b17f74-6d6a-4c23-80cb-4f65f43febb6",
   "metadata": {},
   "source": [
    "### Extreme Value test 6\n",
    "\n",
    "No arrivals to the rehab unit.\n",
    "\n",
    "(PASS)"
   ]
  },
  {
   "cell_type": "code",
   "execution_count": null,
   "id": "803f5d60-6493-4398-96e6-f7cc64846cd4",
   "metadata": {},
   "outputs": [],
   "source": [
    "def ev_test_6(large_number):\n",
    "    '''\n",
    "    All patient types have their REHAN inter-arrival \n",
    "    time is set to $M$ a very large number\n",
    "    \n",
    "    Expected result: No patients arrive to the model\n",
    "    This is verified by the patient count variables in the model.\n",
    "\n",
    "    Params:\n",
    "    -------\n",
    "    large_number: int\n",
    "        M a very large number \n",
    "\n",
    "    Returns:\n",
    "    --------\n",
    "    bool:rehab_unit.patient_count == 0\n",
    "    '''\n",
    "    # Create the simulation environment\n",
    "    env = simpy.Environment()\n",
    "    \n",
    "    # set Rehab arrival rates\n",
    "    default_experiment_params = Experiment(\n",
    "        rehab_stroke_iat = large_number,\n",
    "        rehab_neuro_iat = large_number,\n",
    "        rehab_other_iat = large_number,\n",
    "    )\n",
    "    \n",
    "    # this will be need to be modified in subsequent iterations\n",
    "    rehab_unit = RehabilitationUnit(env, default_experiment_params)\n",
    "    \n",
    "    # Start the patient generators for each type of patient in the RehabilitationUnit instance\n",
    "    env.process(rehab_unit.stroke_patient_generator())\n",
    "    env.process(rehab_unit.neuro_patient_generator())\n",
    "    env.process(rehab_unit.other_patient_generator())\n",
    "        \n",
    "    # Run the simulation until the specified run length\n",
    "    env.run(until=1825)\n",
    "\n",
    "    # print out stats collected\n",
    "    print(f'{rehab_unit.patient_count=}')\n",
    "    print(f'{rehab_unit.stroke_count=}')\n",
    "    print(f'{rehab_unit.neuro_count=}')\n",
    "    print(f'{rehab_unit.other_count=}')\n",
    "    print(f'{rehab_unit.occupancy=}')\n",
    "    \n",
    "    return rehab_unit.patient_count == 0"
   ]
  },
  {
   "cell_type": "code",
   "execution_count": null,
   "id": "a8610a2e-040c-4302-8d67-84c71721e285",
   "metadata": {},
   "outputs": [],
   "source": [
    "ev_test_6(M)"
   ]
  },
  {
   "cell_type": "markdown",
   "id": "9aa8476d-b6fe-4859-987a-afb605af9182",
   "metadata": {},
   "source": [
    "### Extreme value test 7\n",
    "\n",
    "In the rehab model, all patient types have their length of stay means set to $M$ a very larger number.\n",
    "\n",
    "(PASS)"
   ]
  },
  {
   "cell_type": "code",
   "execution_count": null,
   "id": "69d6a721-99d6-45dc-b502-c3f6f2031c63",
   "metadata": {},
   "outputs": [],
   "source": [
    "def ev_test_7(large_number):\n",
    "    '''\n",
    "    All patient types have have their mean length \n",
    "    of stay time in REHAB set to $M$ a very large number\n",
    "    \n",
    "    Expected result: No patients depart the rehab model \n",
    "    The occupancy of the model is equal to the no. patient arrivals\n",
    "    \n",
    "    Notes:\n",
    "    -----\n",
    "    This test will also need to be modified when TIA treatment is added\n",
    "    and tested when working in connection with the ASU.\n",
    "\n",
    "    Params:\n",
    "    -------\n",
    "    large_number: int\n",
    "        M a very large number \n",
    "    '''\n",
    "    # Create the simulation environment\n",
    "    env = simpy.Environment()\n",
    "    \n",
    "    # Initialize the Acute Stroke Unit model#\n",
    "    # set ASU arrival rates\n",
    "    default_experiment_params = Experiment(\n",
    "        rehab_stroke_esd_mean=large_number, # stroke->ESD\n",
    "        rehab_stroke_other_mean=large_number, # stroke->other\n",
    "        rehab_neuro_mean=large_number, # complex neuro\n",
    "        rehab_other_mean=large_number, # other patients.\n",
    "        trace=False,   \n",
    "    )\n",
    "\n",
    "    # this will be need to be modified in subsequent iterations\n",
    "    rehab_unit = RehabilitationUnit(env, default_experiment_params)\n",
    "    \n",
    "    # Start the patient generators for each type of patient in the instance\n",
    "    env.process(rehab_unit.stroke_patient_generator())\n",
    "    env.process(rehab_unit.neuro_patient_generator())\n",
    "    env.process(rehab_unit.other_patient_generator())\n",
    "        \n",
    "    # Run the simulation until the specified run length\n",
    "    env.run(until=100)\n",
    "\n",
    "    # print out stats collected\n",
    "    print(f'{rehab_unit.patient_count=}')\n",
    "    print(f'{rehab_unit.stroke_count=}')\n",
    "    print(f'{rehab_unit.neuro_count=}')\n",
    "    print(f'{rehab_unit.other_count=}')\n",
    "    print(f'{rehab_unit.occupancy=}')\n",
    "    \n",
    "    return rehab_unit.patient_count == rehab_unit.occupancy"
   ]
  },
  {
   "cell_type": "code",
   "execution_count": null,
   "id": "af415276-e33d-4ed0-b25c-a621979c9c5c",
   "metadata": {},
   "outputs": [],
   "source": [
    "ev_test_7(M)"
   ]
  },
  {
   "cell_type": "markdown",
   "id": "5a0a6f7e-ae8f-4d59-8363-a74de2b7d830",
   "metadata": {},
   "source": [
    "### Extreme value test 8 (SYSTEM TEST)\n",
    "\n",
    "Set all inter-arrival times - asu and rehab to $M$. Where $M$ is a very large number."
   ]
  },
  {
   "cell_type": "code",
   "execution_count": null,
   "id": "10674681-3a29-4a95-9ae9-d93a23c94810",
   "metadata": {},
   "outputs": [],
   "source": [
    "def ev_test_8(large_number):\n",
    "    '''\n",
    "    All patient types have their AUS and REHAB inter-arrival \n",
    "    time is set to $M$ a very large number\n",
    "    \n",
    "    Expected result: No patients arrive to the model\n",
    "    This is verified by the patient count variables in the model.\n",
    "\n",
    "    Params:\n",
    "    -------\n",
    "    large_number: int\n",
    "        M a very large number \n",
    "\n",
    "    Returns:\n",
    "    --------\n",
    "    bool:rehab_unit.patient_count == 0 and asu.patient_count == 0\n",
    "    '''\n",
    "    # Create the simulation environment\n",
    "    env = simpy.Environment()\n",
    "    \n",
    "    # set Rehab arrival rates\n",
    "    default_experiment_params = Experiment(\n",
    "        stroke_mean=large_number,\n",
    "        tia_mean=large_number,\n",
    "        neuro_mean=large_number,\n",
    "        other_mean=large_number,\n",
    "        rehab_stroke_iat = large_number,\n",
    "        rehab_neuro_iat = large_number,\n",
    "        rehab_other_iat = large_number,\n",
    "    )\n",
    "    \n",
    "    # create models\n",
    "    rehab_unit = RehabilitationUnit(env, default_experiment_params)\n",
    "    acu_experiment = AcuteStrokeUnit(env, default_experiment_params, rehab_unit)\n",
    "    \n",
    "    # Start the ASU patient generators for each type of patient\n",
    "    env.process(acu_experiment.stroke_patient_generator())\n",
    "    env.process(acu_experiment.tia_patient_generator())\n",
    "    env.process(acu_experiment.neuro_patient_generator())\n",
    "    env.process(acu_experiment.other_patient_generator())\n",
    "\n",
    "    # Initialize the pREHAB atient generators as simpy processes\n",
    "    env.process(rehab_unit.stroke_patient_generator())\n",
    "    env.process(rehab_unit.neuro_patient_generator())\n",
    "    env.process(rehab_unit.other_patient_generator())  \n",
    "\n",
    "    # no optional data collection needed in this test\n",
    "    \n",
    "    # Run the simulation until the specified run length in the Experiment parameters\n",
    "    env.run(until=default_experiment_params.run_length)\n",
    "\n",
    "    # print out stats collected\n",
    "    print(f'{acu_experiment.patient_count=}')\n",
    "    print(f'{rehab_unit.patient_count=}')\n",
    "    print(f'{rehab_unit.stroke_count=}')\n",
    "    print(f'{rehab_unit.neuro_count=}')\n",
    "    print(f'{rehab_unit.other_count=}')\n",
    "    print(f'{rehab_unit.occupancy=}')\n",
    "    \n",
    "    return rehab_unit.patient_count == 0 and acu_experiment.patient_count== 0"
   ]
  },
  {
   "cell_type": "code",
   "execution_count": null,
   "id": "6047fdb7-8c81-4e89-b441-5378392f8aa0",
   "metadata": {},
   "outputs": [],
   "source": [
    "ev_test_8(M)"
   ]
  }
 ],
 "metadata": {
  "kernelspec": {
   "display_name": "Python 3 (ipykernel)",
   "language": "python",
   "name": "python3"
  },
  "language_info": {
   "codemirror_mode": {
    "name": "ipython",
    "version": 3
   },
   "file_extension": ".py",
   "mimetype": "text/x-python",
   "name": "python",
   "nbconvert_exporter": "python",
   "pygments_lexer": "ipython3",
   "version": "3.10.13"
  }
 },
 "nbformat": 4,
 "nbformat_minor": 5
}

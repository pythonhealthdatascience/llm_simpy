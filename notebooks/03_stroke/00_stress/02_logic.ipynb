{
 "cells": [
  {
   "cell_type": "markdown",
   "id": "b8c2b71b",
   "metadata": {},
   "source": [
    "# 2. Model logic\n",
    "\n",
    "## 2.1 Base model overview diagram\n",
    "\n",
    "```{figure} ../../../images/stroke_rehab_design.png\n",
    "---\n",
    "name: stroke_fig\n",
    "---\n",
    "Logic diagram for design of Stroke-Rehab Model\n",
    "```\n",
    "\n",
    "## 2.2 Base model logic\n",
    "\n",
    "The model allows users to specify a population of stroke, transient ischaemic attack (TIA; or mini-stroke), complex neurological, and other patient types that use acute and rehabilitation services. The patient classes have their own external inter-arrival distributions to acute and rehabilitation services, transfer probabilities between services and length of stay distributions (where first sub division occurs to model ESD versus non-ESD patients). The model takes an infinite capacity approach to capacity planning and estimates the probability of delay. A warm-up period and multiple replications are employed. The ESD modelling is not documented in the article we therefore chose to simplify the design and focus on the acute stroke and rehabilitation units; although we aimed for model setup to be simple to extend for ESD capacity modelling.\n",
    "\n",
    "## 2.3 Scenario logic\n",
    "\n",
    "Only a single scenario is included in this recreation experiment.  To recreate the original paper's increased demand scenarios the inter-arrival times could be increased in the `Experiment` class.  \n",
    "\n",
    "## 2.4 Algorithms\n",
    "\n",
    "There are no algorithms used in this model."
   ]
  },
  {
   "cell_type": "markdown",
   "id": "73611dd0",
   "metadata": {
    "jp-MarkdownHeadingCollapsed": true
   },
   "source": [
    "## 2.4 Components\n",
    "\n",
    "### Entities (arrival names in model)\n",
    "\n",
    "* Stroke\n",
    "* Transient Ischemic Attack (TIA - minor strokes with rapidly resolving symptoms)\n",
    "* Complex Neurological\n",
    "* Other (including medical outliers)\n",
    "\n",
    "### ASU Treatment Activites\n",
    "\n",
    "* Stroke patients who are eligible for Early Supported Discharge\n",
    "* Stroke patients who are **NOT** eligible for Early Supported Discharge\n",
    "* TIA\n",
    "* Other\n",
    "\n",
    "### Rehab Treatment Activites\n",
    "\n",
    "* Stroke patients who are eligible for Early Supported Discharge\n",
    "* Stroke patients who are **NOT** eligible for Early Supported Discharge\n",
    "* TIA\n",
    "* Other\n",
    "\n",
    "### Resources (base number)\n",
    "\n",
    "* ASU beds (infinite)\n",
    "* Rehab beds (infinite)\n",
    "\n",
    "### Queues\n",
    "\n",
    "* None\n",
    "\n",
    "### Entry/exit points\n",
    "\n",
    "* Each patient class has an ASU arrival process with its own distribution and parameters\n",
    "* A proportion of ASU patients exit the model after acute treatment is complete.\n",
    "* Stroke, Complex Neurological and Other patients have an additional external Rehab arrival process with its own distribution and parameters.\n",
    "* All rehab patients exit the model when rehab is completed.\n"
   ]
  }
 ],
 "metadata": {
  "kernelspec": {
   "display_name": "Python 3 (ipykernel)",
   "language": "python",
   "name": "python3"
  },
  "language_info": {
   "codemirror_mode": {
    "name": "ipython",
    "version": 3
   },
   "file_extension": ".py",
   "mimetype": "text/x-python",
   "name": "python",
   "nbconvert_exporter": "python",
   "pygments_lexer": "ipython3",
   "version": "3.10.13"
  }
 },
 "nbformat": 4,
 "nbformat_minor": 5
}

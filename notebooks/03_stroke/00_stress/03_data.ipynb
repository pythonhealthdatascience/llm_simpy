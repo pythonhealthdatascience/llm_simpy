{
 "cells": [
  {
   "cell_type": "markdown",
   "id": "d4273cfd",
   "metadata": {},
   "source": [
    "# 3. Data\n",
    "\n",
    "## 3.1. Data sources\n",
    "\n",
    "All data is sourced from the [2016 publication in the Health Services Research](https://doi.org/10.1186/s12913-016-1789-4):\n",
    "\n",
    "> Monks T, Worthington D, Allen M, Pitt M, Stein K, James MA. A modelling tool for capacity planning in acute and community stroke services. BMC Health Serv Res. 2016 Sep 29;16(1):530. doi: 10.1186/s12913-016-1789-4. PMID: 27688152; PMCID: PMC5043535.\n",
    "\n",
    "## 3.2 Pre-processing\n",
    "\n",
    "No additional pre-processing of data was undertaken.  This was conducted in the original study.\n",
    "\n",
    "## 3.3. Input parameters\n",
    "\n"
   ]
  },
  {
   "cell_type": "markdown",
   "id": "eccc52f6",
   "metadata": {},
   "source": [
    "## Sampling distributions\n",
    "\n",
    "All distributions are reported in the original paper. We did not make any additional assumptions.\n",
    "\n",
    "### Arrivals and length of stay parameters\n",
    "\n",
    "> In the table below ESD stands for Early Supported Discharge\n",
    "\n",
    "| Activity                                            | Distribution                  |\n",
    "|-----------------------------------------------------|-------------------------------|\n",
    "| ASU Arrivals: Stroke                     | Exponential(1.2 days)              |\n",
    "| ASU Arrivals: TIA                        | Exponential(9.3 days)      |\n",
    "| ASU Arrivals: Complex Neuro                         | Exponential(3.6 days)       |\n",
    "| ASU Arrivals: Other                                     | Exponential(3.2 days)             |\n",
    "| Rehab Arrivals: Stroke                         | Exponential(21.8 days) |\n",
    "| Rehab Arrivals: Complex Neuro                         | Exponential(31.7 days) |\n",
    "| Rehab Arrivals: Other                         | Exponential(28.6 days) |\n",
    "| ASU Length of Stay: Stroke No ESD              | LogNormal(mean=7.4, sd=8.61)              |\n",
    "| ASU Length of Stay: Stroke ESD              | LogNormal(mean=4.6, sd=4.8)              |\n",
    "| ASU Length of Stay: TIA              | LogNormal(mean=1.8, sd=2.3)              |\n",
    "| ASU Length of Stay: Complex Neuro              | LogNormal(mean=4.0, sd=5.0)              |\n",
    "| ASU Length of Stay: Other             | LogNormal(mean=3.8, sd=5.2)              |\n",
    "| Rehab Length of Stay: Stroke No ESD              | LogNormal(mean=28.4, sd=27.2)              |\n",
    "| Rehab Length of Stay: Stroke ESD              | LogNormal(mean=30.3, sd=23.1)              |\n",
    "| Rehab Length of Stay: TIA              | LogNormal(mean=18.7, sd=23.5)              |\n",
    "| Rehab Length of Stay: Complex Neuro              | LogNormal(mean=27.6, sd=28.4)              |\n",
    "| Rehab Length of Stay: Other             | LogNormal(mean=16.1, sd=14.1)              |\n",
    "\n",
    "\n",
    "### Patient routing out of ASU\n",
    "\n",
    "A discrete distribution was used for each patient type with the following probabilities:\n",
    "\n",
    "| Destination | Stroke | TIA | Complex Neuro | Other |\n",
    "|-------------|--------|-----|---------------|-------|\n",
    "| Rehab       | 24%    | 1%  | 11%           | 5%    |\n",
    "| ESD         | 13%    | 1%  | 5%            | 10%   |\n",
    "| Other       | 63%    | 98% | 84%           | 85%   |\n",
    "\n",
    "\n",
    "### Patient routing out of Rehab\n",
    "\n",
    "A discrete distribution was used for each patient type with the following probabilities:\n",
    "\n",
    "| Destination | Stroke | TIA  | Complex Neuro | Other |\n",
    "|-------------|--------|------|---------------|-------|\n",
    "| ESD         | 40%    | 0%   | 9%            | 13%   |\n",
    "| Other       | 60%    | 100% | 91%           | 88%   |"
   ]
  },
  {
   "cell_type": "markdown",
   "id": "2c9a0115",
   "metadata": {},
   "source": [
    "### 3.4 Assumptions and simplifications\n",
    "\n",
    "* Monks et al. report that the model can be used to report results for ESD probability of delay and capacity. No data are given for Length of stay in this service. Therefore we simplified the model to use ESD as an exit point. "
   ]
  }
 ],
 "metadata": {
  "kernelspec": {
   "display_name": "Python 3 (ipykernel)",
   "language": "python",
   "name": "python3"
  },
  "language_info": {
   "codemirror_mode": {
    "name": "ipython",
    "version": 3
   },
   "file_extension": ".py",
   "mimetype": "text/x-python",
   "name": "python",
   "nbconvert_exporter": "python",
   "pygments_lexer": "ipython3",
   "version": "3.10.13"
  }
 },
 "nbformat": 4,
 "nbformat_minor": 5
}

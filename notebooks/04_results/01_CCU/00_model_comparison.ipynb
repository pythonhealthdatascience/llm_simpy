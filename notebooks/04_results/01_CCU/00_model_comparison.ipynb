{
 "cells": [
  {
   "cell_type": "markdown",
   "id": "73bdb0ff-3c46-4975-bc88-37fbf72a6e6a",
   "metadata": {},
   "source": [
    "# CCU models"
   ]
  },
  {
   "cell_type": "code",
   "execution_count": 1,
   "id": "dd8b392e-9a99-4333-a6ca-fe6cd173863d",
   "metadata": {},
   "outputs": [],
   "source": [
    "import pandas as pd\n",
    "import numpy as np"
   ]
  },
  {
   "cell_type": "markdown",
   "id": "49ab641d-4d8d-4fa6-8123-2ef096b8bc9f",
   "metadata": {},
   "source": [
    "###  Model outputs\n",
    "\n",
    "The results of the two generated simulations models were identical to 2 decimal places. The results for stage 1 and stage 2 models are reported below in Table 1. The table show the 4 performance measures in the design and how these vary across six experiments with the model.\n",
    "\n",
    "The model results did not replicate those reported in Griffith's et al; or results have a higher arrival rate overall and higher occupancy of the CCU.  The explanation would appear to be that we did not have access to information about the empirical distributions used for elective patients in the original article."
   ]
  },
  {
   "cell_type": "code",
   "execution_count": 2,
   "id": "a737d24e-6cfc-4a4b-ab28-9348cdba8b9b",
   "metadata": {},
   "outputs": [
    {
     "data": {
      "text/html": [
       "<style type=\"text/css\">\n",
       "</style>\n",
       "<table id=\"T_bf798\">\n",
       "  <caption>Table 1: Comparison of critical care model outputs: stage 1 versus stage 2 (internal replication). Figures are mean (sd).</caption>\n",
       "  <thead>\n",
       "    <tr>\n",
       "      <th class=\"blank\" >&nbsp;</th>\n",
       "      <th class=\"blank level0\" >&nbsp;</th>\n",
       "      <th id=\"T_bf798_level0_col0\" class=\"col_heading level0 col0\" >23 beds</th>\n",
       "      <th id=\"T_bf798_level0_col1\" class=\"col_heading level0 col1\" >24 beds</th>\n",
       "      <th id=\"T_bf798_level0_col2\" class=\"col_heading level0 col2\" >25 beds</th>\n",
       "      <th id=\"T_bf798_level0_col3\" class=\"col_heading level0 col3\" >26 beds</th>\n",
       "      <th id=\"T_bf798_level0_col4\" class=\"col_heading level0 col4\" >27 beds</th>\n",
       "      <th id=\"T_bf798_level0_col5\" class=\"col_heading level0 col5\" >28 beds</th>\n",
       "    </tr>\n",
       "    <tr>\n",
       "      <th class=\"index_name level0\" >Study Stage</th>\n",
       "      <th class=\"index_name level1\" >metric</th>\n",
       "      <th class=\"blank col0\" >&nbsp;</th>\n",
       "      <th class=\"blank col1\" >&nbsp;</th>\n",
       "      <th class=\"blank col2\" >&nbsp;</th>\n",
       "      <th class=\"blank col3\" >&nbsp;</th>\n",
       "      <th class=\"blank col4\" >&nbsp;</th>\n",
       "      <th class=\"blank col5\" >&nbsp;</th>\n",
       "    </tr>\n",
       "  </thead>\n",
       "  <tbody>\n",
       "    <tr>\n",
       "      <th id=\"T_bf798_level0_row0\" class=\"row_heading level0 row0\" rowspan=\"5\">Stage 1</th>\n",
       "      <th id=\"T_bf798_level1_row0\" class=\"row_heading level1 row0\" >0. Patient Count</th>\n",
       "      <td id=\"T_bf798_row0_col0\" class=\"data row0 col0\" >1,650.4 (17.83)</td>\n",
       "      <td id=\"T_bf798_row0_col1\" class=\"data row0 col1\" >1,650.4 (17.83)</td>\n",
       "      <td id=\"T_bf798_row0_col2\" class=\"data row0 col2\" >1,650.4 (17.83)</td>\n",
       "      <td id=\"T_bf798_row0_col3\" class=\"data row0 col3\" >1,650.4 (17.83)</td>\n",
       "      <td id=\"T_bf798_row0_col4\" class=\"data row0 col4\" >1,650.4 (17.83)</td>\n",
       "      <td id=\"T_bf798_row0_col5\" class=\"data row0 col5\" >1,650.4 (17.83)</td>\n",
       "    </tr>\n",
       "    <tr>\n",
       "      <th id=\"T_bf798_level1_row1\" class=\"row_heading level1 row1\" >1. Cancelled Elective Operations</th>\n",
       "      <td id=\"T_bf798_row1_col0\" class=\"data row1 col0\" >390.6 (30.57)</td>\n",
       "      <td id=\"T_bf798_row1_col1\" class=\"data row1 col1\" >337.8 (38.75)</td>\n",
       "      <td id=\"T_bf798_row1_col2\" class=\"data row1 col2\" >279.0 (39.13)</td>\n",
       "      <td id=\"T_bf798_row1_col3\" class=\"data row1 col3\" >231.4 (33.83)</td>\n",
       "      <td id=\"T_bf798_row1_col4\" class=\"data row1 col4\" >178.4 (32.46)</td>\n",
       "      <td id=\"T_bf798_row1_col5\" class=\"data row1 col5\" >139.8 (27.58)</td>\n",
       "    </tr>\n",
       "    <tr>\n",
       "      <th id=\"T_bf798_level1_row2\" class=\"row_heading level1 row2\" >2. Bed Utilization</th>\n",
       "      <td id=\"T_bf798_row2_col0\" class=\"data row2 col0\" >0.9 (0.02)</td>\n",
       "      <td id=\"T_bf798_row2_col1\" class=\"data row2 col1\" >0.9 (0.02)</td>\n",
       "      <td id=\"T_bf798_row2_col2\" class=\"data row2 col2\" >0.9 (0.02)</td>\n",
       "      <td id=\"T_bf798_row2_col3\" class=\"data row2 col3\" >0.9 (0.02)</td>\n",
       "      <td id=\"T_bf798_row2_col4\" class=\"data row2 col4\" >0.8 (0.02)</td>\n",
       "      <td id=\"T_bf798_row2_col5\" class=\"data row2 col5\" >0.8 (0.02)</td>\n",
       "    </tr>\n",
       "    <tr>\n",
       "      <th id=\"T_bf798_level1_row3\" class=\"row_heading level1 row3\" >3. Bed Occupancy</th>\n",
       "      <td id=\"T_bf798_row3_col0\" class=\"data row3 col0\" >21.3 (0.49)</td>\n",
       "      <td id=\"T_bf798_row3_col1\" class=\"data row3 col1\" >21.8 (0.50)</td>\n",
       "      <td id=\"T_bf798_row3_col2\" class=\"data row3 col2\" >22.3 (0.54)</td>\n",
       "      <td id=\"T_bf798_row3_col3\" class=\"data row3 col3\" >22.6 (0.56)</td>\n",
       "      <td id=\"T_bf798_row3_col4\" class=\"data row3 col4\" >23.0 (0.58)</td>\n",
       "      <td id=\"T_bf798_row3_col5\" class=\"data row3 col5\" >23.3 (0.62)</td>\n",
       "    </tr>\n",
       "    <tr>\n",
       "      <th id=\"T_bf798_level1_row4\" class=\"row_heading level1 row4\" >4. Mean Unplanned Admission Waiting Time (hours)</th>\n",
       "      <td id=\"T_bf798_row4_col0\" class=\"data row4 col0\" >103.8 (72.08)</td>\n",
       "      <td id=\"T_bf798_row4_col1\" class=\"data row4 col1\" >62.5 (55.23)</td>\n",
       "      <td id=\"T_bf798_row4_col2\" class=\"data row4 col2\" >35.0 (29.28)</td>\n",
       "      <td id=\"T_bf798_row4_col3\" class=\"data row4 col3\" >20.8 (15.59)</td>\n",
       "      <td id=\"T_bf798_row4_col4\" class=\"data row4 col4\" >12.0 (7.66)</td>\n",
       "      <td id=\"T_bf798_row4_col5\" class=\"data row4 col5\" >7.0 (3.76)</td>\n",
       "    </tr>\n",
       "    <tr>\n",
       "      <th id=\"T_bf798_level0_row5\" class=\"row_heading level0 row5\" rowspan=\"5\">Stage 2</th>\n",
       "      <th id=\"T_bf798_level1_row5\" class=\"row_heading level1 row5\" >0. Patient Count</th>\n",
       "      <td id=\"T_bf798_row5_col0\" class=\"data row5 col0\" >1,650.4 (17.83)</td>\n",
       "      <td id=\"T_bf798_row5_col1\" class=\"data row5 col1\" >1,650.4 (17.83)</td>\n",
       "      <td id=\"T_bf798_row5_col2\" class=\"data row5 col2\" >1,650.4 (17.83)</td>\n",
       "      <td id=\"T_bf798_row5_col3\" class=\"data row5 col3\" >1,650.4 (17.83)</td>\n",
       "      <td id=\"T_bf798_row5_col4\" class=\"data row5 col4\" >1,650.4 (17.83)</td>\n",
       "      <td id=\"T_bf798_row5_col5\" class=\"data row5 col5\" >1,650.4 (17.83)</td>\n",
       "    </tr>\n",
       "    <tr>\n",
       "      <th id=\"T_bf798_level1_row6\" class=\"row_heading level1 row6\" >1. Cancelled Elective Operations</th>\n",
       "      <td id=\"T_bf798_row6_col0\" class=\"data row6 col0\" >390.6 (30.57)</td>\n",
       "      <td id=\"T_bf798_row6_col1\" class=\"data row6 col1\" >337.8 (38.75)</td>\n",
       "      <td id=\"T_bf798_row6_col2\" class=\"data row6 col2\" >279.0 (39.13)</td>\n",
       "      <td id=\"T_bf798_row6_col3\" class=\"data row6 col3\" >231.4 (33.83)</td>\n",
       "      <td id=\"T_bf798_row6_col4\" class=\"data row6 col4\" >178.4 (32.46)</td>\n",
       "      <td id=\"T_bf798_row6_col5\" class=\"data row6 col5\" >139.8 (27.58)</td>\n",
       "    </tr>\n",
       "    <tr>\n",
       "      <th id=\"T_bf798_level1_row7\" class=\"row_heading level1 row7\" >2. Bed Utilization</th>\n",
       "      <td id=\"T_bf798_row7_col0\" class=\"data row7 col0\" >0.9 (0.02)</td>\n",
       "      <td id=\"T_bf798_row7_col1\" class=\"data row7 col1\" >0.9 (0.02)</td>\n",
       "      <td id=\"T_bf798_row7_col2\" class=\"data row7 col2\" >0.9 (0.02)</td>\n",
       "      <td id=\"T_bf798_row7_col3\" class=\"data row7 col3\" >0.9 (0.02)</td>\n",
       "      <td id=\"T_bf798_row7_col4\" class=\"data row7 col4\" >0.8 (0.02)</td>\n",
       "      <td id=\"T_bf798_row7_col5\" class=\"data row7 col5\" >0.8 (0.02)</td>\n",
       "    </tr>\n",
       "    <tr>\n",
       "      <th id=\"T_bf798_level1_row8\" class=\"row_heading level1 row8\" >3. Bed Occupancy</th>\n",
       "      <td id=\"T_bf798_row8_col0\" class=\"data row8 col0\" >21.3 (0.49)</td>\n",
       "      <td id=\"T_bf798_row8_col1\" class=\"data row8 col1\" >21.8 (0.50)</td>\n",
       "      <td id=\"T_bf798_row8_col2\" class=\"data row8 col2\" >22.3 (0.54)</td>\n",
       "      <td id=\"T_bf798_row8_col3\" class=\"data row8 col3\" >22.6 (0.56)</td>\n",
       "      <td id=\"T_bf798_row8_col4\" class=\"data row8 col4\" >23.0 (0.58)</td>\n",
       "      <td id=\"T_bf798_row8_col5\" class=\"data row8 col5\" >23.3 (0.62)</td>\n",
       "    </tr>\n",
       "    <tr>\n",
       "      <th id=\"T_bf798_level1_row9\" class=\"row_heading level1 row9\" >4. Mean Unplanned Admission Waiting Time (hours)</th>\n",
       "      <td id=\"T_bf798_row9_col0\" class=\"data row9 col0\" >103.8 (72.08)</td>\n",
       "      <td id=\"T_bf798_row9_col1\" class=\"data row9 col1\" >62.5 (55.23)</td>\n",
       "      <td id=\"T_bf798_row9_col2\" class=\"data row9 col2\" >35.0 (29.28)</td>\n",
       "      <td id=\"T_bf798_row9_col3\" class=\"data row9 col3\" >20.8 (15.59)</td>\n",
       "      <td id=\"T_bf798_row9_col4\" class=\"data row9 col4\" >12.0 (7.66)</td>\n",
       "      <td id=\"T_bf798_row9_col5\" class=\"data row9 col5\" >7.0 (3.76)</td>\n",
       "    </tr>\n",
       "  </tbody>\n",
       "</table>\n"
      ],
      "text/plain": [
       "<pandas.io.formats.style.Styler at 0x7839c6ea4ac0>"
      ]
     },
     "execution_count": 2,
     "metadata": {},
     "output_type": "execute_result"
    }
   ],
   "source": [
    "caption = \"Table 1: Comparison of critical care model outputs: stage 1 versus stage 2 \" \\\n",
    "          \"(internal replication). Figures are mean (sd).\"\n",
    "ccu_summary = pd.read_csv(\"ccu_model_comparison.csv\", index_col=['Study Stage', \n",
    "                                                                 'metric'])\n",
    "ccu_summary = ccu_summary.style.set_caption(caption)\n",
    "ccu_summary"
   ]
  },
  {
   "cell_type": "markdown",
   "id": "7c4f6996-2577-47c3-9de3-69460f7d1907",
   "metadata": {},
   "source": [
    "### Model code\n",
    "\n",
    "The final code files from stage 1 and stage 2 (our internal replication) for the critical care unit model and its interface were overall very similar.  Minor differences included naming of variables, functions and classes. Another minor difference was the setup of random number generators for each activity in the model.  However, both approaches in stage 1 and 2 were acceptable.  Disregarding comments and documentation, stage 1 generated a model consisting of 266 line of code and stage 2 generated 360 lines of code.  Both models passed the same batch of 28 verification tests.\n",
    "\n",
    "A more substantial difference is that the stage 2 code is arguably easier to understand for a new user than stage 1 code.  For example, the LLM generated an `Experiment` class where each parameter used in a statistical distribution was implemented as a named variable. For example, the mean inter-arrival times all had a clear variable that could be set. Where-as in stage one code the LLM generated an `Experiment` class where inter-arrival means were set via a list of unnamed parameter values. This increased clarify resulted in more lines of code in stage 2 than stage 1; although we do not consider this a good or bad outcome.  A similar difference in clarity can be seen in the code to convert the mean and standard deviation of a log normal into scale and shape parameters (suitable for the `numpy` lognormal functions).  In stage 2 the logic was (optimally) implemented in a reusable function.  In stage one the conversion logic is coded directly into each process and harder to follow and test.\n",
    "\n"
   ]
  },
  {
   "cell_type": "markdown",
   "id": "55904128-5b1f-479b-8c6f-c373f27dd0ad",
   "metadata": {},
   "source": [
    "### Lines of code data"
   ]
  },
  {
   "cell_type": "code",
   "execution_count": 3,
   "id": "8897e152-9282-4a13-be67-e900ce2183b6",
   "metadata": {},
   "outputs": [
    {
     "name": "stdout",
     "output_type": "stream",
     "text": [
      "266\tPython\t../../02_CCU\t../../02_CCU/ccu_formatted_code.py\n"
     ]
    }
   ],
   "source": [
    "!pygount --suffix=py ../../02_CCU/ccu_formatted_code.py"
   ]
  },
  {
   "cell_type": "code",
   "execution_count": 4,
   "id": "fff78acd-aed3-464a-bb5f-9a098618e346",
   "metadata": {},
   "outputs": [
    {
     "name": "stdout",
     "output_type": "stream",
     "text": [
      "360\tPython\t../../02_CCU\t../../02_CCU/ccu_formatted_code_stage2.py\n"
     ]
    }
   ],
   "source": [
    "!pygount --suffix=py ../../02_CCU/ccu_formatted_code_stage2.py"
   ]
  },
  {
   "cell_type": "markdown",
   "id": "3c0e4c4f-18e8-43e9-8e72-97bb85a80cce",
   "metadata": {},
   "source": [
    "### Prompts\n",
    "\n",
    "In total 22 iterations of the model were used to build the model and interface. In stage 1 this consisted of 26 prompts passed to the LLM. The number of prompts increased to 36 in stage 2. In total 5 of the 10 extra prompts occurred in the first 2 iterations of the model.  Some minor additional prompting was needed to ensure comparable performance measures.  The final iteration of the model was a bug fix that was only relevant to stage 1; therefore stage 2 saved one prompt.  The table below presents 22."
   ]
  },
  {
   "cell_type": "markdown",
   "id": "015dcaae-0a44-456d-9ae4-96579ad28987",
   "metadata": {},
   "source": [
    "| Iteration | Added functionality          | Stage 1 | Stage 2 | Difference |\n",
    "|-----------|------------------------------|---------|---------|------------|\n",
    "| 1         | Unplanned arrivals           | 1       | 4       | 3          |\n",
    "| 2         | Add treatment                | 1       | 3       | 2          |\n",
    "| 3         | Elective patients            | 2       | 2       | 0          |\n",
    "| 4         | Organise input parameters    | 2       | 2       | 0          |\n",
    "| 5         | Add a warm-up period         | 1       | 1       | 0          |\n",
    "| 6         | Elective cancellations (KPI) | 1       | 1       | 0          |\n",
    "| 7         | Bed Utilisation (KPI)        | 2       | 2       | 0          |\n",
    "| 8         | Waiting time (KPI)           | 1       | 2       | 1          |\n",
    "| 9         | Bed occupancy (KPI)          | 1       | 3       | 2          |\n",
    "| 10        | Patient count (KPI)          | 1       | 3       | 2          |\n",
    "| 11        | Multiple replications (1)    | 1       | 1       | 0          |\n",
    "| 12        | Multiple replications (2)    | 1       | 1       | 0          |\n",
    "| 13        | Multiple replications (3)    | 1       | 1       | 0          |\n",
    "| 14        | Summarise results            | 1       | 1       | 0          |\n",
    "| 15        | Common random numbers (1)    | 1       | 1       | 0          |\n",
    "| 16        | Common random numbers (2)    | 1       | 1       | 0          |\n",
    "| 17        | Common random numbers (3)    | 1       | 2       | 1          |\n",
    "| 18        | Common random numbers (4)    | 1       | 1       | 0          |\n",
    "| 19        | Batching experiments         | 1       | 1       | 0          |\n",
    "| 20        | streamlit interface (1)      | 1       | 1       | 0          |\n",
    "| 21        | streamlit interface (2)      | 1       | 1       | 0          |\n",
    "| 22        | streamlit interface (3)      | 1       | 1       | 0          |\n",
    "| 23        | Bug fix                      | 1       | 0       | -1         |\n",
    "|           | **Totals**                       | **26**      | **36**      | **10**         |"
   ]
  },
  {
   "cell_type": "markdown",
   "id": "a80894b1-be95-4b91-8024-d0ee211814f8",
   "metadata": {},
   "source": [
    "## LateX for manuscript\n",
    "\n",
    "> This does include the totals row"
   ]
  },
  {
   "cell_type": "code",
   "execution_count": 38,
   "id": "9fdbe4d9-0428-4a1f-982b-cfedd4d6221b",
   "metadata": {},
   "outputs": [
    {
     "name": "stdout",
     "output_type": "stream",
     "text": [
      "\\begin{table}\n",
      "\\caption{The number of prompts given to the LLM at each iteration of the CCU model).}\n",
      "\\begin{tabular}{llrrr}\n",
      " & Added functionality & Stage 1 & Stage 2 & Difference \\\\\n",
      "Iteration &  &  &  &  \\\\\n",
      "1 & Unplanned arrivals & 1 & 4 & 3 \\\\\n",
      "2 & Add treatment & 1 & 3 & 2 \\\\\n",
      "3 & Elective patients & 2 & 2 & 0 \\\\\n",
      "4 & Organise input parameters & 2 & 2 & 0 \\\\\n",
      "5 & Add a warm-up period & 1 & 1 & 0 \\\\\n",
      "6 & Elective cancellations (KPI) & 1 & 1 & 0 \\\\\n",
      "7 & Bed Utilisation (KPI) & 2 & 2 & 0 \\\\\n",
      "8 & Waiting time (KPI) & 1 & 2 & 1 \\\\\n",
      "9 & Bed occupancy (KPI) & 1 & 3 & 2 \\\\\n",
      "10 & Patient count (KPI) & 1 & 3 & 2 \\\\\n",
      "11 & Multiple replications (1) & 1 & 1 & 0 \\\\\n",
      "12 & Multiple replications (2) & 1 & 1 & 0 \\\\\n",
      "13 & Multiple replications (3) & 1 & 1 & 0 \\\\\n",
      "14 & Summarise results & 1 & 1 & 0 \\\\\n",
      "15 & Common random numbers (1) & 1 & 1 & 0 \\\\\n",
      "16 & Common random numbers (2) & 1 & 1 & 0 \\\\\n",
      "17 & Common random numbers (3) & 1 & 2 & 1 \\\\\n",
      "18 & Common random numbers (4) & 1 & 1 & 0 \\\\\n",
      "19 & Batching experiments & 1 & 1 & 0 \\\\\n",
      "20 & streamlit interface (1) & 1 & 1 & 0 \\\\\n",
      "21 & streamlit interface (2) & 1 & 1 & 0 \\\\\n",
      "22 & streamlit interface (3) & 1 & 1 & 0 \\\\\n",
      "23 & Bug fix & 1 & 0 & -1 \\\\\n",
      "\\end{tabular}\n",
      "\\end{table}\n",
      "\n"
     ]
    }
   ],
   "source": [
    "caption = \"The number of prompts given to the LLM \" \\\n",
    "          + \"at each iteration of the CCU model).\"\n",
    "\n",
    "prompt_results = (\n",
    "    pd.read_csv(\"data/ccu_prompt_table.csv\",\n",
    "                index_col=['Iteration'])\n",
    ")\n",
    "\n",
    "                   \n",
    "print(prompt_results.style.to_latex(caption=caption))"
   ]
  }
 ],
 "metadata": {
  "kernelspec": {
   "display_name": "Python 3 (ipykernel)",
   "language": "python",
   "name": "python3"
  },
  "language_info": {
   "codemirror_mode": {
    "name": "ipython",
    "version": 3
   },
   "file_extension": ".py",
   "mimetype": "text/x-python",
   "name": "python",
   "nbconvert_exporter": "python",
   "pygments_lexer": "ipython3",
   "version": "3.10.13"
  }
 },
 "nbformat": 4,
 "nbformat_minor": 5
}

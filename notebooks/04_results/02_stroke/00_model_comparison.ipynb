{
 "cells": [
  {
   "cell_type": "markdown",
   "id": "73bdb0ff-3c46-4975-bc88-37fbf72a6e6a",
   "metadata": {},
   "source": [
    "# Stroke+Rehab models\n",
    "\n",
    "> This is a work in progress."
   ]
  },
  {
   "cell_type": "code",
   "execution_count": 1,
   "id": "dd8b392e-9a99-4333-a6ca-fe6cd173863d",
   "metadata": {},
   "outputs": [],
   "source": [
    "import pandas as pd\n",
    "import numpy as np"
   ]
  },
  {
   "cell_type": "markdown",
   "id": "49ab641d-4d8d-4fa6-8123-2ef096b8bc9f",
   "metadata": {},
   "source": [
    "###  Model outputs\n",
    "\n",
    "The results of the two generated simulations models were identical to 2 decimal places. The results for stage 1 and stage 2 models are reported below in Table 1. The table show the 4 performance measures in the design and how these vary across six experiments with the model.\n",
    "\n",
    "The model results did not replicate those reported in Griffith's et al; or results have a higher arrival rate overall and higher occupancy of the CCU.  The explanation would appear to be that we did not have access to information about the empirical distributions used for elective patients in the original article."
   ]
  },
  {
   "cell_type": "code",
   "execution_count": 2,
   "id": "a737d24e-6cfc-4a4b-ab28-9348cdba8b9b",
   "metadata": {},
   "outputs": [],
   "source": [
    "caption = \"Table 1: Comparison of stroke capacity planning model outputs: stage 1 versus stage 2 \" \\\n",
    "          \"(internal replication). Figures are mean (sd).\"\n",
    "# ccu_summary = pd.read_csv(\"ccu_model_comparison.csv\", index_col=['Study Stage', \n",
    "#                                                                  'metric'])\n",
    "# ccu_summary = ccu_summary.style.set_caption(caption)\n",
    "# ccu_summary"
   ]
  },
  {
   "cell_type": "markdown",
   "id": "7c4f6996-2577-47c3-9de3-69460f7d1907",
   "metadata": {},
   "source": [
    "### Model code\n",
    "\n",
    "The final code files from stage 1 and stage 2 (our internal replication) for the stroke capacity planning model have some substantial differences.. **To describe**\n",
    "\n",
    "Disregarding comments and documentation, stage 1 generated a simpy model consisting of 436 line of code and stage 2 generated 531 lines of code.  Both models passed the same batch of 34 verification tests.\n",
    "\n",
    "**To-do**: discuss the LLMs design of `Experiment` for stage 2 versus stage 1. Quite different and less fun to setup!  Show code snippets.\n",
    "\n",
    "**To-do**: discuss interface code - this is currenlty not included in code totals.\n",
    "\n",
    "**To-do** Add table describing differences in classes and functions.\n",
    "<!-- ```{list-table} Description of model code components Stage 1 versus Stage 2. (stage 2 inside of brackets)\n",
    ":header-rows: 1\n",
    ":name: ccu_component_comparison\n",
    "\n",
    "* - Component\n",
    "  - Attributes (stage 2)\n",
    "  - Methods/Functions (stage 2)\n",
    "* - **Experiment class**\n",
    "  - 13 (27)\n",
    "  - 3 (2)\n",
    "* - **CCU model logic class**\n",
    "  - 4 (9)\n",
    "  - 10 (12)\n",
    "* - **Functions**\n",
    "  - N/A\n",
    "  - 6 (6)\n",
    "``` -->\n"
   ]
  },
  {
   "cell_type": "markdown",
   "id": "55904128-5b1f-479b-8c6f-c373f27dd0ad",
   "metadata": {},
   "source": [
    "### Lines of code data"
   ]
  },
  {
   "cell_type": "code",
   "execution_count": 3,
   "id": "8897e152-9282-4a13-be67-e900ce2183b6",
   "metadata": {},
   "outputs": [
    {
     "name": "stdout",
     "output_type": "stream",
     "text": [
      "\u001b[2KWorking... \u001b[38;2;114;156;31m━━━━━━━━━━━━━━━━━━━━━━━━━━━━━━━━━━━━━━━━\u001b[0m \u001b[35m100%\u001b[0m \u001b[36m0:00:00\u001b[0m\n",
      "\u001b[1A\u001b[2K┏━━━━━━━━━━┳━━━━━━━┳━━━━━━━┳━━━━━━┳━━━━━━┳━━━━━━━━━┳━━━━━━┓\n",
      "┃\u001b[1m \u001b[0m\u001b[1mLanguage\u001b[0m\u001b[1m \u001b[0m┃\u001b[1m \u001b[0m\u001b[1mFiles\u001b[0m\u001b[1m \u001b[0m┃\u001b[1m \u001b[0m\u001b[1m    %\u001b[0m\u001b[1m \u001b[0m┃\u001b[1m \u001b[0m\u001b[1mCode\u001b[0m\u001b[1m \u001b[0m┃\u001b[1m \u001b[0m\u001b[1m   %\u001b[0m\u001b[1m \u001b[0m┃\u001b[1m \u001b[0m\u001b[1mComment\u001b[0m\u001b[1m \u001b[0m┃\u001b[1m \u001b[0m\u001b[1m   %\u001b[0m\u001b[1m \u001b[0m┃\n",
      "┡━━━━━━━━━━╇━━━━━━━╇━━━━━━━╇━━━━━━╇━━━━━━╇━━━━━━━━━╇━━━━━━┩\n",
      "│ Python   │     1 │ 100.0 │  436 │ 55.2 │     188 │ 23.8 │\n",
      "├──────────┼───────┼───────┼──────┼──────┼─────────┼──────┤\n",
      "│ Sum      │     1 │ 100.0 │  436 │ 55.2 │     188 │ 23.8 │\n",
      "└──────────┴───────┴───────┴──────┴──────┴─────────┴──────┘\n"
     ]
    }
   ],
   "source": [
    "!pygount --suffix=py --format=summary ../../03_stroke/stroke_rehab_model.py"
   ]
  },
  {
   "cell_type": "code",
   "execution_count": 4,
   "id": "f09ac215-9bec-4961-b739-bc65c7f025d0",
   "metadata": {},
   "outputs": [],
   "source": [
    "# code for stroke\n",
    "# !pygount --suffix=py --format=summary ../../03_stroke/stroke_rehab_model.py\n",
    "# !pygount --suffix=py --format=summary ../../03_stroke/stroke_rehab_interface.py"
   ]
  },
  {
   "cell_type": "code",
   "execution_count": 5,
   "id": "fff78acd-aed3-464a-bb5f-9a098618e346",
   "metadata": {},
   "outputs": [
    {
     "name": "stdout",
     "output_type": "stream",
     "text": [
      "\u001b[2KWorking... \u001b[38;2;114;156;31m━━━━━━━━━━━━━━━━━━━━━━━━━━━━━━━━━━━━━━━━\u001b[0m \u001b[35m100%\u001b[0m \u001b[36m0:00:00\u001b[0m\n",
      "\u001b[1A\u001b[2K┏━━━━━━━━━━┳━━━━━━━┳━━━━━━━┳━━━━━━┳━━━━━━┳━━━━━━━━━┳━━━━━┓\n",
      "┃\u001b[1m \u001b[0m\u001b[1mLanguage\u001b[0m\u001b[1m \u001b[0m┃\u001b[1m \u001b[0m\u001b[1mFiles\u001b[0m\u001b[1m \u001b[0m┃\u001b[1m \u001b[0m\u001b[1m    %\u001b[0m\u001b[1m \u001b[0m┃\u001b[1m \u001b[0m\u001b[1mCode\u001b[0m\u001b[1m \u001b[0m┃\u001b[1m \u001b[0m\u001b[1m   %\u001b[0m\u001b[1m \u001b[0m┃\u001b[1m \u001b[0m\u001b[1mComment\u001b[0m\u001b[1m \u001b[0m┃\u001b[1m \u001b[0m\u001b[1m  %\u001b[0m\u001b[1m \u001b[0m┃\n",
      "┡━━━━━━━━━━╇━━━━━━━╇━━━━━━━╇━━━━━━╇━━━━━━╇━━━━━━━━━╇━━━━━┩\n",
      "│ Python   │     1 │ 100.0 │  531 │ 64.6 │      74 │ 9.0 │\n",
      "├──────────┼───────┼───────┼──────┼──────┼─────────┼─────┤\n",
      "│ Sum      │     1 │ 100.0 │  531 │ 64.6 │      74 │ 9.0 │\n",
      "└──────────┴───────┴───────┴──────┴──────┴─────────┴─────┘\n"
     ]
    }
   ],
   "source": [
    "!pygount --suffix=py --format=summary ../../03_stroke/s2_stroke_rehab_model.py"
   ]
  },
  {
   "cell_type": "markdown",
   "id": "3c0e4c4f-18e8-43e9-8e72-97bb85a80cce",
   "metadata": {},
   "source": [
    "### Prompts\n",
    "\n",
    "In total 31 iterations of the model were used to build the model and interface. In stage 1 this consisted of 41 prompts passed to the LLM. The number of prompts increased to 57 in stage 2. In total **n** (**TO-DO**) additional prompts were needed in stage 2 to fix a variable type bug introduced by the LLM for representing \"patient type\" across the acute and rehab sections of the model. Stage 2 required 4 additional prompts for introducing common random numbers streams to the LLM struggling to assign streams across model activities  (**TO-do**: check with Alison).\n",
    "\n",
    "The table below provides a summary of the differences at each iteration.\n"
   ]
  },
  {
   "cell_type": "markdown",
   "id": "015dcaae-0a44-456d-9ae4-96579ad28987",
   "metadata": {},
   "source": [
    "| Iteration | Added functionality                               | Stage 1 | Stage 2 | Difference |\n",
    "|-----------|---------------------------------------------------|---------|---------|------------|\n",
    "| 1         | Acute stroke unit (ASU) arrivals                  | 1       | 3       | 2          |\n",
    "| 2         | Sample post stroke unit destination               | 1       | 1       | 0          |\n",
    "| 3         | Acute stroke unit length of stay (1)              | 1       | 2       | 1          |\n",
    "| 4         | Acute stroke unit length of stay (2)              | 1       | 1       | 0          |\n",
    "| 5         | Organise parameters                               | 1       | 1       | 0          |\n",
    "| 6         | Track ASU bed occupancy                           | 1       | 1       | 0          |\n",
    "| 7         | Functionality to suppress simulation event log    | 2       | 2       | 0          |\n",
    "| 8         | ASU results collection functionality              | 1       | 2       | 1          |\n",
    "| 9         | ASU occupancy plot                                | 1       | 1       | 0          |\n",
    "| 10        | ASU probability of delay                          | 1       | 1       | 0          |\n",
    "| 11        | Bug fix: add back in code that was removed by LLM | 1       | 0       | -1         |\n",
    "| 12        | Rehab external arrivals                           | 1       | 1       | 0          |\n",
    "| 13        | Organise parameters                               | 2       | 2       | 0          |\n",
    "| 14        | Rehab unit length of stay (1)                     | 1       | 1       | 0          |\n",
    "| 15        | Organise parameters                               | 2       | 3       | 1          |\n",
    "| 16        | Rehab unit length of stay (2)                     | 1       | 1       | 0          |\n",
    "| 17        | Track Rehab unit bed occupancy                    | 1       | 1       | 0          |\n",
    "| 18        | Rehab unit results collection functionality       | 2       | 2       | 0          |\n",
    "| 19        | Link ASU and Rehab models (1)                     | 1       | 1       | 0          |\n",
    "| 20        | Link ASU and Rehab models (2)                     | 2       | 6       | 4          |\n",
    "| 21        | Warm-up period                                    | 2       | 5       | 3          |\n",
    "| 22        | Multiple replications (1)                         | 1       | 1       | 0          |\n",
    "| 23        | Multiple replications (2)                         | 1       | 2       | 1          |\n",
    "| 24        | Common random numbers (1)                         | 1       | 1       | 0          |\n",
    "| 25        | Common random numbers (2)                         | 1       | 1       | 0          |\n",
    "| 26        | Common random numbers (3)                         | 2       | 5       | 3          |\n",
    "| 27        | Common random numbers (4)                         | 2       | 2       | 0          |\n",
    "| 28        | Model interface (1)                               | 1       | 1       | 0          |\n",
    "| 29        | Model interface (2)                               | 1       | 2       | 1          |\n",
    "| 30        | Model interface (3)                               | 1       | 1       | 0          |\n",
    "| 31        | Bug fix                                           | 3       | 3       | 0          |\n",
    "|           | **Totals**                       | **41**      | **57**      | **16**         |"
   ]
  },
  {
   "cell_type": "markdown",
   "id": "a80894b1-be95-4b91-8024-d0ee211814f8",
   "metadata": {},
   "source": [
    "## LateX for manuscript\n",
    "\n",
    "> This does include the totals row"
   ]
  },
  {
   "cell_type": "code",
   "execution_count": 6,
   "id": "9fdbe4d9-0428-4a1f-982b-cfedd4d6221b",
   "metadata": {},
   "outputs": [
    {
     "name": "stdout",
     "output_type": "stream",
     "text": [
      "\\begin{table}\n",
      "\\caption{The number of prompts given to the LLM at each iteration of the stroke capacity planning model).}\n",
      "\\begin{tabular}{llrrr}\n",
      " & Added functionality & Stage 1 & Stage 2 & Difference \\\\\n",
      "Iteration &  &  &  &  \\\\\n",
      "1 & Acute stroke unit (ASU) arrivals & 1 & 3 & 2 \\\\\n",
      "2 & Sample post stroke unit destination & 1 & 1 & 0 \\\\\n",
      "3 & Acute stroke unit length of stay (1) & 1 & 2 & 1 \\\\\n",
      "4 & Acute stroke unit length of stay (2) & 1 & 1 & 0 \\\\\n",
      "5 & Organise parameters & 1 & 1 & 0 \\\\\n",
      "6 & Track ASU bed occupancy & 1 & 1 & 0 \\\\\n",
      "7 & Functionality to suppress simulation event log & 2 & 2 & 0 \\\\\n",
      "8 & ASU results collection functionality & 1 & 2 & 1 \\\\\n",
      "9 & ASU occupancy plot & 1 & 1 & 0 \\\\\n",
      "10 & ASU probability of delay & 1 & 1 & 0 \\\\\n",
      "11 & Bug fix: add back in code that was removed by LLM & 1 & 0 & -1 \\\\\n",
      "12 & Rehab external arrivals & 1 & 1 & 0 \\\\\n",
      "13 & Organise parameters & 2 & 2 & 0 \\\\\n",
      "14 & Rehab unit length of stay (1) & 1 & 1 & 0 \\\\\n",
      "15 & Organise parameters & 2 & 3 & 1 \\\\\n",
      "16 & Rehab unit length of stay (2) & 1 & 1 & 0 \\\\\n",
      "17 & Track Rehab unit bed occupancy & 1 & 1 & 0 \\\\\n",
      "18 & Rehab unit results collection functionality & 2 & 2 & 0 \\\\\n",
      "19 & Link ASU and Rehab models (1) & 1 & 1 & 0 \\\\\n",
      "20 & Link ASU and Rehab models (2) & 2 & 6 & 4 \\\\\n",
      "21 & Warm-up period & 2 & 5 & 3 \\\\\n",
      "22 & Multiple replications (1) & 1 & 1 & 0 \\\\\n",
      "23 & Multiple replications (2) & 1 & 2 & 1 \\\\\n",
      "24 & Common random numbers (1) & 1 & 1 & 0 \\\\\n",
      "25 & Common random numbers (2) & 1 & 1 & 0 \\\\\n",
      "26 & Common random numbers (3) & 2 & 5 & 3 \\\\\n",
      "27 & Common random numbers (4) & 2 & 2 & 0 \\\\\n",
      "28 & Model interface (1) & 1 & 1 & 0 \\\\\n",
      "29 & Model interface (2) & 1 & 2 & 1 \\\\\n",
      "30 & Model interface (3) & 1 & 1 & 0 \\\\\n",
      "31 & Bug fix & 3 & 3 & 0 \\\\\n",
      "\\end{tabular}\n",
      "\\end{table}\n",
      "\n"
     ]
    }
   ],
   "source": [
    "caption = \"The number of prompts given to the LLM \" \\\n",
    "          + \"at each iteration of the stroke capacity planning model).\"\n",
    "\n",
    "prompt_results = (\n",
    "    pd.read_csv(\"data/stroke_prompt_table.csv\",\n",
    "                index_col=['Iteration'])\n",
    ")\n",
    "                 \n",
    "print(prompt_results.style.to_latex(caption=caption))"
   ]
  },
  {
   "cell_type": "code",
   "execution_count": null,
   "id": "85e7ff75-6fe0-4ac0-b5ba-073682de8bc9",
   "metadata": {},
   "outputs": [],
   "source": []
  }
 ],
 "metadata": {
  "kernelspec": {
   "display_name": "Python 3 (ipykernel)",
   "language": "python",
   "name": "python3"
  },
  "language_info": {
   "codemirror_mode": {
    "name": "ipython",
    "version": 3
   },
   "file_extension": ".py",
   "mimetype": "text/x-python",
   "name": "python",
   "nbconvert_exporter": "python",
   "pygments_lexer": "ipython3",
   "version": "3.10.13"
  }
 },
 "nbformat": 4,
 "nbformat_minor": 5
}

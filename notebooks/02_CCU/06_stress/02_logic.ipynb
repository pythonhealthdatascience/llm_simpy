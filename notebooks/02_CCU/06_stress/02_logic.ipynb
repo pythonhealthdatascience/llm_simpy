{
 "cells": [
  {
   "cell_type": "markdown",
   "id": "b8c2b71b",
   "metadata": {},
   "source": [
    "# 2. Model logic\n",
    "\n",
    "## 2.1 Base model overview diagram\n",
    "\n",
    "```{figure} ../../images/critical_care_design.png\n",
    "---\n",
    "name: ccu_fig\n",
    "---\n",
    "Logic diagram for design of CCU model\n",
    "```\n",
    "\n",
    "## 2.2 Base model logic\n",
    "\n",
    "The model represents a Critical (Intensive) Care Unit (CCU). It consists of six classes of entity that arrive following varying distributions (note there is no time-dependency in this model).  The arrivals are either unplanned (emergency) or planned (elective surgery) who use a CCU that has a total of 24 beds.  Unplanned emergency patients are prioritised for critical care beds.  Elective patient balk (a cancelled elective operations) if no beds are available. Patient classes have their own treatment time distributions (length of stay in the CCU).  After discharge a deterministic bed turnaround time is included to allow for intensive cleaning. The aim of the study was to explore capacity requirements and related scenarios and their impact on the number of cancelled operations. A warm-up period and multiple replications are employed.\n",
    "\n",
    "## 2.3 Scenario logic\n",
    "\n",
    "Experimentation in this model is simple and varies the number of resources available.\n",
    "\n",
    "## 2.4 Algorithms\n",
    "\n",
    "There are no algorithms used in this model."
   ]
  },
  {
   "cell_type": "markdown",
   "id": "73611dd0",
   "metadata": {},
   "source": [
    "## 2.4 Components\n",
    "\n",
    "### Entities (arrival names in model)\n",
    "\n",
    "There are 6 types of patient class that arrive to the model\n",
    "\n",
    "* Unplanned admissions:\n",
    "    * Accident and Emergency Department (A&E)\n",
    "    * Inpatient ward (Ward \t)\n",
    "    * Emergency Surgery (Emergency)\n",
    "    * Transfer from another hospitals (Other hospital)\n",
    "    * X-ray department (X-ray)\n",
    "* Planned admissions\n",
    "    * Elective surgery (Elective)\n",
    "\n",
    "### Activites\n",
    "\n",
    "* Critical care \n",
    "* Intensive cleaning of beds\n",
    "\n",
    "### Resources (base number)\n",
    "\n",
    "* Critical care beds (24)\n",
    "\n",
    "### Queues\n",
    "\n",
    "* Unplanned patient classes queue for critical care\n",
    "* Elective patients balk if there is a queue for critical care.\n",
    "\n",
    "### Entry/exit points\n",
    "\n",
    "* Each patient class has its only arrival process with its own distribution and parameters\n",
    "* Elective patients balk when a queue is present and exit the model\n",
    "* All patients that enter critical care exit afterwards.\n"
   ]
  }
 ],
 "metadata": {
  "kernelspec": {
   "display_name": "Python 3 (ipykernel)",
   "language": "python",
   "name": "python3"
  },
  "language_info": {
   "codemirror_mode": {
    "name": "ipython",
    "version": 3
   },
   "file_extension": ".py",
   "mimetype": "text/x-python",
   "name": "python",
   "nbconvert_exporter": "python",
   "pygments_lexer": "ipython3",
   "version": "3.10.13"
  }
 },
 "nbformat": 4,
 "nbformat_minor": 5
}

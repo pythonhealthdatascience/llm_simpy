{
 "cells": [
  {
   "cell_type": "markdown",
   "id": "d4273cfd",
   "metadata": {},
   "source": [
    "# 3. Data\n",
    "\n",
    "## 3.1. Data sources\n",
    "\n",
    "All data is sourced from [2010 publication in the Journal of Simulation](https://doi.org/10.1057/jos.2009.22):\n",
    "\n",
    "> J D Griffiths, M Jones, M S Read & J E Williams (2010) A simulation model of bed-occupancy in a critical care unit, Journal of Simulation, 4:1, 52-59, DOI: 10.1057/jos.2009.22\n",
    "\n",
    "## 3.2 Pre-processing\n",
    "\n",
    "Non additional pre-processing of data was undertaken.  This was conducted in the original study.\n",
    "\n",
    "## 3.3. Input parameters\n",
    "\n"
   ]
  },
  {
   "cell_type": "markdown",
   "id": "eccc52f6",
   "metadata": {},
   "source": [
    "## Sampling distributions\n",
    "\n",
    "Most distributions were are those reported in Griffith's et al (2013). Distributions marked * are modifications we needed to make order to get a functional model.  Parameters are in hours.\n",
    "\n",
    "| Activity                                            | Distribution                  |\n",
    "|-----------------------------------------------------|-------------------------------|\n",
    "| Arrivals: Emergency department                      | Exponential(22.72)              |\n",
    "| Arrivals: Emergency surgery                         | Exponential(37.00)      |\n",
    "| Arrivals: In-patient ward                           | Exponential(26.00)       |\n",
    "| Arrivals: X-ray                                     | Exponential(575.00)             |\n",
    "| Arrivals: Hospital transfer                         | Exponential(47.20) |\n",
    "| *Arrivals: Elective                                  | Normal($\\mu$=17.91, $\\sigma=$3.16)  |\n",
    "| *Critical care: Emergency department                 | LogNormal(mean=128.79, sd=267.51)              |\n",
    "| *Critical care: Emergency surgery                    | LogNormal(mean=140.15, sd=218.02)      |\n",
    "| *Critical care: In-patient ward                      | LogNormal(mean=177.89, sd=276.54))       |\n",
    "| Critical care: X-ray                                | LogNormal(mean=87.53, sd=108.67)             |\n",
    "| Critical care: Hospital transfer                    | LogNormal(mean=212.86, sd=457.67) |\n",
    "| *Critical care: Elective                             | Exponential(57.34)  |\n",
    "| Intensive cleaning                            | Fixed(5.0)  |"
   ]
  },
  {
   "cell_type": "markdown",
   "id": "2c9a0115",
   "metadata": {},
   "source": [
    "### 3.4 Assumptions\n",
    "\n",
    "* Griffiths et al. report that a Normal distribution could be used for modelling arrivals if the day is assumed to begin at 7am. It is unclear if this was the method used by the authors or if an alternative approach was used (e.g. empirical distribution function).  For simplicity we have assumed the Normal distribution reported in the manuscript.\n",
    "* Griffith's et al. does not provide details on the empirical distribution used for Elective length of stay. It is possible that raw data was re-sampled with replacement instead of constructing a continuous empirical distribution function. The manuscript does report the mean length of stay for elective patients. For a functional model we substituted the Exponential distribution for these patients.\n",
    "* Critical care length of stay for ED, emergency surgery and in-patient wards is listed as HyperExponential in Table 1, but full parameters are not reported. The main text reports that automatic distribution fitting software recommended LogNormal for these distributions. As the mean and standard deviation of the distribution is reported we assumed LogNormal instead of HyperExponential."
   ]
  }
 ],
 "metadata": {
  "kernelspec": {
   "display_name": "Python 3 (ipykernel)",
   "language": "python",
   "name": "python3"
  },
  "language_info": {
   "codemirror_mode": {
    "name": "ipython",
    "version": 3
   },
   "file_extension": ".py",
   "mimetype": "text/x-python",
   "name": "python",
   "nbconvert_exporter": "python",
   "pygments_lexer": "ipython3",
   "version": "3.10.13"
  }
 },
 "nbformat": 4,
 "nbformat_minor": 5
}

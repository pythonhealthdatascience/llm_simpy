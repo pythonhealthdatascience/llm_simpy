{
 "cells": [
  {
   "cell_type": "markdown",
   "id": "d39c9004-120c-47d3-b34c-5c579ea891ab",
   "metadata": {},
   "source": [
    "# Streamlit interface"
   ]
  },
  {
   "cell_type": "markdown",
   "id": "06ef4e7e-d1a3-426c-a544-9c7fc6a128ac",
   "metadata": {},
   "source": [
    "The LLM was used to generate a `streamlit` interface for the Critical Care Unit model. To run the interface locally issue the following command in the same directory as the module:\n",
    "\n",
    "```bash\n",
    "streamlit run ccu_formatted_code.py\n",
    "```\n"
   ]
  },
  {
   "cell_type": "markdown",
   "id": "fdb21375-cfb2-4700-a56b-12fb2e4f0aaa",
   "metadata": {},
   "source": [
    "The code below is included in the `ccu_formatted_code.py` module. It is used to create the interface:"
   ]
  },
  {
   "cell_type": "code",
   "execution_count": 2,
   "id": "0dc349e4-9078-4613-a162-8775ab627cb5",
   "metadata": {},
   "outputs": [],
   "source": [
    "def main():\n",
    "    st.title(\"A simulation model of bed-occupancy in a critical care unit\")\n",
    "    st.write(\n",
    "        \"This model is a recreation of the model reported in a published academic study:\"\n",
    "    )\n",
    "    st.write(\n",
    "        \"J D Griffiths, M Jones, M S Read & J E Williams (2010) A simulation model of bed-occupancy\" \\\n",
    "        + \"in a critical care unit, Journal of Simulation, 4:1, 52-59, DOI: 10.1057/jos.2009.22\"\n",
    "    )\n",
    "    st.write(\n",
    "        \"Original Study: [Journal of Simulation](https://www.tandfonline.com/\" \\\n",
    "        + \"doi/full/10.1057/jos.2009.22)\"\n",
    "    )\n",
    "\n",
    "    with st.sidebar:\n",
    "        st.subheader(\"Experiment Parameters\")\n",
    "        num_beds = st.slider(\"Number of Critical Care Beds\", 23, 28, 23)\n",
    "        cleaning_duration = st.slider(\"Intensive Cleaning Duration\", 1, 10, 5)\n",
    "        trace = st.checkbox(\"Enable Trace\", False)\n",
    "        num_replications = st.number_input(\"Number of Replications\", 1, 10, 5)\n",
    "\n",
    "    experiment = Experiment(\n",
    "        num_critical_care_beds=num_beds,\n",
    "        intensive_cleaning_duration=cleaning_duration,\n",
    "        trace=trace,\n",
    "    )\n",
    "    simulate_button = st.button(\"Simulate\")\n",
    "\n",
    "    if simulate_button:\n",
    "        with st.spinner(\"Please wait for results...\"):\n",
    "            results = multiple_replications(experiment, num_replications)\n",
    "            summary = results_summary(results)\n",
    "            st.write(summary)"
   ]
  }
 ],
 "metadata": {
  "kernelspec": {
   "display_name": "Python 3 (ipykernel)",
   "language": "python",
   "name": "python3"
  },
  "language_info": {
   "codemirror_mode": {
    "name": "ipython",
    "version": 3
   },
   "file_extension": ".py",
   "mimetype": "text/x-python",
   "name": "python",
   "nbconvert_exporter": "python",
   "pygments_lexer": "ipython3",
   "version": "3.10.13"
  }
 },
 "nbformat": 4,
 "nbformat_minor": 5
}

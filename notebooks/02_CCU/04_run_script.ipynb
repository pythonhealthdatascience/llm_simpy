{
 "cells": [
  {
   "cell_type": "markdown",
   "id": "b3882170-bde8-4fc2-9d58-b46e3dfaa7bd",
   "metadata": {},
   "source": [
    "# Run script\n",
    "\n",
    "The model is setup to work with an `Experiment` class, a `multiple_replications` function, and a `results_summary` function.  This code runs the model and generates results. The post processing and display of results is handled by a number of smaller functions.  The model runs in days.\n",
    "\n",
    "This notebook demonstrates how to setup and then run the model.  An example script is provided."
   ]
  },
  {
   "cell_type": "markdown",
   "id": "81b14252-c683-4aab-8a57-0e03390b32a0",
   "metadata": {},
   "source": [
    "## General imports"
   ]
  },
  {
   "cell_type": "code",
   "execution_count": 2,
   "id": "aa1f356d-c472-4435-8cf4-b303fcb9a718",
   "metadata": {},
   "outputs": [],
   "source": [
    "import numpy as np\n",
    "import pandas as pd\n",
    "import matplotlib.pyplot as plt"
   ]
  },
  {
   "cell_type": "markdown",
   "id": "116abe39-7dc8-4e46-a496-2a6627b086ff",
   "metadata": {},
   "source": [
    "## Model imports"
   ]
  },
  {
   "cell_type": "code",
   "execution_count": 3,
   "id": "d72eee51-4076-4d4c-9689-4647d3c4ade9",
   "metadata": {},
   "outputs": [],
   "source": [
    "from ccu_formatted_code import (\n",
    "    Experiment, \n",
    "    multiple_replications, \n",
    "    results_summary, \n",
    "    get_experiments, \n",
    "    run_all_experiments,\n",
    "    summary_of_experiments\n",
    ")"
   ]
  },
  {
   "cell_type": "markdown",
   "id": "fd26ee77-dfcb-4cca-9ab0-5bf5b0194933",
   "metadata": {},
   "source": [
    "## Setting up and running the model\n",
    "\n",
    "### Creating an default `Experiment`\n",
    "\n",
    "An `Experiment` contains all of the configuration for the model. For example, it can be used to varying inter-arrival rates and the mean and standard deviations of the length of stay distributions.  All parameters have default values. We therefore create an instance of `Experiment` and do not pass any parameters."
   ]
  },
  {
   "cell_type": "code",
   "execution_count": 4,
   "id": "87243f8a-ee6e-4be7-a8f0-fa31604d3ad5",
   "metadata": {},
   "outputs": [],
   "source": [
    "default_experiment = Experiment()"
   ]
  },
  {
   "cell_type": "markdown",
   "id": "98df9453-463a-4050-8c34-fbe501a4a956",
   "metadata": {},
   "source": [
    "### Viewing parameters in an `Experiment`"
   ]
  },
  {
   "cell_type": "markdown",
   "id": "2917c772-139c-4636-a6e5-be9b398b9d4f",
   "metadata": {},
   "source": [
    "Parameters can easily be viewed as they are attributes of the `Experiment`. For example to view the mean interarrival rates for all patient types\n",
    "\n",
    "The order of inter-arrival rate means in the list is:\n",
    "\n",
    "0. A&E\n",
    "1. Ward\n",
    "2. Emergency\n",
    "3. Other hospital\n",
    "4. X-ray\n",
    "5. Elective\n",
    "\n",
    "These can be viewed raw:"
   ]
  },
  {
   "cell_type": "code",
   "execution_count": 5,
   "id": "60e9b983-769f-46d8-af1d-28d286beb62f",
   "metadata": {},
   "outputs": [
    {
     "name": "stdout",
     "output_type": "stream",
     "text": [
      "[22.72, 26.0, 37.0, 47.2, 575.0, 17.91]\n"
     ]
    }
   ],
   "source": [
    "print(default_experiment.interarrival_means)"
   ]
  },
  {
   "cell_type": "markdown",
   "id": "6666fe11-c526-487c-9ad7-7acfb1e6f04e",
   "metadata": {},
   "source": [
    "or could be manipulated into an easy to view format using `pandas`:"
   ]
  },
  {
   "cell_type": "code",
   "execution_count": 6,
   "id": "cc2c08e8-2532-4879-adc0-8d541d834ba8",
   "metadata": {},
   "outputs": [
    {
     "data": {
      "text/html": [
       "<div>\n",
       "<style scoped>\n",
       "    .dataframe tbody tr th:only-of-type {\n",
       "        vertical-align: middle;\n",
       "    }\n",
       "\n",
       "    .dataframe tbody tr th {\n",
       "        vertical-align: top;\n",
       "    }\n",
       "\n",
       "    .dataframe thead th {\n",
       "        text-align: right;\n",
       "    }\n",
       "</style>\n",
       "<table border=\"1\" class=\"dataframe\">\n",
       "  <thead>\n",
       "    <tr style=\"text-align: right;\">\n",
       "      <th></th>\n",
       "      <th>source</th>\n",
       "      <th>mean_iat (hrs)</th>\n",
       "    </tr>\n",
       "  </thead>\n",
       "  <tbody>\n",
       "    <tr>\n",
       "      <th>0</th>\n",
       "      <td>A&amp;E</td>\n",
       "      <td>22.72</td>\n",
       "    </tr>\n",
       "    <tr>\n",
       "      <th>1</th>\n",
       "      <td>Ward</td>\n",
       "      <td>26.00</td>\n",
       "    </tr>\n",
       "    <tr>\n",
       "      <th>2</th>\n",
       "      <td>Emergency</td>\n",
       "      <td>37.00</td>\n",
       "    </tr>\n",
       "    <tr>\n",
       "      <th>3</th>\n",
       "      <td>Other hospital</td>\n",
       "      <td>47.20</td>\n",
       "    </tr>\n",
       "    <tr>\n",
       "      <th>4</th>\n",
       "      <td>X-ray</td>\n",
       "      <td>575.00</td>\n",
       "    </tr>\n",
       "    <tr>\n",
       "      <th>5</th>\n",
       "      <td>Elective</td>\n",
       "      <td>17.91</td>\n",
       "    </tr>\n",
       "  </tbody>\n",
       "</table>\n",
       "</div>"
      ],
      "text/plain": [
       "           source  mean_iat (hrs)\n",
       "0             A&E           22.72\n",
       "1            Ward           26.00\n",
       "2       Emergency           37.00\n",
       "3  Other hospital           47.20\n",
       "4           X-ray          575.00\n",
       "5        Elective           17.91"
      ]
     },
     "execution_count": 6,
     "metadata": {},
     "output_type": "execute_result"
    }
   ],
   "source": [
    "iat_table = pd.DataFrame()\n",
    "\n",
    "iat_table[\"source\"] = [\n",
    "    \"A&E\",\n",
    "    \"Ward\",\n",
    "    \"Emergency\",\n",
    "    \"Other hospital\",\n",
    "    \"X-ray\",\n",
    "    \"Elective\",\n",
    "]\n",
    "\n",
    "iat_table[\"mean_iat (hrs)\"] = default_experiment.interarrival_means\n",
    "\n",
    "iat_table"
   ]
  },
  {
   "cell_type": "markdown",
   "id": "b10a39e4-380f-4cc1-8668-db400b9c6a10",
   "metadata": {},
   "source": [
    "To view the capacity of the critical care unit:"
   ]
  },
  {
   "cell_type": "code",
   "execution_count": 7,
   "id": "4c740379-ecfb-48b4-bf58-8305bd39056a",
   "metadata": {},
   "outputs": [
    {
     "data": {
      "text/plain": [
       "24"
      ]
     },
     "execution_count": 7,
     "metadata": {},
     "output_type": "execute_result"
    }
   ],
   "source": [
    "default_experiment.num_critical_care_beds"
   ]
  },
  {
   "cell_type": "markdown",
   "id": "b70af0b2-aa12-4092-b3da-0e90e93a5e9d",
   "metadata": {},
   "source": [
    "There are also a default warm-up and results collection periods (in hours)"
   ]
  },
  {
   "cell_type": "code",
   "execution_count": 8,
   "id": "7aefa461-ab34-4306-8a56-eba4d38f6b1b",
   "metadata": {},
   "outputs": [
    {
     "name": "stdout",
     "output_type": "stream",
     "text": [
      "Warm up period: 720 hrs\n",
      "Results collection period: 8640 hrs\n"
     ]
    }
   ],
   "source": [
    "print(f\"Warm up period: {default_experiment.warm_up_period} hrs\")\n",
    "print(f\"Results collection period: {default_experiment.results_collection_period} hrs\")"
   ]
  },
  {
   "cell_type": "markdown",
   "id": "42641cf5-a791-460d-a67e-4b748def3240",
   "metadata": {},
   "source": [
    "### Creating a custom `Experiment`\n",
    "\n",
    "#### Example experiment 1: \n",
    "\n",
    "Let's increase the capacity of the Critical Care Unit to 26 staffed beds."
   ]
  },
  {
   "cell_type": "code",
   "execution_count": 9,
   "id": "dbd5e5ef-f3a8-46e4-aa99-71e542d98529",
   "metadata": {},
   "outputs": [],
   "source": [
    "custom_experiment = Experiment(num_critical_care_beds=26)"
   ]
  },
  {
   "cell_type": "markdown",
   "id": "3b01a8a5-6018-4aa1-b8c8-5e7122d2f1a7",
   "metadata": {},
   "source": [
    "As before you can view the number of beds set in the `Experiment`"
   ]
  },
  {
   "cell_type": "code",
   "execution_count": 10,
   "id": "13e97784-a47d-451e-a0bc-ccd64074d799",
   "metadata": {},
   "outputs": [
    {
     "data": {
      "text/plain": [
       "26"
      ]
     },
     "execution_count": 10,
     "metadata": {},
     "output_type": "execute_result"
    }
   ],
   "source": [
    "custom_experiment.num_critical_care_beds"
   ]
  },
  {
   "cell_type": "markdown",
   "id": "02f8fcfd-5903-4376-9527-543e265beb8c",
   "metadata": {},
   "source": [
    "#### Example experiment 2:\n",
    "\n",
    "In this experiment we will:\n",
    "\n",
    "1. block arrivals from other hospitals\n",
    "2. set the number of critical care beds to 23.\n",
    "3. set the intensive cleaning activity to 3 hours.\n",
    "\n",
    "> We will block arrivals by using an extreme value that results in no arrivals from the other hospitals during the simulated run."
   ]
  },
  {
   "cell_type": "code",
   "execution_count": 11,
   "id": "78cc6ff7-0854-4c2e-a873-45697ea81089",
   "metadata": {},
   "outputs": [],
   "source": [
    "# get the default iat means\n",
    "new_iat_means = default_experiment.interarrival_means\n",
    "\n",
    "# other hospitals are at index 3. Set to extreme value\n",
    "new_iat_means[3] = 100_000_000\n",
    "\n",
    "blocked_arrivals = Experiment(\n",
    "    num_critical_care_beds=24,\n",
    "    interarrival_means=new_iat_means,\n",
    "    intensive_cleaning_duration=3,\n",
    ")"
   ]
  },
  {
   "cell_type": "code",
   "execution_count": 12,
   "id": "86dedec4-713b-48a6-9be4-e6808a7b2069",
   "metadata": {},
   "outputs": [
    {
     "data": {
      "text/plain": [
       "[22.72, 26.0, 37.0, 100000000, 575.0, 17.91]"
      ]
     },
     "execution_count": 12,
     "metadata": {},
     "output_type": "execute_result"
    }
   ],
   "source": [
    "blocked_arrivals.interarrival_means"
   ]
  },
  {
   "cell_type": "markdown",
   "id": "d2ec7e7b-c2f6-4fe9-804c-d230e91354ba",
   "metadata": {},
   "source": [
    "## Running the model and viewing results\n",
    "\n",
    "The code below represents a very simple experimental run of the model.  Once an `Experiment` has been created the multiple replications function is called (passing the `Experiment` and the `num_replications`). This returns a `pandas.DataFrame` of results that shows each KPI by replication.  The `results_summary` function processes the raw replications and returns another `pandas.DataFrame` containing the mean and standard deviation of each KPI across replications. "
   ]
  },
  {
   "cell_type": "code",
   "execution_count": 13,
   "id": "e3f564b9-824d-42f5-a644-781d33f82ada",
   "metadata": {},
   "outputs": [
    {
     "data": {
      "text/html": [
       "<div>\n",
       "<style scoped>\n",
       "    .dataframe tbody tr th:only-of-type {\n",
       "        vertical-align: middle;\n",
       "    }\n",
       "\n",
       "    .dataframe tbody tr th {\n",
       "        vertical-align: top;\n",
       "    }\n",
       "\n",
       "    .dataframe thead th {\n",
       "        text-align: right;\n",
       "    }\n",
       "</style>\n",
       "<table border=\"1\" class=\"dataframe\">\n",
       "  <thead>\n",
       "    <tr style=\"text-align: right;\">\n",
       "      <th></th>\n",
       "      <th>Mean</th>\n",
       "      <th>Standard Deviation</th>\n",
       "    </tr>\n",
       "  </thead>\n",
       "  <tbody>\n",
       "    <tr>\n",
       "      <th>Cancelled Elective Operations</th>\n",
       "      <td>99.0</td>\n",
       "      <td>27.7</td>\n",
       "    </tr>\n",
       "    <tr>\n",
       "      <th>Bed Utilization</th>\n",
       "      <td>0.8</td>\n",
       "      <td>0.0</td>\n",
       "    </tr>\n",
       "    <tr>\n",
       "      <th>Mean Waiting Time Unplanned</th>\n",
       "      <td>5.3</td>\n",
       "      <td>4.3</td>\n",
       "    </tr>\n",
       "    <tr>\n",
       "      <th>Bed Occupancy</th>\n",
       "      <td>19.3</td>\n",
       "      <td>0.4</td>\n",
       "    </tr>\n",
       "    <tr>\n",
       "      <th>Patient Count</th>\n",
       "      <td>1463.0</td>\n",
       "      <td>20.3</td>\n",
       "    </tr>\n",
       "  </tbody>\n",
       "</table>\n",
       "</div>"
      ],
      "text/plain": [
       "                                 Mean  Standard Deviation\n",
       "Cancelled Elective Operations    99.0                27.7\n",
       "Bed Utilization                   0.8                 0.0\n",
       "Mean Waiting Time Unplanned       5.3                 4.3\n",
       "Bed Occupancy                    19.3                 0.4\n",
       "Patient Count                  1463.0                20.3"
      ]
     },
     "execution_count": 13,
     "metadata": {},
     "output_type": "execute_result"
    }
   ],
   "source": [
    "# 1. create an experiment\n",
    "# here we create the default one, but could be customised.\n",
    "default_experiment = Experiment()\n",
    "\n",
    "# 2. run multiple independent replications and return results\n",
    "replications = multiple_replications(default_experiment, num_replications=5)\n",
    "\n",
    "# 3. summarise the results of the multiple replications\n",
    "results_table = results_summary(replications)\n",
    "\n",
    "# 4. show results table (1dp)\n",
    "results_table.round(1)"
   ]
  },
  {
   "cell_type": "markdown",
   "id": "e9753faf-8f3d-47f2-a1fd-81018930dc17",
   "metadata": {},
   "source": [
    "The variable `replications` is a `pandas.DataFrame`. Each row is a replication and each column a KPI.  In our example script we ran 5 replications.  Therefore the table has 5 rows.  Results are below:"
   ]
  },
  {
   "cell_type": "code",
   "execution_count": 14,
   "id": "4a0de2d1-8c70-46cb-a33d-3d8607fad5a8",
   "metadata": {},
   "outputs": [
    {
     "data": {
      "text/html": [
       "<div>\n",
       "<style scoped>\n",
       "    .dataframe tbody tr th:only-of-type {\n",
       "        vertical-align: middle;\n",
       "    }\n",
       "\n",
       "    .dataframe tbody tr th {\n",
       "        vertical-align: top;\n",
       "    }\n",
       "\n",
       "    .dataframe thead th {\n",
       "        text-align: right;\n",
       "    }\n",
       "</style>\n",
       "<table border=\"1\" class=\"dataframe\">\n",
       "  <thead>\n",
       "    <tr style=\"text-align: right;\">\n",
       "      <th></th>\n",
       "      <th>Replication</th>\n",
       "      <th>Cancelled Elective Operations</th>\n",
       "      <th>Bed Utilization</th>\n",
       "      <th>Mean Waiting Time Unplanned</th>\n",
       "      <th>Bed Occupancy</th>\n",
       "      <th>Patient Count</th>\n",
       "    </tr>\n",
       "  </thead>\n",
       "  <tbody>\n",
       "    <tr>\n",
       "      <th>0</th>\n",
       "      <td>1</td>\n",
       "      <td>84</td>\n",
       "      <td>0.798968</td>\n",
       "      <td>1.704418</td>\n",
       "      <td>19.175244</td>\n",
       "      <td>1453</td>\n",
       "    </tr>\n",
       "    <tr>\n",
       "      <th>1</th>\n",
       "      <td>2</td>\n",
       "      <td>124</td>\n",
       "      <td>0.802759</td>\n",
       "      <td>4.787775</td>\n",
       "      <td>19.266212</td>\n",
       "      <td>1458</td>\n",
       "    </tr>\n",
       "    <tr>\n",
       "      <th>2</th>\n",
       "      <td>3</td>\n",
       "      <td>120</td>\n",
       "      <td>0.817978</td>\n",
       "      <td>11.936787</td>\n",
       "      <td>19.631465</td>\n",
       "      <td>1453</td>\n",
       "    </tr>\n",
       "    <tr>\n",
       "      <th>3</th>\n",
       "      <td>4</td>\n",
       "      <td>58</td>\n",
       "      <td>0.779888</td>\n",
       "      <td>1.399112</td>\n",
       "      <td>18.717312</td>\n",
       "      <td>1452</td>\n",
       "    </tr>\n",
       "    <tr>\n",
       "      <th>4</th>\n",
       "      <td>5</td>\n",
       "      <td>109</td>\n",
       "      <td>0.814584</td>\n",
       "      <td>6.622811</td>\n",
       "      <td>19.550025</td>\n",
       "      <td>1499</td>\n",
       "    </tr>\n",
       "  </tbody>\n",
       "</table>\n",
       "</div>"
      ],
      "text/plain": [
       "   Replication  Cancelled Elective Operations  Bed Utilization  \\\n",
       "0            1                             84         0.798968   \n",
       "1            2                            124         0.802759   \n",
       "2            3                            120         0.817978   \n",
       "3            4                             58         0.779888   \n",
       "4            5                            109         0.814584   \n",
       "\n",
       "   Mean Waiting Time Unplanned  Bed Occupancy  Patient Count  \n",
       "0                     1.704418      19.175244           1453  \n",
       "1                     4.787775      19.266212           1458  \n",
       "2                    11.936787      19.631465           1453  \n",
       "3                     1.399112      18.717312           1452  \n",
       "4                     6.622811      19.550025           1499  "
      ]
     },
     "execution_count": 14,
     "metadata": {},
     "output_type": "execute_result"
    }
   ],
   "source": [
    "replications"
   ]
  },
  {
   "cell_type": "markdown",
   "id": "92d5b74d-698e-4f32-9a78-84d37c4c8f42",
   "metadata": {},
   "source": [
    "To visualise the distribution of a KPI over replications you can use standard `matplotlib`. Here we will visualise the distribution of Cancelled Elective Operations and Bed Utilization.\n",
    "> Example `matplotlib` histogram code here: https://matplotlib.org/stable/gallery/statistics/hist.html#sphx-glr-gallery-statistics-hist-py"
   ]
  },
  {
   "cell_type": "code",
   "execution_count": 15,
   "id": "b57ec079-ba36-4835-ad92-eb83c6bcc60d",
   "metadata": {},
   "outputs": [],
   "source": [
    "replications = multiple_replications(default_experiment, num_replications=100)"
   ]
  },
  {
   "cell_type": "code",
   "execution_count": 16,
   "id": "974267f4-5882-4fe0-96cd-ffc6f86b62b2",
   "metadata": {},
   "outputs": [
    {
     "data": {
      "image/png": "[encoded data removed]",
      "text/plain": [
       "<Figure size 640x480 with 2 Axes>"
      ]
     },
     "metadata": {},
     "output_type": "display_data"
    }
   ],
   "source": [
    "# frequency calculations\n",
    "counts_ce, bins_ce = np.histogram(replications[\"Cancelled Elective Operations\"])\n",
    "counts_wt, bins_wt = np.histogram(replications[\"Bed Utilization\"])\n",
    "\n",
    "fig, axs = plt.subplots(2, 1, tight_layout=True)\n",
    "\n",
    "# set labels\n",
    "axs[0].set_ylabel(\"no. replications\")\n",
    "axs[0].set_xlabel(\"Cancelled Elective Operations\")\n",
    "\n",
    "axs[1].set_ylabel(\"no. replications\")\n",
    "axs[1].set_xlabel(\"Bed Utilization\")\n",
    "\n",
    "# add data to plot\n",
    "_ = axs[0].hist(bins_ce[:-1], bins_ce, weights=counts_ce)\n",
    "_ = axs[1].hist(bins_wt[:-1], bins_wt, weights=counts_wt)"
   ]
  },
  {
   "cell_type": "markdown",
   "id": "8aab8053-c8b3-4eae-8721-5654478f739f",
   "metadata": {},
   "source": [
    "## Run multiple pre-set experiments\n",
    "\n",
    "The LLM was used to generate functions to run and summarise multiple experiments in a batch.  Here we will use three new functions     `get_experiments`, `run_all_experiments`, and `summary_of_experiments.\n",
    "\n",
    "> Here the function `get_experiments` creates six experiments that vary the capacity of the CCU between 23 and 28 beds."
   ]
  },
  {
   "cell_type": "code",
   "execution_count": 17,
   "id": "199b6398-e1d0-44fb-a824-5394c555538d",
   "metadata": {},
   "outputs": [
    {
     "name": "stdout",
     "output_type": "stream",
     "text": [
      "Running experiment: Experiment_23\n",
      "Running experiment: Experiment_24\n",
      "Running experiment: Experiment_25\n",
      "Running experiment: Experiment_26\n",
      "Running experiment: Experiment_27\n",
      "Running experiment: Experiment_28\n"
     ]
    },
    {
     "data": {
      "text/html": [
       "<div>\n",
       "<style scoped>\n",
       "    .dataframe tbody tr th:only-of-type {\n",
       "        vertical-align: middle;\n",
       "    }\n",
       "\n",
       "    .dataframe tbody tr th {\n",
       "        vertical-align: top;\n",
       "    }\n",
       "\n",
       "    .dataframe thead tr th {\n",
       "        text-align: left;\n",
       "    }\n",
       "</style>\n",
       "<table border=\"1\" class=\"dataframe\">\n",
       "  <thead>\n",
       "    <tr>\n",
       "      <th></th>\n",
       "      <th colspan=\"2\" halign=\"left\">Experiment_23</th>\n",
       "      <th colspan=\"2\" halign=\"left\">Experiment_24</th>\n",
       "      <th colspan=\"2\" halign=\"left\">Experiment_25</th>\n",
       "      <th colspan=\"2\" halign=\"left\">Experiment_26</th>\n",
       "      <th colspan=\"2\" halign=\"left\">Experiment_27</th>\n",
       "      <th colspan=\"2\" halign=\"left\">Experiment_28</th>\n",
       "    </tr>\n",
       "    <tr>\n",
       "      <th></th>\n",
       "      <th>Mean</th>\n",
       "      <th>Standard Deviation</th>\n",
       "      <th>Mean</th>\n",
       "      <th>Standard Deviation</th>\n",
       "      <th>Mean</th>\n",
       "      <th>Standard Deviation</th>\n",
       "      <th>Mean</th>\n",
       "      <th>Standard Deviation</th>\n",
       "      <th>Mean</th>\n",
       "      <th>Standard Deviation</th>\n",
       "      <th>Mean</th>\n",
       "      <th>Standard Deviation</th>\n",
       "    </tr>\n",
       "  </thead>\n",
       "  <tbody>\n",
       "    <tr>\n",
       "      <th>Cancelled Elective Operations</th>\n",
       "      <td>132.20</td>\n",
       "      <td>32.83</td>\n",
       "      <td>99.00</td>\n",
       "      <td>27.71</td>\n",
       "      <td>71.20</td>\n",
       "      <td>25.75</td>\n",
       "      <td>54.60</td>\n",
       "      <td>20.77</td>\n",
       "      <td>39.80</td>\n",
       "      <td>17.75</td>\n",
       "      <td>23.80</td>\n",
       "      <td>14.11</td>\n",
       "    </tr>\n",
       "    <tr>\n",
       "      <th>Bed Utilization</th>\n",
       "      <td>0.83</td>\n",
       "      <td>0.02</td>\n",
       "      <td>0.80</td>\n",
       "      <td>0.02</td>\n",
       "      <td>0.78</td>\n",
       "      <td>0.02</td>\n",
       "      <td>0.75</td>\n",
       "      <td>0.02</td>\n",
       "      <td>0.73</td>\n",
       "      <td>0.02</td>\n",
       "      <td>0.71</td>\n",
       "      <td>0.02</td>\n",
       "    </tr>\n",
       "    <tr>\n",
       "      <th>Mean Waiting Time Unplanned</th>\n",
       "      <td>8.97</td>\n",
       "      <td>7.06</td>\n",
       "      <td>5.29</td>\n",
       "      <td>4.31</td>\n",
       "      <td>2.96</td>\n",
       "      <td>2.59</td>\n",
       "      <td>1.64</td>\n",
       "      <td>1.21</td>\n",
       "      <td>0.97</td>\n",
       "      <td>0.66</td>\n",
       "      <td>0.62</td>\n",
       "      <td>0.59</td>\n",
       "    </tr>\n",
       "    <tr>\n",
       "      <th>Bed Occupancy</th>\n",
       "      <td>19.02</td>\n",
       "      <td>0.35</td>\n",
       "      <td>19.27</td>\n",
       "      <td>0.36</td>\n",
       "      <td>19.46</td>\n",
       "      <td>0.38</td>\n",
       "      <td>19.59</td>\n",
       "      <td>0.44</td>\n",
       "      <td>19.69</td>\n",
       "      <td>0.46</td>\n",
       "      <td>19.80</td>\n",
       "      <td>0.52</td>\n",
       "    </tr>\n",
       "    <tr>\n",
       "      <th>Patient Count</th>\n",
       "      <td>1463.00</td>\n",
       "      <td>20.26</td>\n",
       "      <td>1463.00</td>\n",
       "      <td>20.26</td>\n",
       "      <td>1463.00</td>\n",
       "      <td>20.26</td>\n",
       "      <td>1463.00</td>\n",
       "      <td>20.26</td>\n",
       "      <td>1463.00</td>\n",
       "      <td>20.26</td>\n",
       "      <td>1463.00</td>\n",
       "      <td>20.26</td>\n",
       "    </tr>\n",
       "  </tbody>\n",
       "</table>\n",
       "</div>"
      ],
      "text/plain": [
       "                              Experiment_23                    Experiment_24  \\\n",
       "                                       Mean Standard Deviation          Mean   \n",
       "Cancelled Elective Operations        132.20              32.83         99.00   \n",
       "Bed Utilization                        0.83               0.02          0.80   \n",
       "Mean Waiting Time Unplanned            8.97               7.06          5.29   \n",
       "Bed Occupancy                         19.02               0.35         19.27   \n",
       "Patient Count                       1463.00              20.26       1463.00   \n",
       "\n",
       "                                                 Experiment_25  \\\n",
       "                              Standard Deviation          Mean   \n",
       "Cancelled Elective Operations              27.71         71.20   \n",
       "Bed Utilization                             0.02          0.78   \n",
       "Mean Waiting Time Unplanned                 4.31          2.96   \n",
       "Bed Occupancy                               0.36         19.46   \n",
       "Patient Count                              20.26       1463.00   \n",
       "\n",
       "                                                 Experiment_26  \\\n",
       "                              Standard Deviation          Mean   \n",
       "Cancelled Elective Operations              25.75         54.60   \n",
       "Bed Utilization                             0.02          0.75   \n",
       "Mean Waiting Time Unplanned                 2.59          1.64   \n",
       "Bed Occupancy                               0.38         19.59   \n",
       "Patient Count                              20.26       1463.00   \n",
       "\n",
       "                                                 Experiment_27  \\\n",
       "                              Standard Deviation          Mean   \n",
       "Cancelled Elective Operations              20.77         39.80   \n",
       "Bed Utilization                             0.02          0.73   \n",
       "Mean Waiting Time Unplanned                 1.21          0.97   \n",
       "Bed Occupancy                               0.44         19.69   \n",
       "Patient Count                              20.26       1463.00   \n",
       "\n",
       "                                                 Experiment_28  \\\n",
       "                              Standard Deviation          Mean   \n",
       "Cancelled Elective Operations              17.75         23.80   \n",
       "Bed Utilization                             0.02          0.71   \n",
       "Mean Waiting Time Unplanned                 0.66          0.62   \n",
       "Bed Occupancy                               0.46         19.80   \n",
       "Patient Count                              20.26       1463.00   \n",
       "\n",
       "                                                  \n",
       "                              Standard Deviation  \n",
       "Cancelled Elective Operations              14.11  \n",
       "Bed Utilization                             0.02  \n",
       "Mean Waiting Time Unplanned                 0.59  \n",
       "Bed Occupancy                               0.52  \n",
       "Patient Count                              20.26  "
      ]
     },
     "execution_count": 17,
     "metadata": {},
     "output_type": "execute_result"
    }
   ],
   "source": [
    "# 1. get all of the pre-set experiments\n",
    "experiments = get_experiments()\n",
    "\n",
    "# 2. run all experiments in a batch (5 replications each)\n",
    "all_results = run_all_experiments(experiments, 5)\n",
    "\n",
    "# 3. display results summary (2dp)\n",
    "summary = summary_of_experiments(all_results).round(2)\n",
    "\n",
    "# show results\n",
    "summary"
   ]
  },
  {
   "cell_type": "markdown",
   "id": "92f3e5ce-56bc-4136-9b34-d13203fbace3",
   "metadata": {},
   "source": [
    "### Saving the results summary to file\n",
    "\n",
    "The function `summary_of_experiments` returns a `pandas.DataFrame`. The results can be transferred to a file using the following methods:\n",
    "\n",
    "1. `pandas.DataFrame.to_clipboard()` - copy to clipboard and paste into a spreadsheet program\n",
    "2. `pandas.DataFrame.to_csv([file_name])` - save to a local Comma Separated Value file that can be opened in a spreadsheet program\n",
    "3. `pandas.DataFrame.style.to_latex()` - output table in latex format."
   ]
  },
  {
   "cell_type": "code",
   "execution_count": 18,
   "id": "e93d9896-cee0-48a1-95e5-8a51f04d1cbc",
   "metadata": {},
   "outputs": [],
   "source": [
    "# example: save to file\n",
    "summary.to_csv('batch_results.csv')"
   ]
  },
  {
   "cell_type": "code",
   "execution_count": 19,
   "id": "97410da1-1cc7-486e-b917-641369981470",
   "metadata": {},
   "outputs": [
    {
     "name": "stdout",
     "output_type": "stream",
     "text": [
      "\\begin{table}\n",
      "\\caption{Varying CCU capacity}\n",
      "\\label{Batch results}\n",
      "\\begin{tabular}{lrrrrrrrrrrrr}\n",
      "\\toprule\n",
      " & \\multicolumn{2}{r}{Experiment_23} & \\multicolumn{2}{r}{Experiment_24} & \\multicolumn{2}{r}{Experiment_25} & \\multicolumn{2}{r}{Experiment_26} & \\multicolumn{2}{r}{Experiment_27} & \\multicolumn{2}{r}{Experiment_28} \\\\\n",
      " & Mean & Standard Deviation & Mean & Standard Deviation & Mean & Standard Deviation & Mean & Standard Deviation & Mean & Standard Deviation & Mean & Standard Deviation \\\\\n",
      "\\midrule\n",
      "Cancelled Elective Operations & 132.200000 & 32.830000 & 99.000000 & 27.710000 & 71.200000 & 25.750000 & 54.600000 & 20.770000 & 39.800000 & 17.750000 & 23.800000 & 14.110000 \\\\\n",
      "Bed Utilization & 0.830000 & 0.020000 & 0.800000 & 0.020000 & 0.780000 & 0.020000 & 0.750000 & 0.020000 & 0.730000 & 0.020000 & 0.710000 & 0.020000 \\\\\n",
      "Mean Waiting Time Unplanned & 8.970000 & 7.060000 & 5.290000 & 4.310000 & 2.960000 & 2.590000 & 1.640000 & 1.210000 & 0.970000 & 0.660000 & 0.620000 & 0.590000 \\\\\n",
      "Bed Occupancy & 19.020000 & 0.350000 & 19.270000 & 0.360000 & 19.460000 & 0.380000 & 19.590000 & 0.440000 & 19.690000 & 0.460000 & 19.800000 & 0.520000 \\\\\n",
      "Patient Count & 1463.000000 & 20.260000 & 1463.000000 & 20.260000 & 1463.000000 & 20.260000 & 1463.000000 & 20.260000 & 1463.000000 & 20.260000 & 1463.000000 & 20.260000 \\\\\n",
      "\\bottomrule\n",
      "\\end{tabular}\n",
      "\\end{table}\n",
      "\n"
     ]
    }
   ],
   "source": [
    "# example output as latex\n",
    "print(summary.style.to_latex(hrules=True, \n",
    "                             label=\"Batch results\", \n",
    "                             caption=\"Varying CCU capacity\"))"
   ]
  },
  {
   "cell_type": "code",
   "execution_count": null,
   "id": "8c4cfaa8-0cdd-464c-b814-908596ab6d8e",
   "metadata": {},
   "outputs": [],
   "source": []
  }
 ],
 "metadata": {
  "kernelspec": {
   "display_name": "Python 3 (ipykernel)",
   "language": "python",
   "name": "python3"
  },
  "language_info": {
   "codemirror_mode": {
    "name": "ipython",
    "version": 3
   },
   "file_extension": ".py",
   "mimetype": "text/x-python",
   "name": "python",
   "nbconvert_exporter": "python",
   "pygments_lexer": "ipython3",
   "version": "3.10.13"
  }
 },
 "nbformat": 4,
 "nbformat_minor": 5
}

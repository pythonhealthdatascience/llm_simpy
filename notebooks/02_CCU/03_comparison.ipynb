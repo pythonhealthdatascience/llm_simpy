{
 "cells": [
  {
   "cell_type": "markdown",
   "id": "b6f029fa-0119-477a-b488-47e956041295",
   "metadata": {},
   "source": [
    "# Model output comparison\n",
    "\n",
    "Here we run the CCU models for stage one and two (our internal replication test) and compare the quantitative results.\n",
    "\n",
    "This notebook assume that it is in the same directory as the following Python modules:\n",
    "\n",
    "* `ccu_formatted_code`  (produced in stage 1 of the study)\n",
    "* `ccu_formatted_code_stage2` (produced in the internal replication test)\n",
    "\n",
    "## 1. Imports\n",
    "\n",
    "### 1.1 General libraries"
   ]
  },
  {
   "cell_type": "code",
   "execution_count": 1,
   "id": "930f43fc-e4e9-4862-86d6-c8c9eee06f01",
   "metadata": {},
   "outputs": [],
   "source": [
    "import numpy as np\n",
    "import pandas as pd\n",
    "import matplotlib.pyplot as plt"
   ]
  },
  {
   "cell_type": "markdown",
   "id": "28ce65c6-22c5-4fb8-a4d8-9a41c248a6d8",
   "metadata": {},
   "source": [
    "### 1.2 CCU stage 1 code"
   ]
  },
  {
   "cell_type": "code",
   "execution_count": 2,
   "id": "a6a6356b-2227-46aa-af42-b7e9a9bea5ef",
   "metadata": {},
   "outputs": [],
   "source": [
    "from ccu_formatted_code import (\n",
    "    Experiment, \n",
    "    multiple_replications, \n",
    "    results_summary, \n",
    "    get_experiments, \n",
    "    run_all_experiments,\n",
    "    summary_of_experiments\n",
    ")"
   ]
  },
  {
   "cell_type": "markdown",
   "id": "c5f3eaac-e30a-4cbf-a5d7-8de23a744642",
   "metadata": {},
   "source": [
    "### 1.3. CCU stage 2 code\n",
    "\n",
    "> Note that we give stage 2 code alias for their functions (as the function and class names same in both modules). "
   ]
  },
  {
   "cell_type": "code",
   "execution_count": 3,
   "id": "3a9b771e-d381-4661-9365-867b53f36920",
   "metadata": {},
   "outputs": [],
   "source": [
    "from ccu_formatted_code_stage2 import (\n",
    "    Experiment as ExperimentS2, \n",
    "    multiple_replications as multiple_replicationsS2, \n",
    "    results_summary as results_summaryS2,\n",
    "    get_experiments as get_experimentsS2,\n",
    "    run_all_experiments as run_all_experimentsS2,\n",
    "    summary_of_experiments as summary_of_experimentsS2\n",
    ")"
   ]
  },
  {
   "cell_type": "markdown",
   "id": "1560f20e-560b-43f0-ac61-8673568ca75d",
   "metadata": {},
   "source": [
    "## 2. Table Formatting functions\n",
    "\n",
    "These functions modify and combine the outputs from two models so that they are suitable for an academic paper."
   ]
  },
  {
   "cell_type": "code",
   "execution_count": 4,
   "id": "38fae7d9-c852-48e2-a092-d3fd18ac74a9",
   "metadata": {},
   "outputs": [],
   "source": [
    "def format_stage_table(model_results: pd.DataFrame, stage: str) -> pd.DataFrame:\n",
    "    \"\"\"\n",
    "    Each model produces a slightly different format of results table \n",
    "    (different headers). This function updates to a common col and row \n",
    "    header format.\n",
    "    \"\"\"\n",
    "    # recode KPI names\n",
    "    common_var_names = {\n",
    "        \"Total Cancelled Elective Operations\": \n",
    "            \"1. Cancelled Elective Operations\",\n",
    "        \"Cancelled Elective Operations\": \"1. Cancelled Elective Operations\",\n",
    "        \"Bed Utilization\": \"2. Bed Utilization\",\n",
    "        \"Bed Occupancy\": \"3. Bed Occupancy\",\n",
    "        \"Mean Waiting Time Unplanned\": \n",
    "            \"4. Mean Unplanned Admission Waiting Time (hours)\",\n",
    "        \"Patient Count\": \"0. Patient Count\",\n",
    "        \"Mean Unplanned Admission Waiting Time (hours)\":\n",
    "            \"4. Mean Unplanned Admission Waiting Time (hours)\"\n",
    "    }\n",
    "    \n",
    "    # record stage 1 column names to be identical to stage 2\n",
    "    recoded_columns_names = {i:f'{name}' for i, \n",
    "                             name in zip(range(len(results_stage_2.columns)), \n",
    "                                         results_stage_2.columns)}\n",
    "\n",
    "    # create common format\n",
    "    df = (model_results\n",
    "          .rename(common_var_names)\n",
    "          .pipe(lambda d: d.set_axis(range(d.shape[1]), axis=1))\n",
    "          .rename(columns=recoded_columns_names)\n",
    "          .sort_index()\n",
    "          )\n",
    "    # give columns simpler headers for mean (std)\n",
    "    for i in range(23, 29):\n",
    "        df[f'{i} beds'] = df[f'Experiment with {i} beds_mean'].map('{:,.1f}'.format) \\\n",
    "            + ' (' + df[f'Experiment with {i} beds_std'].map('{:,.2f}'.format) \\\n",
    "            + \")\"\n",
    "        \n",
    "        df = df.drop([f'Experiment with {i} beds_mean', \n",
    "                      f'Experiment with {i} beds_std'], axis=1)\n",
    "\n",
    "    df['Study Stage'] = [stage for _ in range(len(df))]\n",
    "    df[['Study Stage'] + df.columns[:-1].tolist()]\n",
    "    df = df.reset_index()\n",
    "    df = df.rename(columns={\"index\":\"metric\"})\n",
    "    df = df.set_index('Study Stage')\n",
    "    return df"
   ]
  },
  {
   "cell_type": "code",
   "execution_count": 5,
   "id": "2e37fdf9-ab2c-45f8-b29d-d274cc5df20b",
   "metadata": {},
   "outputs": [],
   "source": [
    "def create_formatted_latex_table(formatted_stage_1: pd.DataFrame, \n",
    "                                 formatted_stage_2: pd.DataFrame) -> pd.DataFrame:                            \n",
    "    \"\"\"Combine results tables from stage 1 and 2 into a formatted\n",
    "    LaTeX table for manuscript.\n",
    "    \"\"\"\n",
    "    combined_results = pd.concat([formatted_stage_1, formatted_stage_2])\n",
    "    combined_results = combined_results.reset_index()\n",
    "    combined_results = combined_results.set_index([\"Study Stage\", \"metric\"])\n",
    "    return combined_results"
   ]
  },
  {
   "cell_type": "markdown",
   "id": "50170488-1fce-4ba3-b637-e9bf1012e0e7",
   "metadata": {},
   "source": [
    "## 3. Run experiments with both models\n",
    "\n",
    "Here we run a batch of experiments that vary the capacity of the CCU beds between 23 and 28.  We run multiple experiments to test that the models produce the same results when parameters are updated.\n",
    "\n",
    "### 3.1 Stage 1 results"
   ]
  },
  {
   "cell_type": "code",
   "execution_count": 6,
   "id": "8717b295-b150-4970-96d2-1f91e13ab034",
   "metadata": {},
   "outputs": [],
   "source": [
    "def run_stage_1_batch_experiments():\n",
    "    \"\"\"Script to vary capacity between 23 and 28\n",
    "    in the stage 1 model.\n",
    "    \"\"\"\n",
    "    experiments = get_experiments()\n",
    "    \n",
    "    # 2. run all experiments in a batch (5 replications each)\n",
    "    all_results = run_all_experiments(experiments, 5)\n",
    "    \n",
    "    # 3. display results summary (2dp)\n",
    "    summary = summary_of_experiments(all_results).round(2)\n",
    "    \n",
    "    # show results\n",
    "    return summary"
   ]
  },
  {
   "cell_type": "code",
   "execution_count": 7,
   "id": "95b7a08b-28cc-4b1c-9515-d538a593194e",
   "metadata": {},
   "outputs": [
    {
     "name": "stdout",
     "output_type": "stream",
     "text": [
      "Running experiment: Experiment_23\n",
      "Running experiment: Experiment_24\n",
      "Running experiment: Experiment_25\n",
      "Running experiment: Experiment_26\n",
      "Running experiment: Experiment_27\n",
      "Running experiment: Experiment_28\n"
     ]
    }
   ],
   "source": [
    "results_stage_1 = run_stage_1_batch_experiments()"
   ]
  },
  {
   "cell_type": "markdown",
   "id": "872d7c2d-15a7-4c83-a980-d3cd05ffad0b",
   "metadata": {},
   "source": [
    "### 3.2 Stage 2 results"
   ]
  },
  {
   "cell_type": "code",
   "execution_count": 8,
   "id": "cabf08bc-2714-44cc-8f41-ef52cb1503df",
   "metadata": {},
   "outputs": [],
   "source": [
    "def run_stage_2_batch_experiments():\n",
    "    \"\"\"Script to vary capacity between 23 and 28\n",
    "    in the stage 2 model.\n",
    "    \"\"\"\n",
    "    experiments_stage_2 = get_experimentsS2()\n",
    "\n",
    "    # 2. run all experiments in a batch (5 replications each)\n",
    "    all_results_stage_2 = run_all_experimentsS2(experiments_stage_2, 5)\n",
    "    \n",
    "    # 3. display results summary (2dp)\n",
    "    summary_stage_2 = summary_of_experimentsS2(all_results_stage_2).round(2)\n",
    "    \n",
    "    # show results\n",
    "    return summary_stage_2"
   ]
  },
  {
   "cell_type": "code",
   "execution_count": 9,
   "id": "5cccaa39-4d7a-4fd8-8f22-319793f7e9e0",
   "metadata": {},
   "outputs": [
    {
     "name": "stdout",
     "output_type": "stream",
     "text": [
      "Running Experiment with 23 beds\n",
      "Running Experiment with 24 beds\n",
      "Running Experiment with 25 beds\n",
      "Running Experiment with 26 beds\n",
      "Running Experiment with 27 beds\n",
      "Running Experiment with 28 beds\n"
     ]
    }
   ],
   "source": [
    "results_stage_2 = run_stage_2_batch_experiments()"
   ]
  },
  {
   "cell_type": "markdown",
   "id": "25759c10-fb5f-472c-b256-338f83bcaa04",
   "metadata": {},
   "source": [
    "## 3. Format and combine results into a single table\n",
    "\n",
    "To summarise the results we combine the experiments from the two models into a single summary table.  Each column shows the mean (standard deviation) for a different number of beds between 23 and 28"
   ]
  },
  {
   "cell_type": "code",
   "execution_count": 10,
   "id": "bf9617f4-cc65-4ff0-8eac-56eb9466ae50",
   "metadata": {},
   "outputs": [
    {
     "data": {
      "text/html": [
       "<div>\n",
       "<style scoped>\n",
       "    .dataframe tbody tr th:only-of-type {\n",
       "        vertical-align: middle;\n",
       "    }\n",
       "\n",
       "    .dataframe tbody tr th {\n",
       "        vertical-align: top;\n",
       "    }\n",
       "\n",
       "    .dataframe thead th {\n",
       "        text-align: right;\n",
       "    }\n",
       "</style>\n",
       "<table border=\"1\" class=\"dataframe\">\n",
       "  <thead>\n",
       "    <tr style=\"text-align: right;\">\n",
       "      <th></th>\n",
       "      <th></th>\n",
       "      <th>23 beds</th>\n",
       "      <th>24 beds</th>\n",
       "      <th>25 beds</th>\n",
       "      <th>26 beds</th>\n",
       "      <th>27 beds</th>\n",
       "      <th>28 beds</th>\n",
       "    </tr>\n",
       "    <tr>\n",
       "      <th>Study Stage</th>\n",
       "      <th>metric</th>\n",
       "      <th></th>\n",
       "      <th></th>\n",
       "      <th></th>\n",
       "      <th></th>\n",
       "      <th></th>\n",
       "      <th></th>\n",
       "    </tr>\n",
       "  </thead>\n",
       "  <tbody>\n",
       "    <tr>\n",
       "      <th rowspan=\"5\" valign=\"top\">Stage 1</th>\n",
       "      <th>0. Patient Count</th>\n",
       "      <td>1,650.4 (17.83)</td>\n",
       "      <td>1,650.4 (17.83)</td>\n",
       "      <td>1,650.4 (17.83)</td>\n",
       "      <td>1,650.4 (17.83)</td>\n",
       "      <td>1,650.4 (17.83)</td>\n",
       "      <td>1,650.4 (17.83)</td>\n",
       "    </tr>\n",
       "    <tr>\n",
       "      <th>1. Cancelled Elective Operations</th>\n",
       "      <td>390.6 (30.57)</td>\n",
       "      <td>337.8 (38.75)</td>\n",
       "      <td>279.0 (39.13)</td>\n",
       "      <td>231.4 (33.83)</td>\n",
       "      <td>178.4 (32.46)</td>\n",
       "      <td>139.8 (27.58)</td>\n",
       "    </tr>\n",
       "    <tr>\n",
       "      <th>2. Bed Utilization</th>\n",
       "      <td>0.9 (0.02)</td>\n",
       "      <td>0.9 (0.02)</td>\n",
       "      <td>0.9 (0.02)</td>\n",
       "      <td>0.9 (0.02)</td>\n",
       "      <td>0.8 (0.02)</td>\n",
       "      <td>0.8 (0.02)</td>\n",
       "    </tr>\n",
       "    <tr>\n",
       "      <th>3. Bed Occupancy</th>\n",
       "      <td>21.3 (0.49)</td>\n",
       "      <td>21.8 (0.50)</td>\n",
       "      <td>22.3 (0.54)</td>\n",
       "      <td>22.6 (0.56)</td>\n",
       "      <td>23.0 (0.58)</td>\n",
       "      <td>23.3 (0.62)</td>\n",
       "    </tr>\n",
       "    <tr>\n",
       "      <th>4. Mean Unplanned Admission Waiting Time (hours)</th>\n",
       "      <td>103.8 (72.08)</td>\n",
       "      <td>62.5 (55.23)</td>\n",
       "      <td>35.0 (29.28)</td>\n",
       "      <td>20.8 (15.59)</td>\n",
       "      <td>12.0 (7.66)</td>\n",
       "      <td>7.0 (3.76)</td>\n",
       "    </tr>\n",
       "    <tr>\n",
       "      <th rowspan=\"5\" valign=\"top\">Stage 2</th>\n",
       "      <th>0. Patient Count</th>\n",
       "      <td>1,650.4 (17.83)</td>\n",
       "      <td>1,650.4 (17.83)</td>\n",
       "      <td>1,650.4 (17.83)</td>\n",
       "      <td>1,650.4 (17.83)</td>\n",
       "      <td>1,650.4 (17.83)</td>\n",
       "      <td>1,650.4 (17.83)</td>\n",
       "    </tr>\n",
       "    <tr>\n",
       "      <th>1. Cancelled Elective Operations</th>\n",
       "      <td>390.6 (30.57)</td>\n",
       "      <td>337.8 (38.75)</td>\n",
       "      <td>279.0 (39.13)</td>\n",
       "      <td>231.4 (33.83)</td>\n",
       "      <td>178.4 (32.46)</td>\n",
       "      <td>139.8 (27.58)</td>\n",
       "    </tr>\n",
       "    <tr>\n",
       "      <th>2. Bed Utilization</th>\n",
       "      <td>0.9 (0.02)</td>\n",
       "      <td>0.9 (0.02)</td>\n",
       "      <td>0.9 (0.02)</td>\n",
       "      <td>0.9 (0.02)</td>\n",
       "      <td>0.8 (0.02)</td>\n",
       "      <td>0.8 (0.02)</td>\n",
       "    </tr>\n",
       "    <tr>\n",
       "      <th>3. Bed Occupancy</th>\n",
       "      <td>21.3 (0.49)</td>\n",
       "      <td>21.8 (0.50)</td>\n",
       "      <td>22.3 (0.54)</td>\n",
       "      <td>22.6 (0.56)</td>\n",
       "      <td>23.0 (0.58)</td>\n",
       "      <td>23.3 (0.62)</td>\n",
       "    </tr>\n",
       "    <tr>\n",
       "      <th>4. Mean Unplanned Admission Waiting Time (hours)</th>\n",
       "      <td>103.8 (72.08)</td>\n",
       "      <td>62.5 (55.23)</td>\n",
       "      <td>35.0 (29.28)</td>\n",
       "      <td>20.8 (15.59)</td>\n",
       "      <td>12.0 (7.66)</td>\n",
       "      <td>7.0 (3.76)</td>\n",
       "    </tr>\n",
       "  </tbody>\n",
       "</table>\n",
       "</div>"
      ],
      "text/plain": [
       "                                                                      23 beds  \\\n",
       "Study Stage metric                                                              \n",
       "Stage 1     0. Patient Count                                  1,650.4 (17.83)   \n",
       "            1. Cancelled Elective Operations                    390.6 (30.57)   \n",
       "            2. Bed Utilization                                     0.9 (0.02)   \n",
       "            3. Bed Occupancy                                      21.3 (0.49)   \n",
       "            4. Mean Unplanned Admission Waiting Time (hours)    103.8 (72.08)   \n",
       "Stage 2     0. Patient Count                                  1,650.4 (17.83)   \n",
       "            1. Cancelled Elective Operations                    390.6 (30.57)   \n",
       "            2. Bed Utilization                                     0.9 (0.02)   \n",
       "            3. Bed Occupancy                                      21.3 (0.49)   \n",
       "            4. Mean Unplanned Admission Waiting Time (hours)    103.8 (72.08)   \n",
       "\n",
       "                                                                      24 beds  \\\n",
       "Study Stage metric                                                              \n",
       "Stage 1     0. Patient Count                                  1,650.4 (17.83)   \n",
       "            1. Cancelled Elective Operations                    337.8 (38.75)   \n",
       "            2. Bed Utilization                                     0.9 (0.02)   \n",
       "            3. Bed Occupancy                                      21.8 (0.50)   \n",
       "            4. Mean Unplanned Admission Waiting Time (hours)     62.5 (55.23)   \n",
       "Stage 2     0. Patient Count                                  1,650.4 (17.83)   \n",
       "            1. Cancelled Elective Operations                    337.8 (38.75)   \n",
       "            2. Bed Utilization                                     0.9 (0.02)   \n",
       "            3. Bed Occupancy                                      21.8 (0.50)   \n",
       "            4. Mean Unplanned Admission Waiting Time (hours)     62.5 (55.23)   \n",
       "\n",
       "                                                                      25 beds  \\\n",
       "Study Stage metric                                                              \n",
       "Stage 1     0. Patient Count                                  1,650.4 (17.83)   \n",
       "            1. Cancelled Elective Operations                    279.0 (39.13)   \n",
       "            2. Bed Utilization                                     0.9 (0.02)   \n",
       "            3. Bed Occupancy                                      22.3 (0.54)   \n",
       "            4. Mean Unplanned Admission Waiting Time (hours)     35.0 (29.28)   \n",
       "Stage 2     0. Patient Count                                  1,650.4 (17.83)   \n",
       "            1. Cancelled Elective Operations                    279.0 (39.13)   \n",
       "            2. Bed Utilization                                     0.9 (0.02)   \n",
       "            3. Bed Occupancy                                      22.3 (0.54)   \n",
       "            4. Mean Unplanned Admission Waiting Time (hours)     35.0 (29.28)   \n",
       "\n",
       "                                                                      26 beds  \\\n",
       "Study Stage metric                                                              \n",
       "Stage 1     0. Patient Count                                  1,650.4 (17.83)   \n",
       "            1. Cancelled Elective Operations                    231.4 (33.83)   \n",
       "            2. Bed Utilization                                     0.9 (0.02)   \n",
       "            3. Bed Occupancy                                      22.6 (0.56)   \n",
       "            4. Mean Unplanned Admission Waiting Time (hours)     20.8 (15.59)   \n",
       "Stage 2     0. Patient Count                                  1,650.4 (17.83)   \n",
       "            1. Cancelled Elective Operations                    231.4 (33.83)   \n",
       "            2. Bed Utilization                                     0.9 (0.02)   \n",
       "            3. Bed Occupancy                                      22.6 (0.56)   \n",
       "            4. Mean Unplanned Admission Waiting Time (hours)     20.8 (15.59)   \n",
       "\n",
       "                                                                      27 beds  \\\n",
       "Study Stage metric                                                              \n",
       "Stage 1     0. Patient Count                                  1,650.4 (17.83)   \n",
       "            1. Cancelled Elective Operations                    178.4 (32.46)   \n",
       "            2. Bed Utilization                                     0.8 (0.02)   \n",
       "            3. Bed Occupancy                                      23.0 (0.58)   \n",
       "            4. Mean Unplanned Admission Waiting Time (hours)      12.0 (7.66)   \n",
       "Stage 2     0. Patient Count                                  1,650.4 (17.83)   \n",
       "            1. Cancelled Elective Operations                    178.4 (32.46)   \n",
       "            2. Bed Utilization                                     0.8 (0.02)   \n",
       "            3. Bed Occupancy                                      23.0 (0.58)   \n",
       "            4. Mean Unplanned Admission Waiting Time (hours)      12.0 (7.66)   \n",
       "\n",
       "                                                                      28 beds  \n",
       "Study Stage metric                                                             \n",
       "Stage 1     0. Patient Count                                  1,650.4 (17.83)  \n",
       "            1. Cancelled Elective Operations                    139.8 (27.58)  \n",
       "            2. Bed Utilization                                     0.8 (0.02)  \n",
       "            3. Bed Occupancy                                      23.3 (0.62)  \n",
       "            4. Mean Unplanned Admission Waiting Time (hours)       7.0 (3.76)  \n",
       "Stage 2     0. Patient Count                                  1,650.4 (17.83)  \n",
       "            1. Cancelled Elective Operations                    139.8 (27.58)  \n",
       "            2. Bed Utilization                                     0.8 (0.02)  \n",
       "            3. Bed Occupancy                                      23.3 (0.62)  \n",
       "            4. Mean Unplanned Admission Waiting Time (hours)       7.0 (3.76)  "
      ]
     },
     "execution_count": 10,
     "metadata": {},
     "output_type": "execute_result"
    }
   ],
   "source": [
    "formatted_stage_1 = format_stage_table(results_stage_1, \"Stage 1\")\n",
    "formatted_stage_2 = format_stage_table(results_stage_2, \"Stage 2\")\n",
    "combined_results = create_formatted_latex_table(formatted_stage_1,\n",
    "                                                formatted_stage_2)\n",
    "combined_results"
   ]
  },
  {
   "cell_type": "code",
   "execution_count": 11,
   "id": "7876763d-2680-4822-8617-c5da4757665e",
   "metadata": {},
   "outputs": [],
   "source": [
    "# save results to file to show in results reporting.\n",
    "combined_results.to_csv(\"../04_results/01_CCU/ccu_model_comparison.csv\", \n",
    "                        index=True)"
   ]
  },
  {
   "cell_type": "markdown",
   "id": "c3f67bce-55b1-4f57-8577-b70e33825923",
   "metadata": {},
   "source": [
    "## 4. Output formatted results to LaTeX"
   ]
  },
  {
   "cell_type": "code",
   "execution_count": 12,
   "id": "3ee124f6-4b1a-41d7-88d9-3c45a59a82d5",
   "metadata": {},
   "outputs": [
    {
     "name": "stdout",
     "output_type": "stream",
     "text": [
      "\\begin{table}\n",
      "\\caption{Comparison of critical care model outputs: stage 1 versus stage 2 (internal replication). Figures are mean (sd).}\n",
      "\\label{Table:1}\n",
      "\\begin{tabular}{lllllllllll}\n",
      "\\toprule\n",
      "Study Stage & \\multicolumn{5}{r}{Stage 1} & \\multicolumn{5}{r}{Stage 2} \\\\\n",
      "metric & 0. Patient Count & 1. Cancelled Elective Operations & 2. Bed Utilization & 3. Bed Occupancy & 4. Mean Unplanned Admission Waiting Time (hours) & 0. Patient Count & 1. Cancelled Elective Operations & 2. Bed Utilization & 3. Bed Occupancy & 4. Mean Unplanned Admission Waiting Time (hours) \\\\\n",
      "\\midrule\n",
      "23 beds & 1,650.4 (17.83) & 390.6 (30.57) & 0.9 (0.02) & 21.3 (0.49) & 103.8 (72.08) & 1,650.4 (17.83) & 390.6 (30.57) & 0.9 (0.02) & 21.3 (0.49) & 103.8 (72.08) \\\\\n",
      "24 beds & 1,650.4 (17.83) & 337.8 (38.75) & 0.9 (0.02) & 21.8 (0.50) & 62.5 (55.23) & 1,650.4 (17.83) & 337.8 (38.75) & 0.9 (0.02) & 21.8 (0.50) & 62.5 (55.23) \\\\\n",
      "25 beds & 1,650.4 (17.83) & 279.0 (39.13) & 0.9 (0.02) & 22.3 (0.54) & 35.0 (29.28) & 1,650.4 (17.83) & 279.0 (39.13) & 0.9 (0.02) & 22.3 (0.54) & 35.0 (29.28) \\\\\n",
      "26 beds & 1,650.4 (17.83) & 231.4 (33.83) & 0.9 (0.02) & 22.6 (0.56) & 20.8 (15.59) & 1,650.4 (17.83) & 231.4 (33.83) & 0.9 (0.02) & 22.6 (0.56) & 20.8 (15.59) \\\\\n",
      "27 beds & 1,650.4 (17.83) & 178.4 (32.46) & 0.8 (0.02) & 23.0 (0.58) & 12.0 (7.66) & 1,650.4 (17.83) & 178.4 (32.46) & 0.8 (0.02) & 23.0 (0.58) & 12.0 (7.66) \\\\\n",
      "28 beds & 1,650.4 (17.83) & 139.8 (27.58) & 0.8 (0.02) & 23.3 (0.62) & 7.0 (3.76) & 1,650.4 (17.83) & 139.8 (27.58) & 0.8 (0.02) & 23.3 (0.62) & 7.0 (3.76) \\\\\n",
      "\\bottomrule\n",
      "\\end{tabular}\n",
      "\\end{table}\n",
      "\n"
     ]
    }
   ],
   "source": [
    "print(combined_results.T.style.to_latex(\n",
    "    hrules=True, \n",
    "    label=\"Table:1\", \n",
    "    caption=\"Comparison of critical care model outputs: stage 1 versus stage 2 (internal replication). Figures are mean (sd).\")\n",
    "     )"
   ]
  },
  {
   "cell_type": "markdown",
   "id": "a84ec162-9983-4b4b-9180-aa37323b4f5c",
   "metadata": {},
   "source": [
    "## 5. Output to Markdown"
   ]
  },
  {
   "cell_type": "code",
   "execution_count": 13,
   "id": "bd330e12-c2bc-4d44-8368-2efa21dff9b3",
   "metadata": {},
   "outputs": [
    {
     "name": "stdout",
     "output_type": "stream",
     "text": [
      "| Study Stage   | metric                                           | 23 beds         | 24 beds         | 25 beds         | 26 beds         | 27 beds         | 28 beds         |\n",
      "|:--------------|:-------------------------------------------------|:----------------|:----------------|:----------------|:----------------|:----------------|:----------------|\n",
      "| Stage 1       | 0. Patient Count                                 | 1,650.4 (17.83) | 1,650.4 (17.83) | 1,650.4 (17.83) | 1,650.4 (17.83) | 1,650.4 (17.83) | 1,650.4 (17.83) |\n",
      "| Stage 1       | 1. Cancelled Elective Operations                 | 390.6 (30.57)   | 337.8 (38.75)   | 279.0 (39.13)   | 231.4 (33.83)   | 178.4 (32.46)   | 139.8 (27.58)   |\n",
      "| Stage 1       | 2. Bed Utilization                               | 0.9 (0.02)      | 0.9 (0.02)      | 0.9 (0.02)      | 0.9 (0.02)      | 0.8 (0.02)      | 0.8 (0.02)      |\n",
      "| Stage 1       | 3. Bed Occupancy                                 | 21.3 (0.49)     | 21.8 (0.50)     | 22.3 (0.54)     | 22.6 (0.56)     | 23.0 (0.58)     | 23.3 (0.62)     |\n",
      "| Stage 1       | 4. Mean Unplanned Admission Waiting Time (hours) | 103.8 (72.08)   | 62.5 (55.23)    | 35.0 (29.28)    | 20.8 (15.59)    | 12.0 (7.66)     | 7.0 (3.76)      |\n",
      "| Stage 2       | 0. Patient Count                                 | 1,650.4 (17.83) | 1,650.4 (17.83) | 1,650.4 (17.83) | 1,650.4 (17.83) | 1,650.4 (17.83) | 1,650.4 (17.83) |\n",
      "| Stage 2       | 1. Cancelled Elective Operations                 | 390.6 (30.57)   | 337.8 (38.75)   | 279.0 (39.13)   | 231.4 (33.83)   | 178.4 (32.46)   | 139.8 (27.58)   |\n",
      "| Stage 2       | 2. Bed Utilization                               | 0.9 (0.02)      | 0.9 (0.02)      | 0.9 (0.02)      | 0.9 (0.02)      | 0.8 (0.02)      | 0.8 (0.02)      |\n",
      "| Stage 2       | 3. Bed Occupancy                                 | 21.3 (0.49)     | 21.8 (0.50)     | 22.3 (0.54)     | 22.6 (0.56)     | 23.0 (0.58)     | 23.3 (0.62)     |\n",
      "| Stage 2       | 4. Mean Unplanned Admission Waiting Time (hours) | 103.8 (72.08)   | 62.5 (55.23)    | 35.0 (29.28)    | 20.8 (15.59)    | 12.0 (7.66)     | 7.0 (3.76)      |\n"
     ]
    }
   ],
   "source": [
    "print(combined_results.reset_index().to_markdown(index=False))"
   ]
  }
 ],
 "metadata": {
  "kernelspec": {
   "display_name": "Python 3 (ipykernel)",
   "language": "python",
   "name": "python3"
  },
  "language_info": {
   "codemirror_mode": {
    "name": "ipython",
    "version": 3
   },
   "file_extension": ".py",
   "mimetype": "text/x-python",
   "name": "python",
   "nbconvert_exporter": "python",
   "pygments_lexer": "ipython3",
   "version": "3.10.13"
  }
 },
 "nbformat": 4,
 "nbformat_minor": 5
}

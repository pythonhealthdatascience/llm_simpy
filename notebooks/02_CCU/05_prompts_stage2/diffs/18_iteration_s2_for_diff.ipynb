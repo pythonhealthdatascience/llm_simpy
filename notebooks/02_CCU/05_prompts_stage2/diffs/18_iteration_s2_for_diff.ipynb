{
 "cells": [
  {
   "cell_type": "markdown",
   "id": "f80a9659-62b8-45db-b729-698300677ef9",
   "metadata": {},
   "source": [
    "# Iteration 18: batching experiments\n",
    "\n",
    "## Plain English Summary\n",
    "\n",
    "This is relatively stock code given the approach to model development. We add in three functions. One function to create six experiments that vary the number of beds between 23 and 28.  One function to run all of these experiments and store their results. And a final function to combined the results into a single summary table.\n"
   ]
  },
  {
   "cell_type": "markdown",
   "id": "2e3176fc-587b-434d-a3d2-ee98f6501b7e",
   "metadata": {},
   "source": [
    "## Notebook imports"
   ]
  },
  {
   "cell_type": "code",
   "execution_count": 2,
   "id": "c55ce33a-76d3-45a4-a286-3d3afd633dce",
   "metadata": {},
   "outputs": [],
   "source": [
    "from IPython.display import Markdown, display\n",
    "\n",
    "import numpy as np\n",
    "import pandas as pd\n",
    "import math\n",
    "\n",
    "import simpy"
   ]
  },
  {
   "cell_type": "markdown",
   "id": "a55c3ecc-617e-419e-8fb5-f4559bbc45c6",
   "metadata": {},
   "source": [
    "## LLM Prompt"
   ]
  },
  {
   "cell_type": "code",
   "execution_count": 3,
   "id": "b2ec31fa-8440-403e-b7e7-aa24eaf705f1",
   "metadata": {},
   "outputs": [
    {
     "data": {
      "text/markdown": [
       "code a new function called \"get_experiments\".  The function should create six Experiment objects.  The experiments vary the number of critical care beds.  Starting at 23 and increasing to 28.  The function should return a dictionary containing an appropriate name for each experiment as the key and the Experiment object as the value.\n",
       "\n",
       "code a new function called \"run_all_experiments\".  The function should accept a dictionary and the number of replications as parameters. The function should loop through each key value pair in the dictionary. On each iteration the following actions are performed:\n",
       "\n",
       "1. Informs the user of the name of the current experiment\n",
       "1. Create an instance of the CCUModel using the current experiment\n",
       "2. Call the multiple_replications function\n",
       "3. Summarise the results of the experiment using the \"results_summary\" function.\n",
       "4. Store the summary dataframe in a dictionary.\n",
       "\n",
       "Return the summary.\n",
       "\n",
       "code a new function called \"summary_of_experiments\". The function should accept a dictionary containing a summaries of multiple experiments. The function should combined the summaries into an overall dataframe.  The columns of the dataframe should be the name of the experiments.  \n",
       "\n",
       "Return the dataframe.\n",
       "\n",
       "only show the code for these three functions.\n"
      ],
      "text/plain": [
       "<IPython.core.display.Markdown object>"
      ]
     },
     "metadata": {},
     "output_type": "display_data"
    }
   ],
   "source": [
    "display(Markdown(\"../01_perplexity/inputs/iteration_18.md\"))"
   ]
  },
  {
   "cell_type": "markdown",
   "id": "33dcc018-7a80-4c3f-9994-6103be666c64",
   "metadata": {},
   "source": [
    "## Date and time of input to LLM\n",
    "\n",
    "> 1930 17th June 2024"
   ]
  },
  {
   "cell_type": "markdown",
   "id": "8f3e6afd-fa01-4b3c-a547-bf7251e6d886",
   "metadata": {
    "jp-MarkdownHeadingCollapsed": true
   },
   "source": [
    "## Sources\n",
    "\n",
    "None reported"
   ]
  },
  {
   "cell_type": "markdown",
   "id": "c7329706-d5b3-4392-9f6d-36ba96024902",
   "metadata": {},
   "source": [
    "## Observations on the LLM Output\n",
    "\n",
    "* As expected these functions are similar to our stock code from our [tutorial paper](https://www.ncbi.nlm.nih.gov/pmc/articles/PMC10593330/).\n",
    "* The functions are very similar to stage 1 for the same reason.\n",
    "* An extra prompt was used to label experiment numbers in column headers"
   ]
  },
  {
   "cell_type": "markdown",
   "id": "f1f702d0-7aff-406d-8c86-d24bf494b62f",
   "metadata": {},
   "source": [
    "## LLM Output 1:"
   ]
  },
  {
   "cell_type": "code",
   "execution_count": null,
   "id": "1e31eb9c-7d50-4523-aefa-16026b9f6ebd",
   "metadata": {},
   "outputs": [],
   "source": [
    "import streamlit as st\n",
    "import pandas as pd\n",
    "\n",
    "def main():\n",
    "    st.title(\"CCU Simulation\")\n",
    "\n",
    "    # Create a button to trigger the simulation\n",
    "    if st.button(\"Simulate\"):\n",
    "        # Display a spinner while the simulation is running\n",
    "        with st.spinner(\"Please wait for results...\"):\n",
    "            # Call the multiple_replications function\n",
    "            experiment = Experiment(trace=False)\n",
    "            results = multiple_replications(experiment, num_replications=5)\n",
    "\n",
    "            # Call the results_summary function\n",
    "            summary = results_summary(results)\n",
    "\n",
    "        # Display the results as a DataFrame\n",
    "        st.subheader(\"Simulation Results\")\n",
    "        st.dataframe(summary)\n",
    "\n",
    "if __name__ == \"__main__\":\n",
    "    main()\n"
   ]
  },
  {
   "cell_type": "code",
   "execution_count": null,
   "id": "6d1fe371-fe8b-4431-ab17-a153ead9b3a4",
   "metadata": {},
   "outputs": [],
   "source": [
    "def get_experiments():\n",
    "    experiments = {}\n",
    "    for num_beds in range(23, 29):\n",
    "        experiment_name = f\"Experiment with {num_beds} beds\"\n",
    "        experiment = Experiment(num_critical_care_beds=num_beds)\n",
    "        experiments[experiment_name] = experiment\n",
    "    return experiments\n",
    "\n",
    "def run_all_experiments(experiments, num_replications):\n",
    "    experiment_summaries = {}\n",
    "    for experiment_name, experiment in experiments.items():\n",
    "        print(f\"Running {experiment_name}\")\n",
    "        env = simpy.Environment()\n",
    "        ccu = CCU(env, experiment)\n",
    "        results = multiple_replications(experiment, num_replications)\n",
    "        summary = results_summary(results)\n",
    "        experiment_summaries[experiment_name] = summary\n",
    "    return experiment_summaries\n",
    "\n",
    "def summary_of_experiments(experiment_summaries):\n",
    "    summary_df = pd.DataFrame()\n",
    "    for experiment_name, summary in experiment_summaries.items():\n",
    "        if summary_df.empty:\n",
    "            summary_df = summary\n",
    "            summary_df = summary_df.add_prefix(f\"{experiment_name}_\")\n",
    "        else:\n",
    "            summary = summary.add_prefix(f\"{experiment_name}_\")\n",
    "            summary_df = pd.concat([summary_df, summary], axis=1)\n",
    "    return summary_df\n"
   ]
  },
  {
   "cell_type": "markdown",
   "id": "4b86cbe2-c46a-458a-a397-526e95817041",
   "metadata": {},
   "source": [
    "##  Code from prior iterations"
   ]
  },
  {
   "cell_type": "code",
   "execution_count": null,
   "id": "baccae2e-c3ee-4683-98f8-077f028ea2f0",
   "metadata": {},
   "outputs": [],
   "source": [
    "import numpy as np\n",
    "import pandas as pd\n",
    "\n",
    "def multiple_replications(experiment, num_replications=5):\n",
    "    all_results = []\n",
    "    for i in range(num_replications):\n",
    "        experiment.setup_streams(i)  # Call setup_streams method\n",
    "        env = simpy.Environment()\n",
    "        ccu = CCU(env, experiment)\n",
    "        ccu.reset_kpi()\n",
    "        results = ccu.run()\n",
    "        results['Replication'] = i + 1\n",
    "        all_results.append(results)\n",
    "    combined_results = pd.concat(all_results, ignore_index=True)\n",
    "    return combined_results\n",
    "\n",
    "def results_summary(results_df):\n",
    "    # Drop the replication column\n",
    "    results_df = results_df.drop('Replication', axis=1)\n",
    "\n",
    "    # Calculate the mean and standard deviation of each column\n",
    "    summary_df = results_df.describe().loc[['mean', 'std']].T\n",
    "\n",
    "    return summary_df\n",
    "\n",
    "\n",
    "class Experiment:\n",
    "    def __init__(self, \n",
    "                 accident_emergency_arrival_rate=22.72, \n",
    "                 wards_arrival_rate=26.0, \n",
    "                 emergency_surgery_arrival_rate=37.0, \n",
    "                 other_hospitals_arrival_rate=47.2, \n",
    "                 xray_department_arrival_rate=575.0, \n",
    "                 elective_surgery_arrival_rate=17.91, \n",
    "                 elective_surgery_arrival_std_dev=3.16, \n",
    "                 accident_emergency_lognormal_mu=128.79, \n",
    "                 accident_emergency_lognormal_sigma=267.51, \n",
    "                 wards_lognormal_mu=177.89, \n",
    "                 wards_lognormal_sigma=276.54, \n",
    "                 emergency_surgery_lognormal_mu=140.15, \n",
    "                 emergency_surgery_lognormal_sigma=218.02, \n",
    "                 other_hospitals_lognormal_mu=212.86, \n",
    "                 other_hospitals_lognormal_sigma=457.67, \n",
    "                 xray_department_lognormal_mu=87.53, \n",
    "                 xray_department_lognormal_sigma=108.67, \n",
    "                 elective_surgery_treatment_rate=57.34, \n",
    "                 num_critical_care_beds=24, \n",
    "                 intensive_cleaning_duration=5, \n",
    "                 results_collection_period=12 * 30 * 24, \n",
    "                 warm_up_period=30 * 24, \n",
    "                 trace=False, \n",
    "                 random_number_set=0):\n",
    "        self.accident_emergency_arrival_rate = accident_emergency_arrival_rate\n",
    "        self.wards_arrival_rate = wards_arrival_rate\n",
    "        self.emergency_surgery_arrival_rate = emergency_surgery_arrival_rate\n",
    "        self.other_hospitals_arrival_rate = other_hospitals_arrival_rate\n",
    "        self.xray_department_arrival_rate = xray_department_arrival_rate\n",
    "        self.elective_surgery_arrival_rate = elective_surgery_arrival_rate\n",
    "        self.elective_surgery_arrival_std_dev = elective_surgery_arrival_std_dev\n",
    "        self.accident_emergency_lognormal_mu = accident_emergency_lognormal_mu\n",
    "        self.accident_emergency_lognormal_sigma = accident_emergency_lognormal_sigma\n",
    "        self.wards_lognormal_mu = wards_lognormal_mu\n",
    "        self.wards_lognormal_sigma = wards_lognormal_sigma\n",
    "        self.emergency_surgery_lognormal_mu = emergency_surgery_lognormal_mu\n",
    "        self.emergency_surgery_lognormal_sigma = emergency_surgery_lognormal_sigma\n",
    "        self.other_hospitals_lognormal_mu = other_hospitals_lognormal_mu\n",
    "        self.other_hospitals_lognormal_sigma = other_hospitals_lognormal_sigma\n",
    "        self.xray_department_lognormal_mu = xray_department_lognormal_mu\n",
    "        self.xray_department_lognormal_sigma = xray_department_lognormal_sigma\n",
    "        self.elective_surgery_treatment_rate = elective_surgery_treatment_rate\n",
    "        self.num_critical_care_beds = num_critical_care_beds\n",
    "        self.intensive_cleaning_duration = intensive_cleaning_duration\n",
    "        self.results_collection_period = results_collection_period\n",
    "        self.warm_up_period = warm_up_period\n",
    "        self.total_run_length = self.warm_up_period + self.results_collection_period\n",
    "        self.trace = trace\n",
    "        self.random_number_set = random_number_set\n",
    "        self.rng_accident_emergency = np.random.default_rng()\n",
    "        self.rng_wards = np.random.default_rng()\n",
    "        self.rng_emergency_surgery = np.random.default_rng()\n",
    "        self.rng_other_hospitals = np.random.default_rng()\n",
    "        self.rng_xray_department = np.random.default_rng()\n",
    "        self.rng_elective_surgery = np.random.default_rng()\n",
    "        self.rng_elective_treatment = np.random.default_rng()\n",
    "        self.rng_unplanned_treatment = np.random.default_rng()\n",
    "        self.setup_streams(random_number_set)\n",
    "\n",
    "    def setup_streams(self, random_number_set):\n",
    "        master_stream = np.random.default_rng(random_number_set)\n",
    "        seeds = master_stream.integers(0, np.iinfo(np.int64).max, 12, dtype=np.int64)\n",
    "        self.rng_accident_emergency = np.random.default_rng(seeds[0])\n",
    "        self.rng_wards = np.random.default_rng(seeds[1])\n",
    "        self.rng_emergency_surgery = np.random.default_rng(seeds[2])\n",
    "        self.rng_other_hospitals = np.random.default_rng(seeds[3])\n",
    "        self.rng_xray_department = np.random.default_rng(seeds[4])\n",
    "        self.rng_elective_surgery = np.random.default_rng(seeds[5])\n",
    "        self.rng_unplanned_treatment = np.random.default_rng(seeds[6])\n",
    "        self.rng_elective_treatment = np.random.default_rng(seeds[7])\n",
    "        "
   ]
  },
  {
   "cell_type": "code",
   "execution_count": null,
   "id": "0dee7715-2cb8-45d6-b195-0c542c0290fc",
   "metadata": {},
   "outputs": [],
   "source": [
    "class CCU:\n",
    "    def __init__(self, env, experiment):\n",
    "        self.env = env\n",
    "        self.experiment = experiment\n",
    "        self.patient_id_counter = 0\n",
    "        self.cancelled_operations = 0\n",
    "        self.warmup_end_time = self.experiment.warm_up_period\n",
    "        self.total_unplanned_waiting_time = 0\n",
    "        self.total_unplanned_admissions = 0\n",
    "        self.total_treatment_time = 0\n",
    "        self.critical_care_beds = simpy.Resource(env, capacity=self.experiment.num_critical_care_beds)\n",
    "\n",
    "    def lognormal_to_normal(self, mu, sigma):\n",
    "        zeta = np.log(mu**2 / np.sqrt(sigma**2 + mu**2))\n",
    "        sigma_norm = np.sqrt(np.log(sigma**2 / mu**2 + 1))\n",
    "        mu_norm = zeta\n",
    "        return mu_norm, sigma_norm\n",
    "\n",
    "    def warmup_complete(self):\n",
    "        yield self.env.timeout(self.warmup_end_time)\n",
    "        self.patient_id_counter = 0\n",
    "        if self.experiment.trace:\n",
    "            print(\"Warm-up complete\")\n",
    "\n",
    "    def reset_kpi(self):\n",
    "        \"\"\"Reset all performance measures to their original values\"\"\"\n",
    "        self.cancelled_operations = 0\n",
    "        self.total_unplanned_waiting_time = 0\n",
    "        self.total_unplanned_admissions = 0\n",
    "        self.total_treatment_time = 0\n",
    "        self.patient_id_counter = 0  # Reset patient_id_counter\n",
    "\n",
    "    def accident_emergency_arrivals(self):\n",
    "        while True:\n",
    "            yield self.env.timeout(self.experiment.rng_accident_emergency.exponential(self.experiment.accident_emergency_arrival_rate))\n",
    "            self.patient_id_counter += 1\n",
    "            if self.experiment.trace:\n",
    "                print(f\"Patient {self.patient_id_counter} arrived from Accident and Emergency at {self.env.now:.2f} hours\")\n",
    "            self.env.process(self.unplanned_admissions_process(\"Accident and Emergency\"))\n",
    "\n",
    "    def wards_arrivals(self):\n",
    "        while True:\n",
    "            yield self.env.timeout(self.experiment.rng_wards.exponential(self.experiment.wards_arrival_rate))\n",
    "            self.patient_id_counter += 1\n",
    "            if self.experiment.trace:\n",
    "                print(f\"Patient {self.patient_id_counter} arrived from the Wards at {self.env.now:.2f} hours\")\n",
    "            self.env.process(self.unplanned_admissions_process(\"Wards\"))\n",
    "\n",
    "    def emergency_surgery_arrivals(self):\n",
    "        while True:\n",
    "            yield self.env.timeout(self.experiment.rng_emergency_surgery.exponential(self.experiment.emergency_surgery_arrival_rate))\n",
    "            self.patient_id_counter += 1\n",
    "            if self.experiment.trace:\n",
    "                print(f\"Patient {self.patient_id_counter} arrived from Emergency Surgery at {self.env.now:.2f} hours\")\n",
    "            self.env.process(self.unplanned_admissions_process(\"Emergency Surgery\"))\n",
    "\n",
    "    def other_hospitals_arrivals(self):\n",
    "        while True:\n",
    "            yield self.env.timeout(self.experiment.rng_other_hospitals.exponential(self.experiment.other_hospitals_arrival_rate))\n",
    "            self.patient_id_counter += 1\n",
    "            if self.experiment.trace:\n",
    "                print(f\"Patient {self.patient_id_counter} arrived from Other Hospitals at {self.env.now:.2f} hours\")\n",
    "            self.env.process(self.unplanned_admissions_process(\"Other Hospitals\"))\n",
    "\n",
    "    def xray_department_arrivals(self):\n",
    "        while True:\n",
    "            yield self.env.timeout(self.experiment.rng_xray_department.exponential(self.experiment.xray_department_arrival_rate))\n",
    "            self.patient_id_counter += 1\n",
    "            if self.experiment.trace:\n",
    "                print(f\"Patient {self.patient_id_counter} arrived from the X-Ray Department at {self.env.now:.2f} hours\")\n",
    "            self.env.process(self.unplanned_admissions_process(\"X-Ray Department\"))\n",
    "\n",
    "    def elective_surgery_arrivals(self):\n",
    "        while True:\n",
    "            yield self.env.timeout(self.experiment.rng_elective_surgery.normal(self.experiment.elective_surgery_arrival_rate, self.experiment.elective_surgery_arrival_std_dev))\n",
    "            self.patient_id_counter += 1\n",
    "            if self.experiment.trace:\n",
    "                print(f\"Elective Patient {self.patient_id_counter} arrived at {self.env.now:.2f} hours\")\n",
    "            self.env.process(self.elective_admissions_process())\n",
    "\n",
    "    def unplanned_admissions_process(self, source):\n",
    "        patient_id = self.patient_id_counter\n",
    "        if self.experiment.trace:\n",
    "            print(f\"Patient {patient_id} from {source} requests a critical care bed at {self.env.now:.2f} hours\")\n",
    "        waiting_time = self.env.now\n",
    "        with self.critical_care_beds.request() as req:\n",
    "            yield req\n",
    "            waiting_time = self.env.now - waiting_time\n",
    "            if self.experiment.trace:\n",
    "                print(f\"Patient {patient_id} from {source} waited {waiting_time:.2f} hours\")\n",
    "                print(f\"Patient {patient_id} from {source} admitted to a critical care bed at {self.env.now:.2f} hours\")\n",
    "            if source == \"Accident and Emergency\":\n",
    "                mu, sigma = self.lognormal_to_normal(self.experiment.accident_emergency_lognormal_mu, self.experiment.accident_emergency_lognormal_sigma)\n",
    "                length_of_stay = self.experiment.rng_unplanned_treatment.lognormal(mu, sigma)\n",
    "            elif source == \"Wards\":\n",
    "                mu, sigma = self.lognormal_to_normal(self.experiment.wards_lognormal_mu, self.experiment.wards_lognormal_sigma)\n",
    "                length_of_stay = self.experiment.rng_unplanned_treatment.lognormal(mu, sigma)\n",
    "            elif source == \"Emergency Surgery\":\n",
    "                mu, sigma = self.lognormal_to_normal(self.experiment.emergency_surgery_lognormal_mu, self.experiment.emergency_surgery_lognormal_sigma)\n",
    "                length_of_stay = self.experiment.rng_unplanned_treatment.lognormal(mu, sigma)\n",
    "            elif source == \"Other Hospitals\":\n",
    "                mu, sigma = self.lognormal_to_normal(self.experiment.other_hospitals_lognormal_mu, self.experiment.other_hospitals_lognormal_sigma)\n",
    "                length_of_stay = self.experiment.rng_unplanned_treatment.lognormal(mu, sigma)\n",
    "            else:\n",
    "                mu, sigma = self.lognormal_to_normal(self.experiment.xray_department_lognormal_mu, self.experiment.xray_department_lognormal_sigma)\n",
    "                length_of_stay = self.experiment.rng_unplanned_treatment.lognormal(mu, sigma)\n",
    "            yield self.env.timeout(length_of_stay)\n",
    "            if self.env.now >= self.warmup_end_time:\n",
    "                self.total_treatment_time += length_of_stay\n",
    "                self.total_unplanned_waiting_time += waiting_time\n",
    "                self.total_unplanned_admissions += 1\n",
    "            if self.experiment.trace:\n",
    "                print(f\"Patient {patient_id} from {source} discharged from a critical care bed at {self.env.now:.2f} hours\")\n",
    "            yield self.env.timeout(self.experiment.intensive_cleaning_duration)\n",
    "            if self.experiment.trace:\n",
    "                print(f\"Intensive cleaning completed for Patient {patient_id} from {source} at {self.env.now:.2f} hours\")\n",
    "\n",
    "    def elective_admissions_process(self):\n",
    "        patient_id = self.patient_id_counter\n",
    "        if self.critical_care_beds.count == self.critical_care_beds.capacity:\n",
    "            if self.env.now >= self.warmup_end_time:\n",
    "                if self.experiment.trace:\n",
    "                    print(f\"Elective Patient {patient_id} operation cancelled at {self.env.now:.2f} hours due to lack of available beds\")\n",
    "                self.cancelled_operations += 1\n",
    "            else:\n",
    "                if self.experiment.trace:\n",
    "                    print(f\"Elective Patient {patient_id} operation cancelled at {self.env.now:.2f} hours due to lack of available beds (warm-up period)\")\n",
    "        else:\n",
    "            if self.experiment.trace:\n",
    "                print(f\"Elective Patient {patient_id} requests a critical care bed at {self.env.now:.2f} hours\")\n",
    "            with self.critical_care_beds.request() as req:\n",
    "                yield req\n",
    "                if self.experiment.trace:\n",
    "                    print(f\"Elective Patient {patient_id} admitted to a critical care bed at {self.env.now:.2f} hours\")\n",
    "                length_of_stay = self.experiment.rng_elective_treatment.exponential(self.experiment.elective_surgery_treatment_rate)\n",
    "                yield self.env.timeout(length_of_stay)\n",
    "                if self.env.now >= self.warmup_end_time:\n",
    "                    self.total_treatment_time += length_of_stay\n",
    "                if self.experiment.trace:\n",
    "                    print(f\"Elective Patient {patient_id} discharged from a critical care bed at {self.env.now:.2f} hours\")\n",
    "                yield self.env.timeout(self.experiment.intensive_cleaning_duration)\n",
    "                if self.experiment.trace:\n",
    "                    print(f\"Intensive cleaning completed for Elective Patient {patient_id} at {self.env.now:.2f} hours\")\n",
    "\n",
    "    def run(self):\n",
    "        accident_emergency_process = self.env.process(self.accident_emergency_arrivals())\n",
    "        wards_process = self.env.process(self.wards_arrivals())\n",
    "        emergency_surgery_process = self.env.process(self.emergency_surgery_arrivals())\n",
    "        other_hospitals_process = self.env.process(self.other_hospitals_arrivals())\n",
    "        xray_department_process = self.env.process(self.xray_department_arrivals())\n",
    "        elective_surgery_process = self.env.process(self.elective_surgery_arrivals())\n",
    "        warmup_complete_process = self.env.process(self.warmup_complete())\n",
    "        self.env.run(until=self.experiment.total_run_length)\n",
    "\n",
    "        # Calculate bed utilization as a proportion\n",
    "        bed_utilization = self.total_treatment_time / (self.experiment.num_critical_care_beds * self.experiment.results_collection_period)\n",
    "\n",
    "        # Calculate bed occupancy\n",
    "        bed_occupancy = bed_utilization * self.experiment.num_critical_care_beds\n",
    "\n",
    "        performance_measures = {\n",
    "            \"Total Cancelled Elective Operations\": self.cancelled_operations,\n",
    "            \"Mean Unplanned Admission Waiting Time (hours)\": self.total_unplanned_waiting_time / self.total_unplanned_admissions if self.total_unplanned_admissions > 0 else 0,\n",
    "            \"Bed Utilization\": bed_utilization,\n",
    "            \"Bed Occupancy\": bed_occupancy,\n",
    "            \"Patient Count\": self.patient_id_counter\n",
    "        }\n",
    "\n",
    "        results_df = pd.DataFrame.from_dict(performance_measures, orient='index').T\n",
    "        return results_df\n"
   ]
  },
  {
   "cell_type": "code",
   "execution_count": null,
   "id": "03f66d45-3aba-4420-a90f-76e6a0763c66",
   "metadata": {},
   "outputs": [],
   "source": [
    "# Example usage (modified by tester)\n",
    "experiment = Experiment(trace=False)\n",
    "results = multiple_replications(experiment, num_replications=5)\n",
    "results_summary(results)"
   ]
  },
  {
   "cell_type": "code",
   "execution_count": null,
   "id": "6af76cfb-56fe-411e-bf91-34348106d12d",
   "metadata": {},
   "outputs": [],
   "source": [
    "# test code (written by tester)\n",
    "experiments = get_experiments()\n",
    "all_results = run_all_experiments(experiments, 5)\n",
    "summary_of_experiments(all_results).round(2)"
   ]
  },
  {
   "cell_type": "markdown",
   "id": "1c97660d-7fd0-4ed7-af75-74c6559c1dd3",
   "metadata": {},
   "source": [
    "## Testing\n",
    "\n",
    "Here we do a number of regression tests to check that previous functionality is not affected by the `multiple_replications` function. \n",
    "\n",
    "* **Extreme value test 1**: Wards, Em Surgery, other hospitals, x-ray have their inter-arrival time is set to $M$ a very large number\n",
    "    * Expected result: The only type of patient to arrive to the model is \"Accident and Emergency.\" **NEW**: there are 0 cancelled electives.\n",
    "    * Actual result **(PASS)**: The only type of patient to arrive to the model is \"Accident and Emergency.\" **NEW**: there are 0 cancelled electives.\n",
    "* **Extreme value test 2**: All unplanned patient types have have their inter-arrival time is set to $M$ a very large number\n",
    "    * Expected result: The only type of patient to arrive to the model is \"Elective.\"\n",
    "    * Actual result **(PASS)**: The only type of patient to arrive to the model is \"Elective.\"\n",
    "* **Different results collection period**: The results collection period of the model is set to 10 hours.\n",
    "    * Expected result: The model runs no longer than warm-up + result collection period = 720 + 10 = 730 simulated time periods\n",
    "    * Actual result **(PASS)**: The model runs no longer than warm-up + result collection period = 720 + 10 = 730 simulated time periods\n",
    "* **Extreme value test 3**: `critical_care_beds` = 1\n",
    "    * Expected result: queues form after first arrival.\n",
    "    * Actual result **(PASS)**: queues form after first arrival. \n",
    "* **Extreme value test 4**: means of stay_distributions set to $M$ a very large number.\n",
    "    * Expected result: after 24 arrivals queues form and no patients are admitted.\n",
    "    * Actual result **(PASS)**: after 24 arrivals queues form and no patients are admitted.\n",
    "* **Vary warm up period**: Vary the warm-up period while holding the results collection period constant.\n",
    "    * Expected result: Run length is equal to the `results_collection_period`\n",
    "    * Actual result **(PASS)**: Run length is equal to the `results_collection_period`\n",
    "* **Repeatable results from multiple reps**: Two separate runs of 5 multiple replications\n",
    "    * Expected: result:  The results summary tables are identical. The difference of the summary tables is 0.\n",
    "    * Actual results **(PASS)**:  The results summary tables are identical. The difference of the summary tables is 0."
   ]
  },
  {
   "cell_type": "code",
   "execution_count": null,
   "id": "9f0b14e1-e38d-453a-97e7-af31cce1e7e4",
   "metadata": {},
   "outputs": [],
   "source": [
    "# The extreme value\n",
    "M = 10_000_000"
   ]
  },
  {
   "cell_type": "markdown",
   "id": "6e04274b-f252-4676-b44e-f6088000f218",
   "metadata": {},
   "source": [
    "### Test 1: Extreme value test 1\n",
    "\n",
    "PASS"
   ]
  },
  {
   "cell_type": "code",
   "execution_count": null,
   "id": "40147960-4a80-47cf-8792-794279d9cec1",
   "metadata": {},
   "outputs": [],
   "source": [
    "def run_test(experiment):\n",
    "    # Create a SimPy environment\n",
    "    env = simpy.Environment()\n",
    "    ccu_model = CCU(env, experiment)\n",
    "    results = ccu_model.run()\n",
    "    return ccu_model, results"
   ]
  },
  {
   "cell_type": "code",
   "execution_count": null,
   "id": "97cebfeb-06ec-478f-b905-9f6e4c3f441d",
   "metadata": {},
   "outputs": [],
   "source": [
    "def extreme_value_test_1(extreme_value=M*5):\n",
    "    '''\n",
    "    Extreme value test 1: \n",
    "    \n",
    "    Wards, Em Surgery, other hospitals, x-ray, electives have their inter-arrival time\n",
    "    set to $M$ a very large number\n",
    "    Expected result: The only type of patient to arrive to the model is \"Accident and Emergency.\"\n",
    "    '''\n",
    "    experiment = Experiment(wards_arrival_rate = extreme_value,\n",
    "                            emergency_surgery_arrival_rate = extreme_value, other_hospitals_arrival_rate = extreme_value,\n",
    "                            xray_department_arrival_rate = extreme_value, elective_surgery_arrival_rate = extreme_value,\n",
    "                            trace=False)\n",
    "    return run_test(experiment)"
   ]
  },
  {
   "cell_type": "code",
   "execution_count": null,
   "id": "a03360f0-a9f3-4bf1-9890-f3bd9fc9001b",
   "metadata": {},
   "outputs": [],
   "source": [
    "model, results = extreme_value_test_1()\n",
    "results"
   ]
  },
  {
   "cell_type": "markdown",
   "id": "1ed93f8c-4af9-4889-8280-ba22df44b41b",
   "metadata": {},
   "source": [
    "### Test 2: Extreme value test 2\n",
    "\n",
    "PASS"
   ]
  },
  {
   "cell_type": "code",
   "execution_count": null,
   "id": "4e42c351-bb72-4d93-b43f-b79bc6eeeca4",
   "metadata": {},
   "outputs": [],
   "source": [
    "def extreme_value_test_2(extreme_value=M*5):\n",
    "    '''\n",
    "    Extreme value test 2: \n",
    "    \n",
    "    All unplanned admissions have their inter-arrival time\n",
    "    set to $M$ a very large number\n",
    "    \n",
    "    Expected result: The only type of patient to arrive to the model is \"Elective\"\n",
    "    '''\n",
    "    experiment = Experiment(accident_emergency_arrival_rate = extreme_value, wards_arrival_rate = extreme_value,\n",
    "                            emergency_surgery_arrival_rate = extreme_value, other_hospitals_arrival_rate = extreme_value,\n",
    "                            xray_department_arrival_rate = extreme_value, trace=True)\n",
    "    return run_test(experiment)"
   ]
  },
  {
   "cell_type": "code",
   "execution_count": null,
   "id": "3fcf1948-bdcf-4db4-835f-6b502f298393",
   "metadata": {},
   "outputs": [],
   "source": [
    "try:\n",
    "    model, results = extreme_value_test_2()\n",
    "except ZeroDivisionError:\n",
    "    print(\"caught zero division error due to extreme value test\")"
   ]
  },
  {
   "cell_type": "markdown",
   "id": "23a6dfc1-a226-43da-805d-62c6e16bc95b",
   "metadata": {},
   "source": [
    "### Test 3: Different run length\n",
    "\n",
    "PASS"
   ]
  },
  {
   "cell_type": "code",
   "execution_count": null,
   "id": "61303ad2-b636-4ffc-9a9f-29a761e31d14",
   "metadata": {},
   "outputs": [],
   "source": [
    "def test_results_collection_period(new_collect_period):\n",
    "    '''\n",
    "    Vary the results collection period while holding the \n",
    "    warm-up period constant.\n",
    "\n",
    "    Expected result Run length should be no longer than `new_run_length`\n",
    "    '''\n",
    "    experiment = Experiment(results_collection_period=new_collect_period)\n",
    "    model, results = run_test(experiment)\n",
    "    print(f'{model.total_treatment_time=}')\n",
    "    print(f'{experiment.results_collection_period=}')\n",
    "    return model.env.now"
   ]
  },
  {
   "cell_type": "code",
   "execution_count": null,
   "id": "4bd7bc04-c616-44a4-8e91-0a62dba38154",
   "metadata": {},
   "outputs": [],
   "source": [
    "try:\n",
    "    test_results_collection_period(10)\n",
    "except ZeroDivisionError:\n",
    "    print(\"caught zero division error due to extreme value test\")"
   ]
  },
  {
   "attachments": {},
   "cell_type": "markdown",
   "id": "1b9400f5-1091-435f-bdf9-06695eac7a68",
   "metadata": {},
   "source": [
    "### Test 4: Extreme value test 3\n",
    "\n",
    "PASS."
   ]
  },
  {
   "cell_type": "code",
   "execution_count": null,
   "id": "bfba1aaa-9423-456d-b983-8d918e361ca4",
   "metadata": {},
   "outputs": [],
   "source": [
    "def extreme_value_test_3(critical_care_beds=1):\n",
    "    '''\n",
    "    Extreme value test 3: \n",
    "    \n",
    "    Critical care beds set to 1 or parameter\n",
    "    \n",
    "    Expected result: when critical_care_beds=1 queues form after first arrival.\n",
    "    Cancellations also begin after 1st arrival.\n",
    "\n",
    "    Note: reported utilisation will not quite be 100% because of the patient still\n",
    "    in service.\n",
    "    \n",
    "    '''\n",
    "    experiment = Experiment(num_critical_care_beds=critical_care_beds)\n",
    "    model, results = run_test(experiment)\n",
    "    print(f'{model.total_treatment_time=}')\n",
    "    print(f'{experiment.results_collection_period=}')\n",
    "    return model, results"
   ]
  },
  {
   "cell_type": "code",
   "execution_count": null,
   "id": "521e9525-0e91-4626-a606-a688d75610d3",
   "metadata": {
    "scrolled": true
   },
   "outputs": [],
   "source": [
    "model, results = extreme_value_test_3()\n",
    "results"
   ]
  },
  {
   "cell_type": "markdown",
   "id": "606c7370-7dd5-422a-9168-8f5fdb69b854",
   "metadata": {},
   "source": [
    "### Test 5: Extreme value test 4\n",
    "\n",
    "PASS"
   ]
  },
  {
   "cell_type": "code",
   "execution_count": null,
   "id": "5e3ce364-a696-4728-a6b4-90a915f786f9",
   "metadata": {},
   "outputs": [],
   "source": [
    "def extreme_value_test_4(extreme_value=M):\n",
    "    '''\n",
    "    Extreme value test 4: \n",
    "    \n",
    "    means of stay_distributions set to $M$ a very large number.\n",
    "    Expected result: after 24 arrivals queues form and no patients are admitted.\n",
    "\n",
    "    Note: as patients do not leave beds, wait time, utilisation, and occupancy are not calculated.\n",
    "    '''\n",
    "    experiment = Experiment(accident_emergency_lognormal_mu=M, \n",
    "                 wards_lognormal_mu=M, \n",
    "                 emergency_surgery_lognormal_mu=M, \n",
    "                 other_hospitals_lognormal_mu=M, \n",
    "                 xray_department_lognormal_mu=M, \n",
    "                 elective_surgery_treatment_rate=M,\n",
    "                 trace=True)\n",
    "    return run_test(experiment)"
   ]
  },
  {
   "cell_type": "code",
   "execution_count": null,
   "id": "58d4ac69-7301-4b22-b171-b94b9b73e148",
   "metadata": {},
   "outputs": [],
   "source": [
    "try:\n",
    "    extreme_value_test_4()\n",
    "except ZeroDivisionError:\n",
    "    print(\"caught expected zero division error due to extreme value test\")"
   ]
  },
  {
   "cell_type": "markdown",
   "id": "3534c645-2bae-41c1-9d79-c86bde7f1de8",
   "metadata": {},
   "source": [
    "### Test 6: Vary Warm-up parameter\n",
    "\n",
    "PASS"
   ]
  },
  {
   "cell_type": "code",
   "execution_count": null,
   "id": "95d968c9-f267-4044-ac5d-9a4624c8f3dd",
   "metadata": {},
   "outputs": [],
   "source": [
    "def test_warmup_period(new_warmup_period):\n",
    "    '''\n",
    "    Vary the warm-up period while holding the \n",
    "    results collection period constant.\n",
    "\n",
    "    Expected result Run length should be no longer than results_collection_period\n",
    "    '''\n",
    "    experiment = Experiment(warm_up_period=new_warmup_period)\n",
    "    model, results = run_test(experiment)\n",
    "    return model.env.now, experiment.results_collection_period"
   ]
  },
  {
   "cell_type": "code",
   "execution_count": null,
   "id": "e6e5161b-1626-4c8d-8632-f060701e351b",
   "metadata": {},
   "outputs": [],
   "source": [
    "test_warmup_period(0)"
   ]
  },
  {
   "cell_type": "markdown",
   "id": "d57fa6fe-6b8a-4f42-b006-abc5cee47f03",
   "metadata": {},
   "source": [
    "## Test 7: Repeatable results from multiple reps\n",
    "\n",
    "PASS"
   ]
  },
  {
   "cell_type": "code",
   "execution_count": null,
   "id": "ab892319-d853-4fed-9905-0685b4eca117",
   "metadata": {},
   "outputs": [],
   "source": [
    "def test_repeatable_reps(n_reps):\n",
    "    experiment = Experiment()\n",
    "    replications = multiple_replications(experiment, n_reps)\n",
    "    rs1 =  results_summary(replications)\n",
    "\n",
    "    experiment = Experiment()\n",
    "    replications = multiple_replications(experiment, n_reps)\n",
    "    rs2 =  results_summary(replications)\n",
    "\n",
    "    return rs1, rs2"
   ]
  },
  {
   "cell_type": "code",
   "execution_count": null,
   "id": "cd11c708-7e12-4e47-b525-231bd4facc4e",
   "metadata": {},
   "outputs": [],
   "source": [
    "rs1, rs2 = test_repeatable_reps(5)"
   ]
  },
  {
   "cell_type": "code",
   "execution_count": null,
   "id": "53617eb0-a50f-4dec-b6e1-bfe1561b2f00",
   "metadata": {},
   "outputs": [],
   "source": [
    "rs1 - rs2"
   ]
  }
 ],
 "metadata": {
  "kernelspec": {
   "display_name": "Python 3 (ipykernel)",
   "language": "python",
   "name": "python3"
  },
  "language_info": {
   "codemirror_mode": {
    "name": "ipython",
    "version": 3
   },
   "file_extension": ".py",
   "mimetype": "text/x-python",
   "name": "python",
   "nbconvert_exporter": "python",
   "pygments_lexer": "ipython3",
   "version": "3.10.13"
  }
 },
 "nbformat": 4,
 "nbformat_minor": 5
}

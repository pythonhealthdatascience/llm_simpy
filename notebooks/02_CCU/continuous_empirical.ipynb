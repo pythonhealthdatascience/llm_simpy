{
 "cells": [
  {
   "cell_type": "markdown",
   "id": "d02fc8c1-9730-4d14-bb8d-711735df1f20",
   "metadata": {},
   "source": [
    "using python and numpy write function to sample from a continuous empirical distribution. \n",
    "\n",
    "function arguments\n",
    "\n",
    "1. a sorted list of lower bounds of a discrete empirical distribution\n",
    "2. a sorted list of the upper bounds of a discrete empirical distribution\n",
    "3. a sorted list of cumulative probabilities of a discrete empirical distribution\n",
    "\n",
    "The function\n",
    "\n",
    "1. creates a numpy random Generator object \n",
    "2. samples a value U from the uniform(0, 1) distribution\n",
    "2. uses U to obtain lower and upper bounds of a sample from the discrete empirical distribution \n",
    "3. uses linear interpolatation of U between the lower and upper bound in order to obtain a continuous value.  \n",
    "\n",
    "return the continuous value.\n",
    "\n",
    "do not use scipy"
   ]
  },
  {
   "cell_type": "code",
   "execution_count": 1,
   "id": "3fee1a4b-0dd5-4f4a-8d15-1e414b6884d6",
   "metadata": {},
   "outputs": [],
   "source": [
    "import matplotlib.pyplot as plt\n",
    "import numpy as np"
   ]
  },
  {
   "cell_type": "code",
   "execution_count": 2,
   "id": "c38b8e7d-b035-482d-951e-373550d04a5d",
   "metadata": {},
   "outputs": [],
   "source": [
    "\n",
    "def sample_from_empirical_distribution(lower_bounds, upper_bounds, cumulative_probs):\n",
    "    # Create a numpy random Generator object\n",
    "    rg = np.random.default_rng()\n",
    "    \n",
    "    # Sample a value U from the uniform(0, 1) distribution\n",
    "    U = rg.random()\n",
    "    \n",
    "    # Obtain lower and upper bounds of a sample from the discrete empirical distribution\n",
    "    idx = np.searchsorted(cumulative_probs, U)\n",
    "    lb, ub = lower_bounds[idx], upper_bounds[idx]\n",
    "    \n",
    "    # Use linear interpolation of U between the lower and upper bound to obtain a continuous value\n",
    "    continuous_value = lb + (ub - lb) * (U - cumulative_probs[idx-1]) / (cumulative_probs[idx] - cumulative_probs[idx-1])\n",
    "    \n",
    "    return continuous_value\n"
   ]
  },
  {
   "cell_type": "code",
   "execution_count": 3,
   "id": "07dd6bdf-5cef-4c42-8261-d454462806bd",
   "metadata": {},
   "outputs": [],
   "source": [
    "class ContinuousEmpiricalDistribution:\n",
    "    \n",
    "    def __init__(self, lower_bounds, upper_bounds, freq, random_seed=None):\n",
    "        self.lower_bounds = np.asarray(lower_bounds)\n",
    "        self.upper_bounds = np.asarray(upper_bounds)\n",
    "        self.cumulative_probs = self.create_cumulative_probs(freq)\n",
    "        self.rng = np.random.default_rng(random_seed)\n",
    "\n",
    "    def create_cumulative_probs(self, freq):\n",
    "        freq = np.asarray(freq)\n",
    "        return np.cumsum(freq / freq.sum())\n",
    "\n",
    "    def sample(self, size=None):\n",
    "\n",
    "        if size is None:\n",
    "            size = 1\n",
    "\n",
    "        samples = []\n",
    "        for i in range(size):\n",
    "        \n",
    "            # Sample a value U from the uniform(0, 1) distribution\n",
    "            U = self.rng.random()\n",
    "            \n",
    "            # Obtain lower and upper bounds of a sample from the discrete empirical distribution\n",
    "            idx = np.searchsorted(self.cumulative_probs, U)\n",
    "            lb, ub = self.lower_bounds[idx], self.upper_bounds[idx]\n",
    "            \n",
    "            # Use linear interpolation of U between the lower and upper bound to obtain a continuous value\n",
    "            continuous_value = lb + (ub - lb) * (U - self.cumulative_probs[idx-1]) / (self.cumulative_probs[idx] - self.cumulative_probs[idx-1])\n",
    "\n",
    "            samples.append(continuous_value)\n",
    "\n",
    "        if size == 1:\n",
    "            return samples[0]\n",
    "        else:\n",
    "            return np.asarray(samples)\n"
   ]
  },
  {
   "cell_type": "code",
   "execution_count": 4,
   "id": "89621403-28e9-4fc9-9532-420c8a4763dd",
   "metadata": {},
   "outputs": [
    {
     "ename": "NameError",
     "evalue": "name 'lower_bounds' is not defined",
     "output_type": "error",
     "traceback": [
      "\u001b[0;31m---------------------------------------------------------------------------\u001b[0m",
      "\u001b[0;31mNameError\u001b[0m                                 Traceback (most recent call last)",
      "Cell \u001b[0;32mIn[4], line 1\u001b[0m\n\u001b[0;32m----> 1\u001b[0m dist \u001b[38;5;241m=\u001b[39m ContinuousEmpiricalDistribution(\u001b[43mlower_bounds\u001b[49m, upper_bounds, freq)\n\u001b[1;32m      2\u001b[0m dist\u001b[38;5;241m.\u001b[39msample(size\u001b[38;5;241m=\u001b[39m\u001b[38;5;28;01mNone\u001b[39;00m)\n",
      "\u001b[0;31mNameError\u001b[0m: name 'lower_bounds' is not defined"
     ]
    }
   ],
   "source": [
    "dist = ContinuousEmpiricalDistribution(lower_bounds, upper_bounds, freq)\n",
    "dist.sample(size=None)"
   ]
  },
  {
   "cell_type": "code",
   "execution_count": null,
   "id": "b7d0eedf-6dcb-4597-b8af-ede9d5d61c50",
   "metadata": {},
   "outputs": [],
   "source": [
    "\n",
    "\n"
   ]
  },
  {
   "cell_type": "code",
   "execution_count": null,
   "id": "74f18101-69d3-40cb-85b9-e87a6585befb",
   "metadata": {},
   "outputs": [],
   "source": [
    "freq = [34, 4, 8, 13, 15, 13, 19, 13, 9,  12, 73]\n",
    "\n",
    "lower_bounds = [0, 5, 10, 15, 30, 45, 60, 120, 180, 240, 480]\n",
    "\n",
    "upper_bounds = [5, 10, 15, 30, 45, 60, 120, 180, 240, 480, 2880]\n",
    "\n",
    "\n",
    "# cumulative probs\n",
    "probs = [0.15962441314554,\n",
    "        0.178403755868545,\n",
    "        0.215962441314554,\n",
    "        0.276995305164319,\n",
    "        0.347417840375587,\n",
    "        0.408450704225352,\n",
    "        0.497652582159624,\n",
    "        0.55868544600939,\n",
    "        0.60093896713615,\n",
    "        0.657276995305164,\n",
    "        1.0]"
   ]
  },
  {
   "cell_type": "code",
   "execution_count": null,
   "id": "816edec8-7af4-4642-ad85-219992ff2117",
   "metadata": {},
   "outputs": [],
   "source": [
    "n = 10_000\n",
    "results = [sample_from_empirical_distribution(lower_bounds, upper_bounds, probs) for _ in range(n)]"
   ]
  },
  {
   "cell_type": "code",
   "execution_count": 5,
   "id": "71f21108-0876-4e2f-8787-fd53d322664b",
   "metadata": {},
   "outputs": [],
   "source": [
    "def distribution_plot(samples, bins):\n",
    "    '''\n",
    "    helper function to visualise the distributions\n",
    "    '''\n",
    "    hist = np.histogram(samples, bins=np.arange(bins), \n",
    "                        density=True)\n",
    "    plt.hist(samples, density=True);\n",
    "    plt.ylabel('p(x)');\n",
    "    plt.xlabel('x');"
   ]
  },
  {
   "cell_type": "code",
   "execution_count": 6,
   "id": "06b1cdfc-b9b4-4755-91e3-de916ae39b1d",
   "metadata": {},
   "outputs": [
    {
     "ename": "NameError",
     "evalue": "name 'results' is not defined",
     "output_type": "error",
     "traceback": [
      "\u001b[0;31m---------------------------------------------------------------------------\u001b[0m",
      "\u001b[0;31mNameError\u001b[0m                                 Traceback (most recent call last)",
      "Cell \u001b[0;32mIn[6], line 1\u001b[0m\n\u001b[0;32m----> 1\u001b[0m frq, edges \u001b[38;5;241m=\u001b[39m np\u001b[38;5;241m.\u001b[39mhistogram(\u001b[43mresults\u001b[49m, bins\u001b[38;5;241m=\u001b[39mupper_bounds)\n\u001b[1;32m      2\u001b[0m fig, ax \u001b[38;5;241m=\u001b[39m plt\u001b[38;5;241m.\u001b[39msubplots()\n\u001b[1;32m      3\u001b[0m ax\u001b[38;5;241m.\u001b[39mbar(edges[:\u001b[38;5;241m-\u001b[39m\u001b[38;5;241m1\u001b[39m], frq, width\u001b[38;5;241m=\u001b[39mnp\u001b[38;5;241m.\u001b[39mdiff(edges), edgecolor\u001b[38;5;241m=\u001b[39m\u001b[38;5;124m\"\u001b[39m\u001b[38;5;124mblack\u001b[39m\u001b[38;5;124m\"\u001b[39m, align\u001b[38;5;241m=\u001b[39m\u001b[38;5;124m\"\u001b[39m\u001b[38;5;124medge\u001b[39m\u001b[38;5;124m\"\u001b[39m)\n",
      "\u001b[0;31mNameError\u001b[0m: name 'results' is not defined"
     ]
    }
   ],
   "source": [
    "frq, edges = np.histogram(results, bins=upper_bounds)\n",
    "fig, ax = plt.subplots()\n",
    "ax.bar(edges[:-1], frq, width=np.diff(edges), edgecolor=\"black\", align=\"edge\")\n",
    "\n",
    "plt.show()"
   ]
  },
  {
   "cell_type": "code",
   "execution_count": null,
   "id": "cec6194f-7f95-4af7-b4b4-d81b776322e1",
   "metadata": {},
   "outputs": [],
   "source": [
    "\n",
    "\n",
    "fig, ax = plt.subplots()\n",
    "ax.bar(edges[:-1], (frq / n) * 100, width=np.diff(edges), edgecolor=\"black\", align=\"edge\")\n",
    "\n",
    "plt.show()"
   ]
  },
  {
   "cell_type": "code",
   "execution_count": null,
   "id": "ba1af441-956d-40e0-a2e5-810081be4a82",
   "metadata": {},
   "outputs": [],
   "source": [
    "## Erlang distribution"
   ]
  },
  {
   "cell_type": "code",
   "execution_count": 7,
   "id": "b3f04061-5a2b-4b79-a703-a26419aed9c9",
   "metadata": {},
   "outputs": [],
   "source": [
    "class Erlang:\n",
    "    '''\n",
    "    Sum of k erlang distributions\n",
    "    '''\n",
    "    def __init__(self, mean, stdev, location=0.0, random_seed=None):\n",
    "        self.mean = mean\n",
    "        self.stdev = stdev\n",
    "        self.location = location\n",
    "        self.rng = np.random.default_rng(random_seed)\n",
    "\n",
    "        # k also referred to as shape\n",
    "        self.k = round((mean / stdev) ** 2)\n",
    "\n",
    "        # theta also referred to as scale\n",
    "        self.theta = mean / self.k\n",
    "\n",
    "    def sample(self, size=None):\n",
    "        return self.rng.gamma(self.k, self.theta, size) + self.location"
   ]
  },
  {
   "cell_type": "code",
   "execution_count": null,
   "id": "cfd43eb0-59ae-44c5-87d9-401882863ec3",
   "metadata": {},
   "outputs": [],
   "source": [
    "import numpy as np\n",
    "\n",
    "def sample_from_gamma(alpha, beta, size):\n",
    "    shape = alpha\n",
    "    scale = 1/beta\n",
    "    return np.random.gamma(shape, scale, size)\n"
   ]
  },
  {
   "cell_type": "code",
   "execution_count": null,
   "id": "35a8f1db-2af8-48f6-be40-c58f7a78a981",
   "metadata": {},
   "outputs": [],
   "source": [
    "class Gamma:\n",
    "    '''\n",
    "    Gamma distribution\n",
    "\n",
    "    Gamma distribution set up to accept alpha (scale) and beta (shape)\n",
    "    parameters as described in Law (2007).  \n",
    "\n",
    "    Also contains functions to compute mean, variance, and a static method\n",
    "    to computer alpha and beta from specified mean and variance.\n",
    "    \n",
    "    '''\n",
    "    def __init__(self, alpha, beta, location=0.0, random_seed=None):\n",
    "        '''\n",
    "        Gamma distribution\n",
    "        \n",
    "        Params:\n",
    "        ------\n",
    "        alpha: float\n",
    "            shape parameters\n",
    "\n",
    "        beta: float\n",
    "            scale parameter\n",
    "\n",
    "        location, float, optional (default=0.0)\n",
    "            Offset the original of the distribution i.e.\n",
    "            the returned value = sample[Gamma] + location\n",
    "\n",
    "        random_seed: int, optional (default=None)\n",
    "            A random seed to reproduce samples. If set to none then a unique\n",
    "            sample is created.\n",
    "                    \n",
    "        '''\n",
    "\n",
    "        if alpha <= 0 or beta <= 0:\n",
    "            raise ValueError(\"alpha and beta must be > 0\")\n",
    "        \n",
    "        self.alpha = alpha  # shape\n",
    "        self.beta =  beta # scale\n",
    "        self.location = location\n",
    "        self.rng = np.random.default_rng(random_seed)\n",
    "\n",
    "    def mean(self):\n",
    "        '''\n",
    "        The computed mean of the gamma distribution\n",
    "\n",
    "        Returns:\n",
    "        -------\n",
    "        float\n",
    "        '''\n",
    "        return self.alpha * self.beta\n",
    "\n",
    "    def variance(self):\n",
    "        '''\n",
    "        The computed varaince of the gamma distribution\n",
    "\n",
    "        Returns:\n",
    "        -------\n",
    "        float\n",
    "        '''\n",
    "        return self.alpha * (self.beta ** 2)\n",
    "\n",
    "    @staticmethod\n",
    "    def params_from_mean_and_var(mean, var):\n",
    "        '''\n",
    "        Helper static method to get alpha and beta parameters\n",
    "        from a mean and variance.\n",
    "\n",
    "        Params:\n",
    "        ------\n",
    "        mean: float\n",
    "            mean of the gamma distribution\n",
    "\n",
    "        var: float\n",
    "            variance of the gamma distribution\n",
    "\n",
    "        Returns:\n",
    "        -------\n",
    "        (float, float)\n",
    "        alpha, beta\n",
    "        \n",
    "        '''\n",
    "        alpha = mean **2 / var\n",
    "        beta = mean / var\n",
    "        return alpha, beta\n",
    "        \n",
    "    def sample(self, size=None):\n",
    "        return self.rng.gamma(self.alpha, self.beta, size) + self.location\n",
    "\n",
    "        "
   ]
  },
  {
   "cell_type": "code",
   "execution_count": null,
   "id": "9cd003bc-d541-47b3-a05c-397d0d0f66d2",
   "metadata": {},
   "outputs": [],
   "source": [
    "alpha = 2.84\n",
    "beta = 7.42\n",
    "\n",
    "N = 1_000_000\n",
    "g_dist = Gamma(alpha, beta, location=0.0)\n",
    "samples = g_dist.sample(N)\n",
    "\n",
    "frq, edges = np.histogram(samples)\n",
    "fig, ax = plt.subplots()\n",
    "ax.bar(edges[:-1], (frq / n) * 100, width=np.diff(edges), edgecolor=\"black\", align=\"edge\")\n",
    "\n",
    "plt.show()\n",
    "\n",
    "\n",
    "print(g_dist.mean())\n",
    "print(samples.mean())\n",
    "print(g_dist.variance())\n",
    "print(samples.var())"
   ]
  },
  {
   "cell_type": "code",
   "execution_count": null,
   "id": "f53a59ae-5c41-406b-bd86-9e090b17c41c",
   "metadata": {},
   "outputs": [],
   "source": [
    "from scipy.stats import weibull_min\n",
    "from scipy.integrate import quad\n",
    "\n",
    "class Weibull:\n",
    "    '''\n",
    "    Weibull distribution\n",
    "\n",
    "    The Weibull takes shape (alpha) and scale (beta) parameters.  Both shape and scale\n",
    "    should be > 0. The higher the scale parameters the more variance in the samples.\n",
    "\n",
    "    This implementation also includes a third parameter \"location\"\n",
    "    (default = 0) to shift the distribution if a lower bound is needed.\n",
    "    '''\n",
    "    def __init__(self, alpha, beta, location=0.0, random_seed=None):\n",
    "        '''\n",
    "        Three parameter Weibull distribution.\n",
    "\n",
    "        Params:\n",
    "        ------\n",
    "        alpha: float\n",
    "            The shape parameter.\n",
    "            \n",
    "        beta: float:\n",
    "            The scale parameter.  The higher the scale parameters the \n",
    "            more variance in the samples\n",
    "\n",
    "        location: float, optional (default=None)\n",
    "            An offset from 0.0\n",
    "\n",
    "        Notes:\n",
    "        ------\n",
    "        Check that the mean and variance of the samples are as expected.\n",
    "        \n",
    "        This is because it is easy to make mistakes when setting the shape \n",
    "        and scale parameters if converting from other notation. \n",
    "        For example:\n",
    "        \n",
    "        In Law and Kelton, shape=alpha and scale=beta. But ->\n",
    "\n",
    "        Wikipedia defines shape=k and scale = lambda = 1/beta\n",
    "        https://en.wikipedia.org/wiki/Weibull_distribution\n",
    "\n",
    "        other sources define shape=beta and scale=eta (η)  \n",
    "\n",
    "        In random.weibullvariate alpha=scale and beta=shape!\n",
    "        '''\n",
    "\n",
    "        if alpha <= 0 or beta <= 0:\n",
    "            raise ValueError(\"alpha and beta must be > 0\")\n",
    "                             \n",
    "        self.shape = alpha\n",
    "        self.scale = beta\n",
    "        self.rng = np.random.default_rng(random_seed)\n",
    "\n",
    "    def sample(self, size=None):\n",
    "        return self.scale * self.rng.weibull(self.shape, size)"
   ]
  },
  {
   "cell_type": "code",
   "execution_count": null,
   "id": "a3bee248-59a6-4b42-b111-647cbd26041a",
   "metadata": {},
   "outputs": [],
   "source": [
    "\n",
    "\n",
    "# Python code to demonstrate math.factorial()\n",
    "import math\n",
    "\n",
    "alpha = 1.93\n",
    "beta = 19.15\n",
    "\n",
    "N = 1_000_000\n",
    "w_dist = Weibull(alpha, beta)\n",
    "samples = w_dist.sample(N)\n",
    "\n",
    "frq, edges = np.histogram(samples)\n",
    "fig, ax = plt.subplots()\n",
    "ax.bar(edges[:-1], (frq / n) * 100, width=np.diff(edges), edgecolor=\"black\", align=\"edge\")\n",
    "\n",
    "plt.show()\n",
    "\n",
    "print(samples.mean())\n",
    "print(g_dist.mean())\n",
    "\n",
    "\n",
    "from random import weibullvariate\n",
    "\n",
    "samples2 = [weibullvariate(beta, alpha) for _ in range(N)]\n",
    "\n",
    "frq, edges = np.histogram(samples2)\n",
    "fig, ax = plt.subplots()\n",
    "ax.bar(edges[:-1], (frq / n) * 100, width=np.diff(edges), edgecolor=\"black\", align=\"edge\")\n",
    "\n",
    "\n",
    "plt.show()            \n",
    "\n",
    "print(sum(samples2)/N)"
   ]
  },
  {
   "cell_type": "code",
   "execution_count": null,
   "id": "44bf7439-0eb7-43dd-a671-ecbbaf2917b1",
   "metadata": {},
   "outputs": [],
   "source": [
    "class Beta:\n",
    "    '''\n",
    "    Beta distribution \n",
    "\n",
    "    As defined in  Simulation Modeling and Analysis (Law, 2007).\n",
    "\n",
    "    Accepts to shape parameters alpha1 and alpha2.  \n",
    "    The beta distribution is [0, 1]. \n",
    "    This can be rescaled using to [min, max] using\n",
    "    min + (max - min) * sample(Beta)  \n",
    "\n",
    "    Common uses:\n",
    "    -----------\n",
    "    1. Useful as a rough model in the absence data\n",
    "    2. Distribution of a random proportion\n",
    "    3. Time to complete a task.\n",
    "    '''\n",
    "    def __init__(self, alpha1, alpha2, min=0.0, max=1.0, random_seed=None):\n",
    "        '''\n",
    "        Beta distribution\n",
    "\n",
    "        Params:\n",
    "        -------\n",
    "        alpha1: float\n",
    "            shape parameter 1\n",
    "\n",
    "        alpha2: float\n",
    "            shape parameter 2\n",
    "\n",
    "        min: float, optional (default=0.0)\n",
    "            Used with max to rescale [0,1] to [min, max]\n",
    "\n",
    "        max: float, optional (default=1.0)\n",
    "            Used with max to rescale [0,1] to [min, max]\n",
    "\n",
    "        random_seed: int, optional (default=None)\n",
    "            A random seed to reproduce samples. If set to none then a unique\n",
    "            sample is created.\n",
    "        '''\n",
    "        self.alpha1 = alpha1\n",
    "        self.alpha2 = alpha2\n",
    "        self.min = min\n",
    "        self.max = max\n",
    "        self.rng = np.random.default_rng(random_seed)\n",
    "\n",
    "    def sample(self, size=None):\n",
    "        return (self.min + (self.max - self.min)) * np.random.beta(self.alpha1, self.alpha2, size)"
   ]
  },
  {
   "cell_type": "code",
   "execution_count": null,
   "id": "529ed6fc-0606-4409-9a19-926f7f354a09",
   "metadata": {},
   "outputs": [],
   "source": [
    "alpha1 = 1.32\n",
    "alpha2 = 2.56\n",
    "\n",
    "N = 1_000_000\n",
    "b_dist = Beta(alpha1, alpha2)\n",
    "samples = b_dist.sample(N)\n",
    "\n",
    "frq, edges = np.histogram(samples)\n",
    "fig, ax = plt.subplots()\n",
    "ax.bar(edges[:-1], (frq / n) * 100, width=np.diff(edges), edgecolor=\"black\", align=\"edge\")\n",
    "\n",
    "plt.show()\n",
    "\n",
    "print(samples.mean())"
   ]
  },
  {
   "cell_type": "code",
   "execution_count": null,
   "id": "4f071db9-2d70-4a6f-9e65-35faa612eac1",
   "metadata": {},
   "outputs": [],
   "source": [
    "def sample_weibull(rg, shape, scale, size=None):\n",
    "    return rg.weibull(shape, size=size) * scale"
   ]
  },
  {
   "cell_type": "code",
   "execution_count": null,
   "id": "c4af857f-f407-46ef-8a8d-0c6f3794fd46",
   "metadata": {},
   "outputs": [],
   "source": [
    "samples = sample_weibull(np.random.default_rng(), beta, alpha, size=N)\n",
    "\n",
    "frq, edges = np.histogram(samples)\n",
    "fig, ax = plt.subplots()\n",
    "ax.bar(edges[:-1], (frq / n) * 100, width=np.diff(edges), edgecolor=\"black\", align=\"edge\")\n",
    "\n",
    "plt.show()\n",
    "\n",
    "print(samples.mean())"
   ]
  },
  {
   "cell_type": "code",
   "execution_count": null,
   "id": "b7ddbf05-8b59-4a12-ba91-b36618566471",
   "metadata": {
    "scrolled": true
   },
   "outputs": [],
   "source": [
    "Gamma.params_from_mean_and_var(0.383, 0.052)"
   ]
  },
  {
   "cell_type": "code",
   "execution_count": null,
   "id": "08d0ea89-ad5f-45e9-bdee-1c6a357e92b2",
   "metadata": {},
   "outputs": [],
   "source": [
    "g_dist.mean() / g_dist.variance()"
   ]
  },
  {
   "cell_type": "code",
   "execution_count": null,
   "id": "1aebb12f-b023-4081-a13b-de52421f68aa",
   "metadata": {},
   "outputs": [],
   "source": [
    "g_dist.mean() ** 2 / g_dist.variance()"
   ]
  },
  {
   "cell_type": "code",
   "execution_count": null,
   "id": "2acd1ec9-24ff-46a2-9c3a-b700b94b7d7c",
   "metadata": {},
   "outputs": [],
   "source": [
    "Mean (32.29), Standard deviation (9.26), Location (2.83)"
   ]
  },
  {
   "cell_type": "code",
   "execution_count": null,
   "id": "c040aa9d-5b59-4be2-80c7-482492cdafc0",
   "metadata": {},
   "outputs": [],
   "source": [
    "mean = 32.9\n",
    "stdev = 9.26\n",
    "location = 2.83\n",
    "\n",
    "N = 100_000\n",
    "dist = Erlang(mean, stdev, location)\n",
    "samples = dist.sample(N)"
   ]
  },
  {
   "cell_type": "code",
   "execution_count": null,
   "id": "70341a87-7867-48b5-80c7-06930dfc3ce0",
   "metadata": {},
   "outputs": [],
   "source": [
    "frq, edges = np.histogram(samples)\n",
    "fig, ax = plt.subplots()\n",
    "ax.bar(edges[:-1], (frq / n) * 100, width=np.diff(edges), edgecolor=\"black\", align=\"edge\")\n",
    "\n",
    "plt.show()"
   ]
  },
  {
   "cell_type": "code",
   "execution_count": null,
   "id": "17f7f3f3-8342-4a1d-bb8b-0dd6456cb4ab",
   "metadata": {},
   "outputs": [],
   "source": [
    "(samples - location).mean()"
   ]
  },
  {
   "cell_type": "code",
   "execution_count": null,
   "id": "10a29629-8af3-47a5-b5f9-4e84cb127ea5",
   "metadata": {},
   "outputs": [],
   "source": [
    "class Discrete:\n",
    "    '''\n",
    "    Discrete distribution\n",
    "\n",
    "    Sample a value with a given observed frequency.\n",
    "\n",
    "    Example uses:\n",
    "    -------------\n",
    "    1. routing percentages\n",
    "    2. classes of entity\n",
    "    3. batch sizes of arrivals\n",
    "    \n",
    "    '''\n",
    "    def __init__(self, values, freq, random_seed=None):\n",
    "        '''\n",
    "        Discrete distribution\n",
    "\n",
    "        Params:\n",
    "        ------\n",
    "        values: array-like\n",
    "            list of sample values. Must be of equal length to freq\n",
    "\n",
    "        freq: array-like\n",
    "            list of observed frequencies. Must be of equal length to values\n",
    "\n",
    "        random_seed, int, optional (default=None)\n",
    "            A random seed to reproduce samples. If set to none then a unique\n",
    "            sample is created.            \n",
    "        '''\n",
    "        if (len(values) != len(freq)):\n",
    "            raise ValueError('values and freq arguments must be of equal length')\n",
    "            \n",
    "        self.values = np.asarray(values)\n",
    "        self.freq = np.asarray(freq)\n",
    "        self.probabilities = self.freq / self.freq.sum()\n",
    "        self.rng = np.random.default_rng(random_seed)        \n",
    "\n",
    "    def sample(self, size=None):\n",
    "        return self.rng.choice(self.values, p=self.probabilities, size=size)\n"
   ]
  },
  {
   "cell_type": "code",
   "execution_count": null,
   "id": "4992b4b8-ab89-4aba-b4b3-962fa7b983d9",
   "metadata": {},
   "outputs": [],
   "source": [
    "values = [1, 2, 3]\n",
    "freq = [95, 3, 2]\n",
    "\n",
    "edf = Discrete(values, freq)\n",
    "\n",
    "samples = edf.sample(N)\n",
    "\n",
    "frq, edges = np.histogram(samples, bins=3)\n",
    "print(frq, edges)\n",
    "fig, ax = plt.subplots()\n",
    "ax.bar(edges[:-1], (frq / n) * 100, width=np.diff(edges), edgecolor=\"black\", align=\"edge\")\n",
    "\n",
    "plt.show()\n"
   ]
  },
  {
   "cell_type": "code",
   "execution_count": null,
   "id": "b12258da-ad03-4bd1-b81e-28f0bc7ba234",
   "metadata": {},
   "outputs": [],
   "source": [
    "from numpy.random import random_sample\n",
    "import itertools\n",
    "\n",
    "def weighted_values(elements, cum_probs, size=None):\n",
    "    return elements[np.digitize(random_sample(size), cum_probs)]\n",
    "\n",
    "\n",
    "class discrete_dist(object):\n",
    "    \"\"\"\n",
    "    Encapsulates a discrete distribution\n",
    "    \"\"\"\n",
    "    def __init__(self, elements, probabilities):\n",
    "        self.elements = elements\n",
    "        self.probabilities = probabilities\n",
    "        \n",
    "        self.validate_lengths(elements, probabilities)\n",
    "        self.validate_probs(probabilities)\n",
    "        \n",
    "        self.cum_probs = np.add.accumulate(probabilities)\n",
    "        print(self.cum_probs)\n",
    "        \n",
    "    def validate_lengths(self, elements, probs):\n",
    "        if (len(elements) != len(probs)):\n",
    "            raise ValueError('Elements and probilities arguments must be of the same length')\n",
    "            \n",
    "    def validate_probs(self, probs):\n",
    "        if(sum(probs) != 1):\n",
    "            raise ValueError('Probabilities must sum to 1')\n",
    "        \n",
    "    def sample(self, size=None):\n",
    "        return np.random.choice(self.elements, p=self.probabilities, size=size)"
   ]
  },
  {
   "cell_type": "code",
   "execution_count": null,
   "id": "bdff52ca-a132-47d5-baf6-9739707bd994",
   "metadata": {},
   "outputs": [],
   "source": [
    "probs = [0.95, 0.03, 0.02]\n",
    "values = [1, 2, 3]\n",
    "cum_probs = [0.95, 0.98, 1.0]\n",
    "\n",
    "\n",
    "\n",
    "old = discrete_dist(values, probs)\n",
    "\n",
    "samples = old.sample(N)\n",
    "\n",
    "frq, edges = np.histogram(samples, bins=3)\n",
    "print(frq, edges)\n",
    "fig, ax = plt.subplots()\n",
    "ax.bar(edges[:-1], (frq / n) * 100, width=np.diff(edges), edgecolor=\"black\", align=\"edge\")\n",
    "\n",
    "plt.show()"
   ]
  },
  {
   "cell_type": "code",
   "execution_count": 19,
   "id": "c86b2aaf-ae00-4b41-b323-2fd6b0e6347d",
   "metadata": {},
   "outputs": [],
   "source": [
    "class TruncatedDistribution:\n",
    "    '''\n",
    "    Truncated Distribution\n",
    "\n",
    "    Pass in any distribution class and this class\n",
    "    will tuncate the distribution at a lower bound.\n",
    "\n",
    "    No resampling is done the class simply returns\n",
    "    the maximum value.\n",
    "    '''\n",
    "    \n",
    "    def __init__(self, dist_to_truncate, lower_bound):\n",
    "        self.dist = dist_to_truncate\n",
    "        self.lower_bound = lower_bound\n",
    "\n",
    "    def sample(self, size=None):\n",
    "        if size is not None:\n",
    "            samples =  self.dist.sample(size)\n",
    "            samples[samples < self.lower_bound] = self.lower_bound\n",
    "            return samples\n",
    "\n",
    "        else:\n",
    "            sample = self.dist.sample()\n",
    "            return max(self.lower_bound, sample)\n",
    "        \n",
    "        "
   ]
  },
  {
   "cell_type": "code",
   "execution_count": 17,
   "id": "b427321d-3c29-4ed1-9bc1-e6f21d155373",
   "metadata": {},
   "outputs": [
    {
     "name": "stdout",
     "output_type": "stream",
     "text": [
      "[98253  1713    34] [40.         57.87223675 75.7444735  93.61671025]\n"
     ]
    },
    {
     "data": {
      "image/png": "[encoded data removed]",
      "text/plain": [
       "<Figure size 640x480 with 1 Axes>"
      ]
     },
     "metadata": {},
     "output_type": "display_data"
    },
    {
     "data": {
      "text/plain": [
       "40.0"
      ]
     },
     "execution_count": 17,
     "metadata": {},
     "output_type": "execute_result"
    }
   ],
   "source": [
    "mean = 32.9\n",
    "stdev = 9.26\n",
    "location = 2.83\n",
    "\n",
    "N = 100_000\n",
    "dist = Erlang(mean, stdev, location)\n",
    "\n",
    "trunc_dist = TruncatedDistribution(dist, lower_bound=40.0)\n",
    "samples = trunc_dist.sample(N)\n",
    "\n",
    "frq, edges = np.histogram(samples, bins=3)\n",
    "print(frq, edges)\n",
    "fig, ax = plt.subplots()\n",
    "ax.bar(edges[:-1], (frq / N) * 100, width=np.diff(edges), edgecolor=\"black\", align=\"edge\")\n",
    "\n",
    "plt.show()\n",
    "\n",
    "\n",
    "trunc_dist.sample()"
   ]
  },
  {
   "cell_type": "code",
   "execution_count": 18,
   "id": "5c04c33c-01ae-4c41-a869-253b33200547",
   "metadata": {},
   "outputs": [
    {
     "name": "stdout",
     "output_type": "stream",
     "text": [
      "[1 2 3 4 5]\n",
      "[2 2 3 4 5]\n"
     ]
    }
   ],
   "source": [
    "test = np.array([1, 2, 3, 4, 5])\n",
    "lower_bound = 2\n",
    "\n",
    "print(test)\n",
    "test[test < lower_bound] = lower_bound\n",
    "print(test)"
   ]
  },
  {
   "cell_type": "code",
   "execution_count": 28,
   "id": "720ceafd-62a1-4e5c-9a32-dfc689fd6afd",
   "metadata": {},
   "outputs": [],
   "source": [
    "class RawEmpirical:\n",
    "    '''\n",
    "    Sample with replacement from a list of raw empirical values\n",
    "\n",
    "    Useful if none of the theoretical distributions on offer fit the data\n",
    "\n",
    "    Notes:\n",
    "    -----\n",
    "    If sample size is small consider if upper and lower limits in raw data\n",
    "    are representative of the real world system.  \n",
    "    '''\n",
    "    def __init__(self, values, random_seed=None):\n",
    "        self.values = values\n",
    "        self.rng = np.random.default_rng(random_seed)\n",
    "\n",
    "    def sample(self, size=None):\n",
    "        return self.rng.choice(self.values, size)"
   ]
  },
  {
   "cell_type": "code",
   "execution_count": 30,
   "id": "c61df08d-a0fe-4539-b9b4-9b6c24d90e4e",
   "metadata": {},
   "outputs": [
    {
     "name": "stdout",
     "output_type": "stream",
     "text": [
      "[0.84594113 0.90613567 0.36982069 0.99506401 0.99506401]\n",
      "0.76434629\n"
     ]
    }
   ],
   "source": [
    "raw = np.array([0.55534686, 0.84594113, 0.28451875, 0.2529138 , 0.52460079,\n",
    "       0.84680471, 0.9899192 , 0.04176276, 0.99506401, 0.24738296,\n",
    "       0.79799653, 0.71077698, 0.88373967, 0.36982069, 0.83926874,\n",
    "       0.90613567, 0.93790284, 0.76434629, 0.57030579, 0.9000658 ])\n",
    "\n",
    "dist = RawEmpirical(raw, random_seed=42)\n",
    "print(dist.sample(size=5))\n",
    "print(dist.sample())"
   ]
  },
  {
   "cell_type": "code",
   "execution_count": 101,
   "id": "75b79c01-99c9-4d41-ba0e-13fe0221d7f0",
   "metadata": {},
   "outputs": [],
   "source": [
    "class PearsonV:\n",
    "    \"\"\"\n",
    "    The PearsonV(alpha, beta) is an inverse gamma distribution.\n",
    "\n",
    "    Where alpha = shape, and beta = scale (> 0)\n",
    "\n",
    "    Law (2007, pg 293-294) defines PearsonV(alpha, beta) = 1/Gamma(alpha, 1/beta) and note\n",
    "    PDF similar to that of lognormal, but have larger spike close to 0.\n",
    "\n",
    "    Alternative Sources:\n",
    "    --------------------\n",
    "    [1] https://riskwiki.vosesoftware.com/PearsonType5distribution.php\n",
    "    [2] https://modelassist.epixanalytics.com/display/EA/Pearson+Type+5\n",
    "\n",
    "    sources last access 03/01/2024\n",
    "\n",
    "    Notes:\n",
    "    ------\n",
    "    A good R package for Pearson distributions is PearsonDS\n",
    "    https://www.rdocumentation.org/packages/PearsonDS/versions/1.3.0\n",
    "        \n",
    "    \"\"\"\n",
    "    def __init__(self, alpha, beta, random_seed=None):\n",
    "        '''\n",
    "        PearsonV\n",
    "\n",
    "        Params:\n",
    "        ------\n",
    "        alpha: float\n",
    "            Shape parameter. Must be > 0\n",
    "\n",
    "        beta: float\n",
    "            Scale parameter. Must be < 0\n",
    "\n",
    "        random_seed, int, optional (default=None)\n",
    "\n",
    "        '''\n",
    "        if alpha <= 0 or beta <= 0:\n",
    "            raise ValueError(\"alpha and beta must be > 0\")\n",
    "        self.alpha = alpha\n",
    "        self.beta = beta\n",
    "        self.rng = np.random.default_rng(random_seed)\n",
    "\n",
    "    def mean(self) -> float:\n",
    "        if self.alpha > 1.0:\n",
    "            return self.beta / (self.alpha - 1)\n",
    "        else:\n",
    "            msg = \"Cannot directly compute mean when alpha < 1.0\"\n",
    "            raise ValueError(msg)\n",
    "\n",
    "    def var(self) -> float: \n",
    "        if self.alpha > 2.0:\n",
    "            return (self.beta **2) / (((self.alpha - 1) ** 2) * (self.alpha - 2))\n",
    "        else:\n",
    "           msg = \"Cannot directly compute var when alpha < 2.0\"\n",
    "           raise ValueError(msg) \n",
    "    \n",
    "    def sample(self, size=None):\n",
    "        return 1 / self.rng.gamma(self.alpha, 1 / self.beta, size)"
   ]
  },
  {
   "cell_type": "code",
   "execution_count": 102,
   "id": "a706c8fd-6254-49f3-aa97-0cf2dcf92cbe",
   "metadata": {},
   "outputs": [
    {
     "data": {
      "image/png": "[encoded data removed]",
      "text/plain": [
       "<Figure size 640x480 with 1 Axes>"
      ]
     },
     "metadata": {},
     "output_type": "display_data"
    },
    {
     "name": "stdout",
     "output_type": "stream",
     "text": [
      "0.06537684646014814\n",
      "3.4581522690735746\n",
      "0.27778051849206437\n",
      "0.00965047147781315\n",
      "0.22727272727272727\n",
      "0.009645061728395061\n",
      "0.2777777777777778 0.009645061728395061\n"
     ]
    }
   ],
   "source": [
    "alpha = 10.0\n",
    "beta = 2.5\n",
    "N = 10_000_000\n",
    "\n",
    "pv = PearsonV(alpha, beta)\n",
    "\n",
    "samples = pv.sample(N)\n",
    "\n",
    "frq, edges = np.histogram(samples, bins=np.linspace(0.0, 3.1, 32))\n",
    "fig, ax = plt.subplots()\n",
    "ax.bar(edges[:-1], (frq / N) * 100, width=np.diff(edges), edgecolor=\"black\", align=\"edge\")\n",
    "\n",
    "plt.show()\n",
    "print(min(samples))\n",
    "print(max(samples))\n",
    "print(samples.mean())\n",
    "print(samples.var())\n",
    "\n",
    "computed_mean = beta / (alpha + 1)\n",
    "print(computed_mean)\n",
    "\n",
    "computed_variance = (beta **2) / (((alpha - 1) ** 2) * (alpha - 2))\n",
    "print(computed_variance)\n",
    "\n",
    "print(pv.mean(), pv.var())"
   ]
  },
  {
   "cell_type": "code",
   "execution_count": 93,
   "id": "aa37696f-8bb1-4a65-8802-002c2cab0d6a",
   "metadata": {},
   "outputs": [
    {
     "data": {
      "text/plain": [
       "array([0. , 0.1, 0.2, 0.3, 0.4, 0.5, 0.6, 0.7, 0.8, 0.9, 1. , 1.1, 1.2,\n",
       "       1.3, 1.4, 1.5, 1.6, 1.7, 1.8, 1.9, 2. , 2.1, 2.2, 2.3, 2.4, 2.5,\n",
       "       2.6, 2.7, 2.8, 2.9, 3. , 3.1])"
      ]
     },
     "execution_count": 93,
     "metadata": {},
     "output_type": "execute_result"
    }
   ],
   "source": [
    "edges"
   ]
  },
  {
   "cell_type": "code",
   "execution_count": 115,
   "id": "943b64cc-d841-4a18-8038-9227b2209222",
   "metadata": {},
   "outputs": [],
   "source": [
    "class PearsonVI:\n",
    "    \"\"\"\n",
    "    Pearson6(a1,a2,b)=b∗X/(1−X), where X=Beta(a1,a2,1)\n",
    "    \"\"\"\n",
    "    def __init__(self, alpha1, alpha2, beta, random_seed=None):\n",
    "        self.alpha1 = alpha1\n",
    "        self.alpha2 = alpha2\n",
    "        self.beta = beta\n",
    "        self.rng = np.random.default_rng(random_seed)\n",
    "\n",
    "    def mean(self):\n",
    "        if self.alpha2 > 1.0:\n",
    "            return (self.beta * self.alpha1) / (self.alpha2 - 1)\n",
    "        else:\n",
    "            raise ValueError(\"Cannot compute mean when alpha2 <= 1.0\")\n",
    "\n",
    "    def var(self):\n",
    "        if self.alpha2 > 2.0:\n",
    "            return ((self.beta ** 2) * self.alpha1 * (self.alpha1 + self.alpha2 - 1)) / (((self.alpha2 - 1) ** 2) * (self.alpha2 - 2))\n",
    "    \n",
    "    def sample(self, size=None):\n",
    "        #Pearson6(a1,a2,b)=b∗X/(1−X), where X=Beta(a1,a2,1)\n",
    "        X = self.rng.beta(alpha1, alpha2, size)\n",
    "\n",
    "        return self.beta * X / (1 - X)\n",
    "        "
   ]
  },
  {
   "cell_type": "code",
   "execution_count": 123,
   "id": "54d19ee5-f270-45dd-8e75-e84b9f88fe7a",
   "metadata": {},
   "outputs": [
    {
     "data": {
      "image/png": "[encoded data removed]",
      "text/plain": [
       "<Figure size 640x480 with 1 Axes>"
      ]
     },
     "metadata": {},
     "output_type": "display_data"
    },
    {
     "name": "stdout",
     "output_type": "stream",
     "text": [
      "0.11794738762442078\n",
      "86.6806162878812\n",
      "2.1251723412107957\n",
      "2.1066369579899558\n",
      "2.125\n",
      "2.1072916666666663\n"
     ]
    }
   ],
   "source": [
    "alpha1 = 10.0\n",
    "alpha2 = 5.0\n",
    "beta = 0.85\n",
    "N = 10_000_000\n",
    "\n",
    "p6 = PearsonVI(alpha1, alpha2, beta)\n",
    "\n",
    "samples = p6.sample(N)\n",
    "\n",
    "frq, edges = np.histogram(samples, bins=30)#, bins=np.linspace(0.0, 3.1, 32))\n",
    "fig, ax = plt.subplots()\n",
    "ax.bar(edges[:-1], (frq / N) * 100, width=np.diff(edges), edgecolor=\"black\", align=\"edge\")\n",
    "\n",
    "plt.show()\n",
    "print(min(samples))\n",
    "print(max(samples))\n",
    "print(samples.mean())\n",
    "print(samples.var())\n",
    "print(p6.mean())\n",
    "print(p6.var())"
   ]
  },
  {
   "cell_type": "code",
   "execution_count": 110,
   "id": "55dff2c4-94c1-474e-9ff5-5e0d150e591c",
   "metadata": {},
   "outputs": [
    {
     "data": {
      "text/plain": [
       "2.125"
      ]
     },
     "execution_count": 110,
     "metadata": {},
     "output_type": "execute_result"
    }
   ],
   "source": [
    "# mean \n",
    "(beta * alpha1) / (alpha2 - 1)"
   ]
  },
  {
   "cell_type": "code",
   "execution_count": 114,
   "id": "aba7cb28-fd71-4672-b6fc-2b0fe4a73022",
   "metadata": {},
   "outputs": [
    {
     "data": {
      "text/plain": [
       "2.1072916666666663"
      ]
     },
     "execution_count": 114,
     "metadata": {},
     "output_type": "execute_result"
    }
   ],
   "source": [
    "# var\n",
    "((beta ** 2) * alpha1 * (alpha1 + alpha2 - 1)) / (((alpha2 - 1) ** 2) * (alpha2 - 2))"
   ]
  },
  {
   "cell_type": "code",
   "execution_count": 128,
   "id": "b5ce18b0-0d95-46b1-8fb6-33cb4c4c2600",
   "metadata": {},
   "outputs": [],
   "source": [
    "from typing import Optional\n",
    "\n",
    "class ErlangK:\n",
    "    \"\"\"\n",
    "    Erlang distribution where k and theta are specified.\n",
    "\n",
    "    The Erlang is a special case of the gamma distribution where\n",
    "    k is a positive integer.  Internally this is implemented using\n",
    "    numpy Generators gamma method. \n",
    "\n",
    "    Optionally a user can offet the original of the distribution\n",
    "    using the location parameter.\n",
    "    \"\"\"\n",
    "\n",
    "    def __init__(\n",
    "        self,\n",
    "        k: int,\n",
    "        theta: float,\n",
    "        location: Optional[float] = 0.0,\n",
    "        random_seed: Optional[int] = None,\n",
    "    ):\n",
    "        \"\"\"\n",
    "        Constructor method\n",
    "\n",
    "        Params:\n",
    "        -------\n",
    "        k: integer\n",
    "            Mean of the Erlang\n",
    "\n",
    "        stdev: float\n",
    "            Standard deviation of the Erlang distribution\n",
    "\n",
    "        location: float, optional (default=0.0)\n",
    "            Offset the original of the distribution i.e.\n",
    "            the returned value = sample[Erlang] + location\n",
    "\n",
    "        random_seed, int, optional (default=None)\n",
    "            A random seed to reproduce samples. If set to none then a unique\n",
    "            sample is created.\n",
    "        \"\"\"\n",
    "        if k < 0.0:\n",
    "            raise ValueError(\"k must be > 0\")\n",
    "        \n",
    "        self.k = k\n",
    "        self.theta = theta\n",
    "        self.location = location\n",
    "        self.rng = np.random.default_rng(random_seed)\n",
    "\n",
    "    def sample(self, size=None):\n",
    "        \"\"\"\n",
    "        Sample fron the Erlang distribution\n",
    "\n",
    "        Params:\n",
    "        -------\n",
    "        size: int, optional (default=None)\n",
    "            Number of samples to return. If integer then\n",
    "            numpy array returned.\n",
    "        \"\"\"\n",
    "        return self.rng.gamma(self.k, self.theta, size) + self.location"
   ]
  },
  {
   "cell_type": "code",
   "execution_count": 132,
   "id": "373e86c7-a30d-4606-9199-210ede8714da",
   "metadata": {},
   "outputs": [
    {
     "data": {
      "image/png": "[encoded data removed]",
      "text/plain": [
       "<Figure size 640x480 with 1 Axes>"
      ]
     },
     "metadata": {},
     "output_type": "display_data"
    },
    {
     "name": "stdout",
     "output_type": "stream",
     "text": [
      "1.6133614894140933e-06\n",
      "63.60694357094066\n",
      "4.001079249303962\n",
      "16.018516455389122\n",
      "2.125\n",
      "2.1072916666666663\n"
     ]
    }
   ],
   "source": [
    "k = 1\n",
    "theta = 4.0\n",
    "N = 10_000_000\n",
    "\n",
    "dist = ErlangK(k, theta)\n",
    "    \n",
    "samples = dist.sample(N)\n",
    "\n",
    "frq, edges = np.histogram(samples, bins=1000)#, bins=np.linspace(0.0, 3.1, 32))\n",
    "fig, ax = plt.subplots()\n",
    "ax.bar(edges[:-1], (frq / N) * 100, width=np.diff(edges), edgecolor=\"black\", align=\"edge\")\n",
    "\n",
    "plt.show()\n",
    "print(min(samples))\n",
    "print(max(samples))\n",
    "print(samples.mean())\n",
    "print(samples.var())"
   ]
  },
  {
   "cell_type": "code",
   "execution_count": 133,
   "id": "794afa4c-49ae-48eb-8a3e-cfeeaba61129",
   "metadata": {},
   "outputs": [],
   "source": [
    "class Poisson:\n",
    "    def __init__(self, rate, random_seed=None):\n",
    "        self.rate = rate\n",
    "        self.rng = np.random.default_rng(random_seed)\n",
    "\n",
    "    def sample(self, size=None):\n",
    "        return self.rng.poisson(self.rate, size)\n",
    "        "
   ]
  },
  {
   "cell_type": "code",
   "execution_count": 134,
   "id": "28bd19fa-777b-4dac-9341-e989655e9a5c",
   "metadata": {},
   "outputs": [
    {
     "data": {
      "image/png": "[encoded data removed]",
      "text/plain": [
       "<Figure size 640x480 with 1 Axes>"
      ]
     },
     "metadata": {},
     "output_type": "display_data"
    },
    {
     "name": "stdout",
     "output_type": "stream",
     "text": [
      "0\n",
      "20\n",
      "4.9991119\n",
      "4.9978235112783915\n"
     ]
    }
   ],
   "source": [
    "dist = Poisson(5.0)\n",
    "samples = dist.sample(N)\n",
    "\n",
    "frq, edges = np.histogram(samples, bins=1000)#, bins=np.linspace(0.0, 3.1, 32))\n",
    "fig, ax = plt.subplots()\n",
    "ax.bar(edges[:-1], (frq / N) * 100, width=np.diff(edges), edgecolor=\"black\", align=\"edge\")\n",
    "\n",
    "plt.show()\n",
    "print(min(samples))\n",
    "print(max(samples))\n",
    "print(samples.mean())\n",
    "print(samples.var())"
   ]
  },
  {
   "cell_type": "code",
   "execution_count": null,
   "id": "1ad6eb41-37b5-4374-aecb-3474ce6b8004",
   "metadata": {},
   "outputs": [],
   "source": []
  }
 ],
 "metadata": {
  "kernelspec": {
   "display_name": "Python 3 (ipykernel)",
   "language": "python",
   "name": "python3"
  },
  "language_info": {
   "codemirror_mode": {
    "name": "ipython",
    "version": 3
   },
   "file_extension": ".py",
   "mimetype": "text/x-python",
   "name": "python",
   "nbconvert_exporter": "python",
   "pygments_lexer": "ipython3",
   "version": "3.10.13"
  }
 },
 "nbformat": 4,
 "nbformat_minor": 5
}

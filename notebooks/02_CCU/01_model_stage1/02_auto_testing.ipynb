{
 "cells": [
  {
   "cell_type": "markdown",
   "id": "fe965fd9-eafa-4b71-9099-fd81b3bf88b4",
   "metadata": {},
   "source": [
    "# Automated Model Testing \n",
    "\n",
    "This notebook contains a set of automated tests for the CCU model.  These tests are either pass or fail and no interpretation is needed. A summary of test results is provided at the end of the notebook.\n",
    "\n",
    "## Imports"
   ]
  },
  {
   "cell_type": "code",
   "execution_count": 1,
   "id": "f1dab904-67dd-4180-a53c-25f502203c55",
   "metadata": {},
   "outputs": [],
   "source": [
    "import numpy as np\n",
    "import statistics\n",
    "from sim_tools.distributions import Lognormal\n",
    "import pytest\n",
    "import ipytest\n",
    "ipytest.autoconfig()"
   ]
  },
  {
   "cell_type": "markdown",
   "id": "924c192d-bad4-47fd-83b0-22def8a9ac8c",
   "metadata": {},
   "source": [
    "## Model Code Imports"
   ]
  },
  {
   "cell_type": "code",
   "execution_count": 2,
   "id": "a630ad82-b20b-4216-9269-445eeb9f72da",
   "metadata": {},
   "outputs": [],
   "source": [
    "from ccu_formatted_code import *"
   ]
  },
  {
   "cell_type": "markdown",
   "id": "d8dc4c6d-91f0-4da3-a25f-c7511c749af5",
   "metadata": {},
   "source": [
    "## Tests\n",
    "\n",
    "### Constants and utility functions"
   ]
  },
  {
   "cell_type": "code",
   "execution_count": 3,
   "id": "9087601c-4967-4209-9e95-a07f9eb0641a",
   "metadata": {},
   "outputs": [],
   "source": [
    "# The extreme value\n",
    "M = 10_000_000"
   ]
  },
  {
   "cell_type": "code",
   "execution_count": 4,
   "id": "24589dce-d5b9-41d5-85c8-a4bacd18d026",
   "metadata": {},
   "outputs": [],
   "source": [
    "def run_test(experiment):\n",
    "    # Create a SimPy environment\n",
    "    env = simpy.Environment()\n",
    "    ccu_model = CCUModel(env, experiment)\n",
    "    try:\n",
    "        results = ccu_model.run()\n",
    "    except ZeroDivisionError:\n",
    "        results = None\n",
    "    \n",
    "    return ccu_model, results"
   ]
  },
  {
   "cell_type": "markdown",
   "id": "bd5d151c-940c-491b-b9cf-6299cf470365",
   "metadata": {},
   "source": [
    "### Extreme value test: no elective arrivals"
   ]
  },
  {
   "cell_type": "code",
   "execution_count": 5,
   "id": "e3800ae9-4d65-4c12-a0c6-dd2dab0b914e",
   "metadata": {},
   "outputs": [],
   "source": [
    "def test_extreme_value_no_electives(extreme_value=M):\n",
    "    '''\n",
    "    Extreme value test 1: \n",
    "    \n",
    "    Wards, Em Surgery, other hospitals, x-ray, electives have their inter-arrival time\n",
    "    set to $M$ a very large number.\n",
    "    \n",
    "    Expected result: \n",
    "    ----------------\n",
    "    Quantitative: There are no elective cancellations (as no electives arrive)\n",
    "\n",
    "    See also manual version:\n",
    "    The only type of patient to arrive to the model is \"Accident and Emergency.\"\n",
    "    '''\n",
    "    mod_interarrival_means = [22.72] + [extreme_value] * 5 \n",
    "    experiment = Experiment(interarrival_means=mod_interarrival_means)\n",
    "    model, results =  run_test(experiment)\n",
    "\n",
    "    # test elective count should = 0\n",
    "    assert results['Cancelled Elective Operations'].iloc[0] == 0"
   ]
  },
  {
   "cell_type": "markdown",
   "id": "ffd4e355-3c89-45ae-870f-923bc4ff412b",
   "metadata": {},
   "source": [
    "### Extreme value test: 1 critical care bed available"
   ]
  },
  {
   "cell_type": "code",
   "execution_count": 6,
   "id": "bf64ea6b-5844-4b8b-bc5a-0120eadc38cf",
   "metadata": {},
   "outputs": [],
   "source": [
    "@pytest.mark.parametrize('random_number_set', [\n",
    "                          (42),(101),(1),(2),(1234)\n",
    "])\n",
    "def test_extreme_value_1_bed(random_number_set):\n",
    "    '''\n",
    "    Extreme value test: Critical care beds set to 1 \n",
    "    \n",
    "    Expected result: \n",
    "    ---------------\n",
    "    bed occupancy to be equal to bed utilization as only 1 bed is available\n",
    "    \n",
    "    Cancellations also begin after 1st arrival.\n",
    " \n",
    "    Note: \n",
    "    ----\n",
    "    [1] When critical_care_beds=1 queues form after first arrival.  This is\n",
    "    assessed manually by viewing the trace in the manual trace notebook.\n",
    "\n",
    "    [2] Simpy constraints force us to use 1 bed instead of 0.\n",
    "    \n",
    "    '''\n",
    "    experiment = Experiment(num_critical_care_beds=1, \n",
    "                            random_number_set=random_number_set)\n",
    "    model, results = run_test(experiment)\n",
    "    assert results['Bed Utilization'].iloc[0] == results['Bed Occupancy'].iloc[0]"
   ]
  },
  {
   "cell_type": "markdown",
   "id": "74d9f0e8-662f-49d9-bf57-931ad91e986f",
   "metadata": {},
   "source": [
    "### Extreme value test: infinite critical care capacity."
   ]
  },
  {
   "cell_type": "code",
   "execution_count": 7,
   "id": "8a5e173a-e217-402a-96e6-4709f1413f5a",
   "metadata": {},
   "outputs": [],
   "source": [
    "@pytest.mark.parametrize('random_number_set', [\n",
    "                          (42),(101),(1),(2),(1234)\n",
    "])\n",
    "def test_extreme_value_infinite_capacity(random_number_set):\n",
    "    '''\n",
    "    Extreme value test 3: \n",
    "    \n",
    "    Critical care beds set to M a very large number.\n",
    "    \n",
    "    Expected result: \n",
    "    ---------------\n",
    "    No cancelled electives and no unplanned patients have to wait.    \n",
    "    '''\n",
    "    experiment = Experiment(num_critical_care_beds=M, \n",
    "                            random_number_set=random_number_set)\n",
    "    model, results = run_test(experiment)\n",
    "    assert results['Cancelled Elective Operations'].iloc[0] == 0 and \\\n",
    "           results['Mean Waiting Time Unplanned'].iloc[0] == 0"
   ]
  },
  {
   "cell_type": "markdown",
   "id": "5c164825-58fd-4617-965e-d4134e3ad806",
   "metadata": {},
   "source": [
    "### Test warm-up period reset"
   ]
  },
  {
   "cell_type": "code",
   "execution_count": 8,
   "id": "caa2ab20-527c-46dc-ae23-af4bc9ff997a",
   "metadata": {},
   "outputs": [],
   "source": [
    "@pytest.mark.parametrize('warm_up', [\n",
    "                          (0),(1),(100),(570),(1000)\n",
    "])\n",
    "def test_warmup_period(warm_up):\n",
    "    '''\n",
    "    Vary the warm-up period while holding the \n",
    "    results collection period constant.\n",
    "\n",
    "    Expected result\n",
    "    ---------------\n",
    "    Run length = warm_up + results collection period\n",
    "    '''\n",
    "    experiment = Experiment(warm_up_period=warm_up)\n",
    "    model, results = run_test(experiment)\n",
    "    assert model.env.now == (experiment.results_collection_period \\\n",
    "                             + experiment.warm_up_period)"
   ]
  },
  {
   "cell_type": "code",
   "execution_count": 9,
   "id": "b0a9c4fc-8996-4c92-8638-c20eb0d9fb28",
   "metadata": {},
   "outputs": [],
   "source": [
    "@pytest.mark.parametrize('warm_up', [\n",
    "                          (0),(1),(100),(570),(1000)\n",
    "])\n",
    "def test_warmup_reset(warm_up):\n",
    "    '''\n",
    "    Vary the warm-up period while holding the \n",
    "    results collection period constant.\n",
    "\n",
    "    Expected result\n",
    "    ---------------\n",
    "    The following `experiment` variables are set to 0:\n",
    "    \n",
    "    total_treatment_time\n",
    "    cancelled_elective_count\n",
    "    mean_waiting_time_unplanned\n",
    "    total_unplanned_admissions\n",
    "\n",
    "    The following model variables is reset to 0 during \n",
    "    warm_up_complete event:\n",
    "    \n",
    "    patient_count\n",
    "\n",
    "    Notes:\n",
    "    ------\n",
    "    [1] We must set results collectiom period to a small\n",
    "    number. This allows for the warm_up_complete event\n",
    "    to take place before simpy terminates the run.\n",
    "    \n",
    "    '''\n",
    "    # allow for very small results collection period so\n",
    "    # that warmup reset event occurs.\n",
    "    experiment = Experiment(warm_up_period=warm_up,\n",
    "                            results_collection_period=0.005)\n",
    "    \n",
    "    model, results = run_test(experiment)\n",
    "\n",
    "    assert experiment.total_treatment_time == 0 and \\\n",
    "           experiment.cancelled_elective_count == 0 and \\\n",
    "           experiment.mean_waiting_time_unplanned == 0 and \\\n",
    "           experiment.total_unplanned_admissions == 0 and \\\n",
    "           model.patient_count == 0"
   ]
  },
  {
   "cell_type": "markdown",
   "id": "fcf6058c-1238-4304-aae1-38a830214f8b",
   "metadata": {},
   "source": [
    "### Test repeatable runs"
   ]
  },
  {
   "cell_type": "code",
   "execution_count": 10,
   "id": "fff50946-64e6-48c4-8e4c-cb36a18de841",
   "metadata": {},
   "outputs": [],
   "source": [
    "@pytest.mark.parametrize('n_reps', [\n",
    "                          (5),(10),(27)\n",
    "])\n",
    "def test_repeatable_reps(n_reps):\n",
    "    \"\"\"\n",
    "    Test that random number streams are controlled and \n",
    "    multiple replications produce the same results each\n",
    "    time they are run.\n",
    "\n",
    "    Params:\n",
    "    -------\n",
    "    n_reps: int\n",
    "        The number of replications to run.\n",
    "\n",
    "    Expected results:\n",
    "    -----------------\n",
    "    The difference of two repeated runs is 0.\n",
    "    \"\"\"\n",
    "    experiment = Experiment()\n",
    "    replications = multiple_replications(experiment, n_reps)\n",
    "    rs1 =  results_summary(replications)\n",
    "\n",
    "    experiment = Experiment()\n",
    "    replications = multiple_replications(experiment, n_reps)\n",
    "    rs2 =  results_summary(replications)\n",
    "\n",
    "    # sum all performance measures -> if no diff then = 0\n",
    "    diff = (rs1 - rs2).sum(axis=1).sum()\n",
    "\n",
    "    assert diff == 0.0"
   ]
  },
  {
   "cell_type": "markdown",
   "id": "cff85987-af51-4b03-83dc-dc674842f36b",
   "metadata": {},
   "source": [
    "## Run tests"
   ]
  },
  {
   "cell_type": "code",
   "execution_count": 11,
   "id": "823886aa-6c7e-40f4-87f6-57cd2b584fda",
   "metadata": {},
   "outputs": [
    {
     "name": "stdout",
     "output_type": "stream",
     "text": [
      "\u001b[1m======================================= test session starts ========================================\u001b[0m\n",
      "\u001b[1mcollecting ... \u001b[0mcollected 24 items\n",
      "\n",
      "t_460250ab3a9e445ea23c6442cf9e2228.py::test_extreme_value_no_electives \u001b[32mPASSED\u001b[0m\u001b[32m                [  4%]\u001b[0m\n",
      "t_460250ab3a9e445ea23c6442cf9e2228.py::test_extreme_value_1_bed[42] \u001b[32mPASSED\u001b[0m\u001b[32m                   [  8%]\u001b[0m\n",
      "t_460250ab3a9e445ea23c6442cf9e2228.py::test_extreme_value_1_bed[101] \u001b[32mPASSED\u001b[0m\u001b[32m                  [ 12%]\u001b[0m\n",
      "t_460250ab3a9e445ea23c6442cf9e2228.py::test_extreme_value_1_bed[1] \u001b[32mPASSED\u001b[0m\u001b[32m                    [ 16%]\u001b[0m\n",
      "t_460250ab3a9e445ea23c6442cf9e2228.py::test_extreme_value_1_bed[2] \u001b[32mPASSED\u001b[0m\u001b[32m                    [ 20%]\u001b[0m\n",
      "t_460250ab3a9e445ea23c6442cf9e2228.py::test_extreme_value_1_bed[1234] \u001b[32mPASSED\u001b[0m\u001b[32m                 [ 25%]\u001b[0m\n",
      "t_460250ab3a9e445ea23c6442cf9e2228.py::test_extreme_value_infinite_capacity[42] \u001b[32mPASSED\u001b[0m\u001b[32m       [ 29%]\u001b[0m\n",
      "t_460250ab3a9e445ea23c6442cf9e2228.py::test_extreme_value_infinite_capacity[101] \u001b[32mPASSED\u001b[0m\u001b[32m      [ 33%]\u001b[0m\n",
      "t_460250ab3a9e445ea23c6442cf9e2228.py::test_extreme_value_infinite_capacity[1] \u001b[32mPASSED\u001b[0m\u001b[32m        [ 37%]\u001b[0m\n",
      "t_460250ab3a9e445ea23c6442cf9e2228.py::test_extreme_value_infinite_capacity[2] \u001b[32mPASSED\u001b[0m\u001b[32m        [ 41%]\u001b[0m\n",
      "t_460250ab3a9e445ea23c6442cf9e2228.py::test_extreme_value_infinite_capacity[1234] \u001b[32mPASSED\u001b[0m\u001b[32m     [ 45%]\u001b[0m\n",
      "t_460250ab3a9e445ea23c6442cf9e2228.py::test_warmup_period[0] \u001b[32mPASSED\u001b[0m\u001b[32m                          [ 50%]\u001b[0m\n",
      "t_460250ab3a9e445ea23c6442cf9e2228.py::test_warmup_period[1] \u001b[32mPASSED\u001b[0m\u001b[32m                          [ 54%]\u001b[0m\n",
      "t_460250ab3a9e445ea23c6442cf9e2228.py::test_warmup_period[100] \u001b[32mPASSED\u001b[0m\u001b[32m                        [ 58%]\u001b[0m\n",
      "t_460250ab3a9e445ea23c6442cf9e2228.py::test_warmup_period[570] \u001b[32mPASSED\u001b[0m\u001b[32m                        [ 62%]\u001b[0m\n",
      "t_460250ab3a9e445ea23c6442cf9e2228.py::test_warmup_period[1000] \u001b[32mPASSED\u001b[0m\u001b[32m                       [ 66%]\u001b[0m\n",
      "t_460250ab3a9e445ea23c6442cf9e2228.py::test_warmup_reset[0] \u001b[32mPASSED\u001b[0m\u001b[32m                           [ 70%]\u001b[0m\n",
      "t_460250ab3a9e445ea23c6442cf9e2228.py::test_warmup_reset[1] \u001b[32mPASSED\u001b[0m\u001b[32m                           [ 75%]\u001b[0m\n",
      "t_460250ab3a9e445ea23c6442cf9e2228.py::test_warmup_reset[100] \u001b[32mPASSED\u001b[0m\u001b[32m                         [ 79%]\u001b[0m\n",
      "t_460250ab3a9e445ea23c6442cf9e2228.py::test_warmup_reset[570] \u001b[32mPASSED\u001b[0m\u001b[32m                         [ 83%]\u001b[0m\n",
      "t_460250ab3a9e445ea23c6442cf9e2228.py::test_warmup_reset[1000] \u001b[32mPASSED\u001b[0m\u001b[32m                        [ 87%]\u001b[0m\n",
      "t_460250ab3a9e445ea23c6442cf9e2228.py::test_repeatable_reps[5] \u001b[32mPASSED\u001b[0m\u001b[32m                        [ 91%]\u001b[0m\n",
      "t_460250ab3a9e445ea23c6442cf9e2228.py::test_repeatable_reps[10] \u001b[32mPASSED\u001b[0m\u001b[32m                       [ 95%]\u001b[0m\n",
      "t_460250ab3a9e445ea23c6442cf9e2228.py::test_repeatable_reps[27] \u001b[32mPASSED\u001b[0m\u001b[32m                       [100%]\u001b[0m\n",
      "\n",
      "========================================== tests coverage ==========================================\n",
      "_________________________ coverage: platform linux, python 3.10.13-final-0 _________________________\n",
      "\n",
      "Name                    Stmts   Miss  Cover\n",
      "-------------------------------------------\n",
      "ccu_formatted_code.py     194     73    62%\n",
      "-------------------------------------------\n",
      "TOTAL                     194     73    62%\n",
      "\u001b[32m======================================== \u001b[32m\u001b[1m24 passed\u001b[0m\u001b[32m in 3.99s\u001b[0m\u001b[32m ========================================\u001b[0m\n"
     ]
    },
    {
     "data": {
      "text/plain": [
       "<ExitCode.OK: 0>"
      ]
     },
     "execution_count": 11,
     "metadata": {},
     "output_type": "execute_result"
    }
   ],
   "source": [
    "ipytest.run(\"-vv\", \"--no-header\", \"--cov=ccu_formatted_code\")"
   ]
  }
 ],
 "metadata": {
  "kernelspec": {
   "display_name": "gen_simpy",
   "language": "python",
   "name": "python3"
  },
  "language_info": {
   "codemirror_mode": {
    "name": "ipython",
    "version": 3
   },
   "file_extension": ".py",
   "mimetype": "text/x-python",
   "name": "python",
   "nbconvert_exporter": "python",
   "pygments_lexer": "ipython3",
   "version": "3.10.13"
  }
 },
 "nbformat": 4,
 "nbformat_minor": 5
}

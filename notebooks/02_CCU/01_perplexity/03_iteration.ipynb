{
 "cells": [
  {
   "cell_type": "markdown",
   "id": "f80a9659-62b8-45db-b729-698300677ef9",
   "metadata": {},
   "source": [
    "# Iteration 3: organise parameters\n",
    "\n",
    "## Plain English Summary\n",
    "\n",
    "Before we add in results collection the organisation of the model is modified so that parameters are separated from model logic.  Given the \"hidden code\" issue in iteration 2 the input included a command to show all generator functions.\n",
    "\n",
    "The same tests can be applied here as iteration 1, 2, and 3. These should now be easier as parameters should not be hardcoded and are instead accessible via the Experiment class.\n",
    "\n",
    "\n"
   ]
  },
  {
   "cell_type": "markdown",
   "id": "2e3176fc-587b-434d-a3d2-ee98f6501b7e",
   "metadata": {},
   "source": [
    "## Notebook imports"
   ]
  },
  {
   "cell_type": "code",
   "execution_count": null,
   "id": "c55ce33a-76d3-45a4-a286-3d3afd633dce",
   "metadata": {},
   "outputs": [],
   "source": [
    "from IPython.display import Markdown, display\n",
    "\n",
    "import numpy as np\n",
    "import math"
   ]
  },
  {
   "cell_type": "markdown",
   "id": "a55c3ecc-617e-419e-8fb5-f4559bbc45c6",
   "metadata": {},
   "source": [
    "## LLM Prompt "
   ]
  },
  {
   "cell_type": "code",
   "execution_count": null,
   "id": "b2ec31fa-8440-403e-b7e7-aa24eaf705f1",
   "metadata": {},
   "outputs": [],
   "source": [
    "display(Markdown(\"inputs/iteration_3.md\"))"
   ]
  },
  {
   "cell_type": "markdown",
   "id": "33dcc018-7a80-4c3f-9994-6103be666c64",
   "metadata": {},
   "source": [
    "## Date and time of input to LLM\n",
    "\n",
    "> 1500 29th November 2023 "
   ]
  },
  {
   "cell_type": "markdown",
   "id": "c7329706-d5b3-4392-9f6d-36ba96024902",
   "metadata": {},
   "source": [
    "## Observations on the LLM Output\n",
    "\n",
    "* The `Experiment` class has been created.  All parameters are passed in the constructor method.  This uses a tuple.\n",
    "* The mean elective treatment time is included in `stay_distributions`, but there is also an `elective_treatment_mean` variable.  It is this variable that is used by `elective_surgery_process` to sample from the exponential distribution.\n",
    "* There is a bug in the code. The `run` method uses the module level scope variable `env` instead of the instance variable `self.env` that `CCUModel` has been passed.  This was picked up by the tester.  The LLM was asked to fix the bug."
   ]
  },
  {
   "cell_type": "markdown",
   "id": "f1f702d0-7aff-406d-8c86-d24bf494b62f",
   "metadata": {},
   "source": [
    "## LLM Output 1:"
   ]
  },
  {
   "cell_type": "markdown",
   "id": "8967d609-bedb-4c93-9b77-c3446f3ded84",
   "metadata": {},
   "source": [
    "Here's the modified code with all model parameters stored within a separate class called `Experiment`:\n",
    "\n",
    "In this modified code, all model parameters are stored within a separate class called `Experiment`. The `Experiment` class is responsible for storing the means of the arrival distributions, the unplanned patient treatment time mean and standard deviations, the elective patients mean treatment time, the number of critical care beds available, the duration of intensive cleaning following a patient discharge, and the simulation run length. These parameters are passed to the `Experiment` class constructor method when it is created, with default values provided.\n",
    "\n",
    "The `CCUModel` class includes all patient generator functions, and it receives an instance of the `Experiment` class to access the model parameters. The simulation environment is created using `simpy.Environment()`, and an instance of the `CCUModel` is created to run the simulation.\n",
    "\n",
    "This code is based on the requirements specified and uses SimPy 4.1.1 and Python 3.10.4, as requested. For more details on SimPy and Python, please refer to the official documentation and release notes.\n",
    "\n",
    "Citations:\n",
    "[1] https://towardsdatascience.com/object-oriented-discrete-event-simulation-with-simpy-53ad82f5f6e2\n",
    "\n",
    "[2] https://annalsofintensivecare.springeropen.com/articles/10.1186/2110-5820-2-18\n",
    "\n",
    "[3] https://www.ncbi.nlm.nih.gov/pmc/articles/PMC7491890/\n",
    "\n",
    "[4] https://biomedical-engineering-online.biomedcentral.com/articles/10.1186/s12938-018-0455-y\n",
    "\n",
    "[5] https://www.ncbi.nlm.nih.gov/pmc/articles/PMC8189840/"
   ]
  },
  {
   "cell_type": "code",
   "execution_count": null,
   "id": "717d4211-32eb-40ea-a69f-aa4af990f145",
   "metadata": {},
   "outputs": [],
   "source": [
    "import simpy\n",
    "import numpy as np\n",
    "\n",
    "class Experiment:\n",
    "    def __init__(self, \n",
    "                 interarrival_means=[22.72, 26.0, 37.0, 47.2, 575.0, 17.91], \n",
    "                 stay_distributions=[(128.79, 267.51), (177.89, 276.54), (140.15, 218.02), (212.86, 457.67), (87.53, 108.67), 57.34], \n",
    "                 elective_treatment_mean=57.34, \n",
    "                 num_critical_care_beds=24, \n",
    "                 intensive_cleaning_duration=5, \n",
    "                 run_length=12*30*24):\n",
    "        self.interarrival_means = interarrival_means\n",
    "        self.stay_distributions = stay_distributions\n",
    "        self.elective_treatment_mean = elective_treatment_mean\n",
    "        self.num_critical_care_beds = num_critical_care_beds\n",
    "        self.intensive_cleaning_duration = intensive_cleaning_duration\n",
    "        self.run_length = run_length\n",
    "\n",
    "class CCUModel:\n",
    "    def __init__(self, env, experiment):\n",
    "        self.env = env\n",
    "        self.experiment = experiment\n",
    "        self.patient_count = 0\n",
    "        self.critical_care_beds = simpy.Resource(env, capacity=experiment.num_critical_care_beds)\n",
    "\n",
    "    def patient_arrival_AE(self):\n",
    "        while True:\n",
    "            yield self.env.timeout(np.random.exponential(self.experiment.interarrival_means[0]))\n",
    "            self.patient_count += 1\n",
    "            print(f\"Patient {self.patient_count} arrived from Accident and Emergency at time {self.env.now}\")\n",
    "            self.env.process(self.unplanned_admission(self.experiment.stay_distributions[0]))\n",
    "\n",
    "    def patient_arrival_wards(self):\n",
    "        while True:\n",
    "            yield self.env.timeout(np.random.exponential(self.experiment.interarrival_means[1]))\n",
    "            self.patient_count += 1\n",
    "            print(f\"Patient {self.patient_count} arrived from the Wards at time {self.env.now}\")\n",
    "            self.env.process(self.unplanned_admission(self.experiment.stay_distributions[1]))\n",
    "\n",
    "    def patient_arrival_surgery(self):\n",
    "        while True:\n",
    "            yield self.env.timeout(np.random.exponential(self.experiment.interarrival_means[2]))\n",
    "            self.patient_count += 1\n",
    "            print(f\"Patient {self.patient_count} arrived from Emergency surgery at time {self.env.now}\")\n",
    "            self.env.process(self.unplanned_admission(self.experiment.stay_distributions[2]))\n",
    "\n",
    "    def patient_arrival_other_hospitals(self):\n",
    "        while True:\n",
    "            yield self.env.timeout(np.random.exponential(self.experiment.interarrival_means[3]))\n",
    "            self.patient_count += 1\n",
    "            print(f\"Patient {self.patient_count} arrived from other hospitals at time {self.env.now}\")\n",
    "            self.env.process(self.unplanned_admission(self.experiment.stay_distributions[3]))\n",
    "\n",
    "    def patient_arrival_X_ray(self):\n",
    "        while True:\n",
    "            yield self.env.timeout(np.random.exponential(self.experiment.interarrival_means[4]))\n",
    "            self.patient_count += 1\n",
    "            print(f\"Patient {self.patient_count} arrived from the X-Ray department at time {self.env.now}\")\n",
    "            self.env.process(self.unplanned_admission(self.experiment.stay_distributions[4]))\n",
    "\n",
    "    def patient_arrival_elective_surgery(self):\n",
    "        while True:\n",
    "            yield self.env.timeout(np.random.normal(self.experiment.interarrival_means[5], 3.16))\n",
    "            self.patient_count += 1\n",
    "            print(f\"Elective surgery patient {self.patient_count} arrived at time {self.env.now}\")\n",
    "            if len(self.critical_care_beds.users) == self.critical_care_beds.capacity:\n",
    "                print(f\"Elective surgery for patient {self.patient_count} cancelled due to no available critical care beds at time {self.env.now}\")\n",
    "            else:\n",
    "                self.env.process(self.elective_surgery_process(self.experiment.elective_treatment_mean))\n",
    "\n",
    "    def unplanned_admission(self, stay_distribution):\n",
    "        with self.critical_care_beds.request() as req:\n",
    "            yield req\n",
    "            print(f\"Patient {self.patient_count} admitted to critical care bed at time {self.env.now}\")\n",
    "            treatment_time = np.random.lognormal(np.log(stay_distribution[0]) - 0.5 * np.log(1 + (stay_distribution[1] / stay_distribution[0])**2),\n",
    "                                                 np.sqrt(np.log(1 + (stay_distribution[1] / stay_distribution[0])**2)))\n",
    "            yield self.env.timeout(treatment_time)\n",
    "            print(f\"Patient {self.patient_count} discharged from critical care bed at time {self.env.now}\")\n",
    "            yield self.env.timeout(self.experiment.intensive_cleaning_duration)\n",
    "            print(f\"Critical care bed is available for next patient at time {self.env.now}\")\n",
    "\n",
    "    def elective_surgery_process(self, treatment_mean):\n",
    "        with self.critical_care_beds.request() as req:\n",
    "            yield req\n",
    "            print(f\"Elective surgery patient {self.patient_count} admitted to critical care bed at time {self.env.now}\")\n",
    "            treatment_time = np.random.exponential(treatment_mean)\n",
    "            yield self.env.timeout(treatment_time)\n",
    "            print(f\"Elective surgery patient {self.patient_count} discharged from critical care bed at time {self.env.now}\")\n",
    "            yield self.env.timeout(self.experiment.intensive_cleaning_duration)\n",
    "            print(f\"Critical care bed is available for next patient at time {self.env.now}\")\n",
    "\n",
    "    def run(self):\n",
    "        env.process(self.patient_arrival_AE())\n",
    "        env.process(self.patient_arrival_wards())\n",
    "        env.process(self.patient_arrival_surgery())\n",
    "        env.process(self.patient_arrival_other_hospitals())\n",
    "        env.process(self.patient_arrival_X_ray())\n",
    "        env.process(self.patient_arrival_elective_surgery())\n",
    "        env.run(until=self.experiment.run_length)\n",
    "\n",
    "# Create a SimPy environment\n",
    "env = simpy.Environment()\n",
    "\n",
    "# Create an instance of the Experiment class and the CCU model, then run the simulation\n",
    "experiment = Experiment()\n",
    "ccu_model = CCUModel(env, experiment)\n",
    "ccu_model.run()"
   ]
  },
  {
   "cell_type": "markdown",
   "id": "e5922cb0-7cbe-4491-a8d7-2aae0560bb53",
   "metadata": {},
   "source": [
    "## ADDITIONAL COMMAND/PROMPT\n",
    "\n",
    "The run method of the CCUModel class contains a bug.  The method should refer to self.env instead of the variable env"
   ]
  },
  {
   "cell_type": "markdown",
   "id": "45262fd8-db7a-4a3a-866e-f1790bad61be",
   "metadata": {},
   "source": [
    "## LLM Output 2"
   ]
  },
  {
   "cell_type": "markdown",
   "id": "c24f43b1-a0d7-4ad7-8506-a48d3858c2c6",
   "metadata": {},
   "source": [
    "Here's the complete code for the CCUModel class with the run method corrected to refer to self.env:\n",
    "\n",
    "In this corrected code, the run method correctly refers to self.env instead of the variable env. This ensures that the simulation environment is accessed through the instance of the CCUModel class.\n",
    "\n",
    "Citations:\n",
    "[1] https://github.com/pyinvoke/invoke/issues/259\n",
    "\n",
    "[2] https://classroomcheckup.org\n",
    "\n",
    "[3] https://stackoverflow.com/questions/68493263/create-method-with-class-self-variables-outside-of-a-python-class-and-then-add-i\n",
    "\n",
    "[4] https://github.com/spack/spack/discussions/13926\n",
    "\n",
    "[5] https://www.cms.gov/medicare-coverage-database/view/article.aspx?articleId=52985"
   ]
  },
  {
   "cell_type": "code",
   "execution_count": null,
   "id": "0102da15-fd4b-4718-8e00-c159b4d1c133",
   "metadata": {},
   "outputs": [],
   "source": [
    "import simpy\n",
    "import numpy as np\n",
    "\n",
    "class CCUModel:\n",
    "    def __init__(self, env, experiment):\n",
    "        self.env = env\n",
    "        self.experiment = experiment\n",
    "        self.patient_count = 0\n",
    "        self.critical_care_beds = simpy.Resource(env, capacity=experiment.num_critical_care_beds)\n",
    "\n",
    "    def patient_arrival_AE(self):\n",
    "        while True:\n",
    "            yield self.env.timeout(np.random.exponential(self.experiment.interarrival_means[0]))\n",
    "            self.patient_count += 1\n",
    "            print(f\"Patient {self.patient_count} arrived from Accident and Emergency at time {self.env.now}\")\n",
    "            self.env.process(self.unplanned_admission(self.experiment.stay_distributions[0]))\n",
    "\n",
    "    def patient_arrival_wards(self):\n",
    "        while True:\n",
    "            yield self.env.timeout(np.random.exponential(self.experiment.interarrival_means[1]))\n",
    "            self.patient_count += 1\n",
    "            print(f\"Patient {self.patient_count} arrived from the Wards at time {self.env.now}\")\n",
    "            self.env.process(self.unplanned_admission(self.experiment.stay_distributions[1]))\n",
    "\n",
    "    def patient_arrival_surgery(self):\n",
    "        while True:\n",
    "            yield self.env.timeout(np.random.exponential(self.experiment.interarrival_means[2]))\n",
    "            self.patient_count += 1\n",
    "            print(f\"Patient {self.patient_count} arrived from Emergency surgery at time {self.env.now}\")\n",
    "            self.env.process(self.unplanned_admission(self.experiment.stay_distributions[2]))\n",
    "\n",
    "    def patient_arrival_other_hospitals(self):\n",
    "        while True:\n",
    "            yield self.env.timeout(np.random.exponential(self.experiment.interarrival_means[3]))\n",
    "            self.patient_count += 1\n",
    "            print(f\"Patient {self.patient_count} arrived from other hospitals at time {self.env.now}\")\n",
    "            self.env.process(self.unplanned_admission(self.experiment.stay_distributions[3]))\n",
    "\n",
    "    def patient_arrival_X_ray(self):\n",
    "        while True:\n",
    "            yield self.env.timeout(np.random.exponential(self.experiment.interarrival_means[4]))\n",
    "            self.patient_count += 1\n",
    "            print(f\"Patient {self.patient_count} arrived from the X-Ray department at time {self.env.now}\")\n",
    "            self.env.process(self.unplanned_admission(self.experiment.stay_distributions[4]))\n",
    "\n",
    "    def patient_arrival_elective_surgery(self):\n",
    "        while True:\n",
    "            yield self.env.timeout(np.random.normal(self.experiment.interarrival_means[5], 3.16))\n",
    "            self.patient_count += 1\n",
    "            print(f\"Elective surgery patient {self.patient_count} arrived at time {self.env.now}\")\n",
    "            if len(self.critical_care_beds.users) == self.critical_care_beds.capacity:\n",
    "                print(f\"Elective surgery for patient {self.patient_count} cancelled due to no available critical care beds at time {self.env.now}\")\n",
    "            else:\n",
    "                self.env.process(self.elective_surgery_process(self.experiment.elective_treatment_mean))\n",
    "\n",
    "    def unplanned_admission(self, stay_distribution):\n",
    "        with self.critical_care_beds.request() as req:\n",
    "            yield req\n",
    "            print(f\"Patient {self.patient_count} admitted to critical care bed at time {self.env.now}\")\n",
    "            treatment_time = np.random.lognormal(np.log(stay_distribution[0]) - 0.5 * np.log(1 + (stay_distribution[1] / stay_distribution[0])**2),\n",
    "                                                 np.sqrt(np.log(1 + (stay_distribution[1] / stay_distribution[0])**2)))\n",
    "            yield self.env.timeout(treatment_time)\n",
    "            print(f\"Patient {self.patient_count} discharged from critical care bed at time {self.env.now}\")\n",
    "            yield self.env.timeout(self.experiment.intensive_cleaning_duration)\n",
    "            print(f\"Critical care bed is available for next patient at time {self.env.now}\")\n",
    "\n",
    "    def elective_surgery_process(self, treatment_mean):\n",
    "        with self.critical_care_beds.request() as req:\n",
    "            yield req\n",
    "            print(f\"Elective surgery patient {self.patient_count} admitted to critical care bed at time {self.env.now}\")\n",
    "            treatment_time = np.random.exponential(treatment_mean)\n",
    "            yield self.env.timeout(treatment_time)\n",
    "            print(f\"Elective surgery patient {self.patient_count} discharged from critical care bed at time {self.env.now}\")\n",
    "            yield self.env.timeout(self.experiment.intensive_cleaning_duration)\n",
    "            print(f\"Critical care bed is available for next patient at time {self.env.now}\")\n",
    "\n",
    "    def run(self):\n",
    "        self.env.process(self.patient_arrival_AE())\n",
    "        self.env.process(self.patient_arrival_wards())\n",
    "        self.env.process(self.patient_arrival_surgery())\n",
    "        self.env.process(self.patient_arrival_other_hospitals())\n",
    "        self.env.process(self.patient_arrival_X_ray())\n",
    "        self.env.process(self.patient_arrival_elective_surgery())\n",
    "        self.env.run(until=self.experiment.run_length)\n"
   ]
  },
  {
   "cell_type": "code",
   "execution_count": null,
   "id": "ff9b1f28-95fd-4b3b-96f6-45d6e0035fed",
   "metadata": {},
   "outputs": [],
   "source": [
    "# Create a SimPy environment\n",
    "env = simpy.Environment()\n",
    "\n",
    "# Create an instance of the Experiment class and the CCU model, then run the simulation\n",
    "experiment = Experiment()\n",
    "ccu_model = CCUModel(env, experiment)\n",
    "ccu_model.run()"
   ]
  },
  {
   "cell_type": "markdown",
   "id": "1c97660d-7fd0-4ed7-af75-74c6559c1dd3",
   "metadata": {},
   "source": [
    "## Testing\n",
    "\n",
    "Here we do a number of regression tests to check that previous functionality is not affected by the `Experiment` class.\n",
    "\n",
    "From iteration 0\n",
    "\n",
    "* **Extreme value test 1**: Wards, Em Surgery, other hospitals, x-ray have their inter-arrival time is set to $M$ a very large number\n",
    "    * Expected result: The only type of patient to arrive to the model is \"Accident and Emergency.\"\n",
    "    * Actual result **(PASS)**: The only type of patient to arrive to the model is \"Accident and Emergency.\"\n",
    "* **Extreme value test 2**: All unplanned patient types have have their inter-arrival time is set to $M$ a very large number\n",
    "    * Expected result: The only type of patient to arrive to the model is \"Elective.\"\n",
    "    * Actual result **(PASS)**: The only type of patient to arrive to the model is \"Elective.\"\n",
    "* **Different run length**: The run length of the model is set to 10 days.\n",
    "    * Expected result: The model should runs no longer than 240 simulated time periods\n",
    "    * Actual result **(PASS)**: The model runs no longer than 240 simulated time periods\n",
    "* **Extreme value test 3**: `critical_care_beds` = 1\n",
    "    * Expected result: queues form after first arrival.\n",
    "    * Actual result **(PASS)**: queues form after first arrival. \n",
    "* **Extreme value test 4**: means of stay_distributions set to $M$ a very large number.\n",
    "    * Expected result: after 24 arrivals queues form and no patients are admitted.\n",
    "    * Actual result **(PASS)**: after 24 arrivals queues form and no patients are admitted.\n"
   ]
  },
  {
   "cell_type": "markdown",
   "id": "6e04274b-f252-4676-b44e-f6088000f218",
   "metadata": {},
   "source": [
    "### Test 1: Extreme value test 1\n",
    "\n",
    "PASS"
   ]
  },
  {
   "cell_type": "code",
   "execution_count": null,
   "id": "abe1e7b2-fb7c-48e7-a017-0b20a52ab565",
   "metadata": {},
   "outputs": [],
   "source": [
    "M = 10_000_000"
   ]
  },
  {
   "cell_type": "code",
   "execution_count": null,
   "id": "40147960-4a80-47cf-8792-794279d9cec1",
   "metadata": {},
   "outputs": [],
   "source": [
    "def run_test(experiment):\n",
    "    # Create a SimPy environment\n",
    "    env = simpy.Environment()\n",
    "    ccu_model = CCUModel(env, experiment)\n",
    "    ccu_model.run()\n",
    "    return ccu_model"
   ]
  },
  {
   "cell_type": "code",
   "execution_count": null,
   "id": "97cebfeb-06ec-478f-b905-9f6e4c3f441d",
   "metadata": {},
   "outputs": [],
   "source": [
    "def extreme_value_test_1(extreme_value=M):\n",
    "    '''\n",
    "    Extreme value test 1: \n",
    "    \n",
    "    Wards, Em Surgery, other hospitals, x-ray, electives have their inter-arrival time\n",
    "    set to $M$ a very large number\n",
    "    Expected result: The only type of patient to arrive to the model is \"Accident and Emergency.\"\n",
    "    '''\n",
    "    mod_interarrival_means = [22.72] + [extreme_value] * 5 \n",
    "    experiment = Experiment(interarrival_means=mod_interarrival_means)\n",
    "    run_test(experiment)"
   ]
  },
  {
   "cell_type": "code",
   "execution_count": null,
   "id": "a03360f0-a9f3-4bf1-9890-f3bd9fc9001b",
   "metadata": {},
   "outputs": [],
   "source": [
    "extreme_value_test_1()"
   ]
  },
  {
   "cell_type": "markdown",
   "id": "1ed93f8c-4af9-4889-8280-ba22df44b41b",
   "metadata": {},
   "source": [
    "### Test 2: Extreme value test 2\n",
    "\n",
    "PASS"
   ]
  },
  {
   "cell_type": "code",
   "execution_count": null,
   "id": "4e42c351-bb72-4d93-b43f-b79bc6eeeca4",
   "metadata": {},
   "outputs": [],
   "source": [
    "def extreme_value_test_2(extreme_value=M):\n",
    "    '''\n",
    "    Extreme value test 2: \n",
    "    \n",
    "    All unplanned admissions have their inter-arrival time\n",
    "    set to $M$ a very large number\n",
    "    \n",
    "    Expected result: The only type of patient to arrive to the model is \"Elective\"\n",
    "    '''\n",
    "    mod_interarrival_means=[extreme_value] * 5 + [17.91]\n",
    "    experiment = Experiment(interarrival_means=mod_interarrival_means)\n",
    "    run_test(experiment)"
   ]
  },
  {
   "cell_type": "code",
   "execution_count": null,
   "id": "3fcf1948-bdcf-4db4-835f-6b502f298393",
   "metadata": {},
   "outputs": [],
   "source": [
    "M = 10_000_000\n",
    "extreme_value_test_2()"
   ]
  },
  {
   "cell_type": "markdown",
   "id": "23a6dfc1-a226-43da-805d-62c6e16bc95b",
   "metadata": {},
   "source": [
    "### Test 3: Different run length\n",
    "\n",
    "PASS"
   ]
  },
  {
   "cell_type": "code",
   "execution_count": null,
   "id": "61303ad2-b636-4ffc-9a9f-29a761e31d14",
   "metadata": {},
   "outputs": [],
   "source": [
    "def test_run_length(new_run_length):\n",
    "    '''\n",
    "    Different run length\n",
    "\n",
    "    Expected result Run length should be no longer than `new_run_length`\n",
    "    '''\n",
    "    experiment = Experiment(run_length=new_run_length)\n",
    "    model = run_test(experiment)\n",
    "    return model.env.now"
   ]
  },
  {
   "cell_type": "code",
   "execution_count": null,
   "id": "4bd7bc04-c616-44a4-8e91-0a62dba38154",
   "metadata": {},
   "outputs": [],
   "source": [
    "test_run_length(10)"
   ]
  },
  {
   "cell_type": "code",
   "execution_count": null,
   "id": "8f6dc2e4-b6f0-47d2-892c-ec6cad3b05d7",
   "metadata": {},
   "outputs": [],
   "source": []
  },
  {
   "attachments": {},
   "cell_type": "markdown",
   "id": "1b9400f5-1091-435f-bdf9-06695eac7a68",
   "metadata": {},
   "source": [
    "### Test 4: Extreme value test 3\n",
    "\n",
    "PASS."
   ]
  },
  {
   "cell_type": "code",
   "execution_count": null,
   "id": "bfba1aaa-9423-456d-b983-8d918e361ca4",
   "metadata": {},
   "outputs": [],
   "source": [
    "def extreme_value_test_3(critical_care_beds=1):\n",
    "    '''\n",
    "    Extreme value test 3: \n",
    "    \n",
    "    Reduce critical care beds to 1.\n",
    "    Expected results: queues build after 1 arrival, and elective surgery cancelled\n",
    "    '''\n",
    "    experiment = Experiment(num_critical_care_beds=critical_care_beds)\n",
    "    run_test(experiment)"
   ]
  },
  {
   "cell_type": "code",
   "execution_count": null,
   "id": "521e9525-0e91-4626-a606-a688d75610d3",
   "metadata": {},
   "outputs": [],
   "source": [
    "extreme_value_test_3()"
   ]
  },
  {
   "cell_type": "markdown",
   "id": "606c7370-7dd5-422a-9168-8f5fdb69b854",
   "metadata": {},
   "source": [
    "### Test 5: Extreme value test 4\n",
    "\n",
    "PASS"
   ]
  },
  {
   "cell_type": "code",
   "execution_count": null,
   "id": "5e3ce364-a696-4728-a6b4-90a915f786f9",
   "metadata": {},
   "outputs": [],
   "source": [
    "def extreme_value_test_4(extreme_value=M):\n",
    "    '''\n",
    "    Extreme value test 4: \n",
    "    \n",
    "    means of stay_distributions set to $M$ a very large number.\n",
    "    Expected result: after 24 arrivals queues form and no patients are admitted.\n",
    "    '''\n",
    "    mod_stay_distributions=[(M, 267.51), \n",
    "                            (M, 276.54), \n",
    "                            (M, 218.02), \n",
    "                            (M, 457.67), \n",
    "                            (M, 108.67), \n",
    "                            57.34] \n",
    "    experiment = Experiment(stay_distributions=mod_stay_distributions, \n",
    "                            elective_treatment_mean=M)\n",
    "    run_test(experiment)"
   ]
  },
  {
   "cell_type": "code",
   "execution_count": null,
   "id": "58d4ac69-7301-4b22-b171-b94b9b73e148",
   "metadata": {},
   "outputs": [],
   "source": [
    "extreme_value_test_4()"
   ]
  }
 ],
 "metadata": {
  "kernelspec": {
   "display_name": "Python 3 (ipykernel)",
   "language": "python",
   "name": "python3"
  },
  "language_info": {
   "codemirror_mode": {
    "name": "ipython",
    "version": 3
   },
   "file_extension": ".py",
   "mimetype": "text/x-python",
   "name": "python",
   "nbconvert_exporter": "python",
   "pygments_lexer": "ipython3",
   "version": "3.10.13"
  }
 },
 "nbformat": 4,
 "nbformat_minor": 5
}

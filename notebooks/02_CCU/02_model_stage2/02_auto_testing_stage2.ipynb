{
 "cells": [
  {
   "cell_type": "markdown",
   "id": "fe965fd9-eafa-4b71-9099-fd81b3bf88b4",
   "metadata": {},
   "source": [
    "# Automated Model Testing\n",
    "\n",
    "This notebook contains a set of automated tests for the CCU model.  These tests are either pass or fail and no interpretation is needed. A summary of test results is provided at the end of the notebook.\n",
    "\n",
    "**Additional testing:** Beyond the original test suite defined in our methodology, we've included extra tests to enhance validation and coverage, based on peer review feedback.\n",
    "\n",
    "## Imports"
   ]
  },
  {
   "cell_type": "code",
   "execution_count": 1,
   "id": "f1dab904-67dd-4180-a53c-25f502203c55",
   "metadata": {},
   "outputs": [],
   "source": [
    "import html\n",
    "from IPython.display import HTML, display\n",
    "import os\n",
    "import sys\n",
    "import pytest\n",
    "import ipytest\n",
    "from streamlit.testing.v1 import AppTest\n",
    "\n",
    "ipytest.autoconfig()"
   ]
  },
  {
   "cell_type": "markdown",
   "id": "924c192d-bad4-47fd-83b0-22def8a9ac8c",
   "metadata": {},
   "source": [
    "## Model Code Imports"
   ]
  },
  {
   "cell_type": "code",
   "execution_count": 2,
   "id": "a630ad82-b20b-4216-9269-445eeb9f72da",
   "metadata": {},
   "outputs": [],
   "source": [
    "from ccu_formatted_code_stage2 import *\n",
    "\n",
    "# For formatting the coverage report\n",
    "module_path = os.path.abspath(os.path.join('..', '..', '..'))\n",
    "if module_path not in sys.path:\n",
    "    sys.path.insert(0, module_path)\n",
    "from helper.format_coverage import display_coverage"
   ]
  },
  {
   "cell_type": "markdown",
   "id": "d8dc4c6d-91f0-4da3-a25f-c7511c749af5",
   "metadata": {},
   "source": [
    "## Tests\n",
    "\n",
    "### Constants and utility functions"
   ]
  },
  {
   "cell_type": "code",
   "execution_count": 3,
   "id": "9087601c-4967-4209-9e95-a07f9eb0641a",
   "metadata": {},
   "outputs": [],
   "source": [
    "# The extreme value\n",
    "M = 10_000_000"
   ]
  },
  {
   "cell_type": "code",
   "execution_count": 4,
   "id": "24589dce-d5b9-41d5-85c8-a4bacd18d026",
   "metadata": {},
   "outputs": [],
   "source": [
    "def run_test(experiment):\n",
    "    # Create a SimPy environment\n",
    "    env = simpy.Environment()\n",
    "    ccu_model = CCU(env, experiment)\n",
    "    try:\n",
    "        results = ccu_model.run()\n",
    "    except ZeroDivisionError:\n",
    "        results = None\n",
    "    \n",
    "    return ccu_model, results"
   ]
  },
  {
   "cell_type": "markdown",
   "id": "bd5d151c-940c-491b-b9cf-6299cf470365",
   "metadata": {},
   "source": [
    "### Extreme value test: no elective arrivals"
   ]
  },
  {
   "cell_type": "code",
   "execution_count": 5,
   "id": "e3800ae9-4d65-4c12-a0c6-dd2dab0b914e",
   "metadata": {},
   "outputs": [],
   "source": [
    "def test_extreme_value_no_electives(extreme_value=M):\n",
    "    '''\n",
    "    Extreme value test 1: \n",
    "    \n",
    "    Wards, Em Surgery, other hospitals, x-ray, electives have their inter-arrival time\n",
    "    set to $M$ a very large number.\n",
    "    \n",
    "    Expected result: \n",
    "    ----------------\n",
    "    Quantitative: There are no elective cancellations (as no electives arrive)\n",
    "\n",
    "    See also manual version:\n",
    "    The only type of patient to arrive to the model is \"Accident and Emergency.\"\n",
    "    '''\n",
    "    experiment = Experiment(accident_emergency_arrival_rate = extreme_value, wards_arrival_rate = extreme_value,\n",
    "                            emergency_surgery_arrival_rate = extreme_value, other_hospitals_arrival_rate = extreme_value,\n",
    "                            xray_department_arrival_rate = extreme_value, trace=True)\n",
    "    model, results =  run_test(experiment)\n",
    "\n",
    "    # test elective count should = 0\n",
    "    assert results['Total Cancelled Elective Operations'].iloc[0] == 0"
   ]
  },
  {
   "cell_type": "markdown",
   "id": "ffd4e355-3c89-45ae-870f-923bc4ff412b",
   "metadata": {},
   "source": [
    "### Extreme value test: 1 critical care bed available"
   ]
  },
  {
   "cell_type": "code",
   "execution_count": 6,
   "id": "bf64ea6b-5844-4b8b-bc5a-0120eadc38cf",
   "metadata": {},
   "outputs": [],
   "source": [
    "@pytest.mark.parametrize('random_number_set', [\n",
    "                          (42),(101),(1),(2),(1234)\n",
    "])\n",
    "def test_extreme_value_1_bed(random_number_set):\n",
    "    '''\n",
    "    Extreme value test: Critical care beds set to 1 \n",
    "    \n",
    "    Expected result: \n",
    "    ---------------\n",
    "    bed occupancy to be equal to bed utilization as only 1 bed is available\n",
    "    \n",
    "    Cancellations also begin after 1st arrival.\n",
    " \n",
    "    Note: \n",
    "    ----\n",
    "    [1] When critical_care_beds=1 queues form after first arrival.  This is\n",
    "    assessed manually by viewing the trace in the manual trace notebook.\n",
    "\n",
    "    [2] Simpy constraints force us to use 1 bed instead of 0.\n",
    "    \n",
    "    '''\n",
    "    experiment = Experiment(num_critical_care_beds=1, \n",
    "                            random_number_set=random_number_set)\n",
    "    model, results = run_test(experiment)\n",
    "    assert results['Bed Utilization'].iloc[0] == results['Bed Occupancy'].iloc[0]"
   ]
  },
  {
   "cell_type": "markdown",
   "id": "74d9f0e8-662f-49d9-bf57-931ad91e986f",
   "metadata": {},
   "source": [
    "### Extreme value test: infinite critical care capacity."
   ]
  },
  {
   "cell_type": "code",
   "execution_count": 7,
   "id": "8a5e173a-e217-402a-96e6-4709f1413f5a",
   "metadata": {},
   "outputs": [],
   "source": [
    "@pytest.mark.parametrize('random_number_set', [\n",
    "                          (42),(101),(1),(2),(1234)\n",
    "])\n",
    "def test_extreme_value_infinite_capacity(random_number_set):\n",
    "    '''\n",
    "    Extreme value test 3: \n",
    "    \n",
    "    Critical care beds set to M a very large number.\n",
    "    \n",
    "    Expected result: \n",
    "    ---------------\n",
    "    No cancelled electives and no unplanned patients have to wait.    \n",
    "    '''\n",
    "    experiment = Experiment(num_critical_care_beds=M, \n",
    "                            random_number_set=random_number_set)\n",
    "    model, results = run_test(experiment)\n",
    "    assert results['Total Cancelled Elective Operations'].iloc[0] == 0 and \\\n",
    "           results['Mean Unplanned Admission Waiting Time (hours)'].iloc[0] == 0"
   ]
  },
  {
   "cell_type": "markdown",
   "id": "5c164825-58fd-4617-965e-d4134e3ad806",
   "metadata": {},
   "source": [
    "### Test warm-up period reset"
   ]
  },
  {
   "cell_type": "code",
   "execution_count": 8,
   "id": "caa2ab20-527c-46dc-ae23-af4bc9ff997a",
   "metadata": {},
   "outputs": [],
   "source": [
    "@pytest.mark.parametrize('warm_up', [\n",
    "                          (0),(1),(100),(570),(1000)\n",
    "])\n",
    "def test_warmup_period(warm_up):\n",
    "    '''\n",
    "    Vary the warm-up period while holding the \n",
    "    results collection period constant.\n",
    "\n",
    "    Expected result\n",
    "    ---------------\n",
    "    Run length = warm_up + results collection period\n",
    "    '''\n",
    "    experiment = Experiment(warm_up_period=warm_up)\n",
    "    model, results = run_test(experiment)\n",
    "    assert model.env.now == (experiment.results_collection_period \\\n",
    "                             + experiment.warm_up_period)"
   ]
  },
  {
   "cell_type": "code",
   "execution_count": 9,
   "id": "b0a9c4fc-8996-4c92-8638-c20eb0d9fb28",
   "metadata": {},
   "outputs": [],
   "source": [
    "@pytest.mark.parametrize('warm_up', [\n",
    "                          (0),(1),(100),(570),(1000)\n",
    "])\n",
    "def test_warmup_reset(warm_up):\n",
    "    '''\n",
    "    Vary the warm-up period while holding the \n",
    "    results collection period constant.\n",
    "\n",
    "    Expected result\n",
    "    ---------------\n",
    "    The following `experiment` variables are set to 0:\n",
    "    \n",
    "    total_treatment_time\n",
    "    cancelled_elective_count\n",
    "    mean_waiting_time_unplanned\n",
    "    total_unplanned_admissions\n",
    "\n",
    "    The following model variables is reset to 0 during \n",
    "    warm_up_complete event:\n",
    "    \n",
    "    patient_count\n",
    "\n",
    "    Notes:\n",
    "    ------\n",
    "    [1] We must set results collectiom period to a small\n",
    "    number. This allows for the warm_up_complete event\n",
    "    to take place before simpy terminates the run.\n",
    "    \n",
    "    '''\n",
    "    # allow for very small results collection period so\n",
    "    # that warmup reset event occurs.\n",
    "    experiment = Experiment(warm_up_period=warm_up,\n",
    "                            results_collection_period=0.005)\n",
    "    \n",
    "    model, results = run_test(experiment)\n",
    "\n",
    "    assert model.total_treatment_time == 0 and \\\n",
    "           model.cancelled_operations == 0 and \\\n",
    "           model.total_unplanned_waiting_time == 0 and \\\n",
    "           model.total_unplanned_admissions == 0 and \\\n",
    "           model.patient_id_counter == 0"
   ]
  },
  {
   "cell_type": "markdown",
   "id": "fcf6058c-1238-4304-aae1-38a830214f8b",
   "metadata": {},
   "source": [
    "### Test repeatable runs"
   ]
  },
  {
   "cell_type": "code",
   "execution_count": 10,
   "id": "fff50946-64e6-48c4-8e4c-cb36a18de841",
   "metadata": {},
   "outputs": [],
   "source": [
    "@pytest.mark.parametrize('n_reps', [\n",
    "                          (5),(10),(27)\n",
    "])\n",
    "def test_repeatable_reps(n_reps):\n",
    "    \"\"\"\n",
    "    Test that random number streams are controlled and \n",
    "    multiple replications produce the same results each\n",
    "    time they are run.\n",
    "\n",
    "    Params:\n",
    "    -------\n",
    "    n_reps: int\n",
    "        The number of replications to run.\n",
    "\n",
    "    Expected results:\n",
    "    -----------------\n",
    "    The difference of two repeated runs is 0.\n",
    "    \"\"\"\n",
    "    experiment = Experiment()\n",
    "    replications = multiple_replications(experiment, n_reps)\n",
    "    rs1 =  results_summary(replications)\n",
    "\n",
    "    experiment = Experiment()\n",
    "    replications = multiple_replications(experiment, n_reps)\n",
    "    rs2 =  results_summary(replications)\n",
    "\n",
    "    # sum all performance measures -> if no diff then = 0\n",
    "    diff = (rs1 - rs2).sum(axis=1).sum()\n",
    "\n",
    "    assert diff == 0.0"
   ]
  },
  {
   "cell_type": "markdown",
   "id": "72fa8608",
   "metadata": {},
   "source": [
    "### Test tracing functionality"
   ]
  },
  {
   "cell_type": "code",
   "execution_count": 11,
   "id": "a24d5d3f",
   "metadata": {},
   "outputs": [],
   "source": [
    "def test_trace(capsys):\n",
    "    \"\"\"\n",
    "    Verify trace messages are printed when trace=True.\n",
    "    \"\"\"\n",
    "    experiment = Experiment(trace=True)\n",
    "    model, results = run_test(experiment)\n",
    "\n",
    "    # Capture printed output\n",
    "    captured = capsys.readouterr()\n",
    "    \n",
    "    # Check for some of the expected messages based on actual code\n",
    "    assert \"arrived from Accident and Emergency\" in captured.out\n",
    "    assert \"arrived from the X-Ray Department\" in captured.out"
   ]
  },
  {
   "cell_type": "markdown",
   "id": "180280b5",
   "metadata": {},
   "source": [
    "### Test batch experiment functionality"
   ]
  },
  {
   "cell_type": "code",
   "execution_count": 12,
   "id": "2c53b164",
   "metadata": {},
   "outputs": [],
   "source": [
    "def test_get_experiments():\n",
    "    \"\"\"\n",
    "    Check that the expected experiments are generated by get_experiments().\n",
    "    \"\"\"\n",
    "    experiments = get_experiments()\n",
    "    assert len(experiments) == 6\n",
    "    assert all(f\"Experiment with {i} beds\" in experiments\n",
    "               for i in range(23, 29))"
   ]
  },
  {
   "cell_type": "code",
   "execution_count": 13,
   "id": "5df0c820",
   "metadata": {},
   "outputs": [],
   "source": [
    "def test_run_all_experiments():\n",
    "    \"\"\"\n",
    "    Test running multiple experiments with run_all_experiments().\n",
    "    \"\"\"\n",
    "    # Run two experiments\n",
    "    mini_experiments = {\n",
    "        \"test_exp1\": Experiment(num_critical_care_beds=25),\n",
    "        \"test_exp2\": Experiment(num_critical_care_beds=30)\n",
    "    }\n",
    "    summaries = run_all_experiments(mini_experiments, num_replications=2)\n",
    "\n",
    "    # Check that results for both are output\n",
    "    assert \"test_exp1\" in summaries.keys()\n",
    "    assert \"test_exp2\" in summaries.keys()\n",
    "    assert len(summaries) == 2\n",
    "\n",
    "    # Check that both results are DataFrames with correct shape (5 rows, 2 columns)\n",
    "    assert isinstance(summaries[\"test_exp1\"], pd.DataFrame)\n",
    "    assert isinstance(summaries[\"test_exp2\"], pd.DataFrame)\n",
    "    assert summaries[\"test_exp1\"].shape == (5, 2)\n",
    "    assert summaries[\"test_exp2\"].shape == (5, 2)"
   ]
  },
  {
   "cell_type": "code",
   "execution_count": 14,
   "id": "48945077",
   "metadata": {},
   "outputs": [],
   "source": [
    "def test_summary_of_experiments():\n",
    "    \"\"\"\n",
    "    Test that summary_of_experiments concatenates experiment summaries.\n",
    "    \"\"\"\n",
    "    # Create two blank DataFrames with expected dimensions (5 rows, 2 columns)\n",
    "    summary1 = pd.DataFrame(index=range(5), columns=['mean', 'std'])\n",
    "    summary2 = pd.DataFrame(index=range(5), columns=['mean', 'std'])\n",
    "    experiment_summaries = {\n",
    "        \"Experiment with 23 beds\": summary1,\n",
    "        \"Experiment with 24 beds\": summary2\n",
    "    }\n",
    "    \n",
    "    # Run the function\n",
    "    result = summary_of_experiments(experiment_summaries)\n",
    "    \n",
    "    # Verify the result\n",
    "    assert isinstance(result, pd.DataFrame)\n",
    "    assert result.shape == (5, 4)"
   ]
  },
  {
   "cell_type": "markdown",
   "id": "ed2e1a98",
   "metadata": {},
   "source": [
    "### Test random number streams"
   ]
  },
  {
   "cell_type": "code",
   "execution_count": 15,
   "id": "8044dece",
   "metadata": {},
   "outputs": [],
   "source": [
    "def test_random_numbers():\n",
    "    \"\"\"\n",
    "    Test that random number streams are properly initialised and reproducible.\n",
    "    \"\"\"\n",
    "    # Check that the expected RNG attributes are created\n",
    "    experiment = Experiment(random_number_set=12345)\n",
    "    rng_attributes = [\n",
    "        'rng_accident_emergency', 'rng_wards', 'rng_emergency_surgery',\n",
    "        'rng_other_hospitals', 'rng_xray_department', 'rng_elective_surgery',\n",
    "        'rng_unplanned_treatment', 'rng_elective_treatment'\n",
    "    ]\n",
    "    for attr in rng_attributes:\n",
    "        assert hasattr(experiment, attr)\n",
    "        assert hasattr(getattr(experiment, attr), 'random')\n",
    "\n",
    "    # Test reproducibility: same seed should produce same results\n",
    "    experiment1 = Experiment(random_number_set=12345)\n",
    "    experiment2 = Experiment(random_number_set=12345)\n",
    "    values1 = [experiment1.rng_accident_emergency.random() for _ in range(5)]\n",
    "    values2 = [experiment2.rng_accident_emergency.random() for _ in range(5)]\n",
    "    assert values1 == values2\n",
    "\n",
    "    # Test that different seeds produce different results\n",
    "    experiment3 = Experiment(random_number_set=54321)\n",
    "    values3 = [experiment3.rng_accident_emergency.random() for _ in range(5)]\n",
    "    assert values1 != values3"
   ]
  },
  {
   "cell_type": "markdown",
   "id": "090376c3",
   "metadata": {},
   "source": [
    "### Test streamlit app"
   ]
  },
  {
   "cell_type": "code",
   "execution_count": 16,
   "id": "cd81f0c3",
   "metadata": {},
   "outputs": [],
   "source": [
    "def test_streamlit_app_loads():\n",
    "    \"\"\"\n",
    "    Verify that the streamlit app loads without errors.\n",
    "    \"\"\"\n",
    "    # Run the app\n",
    "    at = AppTest.from_file(\"ccu_formatted_code_stage2.py\")\n",
    "    at.run()\n",
    "    \n",
    "    # Expected title\n",
    "    exp_title = \"A simulation model of bed-occupancy in a critical care unit\"\n",
    "\n",
    "    # Check that main elements are present\n",
    "    assert not at.exception\n",
    "    assert exp_title in str(at.title.values)\n",
    "    assert len(at.slider) == 1  # Number of beds slider\n",
    "    assert len(at.number_input) == 2  # Cleaning duration and replications\n",
    "    assert len(at.checkbox) == 1  # Trace checkbox\n",
    "    assert len(at.button) == 1  # Simulate button"
   ]
  },
  {
   "cell_type": "code",
   "execution_count": 17,
   "id": "0ef8a9d3",
   "metadata": {},
   "outputs": [],
   "source": [
    "def test_streamlit_simulate_button():\n",
    "    \"\"\"\n",
    "    Check that clicking the simulate button runs the simulation.\n",
    "    \"\"\"\n",
    "    # Run the app\n",
    "    at = AppTest.from_file(\"ccu_formatted_code_stage2.py\")\n",
    "    at.run()\n",
    "\n",
    "    # Click simulate button\n",
    "    at.button[0].click().run()\n",
    "\n",
    "    # Check that no exception occurred\n",
    "    assert not at.exception\n",
    "    \n",
    "    # Check that dataframe results are displayed\n",
    "    assert len(at.dataframe) > 0\n",
    "    \n",
    "    # Get the results dataframe and check it contains expected columns\n",
    "    results_df = at.dataframe[0].value\n",
    "    expected_rows = [\n",
    "        'Total Cancelled Elective Operations', \n",
    "        'Mean Unplanned Admission Waiting Time (hours)',\n",
    "        'Bed Utilization', \n",
    "        'Bed Occupancy', \n",
    "        'Patient Count'\n",
    "    ]\n",
    "    for row in expected_rows:\n",
    "        assert row in results_df.index"
   ]
  },
  {
   "cell_type": "markdown",
   "id": "cff85987-af51-4b03-83dc-dc674842f36b",
   "metadata": {},
   "source": [
    "## Run tests"
   ]
  },
  {
   "cell_type": "code",
   "execution_count": 18,
   "id": "823886aa-6c7e-40f4-87f6-57cd2b584fda",
   "metadata": {
    "scrolled": true
   },
   "outputs": [
    {
     "name": "stdout",
     "output_type": "stream",
     "text": [
      "\u001b[1m======================================= test session starts ========================================\u001b[0m\n",
      "\u001b[1mcollecting ... \u001b[0mcollected 31 items\n",
      "\n",
      "t_3d1bd27415144168954a94b1b41644b5.py::test_extreme_value_no_electives \u001b[32mPASSED\u001b[0m\u001b[32m                [  3%]\u001b[0m\n",
      "t_3d1bd27415144168954a94b1b41644b5.py::test_extreme_value_1_bed[42] \u001b[32mPASSED\u001b[0m\u001b[32m                   [  6%]\u001b[0m\n",
      "t_3d1bd27415144168954a94b1b41644b5.py::test_extreme_value_1_bed[101] \u001b[32mPASSED\u001b[0m\u001b[32m                  [  9%]\u001b[0m\n",
      "t_3d1bd27415144168954a94b1b41644b5.py::test_extreme_value_1_bed[1] \u001b[32mPASSED\u001b[0m\u001b[32m                    [ 12%]\u001b[0m\n",
      "t_3d1bd27415144168954a94b1b41644b5.py::test_extreme_value_1_bed[2] \u001b[32mPASSED\u001b[0m\u001b[32m                    [ 16%]\u001b[0m\n",
      "t_3d1bd27415144168954a94b1b41644b5.py::test_extreme_value_1_bed[1234] \u001b[32mPASSED\u001b[0m\u001b[32m                 [ 19%]\u001b[0m\n",
      "t_3d1bd27415144168954a94b1b41644b5.py::test_extreme_value_infinite_capacity[42] \u001b[32mPASSED\u001b[0m\u001b[32m       [ 22%]\u001b[0m\n",
      "t_3d1bd27415144168954a94b1b41644b5.py::test_extreme_value_infinite_capacity[101] \u001b[32mPASSED\u001b[0m\u001b[32m      [ 25%]\u001b[0m\n",
      "t_3d1bd27415144168954a94b1b41644b5.py::test_extreme_value_infinite_capacity[1] \u001b[32mPASSED\u001b[0m\u001b[32m        [ 29%]\u001b[0m\n",
      "t_3d1bd27415144168954a94b1b41644b5.py::test_extreme_value_infinite_capacity[2] \u001b[32mPASSED\u001b[0m\u001b[32m        [ 32%]\u001b[0m\n",
      "t_3d1bd27415144168954a94b1b41644b5.py::test_extreme_value_infinite_capacity[1234] \u001b[32mPASSED\u001b[0m\u001b[32m     [ 35%]\u001b[0m\n",
      "t_3d1bd27415144168954a94b1b41644b5.py::test_warmup_period[0] \u001b[32mPASSED\u001b[0m\u001b[32m                          [ 38%]\u001b[0m\n",
      "t_3d1bd27415144168954a94b1b41644b5.py::test_warmup_period[1] \u001b[32mPASSED\u001b[0m\u001b[32m                          [ 41%]\u001b[0m\n",
      "t_3d1bd27415144168954a94b1b41644b5.py::test_warmup_period[100] \u001b[32mPASSED\u001b[0m\u001b[32m                        [ 45%]\u001b[0m\n",
      "t_3d1bd27415144168954a94b1b41644b5.py::test_warmup_period[570] \u001b[32mPASSED\u001b[0m\u001b[32m                        [ 48%]\u001b[0m\n",
      "t_3d1bd27415144168954a94b1b41644b5.py::test_warmup_period[1000] \u001b[32mPASSED\u001b[0m\u001b[32m                       [ 51%]\u001b[0m\n",
      "t_3d1bd27415144168954a94b1b41644b5.py::test_warmup_reset[0] \u001b[32mPASSED\u001b[0m\u001b[32m                           [ 54%]\u001b[0m\n",
      "t_3d1bd27415144168954a94b1b41644b5.py::test_warmup_reset[1] \u001b[32mPASSED\u001b[0m\u001b[32m                           [ 58%]\u001b[0m\n",
      "t_3d1bd27415144168954a94b1b41644b5.py::test_warmup_reset[100] \u001b[32mPASSED\u001b[0m\u001b[32m                         [ 61%]\u001b[0m\n",
      "t_3d1bd27415144168954a94b1b41644b5.py::test_warmup_reset[570] \u001b[32mPASSED\u001b[0m\u001b[32m                         [ 64%]\u001b[0m\n",
      "t_3d1bd27415144168954a94b1b41644b5.py::test_warmup_reset[1000] \u001b[32mPASSED\u001b[0m\u001b[32m                        [ 67%]\u001b[0m\n",
      "t_3d1bd27415144168954a94b1b41644b5.py::test_repeatable_reps[5] \u001b[32mPASSED\u001b[0m\u001b[32m                        [ 70%]\u001b[0m\n",
      "t_3d1bd27415144168954a94b1b41644b5.py::test_repeatable_reps[10] \u001b[32mPASSED\u001b[0m\u001b[32m                       [ 74%]\u001b[0m\n",
      "t_3d1bd27415144168954a94b1b41644b5.py::test_repeatable_reps[27] \u001b[32mPASSED\u001b[0m\u001b[32m                       [ 77%]\u001b[0m\n",
      "t_3d1bd27415144168954a94b1b41644b5.py::test_trace \u001b[32mPASSED\u001b[0m\u001b[32m                                     [ 80%]\u001b[0m\n",
      "t_3d1bd27415144168954a94b1b41644b5.py::test_get_experiments \u001b[32mPASSED\u001b[0m\u001b[32m                           [ 83%]\u001b[0m\n",
      "t_3d1bd27415144168954a94b1b41644b5.py::test_run_all_experiments \u001b[32mPASSED\u001b[0m\u001b[32m                       [ 87%]\u001b[0m\n",
      "t_3d1bd27415144168954a94b1b41644b5.py::test_summary_of_experiments \u001b[32mPASSED\u001b[0m\u001b[32m                    [ 90%]\u001b[0m\n",
      "t_3d1bd27415144168954a94b1b41644b5.py::test_random_numbers \u001b[32mPASSED\u001b[0m\u001b[32m                            [ 93%]\u001b[0m\n",
      "t_3d1bd27415144168954a94b1b41644b5.py::test_streamlit_app_loads \u001b[32mPASSED\u001b[0m\u001b[32m                       [ 96%]\u001b[0m\n",
      "t_3d1bd27415144168954a94b1b41644b5.py::test_streamlit_simulate_button \u001b[32mPASSED\u001b[0m\u001b[32m                 [100%]\u001b[0m\n",
      "\n",
      "========================================== tests coverage ==========================================\n",
      "_________________________ coverage: platform linux, python 3.10.13-final-0 _________________________\n",
      "\n",
      "Name                           Stmts   Miss  Cover\n",
      "--------------------------------------------------\n",
      "ccu_formatted_code_stage2.py     256      0   100%\n",
      "--------------------------------------------------\n",
      "TOTAL                            256      0   100%\n",
      "Coverage annotated source written next to source\n",
      "\u001b[32m======================================== \u001b[32m\u001b[1m31 passed\u001b[0m\u001b[32m in 5.02s\u001b[0m\u001b[32m ========================================\u001b[0m\n"
     ]
    },
    {
     "data": {
      "text/plain": [
       "<ExitCode.OK: 0>"
      ]
     },
     "execution_count": 18,
     "metadata": {},
     "output_type": "execute_result"
    }
   ],
   "source": [
    "ipytest.run(\n",
    "    \"-vv\", \"--no-header\", \"--cov=ccu_formatted_code_stage2\",\n",
    "    \"--cov-report=term\", \"--cov-report=annotate\"\n",
    ")"
   ]
  },
  {
   "cell_type": "markdown",
   "id": "608113c7",
   "metadata": {},
   "source": [
    "## Test coverage report\n",
    "\n",
    "The percentage coverage is reported in the cell above. Below is the annotated report for the model. Grey lines (\" \") are excluded, green lines (\">\") are covered, and red lines (\"!\") are not covered."
   ]
  },
  {
   "cell_type": "code",
   "execution_count": 19,
   "id": "a96125ed",
   "metadata": {},
   "outputs": [
    {
     "data": {
      "text/html": [
       "<pre style=\"background-color: #ccffcc; font-family: monospace; font-size: 10px; margin: 0; padding: 0; line-height: 1; white-space: pre-wrap;\">&gt; import numpy as np</pre><pre style=\"background-color: #ccffcc; font-family: monospace; font-size: 10px; margin: 0; padding: 0; line-height: 1; white-space: pre-wrap;\">&gt; import pandas as pd</pre><pre style=\"background-color: #ccffcc; font-family: monospace; font-size: 10px; margin: 0; padding: 0; line-height: 1; white-space: pre-wrap;\">&gt; import math</pre><pre style=\"font-family: monospace; font-size: 10px; margin: 0; padding: 0; line-height: 1; white-space: pre-wrap;\"></pre><pre style=\"background-color: #ccffcc; font-family: monospace; font-size: 10px; margin: 0; padding: 0; line-height: 1; white-space: pre-wrap;\">&gt; import simpy</pre><pre style=\"font-family: monospace; font-size: 10px; margin: 0; padding: 0; line-height: 1; white-space: pre-wrap;\"></pre><pre style=\"font-family: monospace; font-size: 10px; margin: 0; padding: 0; line-height: 1; white-space: pre-wrap;\"></pre><pre style=\"background-color: #ccffcc; font-family: monospace; font-size: 10px; margin: 0; padding: 0; line-height: 1; white-space: pre-wrap;\">&gt; class Experiment:</pre><pre style=\"background-color: #ccffcc; font-family: monospace; font-size: 10px; margin: 0; padding: 0; line-height: 1; white-space: pre-wrap;\">&gt;     def __init__(</pre><pre style=\"background-color: #ccffcc; font-family: monospace; font-size: 10px; margin: 0; padding: 0; line-height: 1; white-space: pre-wrap;\">&gt;         self,</pre><pre style=\"background-color: #ccffcc; font-family: monospace; font-size: 10px; margin: 0; padding: 0; line-height: 1; white-space: pre-wrap;\">&gt;         accident_emergency_arrival_rate=22.72,</pre><pre style=\"background-color: #ccffcc; font-family: monospace; font-size: 10px; margin: 0; padding: 0; line-height: 1; white-space: pre-wrap;\">&gt;         wards_arrival_rate=26.0,</pre><pre style=\"background-color: #ccffcc; font-family: monospace; font-size: 10px; margin: 0; padding: 0; line-height: 1; white-space: pre-wrap;\">&gt;         emergency_surgery_arrival_rate=37.0,</pre><pre style=\"background-color: #ccffcc; font-family: monospace; font-size: 10px; margin: 0; padding: 0; line-height: 1; white-space: pre-wrap;\">&gt;         other_hospitals_arrival_rate=47.2,</pre><pre style=\"background-color: #ccffcc; font-family: monospace; font-size: 10px; margin: 0; padding: 0; line-height: 1; white-space: pre-wrap;\">&gt;         xray_department_arrival_rate=575.0,</pre><pre style=\"background-color: #ccffcc; font-family: monospace; font-size: 10px; margin: 0; padding: 0; line-height: 1; white-space: pre-wrap;\">&gt;         elective_surgery_arrival_rate=17.91,</pre><pre style=\"background-color: #ccffcc; font-family: monospace; font-size: 10px; margin: 0; padding: 0; line-height: 1; white-space: pre-wrap;\">&gt;         elective_surgery_arrival_std_dev=3.16,</pre><pre style=\"background-color: #ccffcc; font-family: monospace; font-size: 10px; margin: 0; padding: 0; line-height: 1; white-space: pre-wrap;\">&gt;         accident_emergency_lognormal_mu=128.79,</pre><pre style=\"background-color: #ccffcc; font-family: monospace; font-size: 10px; margin: 0; padding: 0; line-height: 1; white-space: pre-wrap;\">&gt;         accident_emergency_lognormal_sigma=267.51,</pre><pre style=\"background-color: #ccffcc; font-family: monospace; font-size: 10px; margin: 0; padding: 0; line-height: 1; white-space: pre-wrap;\">&gt;         wards_lognormal_mu=177.89,</pre><pre style=\"background-color: #ccffcc; font-family: monospace; font-size: 10px; margin: 0; padding: 0; line-height: 1; white-space: pre-wrap;\">&gt;         wards_lognormal_sigma=276.54,</pre><pre style=\"background-color: #ccffcc; font-family: monospace; font-size: 10px; margin: 0; padding: 0; line-height: 1; white-space: pre-wrap;\">&gt;         emergency_surgery_lognormal_mu=140.15,</pre><pre style=\"background-color: #ccffcc; font-family: monospace; font-size: 10px; margin: 0; padding: 0; line-height: 1; white-space: pre-wrap;\">&gt;         emergency_surgery_lognormal_sigma=218.02,</pre><pre style=\"background-color: #ccffcc; font-family: monospace; font-size: 10px; margin: 0; padding: 0; line-height: 1; white-space: pre-wrap;\">&gt;         other_hospitals_lognormal_mu=212.86,</pre><pre style=\"background-color: #ccffcc; font-family: monospace; font-size: 10px; margin: 0; padding: 0; line-height: 1; white-space: pre-wrap;\">&gt;         other_hospitals_lognormal_sigma=457.67,</pre><pre style=\"background-color: #ccffcc; font-family: monospace; font-size: 10px; margin: 0; padding: 0; line-height: 1; white-space: pre-wrap;\">&gt;         xray_department_lognormal_mu=87.53,</pre><pre style=\"background-color: #ccffcc; font-family: monospace; font-size: 10px; margin: 0; padding: 0; line-height: 1; white-space: pre-wrap;\">&gt;         xray_department_lognormal_sigma=108.67,</pre><pre style=\"background-color: #ccffcc; font-family: monospace; font-size: 10px; margin: 0; padding: 0; line-height: 1; white-space: pre-wrap;\">&gt;         elective_surgery_treatment_rate=57.34,</pre><pre style=\"background-color: #ccffcc; font-family: monospace; font-size: 10px; margin: 0; padding: 0; line-height: 1; white-space: pre-wrap;\">&gt;         num_critical_care_beds=24,</pre><pre style=\"background-color: #ccffcc; font-family: monospace; font-size: 10px; margin: 0; padding: 0; line-height: 1; white-space: pre-wrap;\">&gt;         intensive_cleaning_duration=5,</pre><pre style=\"background-color: #ccffcc; font-family: monospace; font-size: 10px; margin: 0; padding: 0; line-height: 1; white-space: pre-wrap;\">&gt;         results_collection_period=12 * 30 * 24,</pre><pre style=\"background-color: #ccffcc; font-family: monospace; font-size: 10px; margin: 0; padding: 0; line-height: 1; white-space: pre-wrap;\">&gt;         warm_up_period=30 * 24,</pre><pre style=\"background-color: #ccffcc; font-family: monospace; font-size: 10px; margin: 0; padding: 0; line-height: 1; white-space: pre-wrap;\">&gt;         trace=False,</pre><pre style=\"background-color: #ccffcc; font-family: monospace; font-size: 10px; margin: 0; padding: 0; line-height: 1; white-space: pre-wrap;\">&gt;         random_number_set=0,</pre><pre style=\"background-color: #ccffcc; font-family: monospace; font-size: 10px; margin: 0; padding: 0; line-height: 1; white-space: pre-wrap;\">&gt;     ):</pre><pre style=\"background-color: #ccffcc; font-family: monospace; font-size: 10px; margin: 0; padding: 0; line-height: 1; white-space: pre-wrap;\">&gt;         self.accident_emergency_arrival_rate = accident_emergency_arrival_rate</pre><pre style=\"background-color: #ccffcc; font-family: monospace; font-size: 10px; margin: 0; padding: 0; line-height: 1; white-space: pre-wrap;\">&gt;         self.wards_arrival_rate = wards_arrival_rate</pre><pre style=\"background-color: #ccffcc; font-family: monospace; font-size: 10px; margin: 0; padding: 0; line-height: 1; white-space: pre-wrap;\">&gt;         self.emergency_surgery_arrival_rate = emergency_surgery_arrival_rate</pre><pre style=\"background-color: #ccffcc; font-family: monospace; font-size: 10px; margin: 0; padding: 0; line-height: 1; white-space: pre-wrap;\">&gt;         self.other_hospitals_arrival_rate = other_hospitals_arrival_rate</pre><pre style=\"background-color: #ccffcc; font-family: monospace; font-size: 10px; margin: 0; padding: 0; line-height: 1; white-space: pre-wrap;\">&gt;         self.xray_department_arrival_rate = xray_department_arrival_rate</pre><pre style=\"background-color: #ccffcc; font-family: monospace; font-size: 10px; margin: 0; padding: 0; line-height: 1; white-space: pre-wrap;\">&gt;         self.elective_surgery_arrival_rate = elective_surgery_arrival_rate</pre><pre style=\"background-color: #ccffcc; font-family: monospace; font-size: 10px; margin: 0; padding: 0; line-height: 1; white-space: pre-wrap;\">&gt;         self.elective_surgery_arrival_std_dev = elective_surgery_arrival_std_dev</pre><pre style=\"background-color: #ccffcc; font-family: monospace; font-size: 10px; margin: 0; padding: 0; line-height: 1; white-space: pre-wrap;\">&gt;         self.accident_emergency_lognormal_mu = accident_emergency_lognormal_mu</pre><pre style=\"background-color: #ccffcc; font-family: monospace; font-size: 10px; margin: 0; padding: 0; line-height: 1; white-space: pre-wrap;\">&gt;         self.accident_emergency_lognormal_sigma = accident_emergency_lognormal_sigma</pre><pre style=\"background-color: #ccffcc; font-family: monospace; font-size: 10px; margin: 0; padding: 0; line-height: 1; white-space: pre-wrap;\">&gt;         self.wards_lognormal_mu = wards_lognormal_mu</pre><pre style=\"background-color: #ccffcc; font-family: monospace; font-size: 10px; margin: 0; padding: 0; line-height: 1; white-space: pre-wrap;\">&gt;         self.wards_lognormal_sigma = wards_lognormal_sigma</pre><pre style=\"background-color: #ccffcc; font-family: monospace; font-size: 10px; margin: 0; padding: 0; line-height: 1; white-space: pre-wrap;\">&gt;         self.emergency_surgery_lognormal_mu = emergency_surgery_lognormal_mu</pre><pre style=\"background-color: #ccffcc; font-family: monospace; font-size: 10px; margin: 0; padding: 0; line-height: 1; white-space: pre-wrap;\">&gt;         self.emergency_surgery_lognormal_sigma = emergency_surgery_lognormal_sigma</pre><pre style=\"background-color: #ccffcc; font-family: monospace; font-size: 10px; margin: 0; padding: 0; line-height: 1; white-space: pre-wrap;\">&gt;         self.other_hospitals_lognormal_mu = other_hospitals_lognormal_mu</pre><pre style=\"background-color: #ccffcc; font-family: monospace; font-size: 10px; margin: 0; padding: 0; line-height: 1; white-space: pre-wrap;\">&gt;         self.other_hospitals_lognormal_sigma = other_hospitals_lognormal_sigma</pre><pre style=\"background-color: #ccffcc; font-family: monospace; font-size: 10px; margin: 0; padding: 0; line-height: 1; white-space: pre-wrap;\">&gt;         self.xray_department_lognormal_mu = xray_department_lognormal_mu</pre><pre style=\"background-color: #ccffcc; font-family: monospace; font-size: 10px; margin: 0; padding: 0; line-height: 1; white-space: pre-wrap;\">&gt;         self.xray_department_lognormal_sigma = xray_department_lognormal_sigma</pre><pre style=\"background-color: #ccffcc; font-family: monospace; font-size: 10px; margin: 0; padding: 0; line-height: 1; white-space: pre-wrap;\">&gt;         self.elective_surgery_treatment_rate = elective_surgery_treatment_rate</pre><pre style=\"background-color: #ccffcc; font-family: monospace; font-size: 10px; margin: 0; padding: 0; line-height: 1; white-space: pre-wrap;\">&gt;         self.num_critical_care_beds = num_critical_care_beds</pre><pre style=\"background-color: #ccffcc; font-family: monospace; font-size: 10px; margin: 0; padding: 0; line-height: 1; white-space: pre-wrap;\">&gt;         self.intensive_cleaning_duration = intensive_cleaning_duration</pre><pre style=\"background-color: #ccffcc; font-family: monospace; font-size: 10px; margin: 0; padding: 0; line-height: 1; white-space: pre-wrap;\">&gt;         self.results_collection_period = results_collection_period</pre><pre style=\"background-color: #ccffcc; font-family: monospace; font-size: 10px; margin: 0; padding: 0; line-height: 1; white-space: pre-wrap;\">&gt;         self.warm_up_period = warm_up_period</pre><pre style=\"background-color: #ccffcc; font-family: monospace; font-size: 10px; margin: 0; padding: 0; line-height: 1; white-space: pre-wrap;\">&gt;         self.total_run_length = self.warm_up_period + self.results_collection_period</pre><pre style=\"background-color: #ccffcc; font-family: monospace; font-size: 10px; margin: 0; padding: 0; line-height: 1; white-space: pre-wrap;\">&gt;         self.trace = trace</pre><pre style=\"background-color: #ccffcc; font-family: monospace; font-size: 10px; margin: 0; padding: 0; line-height: 1; white-space: pre-wrap;\">&gt;         self.random_number_set = random_number_set</pre><pre style=\"background-color: #ccffcc; font-family: monospace; font-size: 10px; margin: 0; padding: 0; line-height: 1; white-space: pre-wrap;\">&gt;         self.rng_accident_emergency = np.random.default_rng()</pre><pre style=\"background-color: #ccffcc; font-family: monospace; font-size: 10px; margin: 0; padding: 0; line-height: 1; white-space: pre-wrap;\">&gt;         self.rng_wards = np.random.default_rng()</pre><pre style=\"background-color: #ccffcc; font-family: monospace; font-size: 10px; margin: 0; padding: 0; line-height: 1; white-space: pre-wrap;\">&gt;         self.rng_emergency_surgery = np.random.default_rng()</pre><pre style=\"background-color: #ccffcc; font-family: monospace; font-size: 10px; margin: 0; padding: 0; line-height: 1; white-space: pre-wrap;\">&gt;         self.rng_other_hospitals = np.random.default_rng()</pre><pre style=\"background-color: #ccffcc; font-family: monospace; font-size: 10px; margin: 0; padding: 0; line-height: 1; white-space: pre-wrap;\">&gt;         self.rng_xray_department = np.random.default_rng()</pre><pre style=\"background-color: #ccffcc; font-family: monospace; font-size: 10px; margin: 0; padding: 0; line-height: 1; white-space: pre-wrap;\">&gt;         self.rng_elective_surgery = np.random.default_rng()</pre><pre style=\"background-color: #ccffcc; font-family: monospace; font-size: 10px; margin: 0; padding: 0; line-height: 1; white-space: pre-wrap;\">&gt;         self.rng_elective_treatment = np.random.default_rng()</pre><pre style=\"background-color: #ccffcc; font-family: monospace; font-size: 10px; margin: 0; padding: 0; line-height: 1; white-space: pre-wrap;\">&gt;         self.rng_unplanned_treatment = np.random.default_rng()</pre><pre style=\"background-color: #ccffcc; font-family: monospace; font-size: 10px; margin: 0; padding: 0; line-height: 1; white-space: pre-wrap;\">&gt;         self.setup_streams(random_number_set)</pre><pre style=\"font-family: monospace; font-size: 10px; margin: 0; padding: 0; line-height: 1; white-space: pre-wrap;\"></pre><pre style=\"background-color: #ccffcc; font-family: monospace; font-size: 10px; margin: 0; padding: 0; line-height: 1; white-space: pre-wrap;\">&gt;     def setup_streams(self, random_number_set):</pre><pre style=\"background-color: #ccffcc; font-family: monospace; font-size: 10px; margin: 0; padding: 0; line-height: 1; white-space: pre-wrap;\">&gt;         master_stream = np.random.default_rng(random_number_set)</pre><pre style=\"background-color: #ccffcc; font-family: monospace; font-size: 10px; margin: 0; padding: 0; line-height: 1; white-space: pre-wrap;\">&gt;         seeds = master_stream.integers(0, np.iinfo(np.int64).max, 12, dtype=np.int64)</pre><pre style=\"background-color: #ccffcc; font-family: monospace; font-size: 10px; margin: 0; padding: 0; line-height: 1; white-space: pre-wrap;\">&gt;         self.rng_accident_emergency = np.random.default_rng(seeds[0])</pre><pre style=\"background-color: #ccffcc; font-family: monospace; font-size: 10px; margin: 0; padding: 0; line-height: 1; white-space: pre-wrap;\">&gt;         self.rng_wards = np.random.default_rng(seeds[1])</pre><pre style=\"background-color: #ccffcc; font-family: monospace; font-size: 10px; margin: 0; padding: 0; line-height: 1; white-space: pre-wrap;\">&gt;         self.rng_emergency_surgery = np.random.default_rng(seeds[2])</pre><pre style=\"background-color: #ccffcc; font-family: monospace; font-size: 10px; margin: 0; padding: 0; line-height: 1; white-space: pre-wrap;\">&gt;         self.rng_other_hospitals = np.random.default_rng(seeds[3])</pre><pre style=\"background-color: #ccffcc; font-family: monospace; font-size: 10px; margin: 0; padding: 0; line-height: 1; white-space: pre-wrap;\">&gt;         self.rng_xray_department = np.random.default_rng(seeds[4])</pre><pre style=\"background-color: #ccffcc; font-family: monospace; font-size: 10px; margin: 0; padding: 0; line-height: 1; white-space: pre-wrap;\">&gt;         self.rng_elective_surgery = np.random.default_rng(seeds[5])</pre><pre style=\"background-color: #ccffcc; font-family: monospace; font-size: 10px; margin: 0; padding: 0; line-height: 1; white-space: pre-wrap;\">&gt;         self.rng_unplanned_treatment = np.random.default_rng(seeds[6])</pre><pre style=\"background-color: #ccffcc; font-family: monospace; font-size: 10px; margin: 0; padding: 0; line-height: 1; white-space: pre-wrap;\">&gt;         self.rng_elective_treatment = np.random.default_rng(seeds[7])</pre><pre style=\"font-family: monospace; font-size: 10px; margin: 0; padding: 0; line-height: 1; white-space: pre-wrap;\"></pre><pre style=\"font-family: monospace; font-size: 10px; margin: 0; padding: 0; line-height: 1; white-space: pre-wrap;\"></pre><pre style=\"background-color: #ccffcc; font-family: monospace; font-size: 10px; margin: 0; padding: 0; line-height: 1; white-space: pre-wrap;\">&gt; class CCU:</pre><pre style=\"background-color: #ccffcc; font-family: monospace; font-size: 10px; margin: 0; padding: 0; line-height: 1; white-space: pre-wrap;\">&gt;     def __init__(self, env, experiment):</pre><pre style=\"background-color: #ccffcc; font-family: monospace; font-size: 10px; margin: 0; padding: 0; line-height: 1; white-space: pre-wrap;\">&gt;         self.env = env</pre><pre style=\"background-color: #ccffcc; font-family: monospace; font-size: 10px; margin: 0; padding: 0; line-height: 1; white-space: pre-wrap;\">&gt;         self.experiment = experiment</pre><pre style=\"background-color: #ccffcc; font-family: monospace; font-size: 10px; margin: 0; padding: 0; line-height: 1; white-space: pre-wrap;\">&gt;         self.patient_id_counter = 0</pre><pre style=\"background-color: #ccffcc; font-family: monospace; font-size: 10px; margin: 0; padding: 0; line-height: 1; white-space: pre-wrap;\">&gt;         self.cancelled_operations = 0</pre><pre style=\"background-color: #ccffcc; font-family: monospace; font-size: 10px; margin: 0; padding: 0; line-height: 1; white-space: pre-wrap;\">&gt;         self.warmup_end_time = self.experiment.warm_up_period</pre><pre style=\"background-color: #ccffcc; font-family: monospace; font-size: 10px; margin: 0; padding: 0; line-height: 1; white-space: pre-wrap;\">&gt;         self.total_unplanned_waiting_time = 0</pre><pre style=\"background-color: #ccffcc; font-family: monospace; font-size: 10px; margin: 0; padding: 0; line-height: 1; white-space: pre-wrap;\">&gt;         self.total_unplanned_admissions = 0</pre><pre style=\"background-color: #ccffcc; font-family: monospace; font-size: 10px; margin: 0; padding: 0; line-height: 1; white-space: pre-wrap;\">&gt;         self.total_treatment_time = 0</pre><pre style=\"background-color: #ccffcc; font-family: monospace; font-size: 10px; margin: 0; padding: 0; line-height: 1; white-space: pre-wrap;\">&gt;         self.critical_care_beds = simpy.Resource(</pre><pre style=\"background-color: #ccffcc; font-family: monospace; font-size: 10px; margin: 0; padding: 0; line-height: 1; white-space: pre-wrap;\">&gt;             env, capacity=self.experiment.num_critical_care_beds</pre><pre style=\"background-color: #ccffcc; font-family: monospace; font-size: 10px; margin: 0; padding: 0; line-height: 1; white-space: pre-wrap;\">&gt;         )</pre><pre style=\"font-family: monospace; font-size: 10px; margin: 0; padding: 0; line-height: 1; white-space: pre-wrap;\"></pre><pre style=\"background-color: #ccffcc; font-family: monospace; font-size: 10px; margin: 0; padding: 0; line-height: 1; white-space: pre-wrap;\">&gt;     def lognormal_to_normal(self, mu, sigma):</pre><pre style=\"background-color: #ccffcc; font-family: monospace; font-size: 10px; margin: 0; padding: 0; line-height: 1; white-space: pre-wrap;\">&gt;         zeta = np.log(mu ** 2 / np.sqrt(sigma ** 2 + mu ** 2))</pre><pre style=\"background-color: #ccffcc; font-family: monospace; font-size: 10px; margin: 0; padding: 0; line-height: 1; white-space: pre-wrap;\">&gt;         sigma_norm = np.sqrt(np.log(sigma ** 2 / mu ** 2 + 1))</pre><pre style=\"background-color: #ccffcc; font-family: monospace; font-size: 10px; margin: 0; padding: 0; line-height: 1; white-space: pre-wrap;\">&gt;         mu_norm = zeta</pre><pre style=\"background-color: #ccffcc; font-family: monospace; font-size: 10px; margin: 0; padding: 0; line-height: 1; white-space: pre-wrap;\">&gt;         return mu_norm, sigma_norm</pre><pre style=\"font-family: monospace; font-size: 10px; margin: 0; padding: 0; line-height: 1; white-space: pre-wrap;\"></pre><pre style=\"background-color: #ccffcc; font-family: monospace; font-size: 10px; margin: 0; padding: 0; line-height: 1; white-space: pre-wrap;\">&gt;     def warmup_complete(self):</pre><pre style=\"background-color: #ccffcc; font-family: monospace; font-size: 10px; margin: 0; padding: 0; line-height: 1; white-space: pre-wrap;\">&gt;         yield self.env.timeout(self.warmup_end_time)</pre><pre style=\"background-color: #ccffcc; font-family: monospace; font-size: 10px; margin: 0; padding: 0; line-height: 1; white-space: pre-wrap;\">&gt;         self.patient_id_counter = 0</pre><pre style=\"background-color: #ccffcc; font-family: monospace; font-size: 10px; margin: 0; padding: 0; line-height: 1; white-space: pre-wrap;\">&gt;         if self.experiment.trace:</pre><pre style=\"background-color: #ccffcc; font-family: monospace; font-size: 10px; margin: 0; padding: 0; line-height: 1; white-space: pre-wrap;\">&gt;             print(&quot;Warm-up complete&quot;)</pre><pre style=\"font-family: monospace; font-size: 10px; margin: 0; padding: 0; line-height: 1; white-space: pre-wrap;\"></pre><pre style=\"background-color: #ccffcc; font-family: monospace; font-size: 10px; margin: 0; padding: 0; line-height: 1; white-space: pre-wrap;\">&gt;     def reset_kpi(self):</pre><pre style=\"background-color: #ccffcc; font-family: monospace; font-size: 10px; margin: 0; padding: 0; line-height: 1; white-space: pre-wrap;\">&gt;         &quot;&quot;&quot;Reset all performance measures to their original values&quot;&quot;&quot;</pre><pre style=\"background-color: #ccffcc; font-family: monospace; font-size: 10px; margin: 0; padding: 0; line-height: 1; white-space: pre-wrap;\">&gt;         self.cancelled_operations = 0</pre><pre style=\"background-color: #ccffcc; font-family: monospace; font-size: 10px; margin: 0; padding: 0; line-height: 1; white-space: pre-wrap;\">&gt;         self.total_unplanned_waiting_time = 0</pre><pre style=\"background-color: #ccffcc; font-family: monospace; font-size: 10px; margin: 0; padding: 0; line-height: 1; white-space: pre-wrap;\">&gt;         self.total_unplanned_admissions = 0</pre><pre style=\"background-color: #ccffcc; font-family: monospace; font-size: 10px; margin: 0; padding: 0; line-height: 1; white-space: pre-wrap;\">&gt;         self.total_treatment_time = 0</pre><pre style=\"background-color: #ccffcc; font-family: monospace; font-size: 10px; margin: 0; padding: 0; line-height: 1; white-space: pre-wrap;\">&gt;         self.patient_id_counter = 0  # Reset patient_id_counter</pre><pre style=\"font-family: monospace; font-size: 10px; margin: 0; padding: 0; line-height: 1; white-space: pre-wrap;\"></pre><pre style=\"background-color: #ccffcc; font-family: monospace; font-size: 10px; margin: 0; padding: 0; line-height: 1; white-space: pre-wrap;\">&gt;     def accident_emergency_arrivals(self):</pre><pre style=\"background-color: #ccffcc; font-family: monospace; font-size: 10px; margin: 0; padding: 0; line-height: 1; white-space: pre-wrap;\">&gt;         while True:</pre><pre style=\"background-color: #ccffcc; font-family: monospace; font-size: 10px; margin: 0; padding: 0; line-height: 1; white-space: pre-wrap;\">&gt;             yield self.env.timeout(</pre><pre style=\"background-color: #ccffcc; font-family: monospace; font-size: 10px; margin: 0; padding: 0; line-height: 1; white-space: pre-wrap;\">&gt;                 self.experiment.rng_accident_emergency.exponential(</pre><pre style=\"background-color: #ccffcc; font-family: monospace; font-size: 10px; margin: 0; padding: 0; line-height: 1; white-space: pre-wrap;\">&gt;                     self.experiment.accident_emergency_arrival_rate</pre><pre style=\"background-color: #ccffcc; font-family: monospace; font-size: 10px; margin: 0; padding: 0; line-height: 1; white-space: pre-wrap;\">&gt;                 )</pre><pre style=\"background-color: #ccffcc; font-family: monospace; font-size: 10px; margin: 0; padding: 0; line-height: 1; white-space: pre-wrap;\">&gt;             )</pre><pre style=\"background-color: #ccffcc; font-family: monospace; font-size: 10px; margin: 0; padding: 0; line-height: 1; white-space: pre-wrap;\">&gt;             self.patient_id_counter += 1</pre><pre style=\"background-color: #ccffcc; font-family: monospace; font-size: 10px; margin: 0; padding: 0; line-height: 1; white-space: pre-wrap;\">&gt;             if self.experiment.trace:</pre><pre style=\"background-color: #ccffcc; font-family: monospace; font-size: 10px; margin: 0; padding: 0; line-height: 1; white-space: pre-wrap;\">&gt;                 print(</pre><pre style=\"background-color: #ccffcc; font-family: monospace; font-size: 10px; margin: 0; padding: 0; line-height: 1; white-space: pre-wrap;\">&gt;                     f&quot;Patient {self.patient_id_counter} arrived from Accident and Emergency at {self.env.now:.2f} hours&quot;</pre><pre style=\"background-color: #ccffcc; font-family: monospace; font-size: 10px; margin: 0; padding: 0; line-height: 1; white-space: pre-wrap;\">&gt;                 )</pre><pre style=\"background-color: #ccffcc; font-family: monospace; font-size: 10px; margin: 0; padding: 0; line-height: 1; white-space: pre-wrap;\">&gt;             self.env.process(</pre><pre style=\"background-color: #ccffcc; font-family: monospace; font-size: 10px; margin: 0; padding: 0; line-height: 1; white-space: pre-wrap;\">&gt;                 self.unplanned_admissions_process(&quot;Accident and Emergency&quot;)</pre><pre style=\"background-color: #ccffcc; font-family: monospace; font-size: 10px; margin: 0; padding: 0; line-height: 1; white-space: pre-wrap;\">&gt;             )</pre><pre style=\"font-family: monospace; font-size: 10px; margin: 0; padding: 0; line-height: 1; white-space: pre-wrap;\"></pre><pre style=\"background-color: #ccffcc; font-family: monospace; font-size: 10px; margin: 0; padding: 0; line-height: 1; white-space: pre-wrap;\">&gt;     def wards_arrivals(self):</pre><pre style=\"background-color: #ccffcc; font-family: monospace; font-size: 10px; margin: 0; padding: 0; line-height: 1; white-space: pre-wrap;\">&gt;         while True:</pre><pre style=\"background-color: #ccffcc; font-family: monospace; font-size: 10px; margin: 0; padding: 0; line-height: 1; white-space: pre-wrap;\">&gt;             yield self.env.timeout(</pre><pre style=\"background-color: #ccffcc; font-family: monospace; font-size: 10px; margin: 0; padding: 0; line-height: 1; white-space: pre-wrap;\">&gt;                 self.experiment.rng_wards.exponential(</pre><pre style=\"background-color: #ccffcc; font-family: monospace; font-size: 10px; margin: 0; padding: 0; line-height: 1; white-space: pre-wrap;\">&gt;                     self.experiment.wards_arrival_rate</pre><pre style=\"background-color: #ccffcc; font-family: monospace; font-size: 10px; margin: 0; padding: 0; line-height: 1; white-space: pre-wrap;\">&gt;                 )</pre><pre style=\"background-color: #ccffcc; font-family: monospace; font-size: 10px; margin: 0; padding: 0; line-height: 1; white-space: pre-wrap;\">&gt;             )</pre><pre style=\"background-color: #ccffcc; font-family: monospace; font-size: 10px; margin: 0; padding: 0; line-height: 1; white-space: pre-wrap;\">&gt;             self.patient_id_counter += 1</pre><pre style=\"background-color: #ccffcc; font-family: monospace; font-size: 10px; margin: 0; padding: 0; line-height: 1; white-space: pre-wrap;\">&gt;             if self.experiment.trace:</pre><pre style=\"background-color: #ccffcc; font-family: monospace; font-size: 10px; margin: 0; padding: 0; line-height: 1; white-space: pre-wrap;\">&gt;                 print(</pre><pre style=\"background-color: #ccffcc; font-family: monospace; font-size: 10px; margin: 0; padding: 0; line-height: 1; white-space: pre-wrap;\">&gt;                     f&quot;Patient {self.patient_id_counter} arrived from the Wards at {self.env.now:.2f} hours&quot;</pre><pre style=\"background-color: #ccffcc; font-family: monospace; font-size: 10px; margin: 0; padding: 0; line-height: 1; white-space: pre-wrap;\">&gt;                 )</pre><pre style=\"background-color: #ccffcc; font-family: monospace; font-size: 10px; margin: 0; padding: 0; line-height: 1; white-space: pre-wrap;\">&gt;             self.env.process(self.unplanned_admissions_process(&quot;Wards&quot;))</pre><pre style=\"font-family: monospace; font-size: 10px; margin: 0; padding: 0; line-height: 1; white-space: pre-wrap;\"></pre><pre style=\"background-color: #ccffcc; font-family: monospace; font-size: 10px; margin: 0; padding: 0; line-height: 1; white-space: pre-wrap;\">&gt;     def emergency_surgery_arrivals(self):</pre><pre style=\"background-color: #ccffcc; font-family: monospace; font-size: 10px; margin: 0; padding: 0; line-height: 1; white-space: pre-wrap;\">&gt;         while True:</pre><pre style=\"background-color: #ccffcc; font-family: monospace; font-size: 10px; margin: 0; padding: 0; line-height: 1; white-space: pre-wrap;\">&gt;             yield self.env.timeout(</pre><pre style=\"background-color: #ccffcc; font-family: monospace; font-size: 10px; margin: 0; padding: 0; line-height: 1; white-space: pre-wrap;\">&gt;                 self.experiment.rng_emergency_surgery.exponential(</pre><pre style=\"background-color: #ccffcc; font-family: monospace; font-size: 10px; margin: 0; padding: 0; line-height: 1; white-space: pre-wrap;\">&gt;                     self.experiment.emergency_surgery_arrival_rate</pre><pre style=\"background-color: #ccffcc; font-family: monospace; font-size: 10px; margin: 0; padding: 0; line-height: 1; white-space: pre-wrap;\">&gt;                 )</pre><pre style=\"background-color: #ccffcc; font-family: monospace; font-size: 10px; margin: 0; padding: 0; line-height: 1; white-space: pre-wrap;\">&gt;             )</pre><pre style=\"background-color: #ccffcc; font-family: monospace; font-size: 10px; margin: 0; padding: 0; line-height: 1; white-space: pre-wrap;\">&gt;             self.patient_id_counter += 1</pre><pre style=\"background-color: #ccffcc; font-family: monospace; font-size: 10px; margin: 0; padding: 0; line-height: 1; white-space: pre-wrap;\">&gt;             if self.experiment.trace:</pre><pre style=\"background-color: #ccffcc; font-family: monospace; font-size: 10px; margin: 0; padding: 0; line-height: 1; white-space: pre-wrap;\">&gt;                 print(</pre><pre style=\"background-color: #ccffcc; font-family: monospace; font-size: 10px; margin: 0; padding: 0; line-height: 1; white-space: pre-wrap;\">&gt;                     f&quot;Patient {self.patient_id_counter} arrived from Emergency Surgery at {self.env.now:.2f} hours&quot;</pre><pre style=\"background-color: #ccffcc; font-family: monospace; font-size: 10px; margin: 0; padding: 0; line-height: 1; white-space: pre-wrap;\">&gt;                 )</pre><pre style=\"background-color: #ccffcc; font-family: monospace; font-size: 10px; margin: 0; padding: 0; line-height: 1; white-space: pre-wrap;\">&gt;             self.env.process(self.unplanned_admissions_process(&quot;Emergency Surgery&quot;))</pre><pre style=\"font-family: monospace; font-size: 10px; margin: 0; padding: 0; line-height: 1; white-space: pre-wrap;\"></pre><pre style=\"background-color: #ccffcc; font-family: monospace; font-size: 10px; margin: 0; padding: 0; line-height: 1; white-space: pre-wrap;\">&gt;     def other_hospitals_arrivals(self):</pre><pre style=\"background-color: #ccffcc; font-family: monospace; font-size: 10px; margin: 0; padding: 0; line-height: 1; white-space: pre-wrap;\">&gt;         while True:</pre><pre style=\"background-color: #ccffcc; font-family: monospace; font-size: 10px; margin: 0; padding: 0; line-height: 1; white-space: pre-wrap;\">&gt;             yield self.env.timeout(</pre><pre style=\"background-color: #ccffcc; font-family: monospace; font-size: 10px; margin: 0; padding: 0; line-height: 1; white-space: pre-wrap;\">&gt;                 self.experiment.rng_other_hospitals.exponential(</pre><pre style=\"background-color: #ccffcc; font-family: monospace; font-size: 10px; margin: 0; padding: 0; line-height: 1; white-space: pre-wrap;\">&gt;                     self.experiment.other_hospitals_arrival_rate</pre><pre style=\"background-color: #ccffcc; font-family: monospace; font-size: 10px; margin: 0; padding: 0; line-height: 1; white-space: pre-wrap;\">&gt;                 )</pre><pre style=\"background-color: #ccffcc; font-family: monospace; font-size: 10px; margin: 0; padding: 0; line-height: 1; white-space: pre-wrap;\">&gt;             )</pre><pre style=\"background-color: #ccffcc; font-family: monospace; font-size: 10px; margin: 0; padding: 0; line-height: 1; white-space: pre-wrap;\">&gt;             self.patient_id_counter += 1</pre><pre style=\"background-color: #ccffcc; font-family: monospace; font-size: 10px; margin: 0; padding: 0; line-height: 1; white-space: pre-wrap;\">&gt;             if self.experiment.trace:</pre><pre style=\"background-color: #ccffcc; font-family: monospace; font-size: 10px; margin: 0; padding: 0; line-height: 1; white-space: pre-wrap;\">&gt;                 print(</pre><pre style=\"background-color: #ccffcc; font-family: monospace; font-size: 10px; margin: 0; padding: 0; line-height: 1; white-space: pre-wrap;\">&gt;                     f&quot;Patient {self.patient_id_counter} arrived from Other Hospitals at {self.env.now:.2f} hours&quot;</pre><pre style=\"background-color: #ccffcc; font-family: monospace; font-size: 10px; margin: 0; padding: 0; line-height: 1; white-space: pre-wrap;\">&gt;                 )</pre><pre style=\"background-color: #ccffcc; font-family: monospace; font-size: 10px; margin: 0; padding: 0; line-height: 1; white-space: pre-wrap;\">&gt;             self.env.process(self.unplanned_admissions_process(&quot;Other Hospitals&quot;))</pre><pre style=\"font-family: monospace; font-size: 10px; margin: 0; padding: 0; line-height: 1; white-space: pre-wrap;\"></pre><pre style=\"background-color: #ccffcc; font-family: monospace; font-size: 10px; margin: 0; padding: 0; line-height: 1; white-space: pre-wrap;\">&gt;     def xray_department_arrivals(self):</pre><pre style=\"background-color: #ccffcc; font-family: monospace; font-size: 10px; margin: 0; padding: 0; line-height: 1; white-space: pre-wrap;\">&gt;         while True:</pre><pre style=\"background-color: #ccffcc; font-family: monospace; font-size: 10px; margin: 0; padding: 0; line-height: 1; white-space: pre-wrap;\">&gt;             yield self.env.timeout(</pre><pre style=\"background-color: #ccffcc; font-family: monospace; font-size: 10px; margin: 0; padding: 0; line-height: 1; white-space: pre-wrap;\">&gt;                 self.experiment.rng_xray_department.exponential(</pre><pre style=\"background-color: #ccffcc; font-family: monospace; font-size: 10px; margin: 0; padding: 0; line-height: 1; white-space: pre-wrap;\">&gt;                     self.experiment.xray_department_arrival_rate</pre><pre style=\"background-color: #ccffcc; font-family: monospace; font-size: 10px; margin: 0; padding: 0; line-height: 1; white-space: pre-wrap;\">&gt;                 )</pre><pre style=\"background-color: #ccffcc; font-family: monospace; font-size: 10px; margin: 0; padding: 0; line-height: 1; white-space: pre-wrap;\">&gt;             )</pre><pre style=\"background-color: #ccffcc; font-family: monospace; font-size: 10px; margin: 0; padding: 0; line-height: 1; white-space: pre-wrap;\">&gt;             self.patient_id_counter += 1</pre><pre style=\"background-color: #ccffcc; font-family: monospace; font-size: 10px; margin: 0; padding: 0; line-height: 1; white-space: pre-wrap;\">&gt;             if self.experiment.trace:</pre><pre style=\"background-color: #ccffcc; font-family: monospace; font-size: 10px; margin: 0; padding: 0; line-height: 1; white-space: pre-wrap;\">&gt;                 print(</pre><pre style=\"background-color: #ccffcc; font-family: monospace; font-size: 10px; margin: 0; padding: 0; line-height: 1; white-space: pre-wrap;\">&gt;                     f&quot;Patient {self.patient_id_counter} arrived from the X-Ray Department at {self.env.now:.2f} hours&quot;</pre><pre style=\"background-color: #ccffcc; font-family: monospace; font-size: 10px; margin: 0; padding: 0; line-height: 1; white-space: pre-wrap;\">&gt;                 )</pre><pre style=\"background-color: #ccffcc; font-family: monospace; font-size: 10px; margin: 0; padding: 0; line-height: 1; white-space: pre-wrap;\">&gt;             self.env.process(self.unplanned_admissions_process(&quot;X-Ray Department&quot;))</pre><pre style=\"font-family: monospace; font-size: 10px; margin: 0; padding: 0; line-height: 1; white-space: pre-wrap;\"></pre><pre style=\"background-color: #ccffcc; font-family: monospace; font-size: 10px; margin: 0; padding: 0; line-height: 1; white-space: pre-wrap;\">&gt;     def elective_surgery_arrivals(self):</pre><pre style=\"background-color: #ccffcc; font-family: monospace; font-size: 10px; margin: 0; padding: 0; line-height: 1; white-space: pre-wrap;\">&gt;         while True:</pre><pre style=\"background-color: #ccffcc; font-family: monospace; font-size: 10px; margin: 0; padding: 0; line-height: 1; white-space: pre-wrap;\">&gt;             yield self.env.timeout(</pre><pre style=\"background-color: #ccffcc; font-family: monospace; font-size: 10px; margin: 0; padding: 0; line-height: 1; white-space: pre-wrap;\">&gt;                 self.experiment.rng_elective_surgery.normal(</pre><pre style=\"background-color: #ccffcc; font-family: monospace; font-size: 10px; margin: 0; padding: 0; line-height: 1; white-space: pre-wrap;\">&gt;                     self.experiment.elective_surgery_arrival_rate,</pre><pre style=\"background-color: #ccffcc; font-family: monospace; font-size: 10px; margin: 0; padding: 0; line-height: 1; white-space: pre-wrap;\">&gt;                     self.experiment.elective_surgery_arrival_std_dev,</pre><pre style=\"background-color: #ccffcc; font-family: monospace; font-size: 10px; margin: 0; padding: 0; line-height: 1; white-space: pre-wrap;\">&gt;                 )</pre><pre style=\"background-color: #ccffcc; font-family: monospace; font-size: 10px; margin: 0; padding: 0; line-height: 1; white-space: pre-wrap;\">&gt;             )</pre><pre style=\"background-color: #ccffcc; font-family: monospace; font-size: 10px; margin: 0; padding: 0; line-height: 1; white-space: pre-wrap;\">&gt;             self.patient_id_counter += 1</pre><pre style=\"background-color: #ccffcc; font-family: monospace; font-size: 10px; margin: 0; padding: 0; line-height: 1; white-space: pre-wrap;\">&gt;             if self.experiment.trace:</pre><pre style=\"background-color: #ccffcc; font-family: monospace; font-size: 10px; margin: 0; padding: 0; line-height: 1; white-space: pre-wrap;\">&gt;                 print(</pre><pre style=\"background-color: #ccffcc; font-family: monospace; font-size: 10px; margin: 0; padding: 0; line-height: 1; white-space: pre-wrap;\">&gt;                     f&quot;Elective Patient {self.patient_id_counter} arrived at {self.env.now:.2f} hours&quot;</pre><pre style=\"background-color: #ccffcc; font-family: monospace; font-size: 10px; margin: 0; padding: 0; line-height: 1; white-space: pre-wrap;\">&gt;                 )</pre><pre style=\"background-color: #ccffcc; font-family: monospace; font-size: 10px; margin: 0; padding: 0; line-height: 1; white-space: pre-wrap;\">&gt;             self.env.process(self.elective_admissions_process())</pre><pre style=\"font-family: monospace; font-size: 10px; margin: 0; padding: 0; line-height: 1; white-space: pre-wrap;\"></pre><pre style=\"background-color: #ccffcc; font-family: monospace; font-size: 10px; margin: 0; padding: 0; line-height: 1; white-space: pre-wrap;\">&gt;     def unplanned_admissions_process(self, source):</pre><pre style=\"background-color: #ccffcc; font-family: monospace; font-size: 10px; margin: 0; padding: 0; line-height: 1; white-space: pre-wrap;\">&gt;         patient_id = self.patient_id_counter</pre><pre style=\"background-color: #ccffcc; font-family: monospace; font-size: 10px; margin: 0; padding: 0; line-height: 1; white-space: pre-wrap;\">&gt;         if self.experiment.trace:</pre><pre style=\"background-color: #ccffcc; font-family: monospace; font-size: 10px; margin: 0; padding: 0; line-height: 1; white-space: pre-wrap;\">&gt;             print(</pre><pre style=\"background-color: #ccffcc; font-family: monospace; font-size: 10px; margin: 0; padding: 0; line-height: 1; white-space: pre-wrap;\">&gt;                 f&quot;Patient {patient_id} from {source} requests a critical care bed at {self.env.now:.2f} hours&quot;</pre><pre style=\"background-color: #ccffcc; font-family: monospace; font-size: 10px; margin: 0; padding: 0; line-height: 1; white-space: pre-wrap;\">&gt;             )</pre><pre style=\"background-color: #ccffcc; font-family: monospace; font-size: 10px; margin: 0; padding: 0; line-height: 1; white-space: pre-wrap;\">&gt;         waiting_time = self.env.now</pre><pre style=\"background-color: #ccffcc; font-family: monospace; font-size: 10px; margin: 0; padding: 0; line-height: 1; white-space: pre-wrap;\">&gt;         with self.critical_care_beds.request() as req:</pre><pre style=\"background-color: #ccffcc; font-family: monospace; font-size: 10px; margin: 0; padding: 0; line-height: 1; white-space: pre-wrap;\">&gt;             yield req</pre><pre style=\"background-color: #ccffcc; font-family: monospace; font-size: 10px; margin: 0; padding: 0; line-height: 1; white-space: pre-wrap;\">&gt;             waiting_time = self.env.now - waiting_time</pre><pre style=\"background-color: #ccffcc; font-family: monospace; font-size: 10px; margin: 0; padding: 0; line-height: 1; white-space: pre-wrap;\">&gt;             if self.experiment.trace:</pre><pre style=\"background-color: #ccffcc; font-family: monospace; font-size: 10px; margin: 0; padding: 0; line-height: 1; white-space: pre-wrap;\">&gt;                 print(</pre><pre style=\"background-color: #ccffcc; font-family: monospace; font-size: 10px; margin: 0; padding: 0; line-height: 1; white-space: pre-wrap;\">&gt;                     f&quot;Patient {patient_id} from {source} waited {waiting_time:.2f} hours&quot;</pre><pre style=\"background-color: #ccffcc; font-family: monospace; font-size: 10px; margin: 0; padding: 0; line-height: 1; white-space: pre-wrap;\">&gt;                 )</pre><pre style=\"background-color: #ccffcc; font-family: monospace; font-size: 10px; margin: 0; padding: 0; line-height: 1; white-space: pre-wrap;\">&gt;                 print(</pre><pre style=\"background-color: #ccffcc; font-family: monospace; font-size: 10px; margin: 0; padding: 0; line-height: 1; white-space: pre-wrap;\">&gt;                     f&quot;Patient {patient_id} from {source} admitted to a critical care bed at {self.env.now:.2f} hours&quot;</pre><pre style=\"background-color: #ccffcc; font-family: monospace; font-size: 10px; margin: 0; padding: 0; line-height: 1; white-space: pre-wrap;\">&gt;                 )</pre><pre style=\"background-color: #ccffcc; font-family: monospace; font-size: 10px; margin: 0; padding: 0; line-height: 1; white-space: pre-wrap;\">&gt;             if source == &quot;Accident and Emergency&quot;:</pre><pre style=\"background-color: #ccffcc; font-family: monospace; font-size: 10px; margin: 0; padding: 0; line-height: 1; white-space: pre-wrap;\">&gt;                 mu, sigma = self.lognormal_to_normal(</pre><pre style=\"background-color: #ccffcc; font-family: monospace; font-size: 10px; margin: 0; padding: 0; line-height: 1; white-space: pre-wrap;\">&gt;                     self.experiment.accident_emergency_lognormal_mu,</pre><pre style=\"background-color: #ccffcc; font-family: monospace; font-size: 10px; margin: 0; padding: 0; line-height: 1; white-space: pre-wrap;\">&gt;                     self.experiment.accident_emergency_lognormal_sigma,</pre><pre style=\"background-color: #ccffcc; font-family: monospace; font-size: 10px; margin: 0; padding: 0; line-height: 1; white-space: pre-wrap;\">&gt;                 )</pre><pre style=\"background-color: #ccffcc; font-family: monospace; font-size: 10px; margin: 0; padding: 0; line-height: 1; white-space: pre-wrap;\">&gt;                 length_of_stay = self.experiment.rng_unplanned_treatment.lognormal(</pre><pre style=\"background-color: #ccffcc; font-family: monospace; font-size: 10px; margin: 0; padding: 0; line-height: 1; white-space: pre-wrap;\">&gt;                     mu, sigma</pre><pre style=\"background-color: #ccffcc; font-family: monospace; font-size: 10px; margin: 0; padding: 0; line-height: 1; white-space: pre-wrap;\">&gt;                 )</pre><pre style=\"background-color: #ccffcc; font-family: monospace; font-size: 10px; margin: 0; padding: 0; line-height: 1; white-space: pre-wrap;\">&gt;             elif source == &quot;Wards&quot;:</pre><pre style=\"background-color: #ccffcc; font-family: monospace; font-size: 10px; margin: 0; padding: 0; line-height: 1; white-space: pre-wrap;\">&gt;                 mu, sigma = self.lognormal_to_normal(</pre><pre style=\"background-color: #ccffcc; font-family: monospace; font-size: 10px; margin: 0; padding: 0; line-height: 1; white-space: pre-wrap;\">&gt;                     self.experiment.wards_lognormal_mu,</pre><pre style=\"background-color: #ccffcc; font-family: monospace; font-size: 10px; margin: 0; padding: 0; line-height: 1; white-space: pre-wrap;\">&gt;                     self.experiment.wards_lognormal_sigma,</pre><pre style=\"background-color: #ccffcc; font-family: monospace; font-size: 10px; margin: 0; padding: 0; line-height: 1; white-space: pre-wrap;\">&gt;                 )</pre><pre style=\"background-color: #ccffcc; font-family: monospace; font-size: 10px; margin: 0; padding: 0; line-height: 1; white-space: pre-wrap;\">&gt;                 length_of_stay = self.experiment.rng_unplanned_treatment.lognormal(</pre><pre style=\"background-color: #ccffcc; font-family: monospace; font-size: 10px; margin: 0; padding: 0; line-height: 1; white-space: pre-wrap;\">&gt;                     mu, sigma</pre><pre style=\"background-color: #ccffcc; font-family: monospace; font-size: 10px; margin: 0; padding: 0; line-height: 1; white-space: pre-wrap;\">&gt;                 )</pre><pre style=\"background-color: #ccffcc; font-family: monospace; font-size: 10px; margin: 0; padding: 0; line-height: 1; white-space: pre-wrap;\">&gt;             elif source == &quot;Emergency Surgery&quot;:</pre><pre style=\"background-color: #ccffcc; font-family: monospace; font-size: 10px; margin: 0; padding: 0; line-height: 1; white-space: pre-wrap;\">&gt;                 mu, sigma = self.lognormal_to_normal(</pre><pre style=\"background-color: #ccffcc; font-family: monospace; font-size: 10px; margin: 0; padding: 0; line-height: 1; white-space: pre-wrap;\">&gt;                     self.experiment.emergency_surgery_lognormal_mu,</pre><pre style=\"background-color: #ccffcc; font-family: monospace; font-size: 10px; margin: 0; padding: 0; line-height: 1; white-space: pre-wrap;\">&gt;                     self.experiment.emergency_surgery_lognormal_sigma,</pre><pre style=\"background-color: #ccffcc; font-family: monospace; font-size: 10px; margin: 0; padding: 0; line-height: 1; white-space: pre-wrap;\">&gt;                 )</pre><pre style=\"background-color: #ccffcc; font-family: monospace; font-size: 10px; margin: 0; padding: 0; line-height: 1; white-space: pre-wrap;\">&gt;                 length_of_stay = self.experiment.rng_unplanned_treatment.lognormal(</pre><pre style=\"background-color: #ccffcc; font-family: monospace; font-size: 10px; margin: 0; padding: 0; line-height: 1; white-space: pre-wrap;\">&gt;                     mu, sigma</pre><pre style=\"background-color: #ccffcc; font-family: monospace; font-size: 10px; margin: 0; padding: 0; line-height: 1; white-space: pre-wrap;\">&gt;                 )</pre><pre style=\"background-color: #ccffcc; font-family: monospace; font-size: 10px; margin: 0; padding: 0; line-height: 1; white-space: pre-wrap;\">&gt;             elif source == &quot;Other Hospitals&quot;:</pre><pre style=\"background-color: #ccffcc; font-family: monospace; font-size: 10px; margin: 0; padding: 0; line-height: 1; white-space: pre-wrap;\">&gt;                 mu, sigma = self.lognormal_to_normal(</pre><pre style=\"background-color: #ccffcc; font-family: monospace; font-size: 10px; margin: 0; padding: 0; line-height: 1; white-space: pre-wrap;\">&gt;                     self.experiment.other_hospitals_lognormal_mu,</pre><pre style=\"background-color: #ccffcc; font-family: monospace; font-size: 10px; margin: 0; padding: 0; line-height: 1; white-space: pre-wrap;\">&gt;                     self.experiment.other_hospitals_lognormal_sigma,</pre><pre style=\"background-color: #ccffcc; font-family: monospace; font-size: 10px; margin: 0; padding: 0; line-height: 1; white-space: pre-wrap;\">&gt;                 )</pre><pre style=\"background-color: #ccffcc; font-family: monospace; font-size: 10px; margin: 0; padding: 0; line-height: 1; white-space: pre-wrap;\">&gt;                 length_of_stay = self.experiment.rng_unplanned_treatment.lognormal(</pre><pre style=\"background-color: #ccffcc; font-family: monospace; font-size: 10px; margin: 0; padding: 0; line-height: 1; white-space: pre-wrap;\">&gt;                     mu, sigma</pre><pre style=\"background-color: #ccffcc; font-family: monospace; font-size: 10px; margin: 0; padding: 0; line-height: 1; white-space: pre-wrap;\">&gt;                 )</pre><pre style=\"background-color: #ccffcc; font-family: monospace; font-size: 10px; margin: 0; padding: 0; line-height: 1; white-space: pre-wrap;\">&gt;             else:</pre><pre style=\"background-color: #ccffcc; font-family: monospace; font-size: 10px; margin: 0; padding: 0; line-height: 1; white-space: pre-wrap;\">&gt;                 mu, sigma = self.lognormal_to_normal(</pre><pre style=\"background-color: #ccffcc; font-family: monospace; font-size: 10px; margin: 0; padding: 0; line-height: 1; white-space: pre-wrap;\">&gt;                     self.experiment.xray_department_lognormal_mu,</pre><pre style=\"background-color: #ccffcc; font-family: monospace; font-size: 10px; margin: 0; padding: 0; line-height: 1; white-space: pre-wrap;\">&gt;                     self.experiment.xray_department_lognormal_sigma,</pre><pre style=\"background-color: #ccffcc; font-family: monospace; font-size: 10px; margin: 0; padding: 0; line-height: 1; white-space: pre-wrap;\">&gt;                 )</pre><pre style=\"background-color: #ccffcc; font-family: monospace; font-size: 10px; margin: 0; padding: 0; line-height: 1; white-space: pre-wrap;\">&gt;                 length_of_stay = self.experiment.rng_unplanned_treatment.lognormal(</pre><pre style=\"background-color: #ccffcc; font-family: monospace; font-size: 10px; margin: 0; padding: 0; line-height: 1; white-space: pre-wrap;\">&gt;                     mu, sigma</pre><pre style=\"background-color: #ccffcc; font-family: monospace; font-size: 10px; margin: 0; padding: 0; line-height: 1; white-space: pre-wrap;\">&gt;                 )</pre><pre style=\"background-color: #ccffcc; font-family: monospace; font-size: 10px; margin: 0; padding: 0; line-height: 1; white-space: pre-wrap;\">&gt;             yield self.env.timeout(length_of_stay)</pre><pre style=\"background-color: #ccffcc; font-family: monospace; font-size: 10px; margin: 0; padding: 0; line-height: 1; white-space: pre-wrap;\">&gt;             if self.env.now &gt;= self.warmup_end_time:</pre><pre style=\"background-color: #ccffcc; font-family: monospace; font-size: 10px; margin: 0; padding: 0; line-height: 1; white-space: pre-wrap;\">&gt;                 self.total_treatment_time += length_of_stay</pre><pre style=\"background-color: #ccffcc; font-family: monospace; font-size: 10px; margin: 0; padding: 0; line-height: 1; white-space: pre-wrap;\">&gt;                 self.total_unplanned_waiting_time += waiting_time</pre><pre style=\"background-color: #ccffcc; font-family: monospace; font-size: 10px; margin: 0; padding: 0; line-height: 1; white-space: pre-wrap;\">&gt;                 self.total_unplanned_admissions += 1</pre><pre style=\"background-color: #ccffcc; font-family: monospace; font-size: 10px; margin: 0; padding: 0; line-height: 1; white-space: pre-wrap;\">&gt;             if self.experiment.trace:</pre><pre style=\"background-color: #ccffcc; font-family: monospace; font-size: 10px; margin: 0; padding: 0; line-height: 1; white-space: pre-wrap;\">&gt;                 print(</pre><pre style=\"background-color: #ccffcc; font-family: monospace; font-size: 10px; margin: 0; padding: 0; line-height: 1; white-space: pre-wrap;\">&gt;                     f&quot;Patient {patient_id} from {source} discharged from a critical care bed at {self.env.now:.2f} hours&quot;</pre><pre style=\"background-color: #ccffcc; font-family: monospace; font-size: 10px; margin: 0; padding: 0; line-height: 1; white-space: pre-wrap;\">&gt;                 )</pre><pre style=\"background-color: #ccffcc; font-family: monospace; font-size: 10px; margin: 0; padding: 0; line-height: 1; white-space: pre-wrap;\">&gt;             yield self.env.timeout(self.experiment.intensive_cleaning_duration)</pre><pre style=\"background-color: #ccffcc; font-family: monospace; font-size: 10px; margin: 0; padding: 0; line-height: 1; white-space: pre-wrap;\">&gt;             if self.experiment.trace:</pre><pre style=\"background-color: #ccffcc; font-family: monospace; font-size: 10px; margin: 0; padding: 0; line-height: 1; white-space: pre-wrap;\">&gt;                 print(</pre><pre style=\"background-color: #ccffcc; font-family: monospace; font-size: 10px; margin: 0; padding: 0; line-height: 1; white-space: pre-wrap;\">&gt;                     f&quot;Intensive cleaning completed for Patient {patient_id} from {source} at {self.env.now:.2f} hours&quot;</pre><pre style=\"background-color: #ccffcc; font-family: monospace; font-size: 10px; margin: 0; padding: 0; line-height: 1; white-space: pre-wrap;\">&gt;                 )</pre><pre style=\"font-family: monospace; font-size: 10px; margin: 0; padding: 0; line-height: 1; white-space: pre-wrap;\"></pre><pre style=\"background-color: #ccffcc; font-family: monospace; font-size: 10px; margin: 0; padding: 0; line-height: 1; white-space: pre-wrap;\">&gt;     def elective_admissions_process(self):</pre><pre style=\"background-color: #ccffcc; font-family: monospace; font-size: 10px; margin: 0; padding: 0; line-height: 1; white-space: pre-wrap;\">&gt;         patient_id = self.patient_id_counter</pre><pre style=\"background-color: #ccffcc; font-family: monospace; font-size: 10px; margin: 0; padding: 0; line-height: 1; white-space: pre-wrap;\">&gt;         if self.critical_care_beds.count == self.critical_care_beds.capacity:</pre><pre style=\"background-color: #ccffcc; font-family: monospace; font-size: 10px; margin: 0; padding: 0; line-height: 1; white-space: pre-wrap;\">&gt;             if self.env.now &gt;= self.warmup_end_time:</pre><pre style=\"background-color: #ccffcc; font-family: monospace; font-size: 10px; margin: 0; padding: 0; line-height: 1; white-space: pre-wrap;\">&gt;                 if self.experiment.trace:</pre><pre style=\"background-color: #ccffcc; font-family: monospace; font-size: 10px; margin: 0; padding: 0; line-height: 1; white-space: pre-wrap;\">&gt;                     print(</pre><pre style=\"background-color: #ccffcc; font-family: monospace; font-size: 10px; margin: 0; padding: 0; line-height: 1; white-space: pre-wrap;\">&gt;                         f&quot;Elective Patient {patient_id} operation cancelled at {self.env.now:.2f} hours due to lack of available beds&quot;</pre><pre style=\"background-color: #ccffcc; font-family: monospace; font-size: 10px; margin: 0; padding: 0; line-height: 1; white-space: pre-wrap;\">&gt;                     )</pre><pre style=\"background-color: #ccffcc; font-family: monospace; font-size: 10px; margin: 0; padding: 0; line-height: 1; white-space: pre-wrap;\">&gt;                 self.cancelled_operations += 1</pre><pre style=\"background-color: #ccffcc; font-family: monospace; font-size: 10px; margin: 0; padding: 0; line-height: 1; white-space: pre-wrap;\">&gt;             else:</pre><pre style=\"background-color: #ccffcc; font-family: monospace; font-size: 10px; margin: 0; padding: 0; line-height: 1; white-space: pre-wrap;\">&gt;                 if self.experiment.trace:</pre><pre style=\"background-color: #ccffcc; font-family: monospace; font-size: 10px; margin: 0; padding: 0; line-height: 1; white-space: pre-wrap;\">&gt;                     print(</pre><pre style=\"background-color: #ccffcc; font-family: monospace; font-size: 10px; margin: 0; padding: 0; line-height: 1; white-space: pre-wrap;\">&gt;                         f&quot;Elective Patient {patient_id} operation cancelled at {self.env.now:.2f} hours due to lack of available beds (warm-up period)&quot;</pre><pre style=\"background-color: #ccffcc; font-family: monospace; font-size: 10px; margin: 0; padding: 0; line-height: 1; white-space: pre-wrap;\">&gt;                     )</pre><pre style=\"background-color: #ccffcc; font-family: monospace; font-size: 10px; margin: 0; padding: 0; line-height: 1; white-space: pre-wrap;\">&gt;         else:</pre><pre style=\"background-color: #ccffcc; font-family: monospace; font-size: 10px; margin: 0; padding: 0; line-height: 1; white-space: pre-wrap;\">&gt;             if self.experiment.trace:</pre><pre style=\"background-color: #ccffcc; font-family: monospace; font-size: 10px; margin: 0; padding: 0; line-height: 1; white-space: pre-wrap;\">&gt;                 print(</pre><pre style=\"background-color: #ccffcc; font-family: monospace; font-size: 10px; margin: 0; padding: 0; line-height: 1; white-space: pre-wrap;\">&gt;                     f&quot;Elective Patient {patient_id} requests a critical care bed at {self.env.now:.2f} hours&quot;</pre><pre style=\"background-color: #ccffcc; font-family: monospace; font-size: 10px; margin: 0; padding: 0; line-height: 1; white-space: pre-wrap;\">&gt;                 )</pre><pre style=\"background-color: #ccffcc; font-family: monospace; font-size: 10px; margin: 0; padding: 0; line-height: 1; white-space: pre-wrap;\">&gt;             with self.critical_care_beds.request() as req:</pre><pre style=\"background-color: #ccffcc; font-family: monospace; font-size: 10px; margin: 0; padding: 0; line-height: 1; white-space: pre-wrap;\">&gt;                 yield req</pre><pre style=\"background-color: #ccffcc; font-family: monospace; font-size: 10px; margin: 0; padding: 0; line-height: 1; white-space: pre-wrap;\">&gt;                 if self.experiment.trace:</pre><pre style=\"background-color: #ccffcc; font-family: monospace; font-size: 10px; margin: 0; padding: 0; line-height: 1; white-space: pre-wrap;\">&gt;                     print(</pre><pre style=\"background-color: #ccffcc; font-family: monospace; font-size: 10px; margin: 0; padding: 0; line-height: 1; white-space: pre-wrap;\">&gt;                         f&quot;Elective Patient {patient_id} admitted to a critical care bed at {self.env.now:.2f} hours&quot;</pre><pre style=\"background-color: #ccffcc; font-family: monospace; font-size: 10px; margin: 0; padding: 0; line-height: 1; white-space: pre-wrap;\">&gt;                     )</pre><pre style=\"background-color: #ccffcc; font-family: monospace; font-size: 10px; margin: 0; padding: 0; line-height: 1; white-space: pre-wrap;\">&gt;                 length_of_stay = self.experiment.rng_elective_treatment.exponential(</pre><pre style=\"background-color: #ccffcc; font-family: monospace; font-size: 10px; margin: 0; padding: 0; line-height: 1; white-space: pre-wrap;\">&gt;                     self.experiment.elective_surgery_treatment_rate</pre><pre style=\"background-color: #ccffcc; font-family: monospace; font-size: 10px; margin: 0; padding: 0; line-height: 1; white-space: pre-wrap;\">&gt;                 )</pre><pre style=\"background-color: #ccffcc; font-family: monospace; font-size: 10px; margin: 0; padding: 0; line-height: 1; white-space: pre-wrap;\">&gt;                 yield self.env.timeout(length_of_stay)</pre><pre style=\"background-color: #ccffcc; font-family: monospace; font-size: 10px; margin: 0; padding: 0; line-height: 1; white-space: pre-wrap;\">&gt;                 if self.env.now &gt;= self.warmup_end_time:</pre><pre style=\"background-color: #ccffcc; font-family: monospace; font-size: 10px; margin: 0; padding: 0; line-height: 1; white-space: pre-wrap;\">&gt;                     self.total_treatment_time += length_of_stay</pre><pre style=\"background-color: #ccffcc; font-family: monospace; font-size: 10px; margin: 0; padding: 0; line-height: 1; white-space: pre-wrap;\">&gt;                 if self.experiment.trace:</pre><pre style=\"background-color: #ccffcc; font-family: monospace; font-size: 10px; margin: 0; padding: 0; line-height: 1; white-space: pre-wrap;\">&gt;                     print(</pre><pre style=\"background-color: #ccffcc; font-family: monospace; font-size: 10px; margin: 0; padding: 0; line-height: 1; white-space: pre-wrap;\">&gt;                         f&quot;Elective Patient {patient_id} discharged from a critical care bed at {self.env.now:.2f} hours&quot;</pre><pre style=\"background-color: #ccffcc; font-family: monospace; font-size: 10px; margin: 0; padding: 0; line-height: 1; white-space: pre-wrap;\">&gt;                     )</pre><pre style=\"background-color: #ccffcc; font-family: monospace; font-size: 10px; margin: 0; padding: 0; line-height: 1; white-space: pre-wrap;\">&gt;                 yield self.env.timeout(self.experiment.intensive_cleaning_duration)</pre><pre style=\"background-color: #ccffcc; font-family: monospace; font-size: 10px; margin: 0; padding: 0; line-height: 1; white-space: pre-wrap;\">&gt;                 if self.experiment.trace:</pre><pre style=\"background-color: #ccffcc; font-family: monospace; font-size: 10px; margin: 0; padding: 0; line-height: 1; white-space: pre-wrap;\">&gt;                     print(</pre><pre style=\"background-color: #ccffcc; font-family: monospace; font-size: 10px; margin: 0; padding: 0; line-height: 1; white-space: pre-wrap;\">&gt;                         f&quot;Intensive cleaning completed for Elective Patient {patient_id} at {self.env.now:.2f} hours&quot;</pre><pre style=\"background-color: #ccffcc; font-family: monospace; font-size: 10px; margin: 0; padding: 0; line-height: 1; white-space: pre-wrap;\">&gt;                     )</pre><pre style=\"font-family: monospace; font-size: 10px; margin: 0; padding: 0; line-height: 1; white-space: pre-wrap;\"></pre><pre style=\"background-color: #ccffcc; font-family: monospace; font-size: 10px; margin: 0; padding: 0; line-height: 1; white-space: pre-wrap;\">&gt;     def run(self):</pre><pre style=\"background-color: #ccffcc; font-family: monospace; font-size: 10px; margin: 0; padding: 0; line-height: 1; white-space: pre-wrap;\">&gt;         accident_emergency_process = self.env.process(</pre><pre style=\"background-color: #ccffcc; font-family: monospace; font-size: 10px; margin: 0; padding: 0; line-height: 1; white-space: pre-wrap;\">&gt;             self.accident_emergency_arrivals()</pre><pre style=\"background-color: #ccffcc; font-family: monospace; font-size: 10px; margin: 0; padding: 0; line-height: 1; white-space: pre-wrap;\">&gt;         )</pre><pre style=\"background-color: #ccffcc; font-family: monospace; font-size: 10px; margin: 0; padding: 0; line-height: 1; white-space: pre-wrap;\">&gt;         wards_process = self.env.process(self.wards_arrivals())</pre><pre style=\"background-color: #ccffcc; font-family: monospace; font-size: 10px; margin: 0; padding: 0; line-height: 1; white-space: pre-wrap;\">&gt;         emergency_surgery_process = self.env.process(self.emergency_surgery_arrivals())</pre><pre style=\"background-color: #ccffcc; font-family: monospace; font-size: 10px; margin: 0; padding: 0; line-height: 1; white-space: pre-wrap;\">&gt;         other_hospitals_process = self.env.process(self.other_hospitals_arrivals())</pre><pre style=\"background-color: #ccffcc; font-family: monospace; font-size: 10px; margin: 0; padding: 0; line-height: 1; white-space: pre-wrap;\">&gt;         xray_department_process = self.env.process(self.xray_department_arrivals())</pre><pre style=\"background-color: #ccffcc; font-family: monospace; font-size: 10px; margin: 0; padding: 0; line-height: 1; white-space: pre-wrap;\">&gt;         elective_surgery_process = self.env.process(self.elective_surgery_arrivals())</pre><pre style=\"background-color: #ccffcc; font-family: monospace; font-size: 10px; margin: 0; padding: 0; line-height: 1; white-space: pre-wrap;\">&gt;         warmup_complete_process = self.env.process(self.warmup_complete())</pre><pre style=\"background-color: #ccffcc; font-family: monospace; font-size: 10px; margin: 0; padding: 0; line-height: 1; white-space: pre-wrap;\">&gt;         self.env.run(until=self.experiment.total_run_length)</pre><pre style=\"font-family: monospace; font-size: 10px; margin: 0; padding: 0; line-height: 1; white-space: pre-wrap;\"></pre><pre style=\"font-family: monospace; font-size: 10px; margin: 0; padding: 0; line-height: 1; white-space: pre-wrap;\">          # Calculate bed utilization as a proportion</pre><pre style=\"background-color: #ccffcc; font-family: monospace; font-size: 10px; margin: 0; padding: 0; line-height: 1; white-space: pre-wrap;\">&gt;         bed_utilization = self.total_treatment_time / (</pre><pre style=\"background-color: #ccffcc; font-family: monospace; font-size: 10px; margin: 0; padding: 0; line-height: 1; white-space: pre-wrap;\">&gt;             self.experiment.num_critical_care_beds</pre><pre style=\"background-color: #ccffcc; font-family: monospace; font-size: 10px; margin: 0; padding: 0; line-height: 1; white-space: pre-wrap;\">&gt;             * self.experiment.results_collection_period</pre><pre style=\"background-color: #ccffcc; font-family: monospace; font-size: 10px; margin: 0; padding: 0; line-height: 1; white-space: pre-wrap;\">&gt;         )</pre><pre style=\"font-family: monospace; font-size: 10px; margin: 0; padding: 0; line-height: 1; white-space: pre-wrap;\"></pre><pre style=\"font-family: monospace; font-size: 10px; margin: 0; padding: 0; line-height: 1; white-space: pre-wrap;\">          # Calculate bed occupancy</pre><pre style=\"background-color: #ccffcc; font-family: monospace; font-size: 10px; margin: 0; padding: 0; line-height: 1; white-space: pre-wrap;\">&gt;         bed_occupancy = bed_utilization * self.experiment.num_critical_care_beds</pre><pre style=\"font-family: monospace; font-size: 10px; margin: 0; padding: 0; line-height: 1; white-space: pre-wrap;\"></pre><pre style=\"background-color: #ccffcc; font-family: monospace; font-size: 10px; margin: 0; padding: 0; line-height: 1; white-space: pre-wrap;\">&gt;         performance_measures = {</pre><pre style=\"background-color: #ccffcc; font-family: monospace; font-size: 10px; margin: 0; padding: 0; line-height: 1; white-space: pre-wrap;\">&gt;             &quot;Total Cancelled Elective Operations&quot;: self.cancelled_operations,</pre><pre style=\"background-color: #ccffcc; font-family: monospace; font-size: 10px; margin: 0; padding: 0; line-height: 1; white-space: pre-wrap;\">&gt;             &quot;Mean Unplanned Admission Waiting Time (hours)&quot;: self.total_unplanned_waiting_time</pre><pre style=\"background-color: #ccffcc; font-family: monospace; font-size: 10px; margin: 0; padding: 0; line-height: 1; white-space: pre-wrap;\">&gt;             / self.total_unplanned_admissions</pre><pre style=\"background-color: #ccffcc; font-family: monospace; font-size: 10px; margin: 0; padding: 0; line-height: 1; white-space: pre-wrap;\">&gt;             if self.total_unplanned_admissions &gt; 0</pre><pre style=\"background-color: #ccffcc; font-family: monospace; font-size: 10px; margin: 0; padding: 0; line-height: 1; white-space: pre-wrap;\">&gt;             else 0,</pre><pre style=\"background-color: #ccffcc; font-family: monospace; font-size: 10px; margin: 0; padding: 0; line-height: 1; white-space: pre-wrap;\">&gt;             &quot;Bed Utilization&quot;: bed_utilization,</pre><pre style=\"background-color: #ccffcc; font-family: monospace; font-size: 10px; margin: 0; padding: 0; line-height: 1; white-space: pre-wrap;\">&gt;             &quot;Bed Occupancy&quot;: bed_occupancy,</pre><pre style=\"background-color: #ccffcc; font-family: monospace; font-size: 10px; margin: 0; padding: 0; line-height: 1; white-space: pre-wrap;\">&gt;             &quot;Patient Count&quot;: self.patient_id_counter,</pre><pre style=\"background-color: #ccffcc; font-family: monospace; font-size: 10px; margin: 0; padding: 0; line-height: 1; white-space: pre-wrap;\">&gt;         }</pre><pre style=\"font-family: monospace; font-size: 10px; margin: 0; padding: 0; line-height: 1; white-space: pre-wrap;\"></pre><pre style=\"background-color: #ccffcc; font-family: monospace; font-size: 10px; margin: 0; padding: 0; line-height: 1; white-space: pre-wrap;\">&gt;         results_df = pd.DataFrame.from_dict(performance_measures, orient=&quot;index&quot;).T</pre><pre style=\"background-color: #ccffcc; font-family: monospace; font-size: 10px; margin: 0; padding: 0; line-height: 1; white-space: pre-wrap;\">&gt;         return results_df</pre><pre style=\"font-family: monospace; font-size: 10px; margin: 0; padding: 0; line-height: 1; white-space: pre-wrap;\"></pre><pre style=\"font-family: monospace; font-size: 10px; margin: 0; padding: 0; line-height: 1; white-space: pre-wrap;\"></pre><pre style=\"background-color: #ccffcc; font-family: monospace; font-size: 10px; margin: 0; padding: 0; line-height: 1; white-space: pre-wrap;\">&gt; def get_experiments():</pre><pre style=\"background-color: #ccffcc; font-family: monospace; font-size: 10px; margin: 0; padding: 0; line-height: 1; white-space: pre-wrap;\">&gt;     experiments = {}</pre><pre style=\"background-color: #ccffcc; font-family: monospace; font-size: 10px; margin: 0; padding: 0; line-height: 1; white-space: pre-wrap;\">&gt;     for num_beds in range(23, 29):</pre><pre style=\"background-color: #ccffcc; font-family: monospace; font-size: 10px; margin: 0; padding: 0; line-height: 1; white-space: pre-wrap;\">&gt;         experiment_name = f&quot;Experiment with {num_beds} beds&quot;</pre><pre style=\"background-color: #ccffcc; font-family: monospace; font-size: 10px; margin: 0; padding: 0; line-height: 1; white-space: pre-wrap;\">&gt;         experiment = Experiment(num_critical_care_beds=num_beds)</pre><pre style=\"background-color: #ccffcc; font-family: monospace; font-size: 10px; margin: 0; padding: 0; line-height: 1; white-space: pre-wrap;\">&gt;         experiments[experiment_name] = experiment</pre><pre style=\"background-color: #ccffcc; font-family: monospace; font-size: 10px; margin: 0; padding: 0; line-height: 1; white-space: pre-wrap;\">&gt;     return experiments</pre><pre style=\"font-family: monospace; font-size: 10px; margin: 0; padding: 0; line-height: 1; white-space: pre-wrap;\"></pre><pre style=\"font-family: monospace; font-size: 10px; margin: 0; padding: 0; line-height: 1; white-space: pre-wrap;\"></pre><pre style=\"background-color: #ccffcc; font-family: monospace; font-size: 10px; margin: 0; padding: 0; line-height: 1; white-space: pre-wrap;\">&gt; def run_all_experiments(experiments, num_replications):</pre><pre style=\"background-color: #ccffcc; font-family: monospace; font-size: 10px; margin: 0; padding: 0; line-height: 1; white-space: pre-wrap;\">&gt;     experiment_summaries = {}</pre><pre style=\"background-color: #ccffcc; font-family: monospace; font-size: 10px; margin: 0; padding: 0; line-height: 1; white-space: pre-wrap;\">&gt;     for experiment_name, experiment in experiments.items():</pre><pre style=\"background-color: #ccffcc; font-family: monospace; font-size: 10px; margin: 0; padding: 0; line-height: 1; white-space: pre-wrap;\">&gt;         print(f&quot;Running {experiment_name}&quot;)</pre><pre style=\"background-color: #ccffcc; font-family: monospace; font-size: 10px; margin: 0; padding: 0; line-height: 1; white-space: pre-wrap;\">&gt;         env = simpy.Environment()</pre><pre style=\"background-color: #ccffcc; font-family: monospace; font-size: 10px; margin: 0; padding: 0; line-height: 1; white-space: pre-wrap;\">&gt;         ccu = CCU(env, experiment)</pre><pre style=\"background-color: #ccffcc; font-family: monospace; font-size: 10px; margin: 0; padding: 0; line-height: 1; white-space: pre-wrap;\">&gt;         results = multiple_replications(experiment, num_replications)</pre><pre style=\"background-color: #ccffcc; font-family: monospace; font-size: 10px; margin: 0; padding: 0; line-height: 1; white-space: pre-wrap;\">&gt;         summary = results_summary(results)</pre><pre style=\"background-color: #ccffcc; font-family: monospace; font-size: 10px; margin: 0; padding: 0; line-height: 1; white-space: pre-wrap;\">&gt;         experiment_summaries[experiment_name] = summary</pre><pre style=\"background-color: #ccffcc; font-family: monospace; font-size: 10px; margin: 0; padding: 0; line-height: 1; white-space: pre-wrap;\">&gt;     return experiment_summaries</pre><pre style=\"font-family: monospace; font-size: 10px; margin: 0; padding: 0; line-height: 1; white-space: pre-wrap;\"></pre><pre style=\"font-family: monospace; font-size: 10px; margin: 0; padding: 0; line-height: 1; white-space: pre-wrap;\"></pre><pre style=\"background-color: #ccffcc; font-family: monospace; font-size: 10px; margin: 0; padding: 0; line-height: 1; white-space: pre-wrap;\">&gt; def summary_of_experiments(experiment_summaries):</pre><pre style=\"background-color: #ccffcc; font-family: monospace; font-size: 10px; margin: 0; padding: 0; line-height: 1; white-space: pre-wrap;\">&gt;     summary_df = pd.DataFrame()</pre><pre style=\"background-color: #ccffcc; font-family: monospace; font-size: 10px; margin: 0; padding: 0; line-height: 1; white-space: pre-wrap;\">&gt;     for experiment_name, summary in experiment_summaries.items():</pre><pre style=\"background-color: #ccffcc; font-family: monospace; font-size: 10px; margin: 0; padding: 0; line-height: 1; white-space: pre-wrap;\">&gt;         if summary_df.empty:</pre><pre style=\"background-color: #ccffcc; font-family: monospace; font-size: 10px; margin: 0; padding: 0; line-height: 1; white-space: pre-wrap;\">&gt;             summary_df = summary</pre><pre style=\"background-color: #ccffcc; font-family: monospace; font-size: 10px; margin: 0; padding: 0; line-height: 1; white-space: pre-wrap;\">&gt;             summary_df = summary_df.add_prefix(f&quot;{experiment_name}_&quot;)</pre><pre style=\"background-color: #ccffcc; font-family: monospace; font-size: 10px; margin: 0; padding: 0; line-height: 1; white-space: pre-wrap;\">&gt;         else:</pre><pre style=\"background-color: #ccffcc; font-family: monospace; font-size: 10px; margin: 0; padding: 0; line-height: 1; white-space: pre-wrap;\">&gt;             summary = summary.add_prefix(f&quot;{experiment_name}_&quot;)</pre><pre style=\"background-color: #ccffcc; font-family: monospace; font-size: 10px; margin: 0; padding: 0; line-height: 1; white-space: pre-wrap;\">&gt;             summary_df = pd.concat([summary_df, summary], axis=1)</pre><pre style=\"background-color: #ccffcc; font-family: monospace; font-size: 10px; margin: 0; padding: 0; line-height: 1; white-space: pre-wrap;\">&gt;     return summary_df</pre><pre style=\"font-family: monospace; font-size: 10px; margin: 0; padding: 0; line-height: 1; white-space: pre-wrap;\"></pre><pre style=\"font-family: monospace; font-size: 10px; margin: 0; padding: 0; line-height: 1; white-space: pre-wrap;\"></pre><pre style=\"background-color: #ccffcc; font-family: monospace; font-size: 10px; margin: 0; padding: 0; line-height: 1; white-space: pre-wrap;\">&gt; def multiple_replications(experiment, num_replications=5):</pre><pre style=\"background-color: #ccffcc; font-family: monospace; font-size: 10px; margin: 0; padding: 0; line-height: 1; white-space: pre-wrap;\">&gt;     all_results = []</pre><pre style=\"background-color: #ccffcc; font-family: monospace; font-size: 10px; margin: 0; padding: 0; line-height: 1; white-space: pre-wrap;\">&gt;     for i in range(num_replications):</pre><pre style=\"background-color: #ccffcc; font-family: monospace; font-size: 10px; margin: 0; padding: 0; line-height: 1; white-space: pre-wrap;\">&gt;         experiment.setup_streams(i)  # Call setup_streams method</pre><pre style=\"background-color: #ccffcc; font-family: monospace; font-size: 10px; margin: 0; padding: 0; line-height: 1; white-space: pre-wrap;\">&gt;         env = simpy.Environment()</pre><pre style=\"background-color: #ccffcc; font-family: monospace; font-size: 10px; margin: 0; padding: 0; line-height: 1; white-space: pre-wrap;\">&gt;         ccu = CCU(env, experiment)</pre><pre style=\"background-color: #ccffcc; font-family: monospace; font-size: 10px; margin: 0; padding: 0; line-height: 1; white-space: pre-wrap;\">&gt;         ccu.reset_kpi()</pre><pre style=\"background-color: #ccffcc; font-family: monospace; font-size: 10px; margin: 0; padding: 0; line-height: 1; white-space: pre-wrap;\">&gt;         results = ccu.run()</pre><pre style=\"background-color: #ccffcc; font-family: monospace; font-size: 10px; margin: 0; padding: 0; line-height: 1; white-space: pre-wrap;\">&gt;         results[&quot;Replication&quot;] = i + 1</pre><pre style=\"background-color: #ccffcc; font-family: monospace; font-size: 10px; margin: 0; padding: 0; line-height: 1; white-space: pre-wrap;\">&gt;         all_results.append(results)</pre><pre style=\"background-color: #ccffcc; font-family: monospace; font-size: 10px; margin: 0; padding: 0; line-height: 1; white-space: pre-wrap;\">&gt;     combined_results = pd.concat(all_results, ignore_index=True)</pre><pre style=\"background-color: #ccffcc; font-family: monospace; font-size: 10px; margin: 0; padding: 0; line-height: 1; white-space: pre-wrap;\">&gt;     return combined_results</pre><pre style=\"font-family: monospace; font-size: 10px; margin: 0; padding: 0; line-height: 1; white-space: pre-wrap;\"></pre><pre style=\"font-family: monospace; font-size: 10px; margin: 0; padding: 0; line-height: 1; white-space: pre-wrap;\"></pre><pre style=\"background-color: #ccffcc; font-family: monospace; font-size: 10px; margin: 0; padding: 0; line-height: 1; white-space: pre-wrap;\">&gt; def results_summary(results_df):</pre><pre style=\"font-family: monospace; font-size: 10px; margin: 0; padding: 0; line-height: 1; white-space: pre-wrap;\">      # Drop the replication column</pre><pre style=\"background-color: #ccffcc; font-family: monospace; font-size: 10px; margin: 0; padding: 0; line-height: 1; white-space: pre-wrap;\">&gt;     results_df = results_df.drop(&quot;Replication&quot;, axis=1)</pre><pre style=\"font-family: monospace; font-size: 10px; margin: 0; padding: 0; line-height: 1; white-space: pre-wrap;\"></pre><pre style=\"font-family: monospace; font-size: 10px; margin: 0; padding: 0; line-height: 1; white-space: pre-wrap;\">      # Calculate the mean and standard deviation of each column</pre><pre style=\"background-color: #ccffcc; font-family: monospace; font-size: 10px; margin: 0; padding: 0; line-height: 1; white-space: pre-wrap;\">&gt;     summary_df = results_df.describe().loc[[&quot;mean&quot;, &quot;std&quot;]].T</pre><pre style=\"font-family: monospace; font-size: 10px; margin: 0; padding: 0; line-height: 1; white-space: pre-wrap;\"></pre><pre style=\"background-color: #ccffcc; font-family: monospace; font-size: 10px; margin: 0; padding: 0; line-height: 1; white-space: pre-wrap;\">&gt;     return summary_df</pre><pre style=\"font-family: monospace; font-size: 10px; margin: 0; padding: 0; line-height: 1; white-space: pre-wrap;\"></pre><pre style=\"font-family: monospace; font-size: 10px; margin: 0; padding: 0; line-height: 1; white-space: pre-wrap;\"></pre><pre style=\"background-color: #ccffcc; font-family: monospace; font-size: 10px; margin: 0; padding: 0; line-height: 1; white-space: pre-wrap;\">&gt; import streamlit as st</pre><pre style=\"background-color: #ccffcc; font-family: monospace; font-size: 10px; margin: 0; padding: 0; line-height: 1; white-space: pre-wrap;\">&gt; import pandas as pd</pre><pre style=\"font-family: monospace; font-size: 10px; margin: 0; padding: 0; line-height: 1; white-space: pre-wrap;\"></pre><pre style=\"font-family: monospace; font-size: 10px; margin: 0; padding: 0; line-height: 1; white-space: pre-wrap;\">  # from your_module import Experiment, multiple_replications, results_summary</pre><pre style=\"font-family: monospace; font-size: 10px; margin: 0; padding: 0; line-height: 1; white-space: pre-wrap;\"></pre><pre style=\"font-family: monospace; font-size: 10px; margin: 0; padding: 0; line-height: 1; white-space: pre-wrap;\"></pre><pre style=\"background-color: #ccffcc; font-family: monospace; font-size: 10px; margin: 0; padding: 0; line-height: 1; white-space: pre-wrap;\">&gt; def main():</pre><pre style=\"background-color: #ccffcc; font-family: monospace; font-size: 10px; margin: 0; padding: 0; line-height: 1; white-space: pre-wrap;\">&gt;     st.title(&quot;A simulation model of bed-occupancy in a critical care unit&quot;)</pre><pre style=\"background-color: #ccffcc; font-family: monospace; font-size: 10px; margin: 0; padding: 0; line-height: 1; white-space: pre-wrap;\">&gt;     st.write(&quot;This is a recreation of a model reported in a published academic study:&quot;)</pre><pre style=\"background-color: #ccffcc; font-family: monospace; font-size: 10px; margin: 0; padding: 0; line-height: 1; white-space: pre-wrap;\">&gt;     st.write(</pre><pre style=\"background-color: #ccffcc; font-family: monospace; font-size: 10px; margin: 0; padding: 0; line-height: 1; white-space: pre-wrap;\">&gt;         &quot;&quot;&quot;</pre><pre style=\"background-color: #ccffcc; font-family: monospace; font-size: 10px; margin: 0; padding: 0; line-height: 1; white-space: pre-wrap;\">&gt;     &quot;J D Griffiths, M Jones, M S Read &amp; J E Williams (2010) A simulation model of bed-occupancy in a critical care unit, Journal of Simulation, 4:1, 52-59, DOI: 10.1057/jos.2009.22&quot;</pre><pre style=\"background-color: #ccffcc; font-family: monospace; font-size: 10px; margin: 0; padding: 0; line-height: 1; white-space: pre-wrap;\">&gt;     &quot;&quot;&quot;</pre><pre style=\"background-color: #ccffcc; font-family: monospace; font-size: 10px; margin: 0; padding: 0; line-height: 1; white-space: pre-wrap;\">&gt;     )</pre><pre style=\"background-color: #ccffcc; font-family: monospace; font-size: 10px; margin: 0; padding: 0; line-height: 1; white-space: pre-wrap;\">&gt;     st.markdown(</pre><pre style=\"background-color: #ccffcc; font-family: monospace; font-size: 10px; margin: 0; padding: 0; line-height: 1; white-space: pre-wrap;\">&gt;         &quot;[Link to the original study](https://www.tandfonline.com/doi/full/10.1057/jos.2009.22)&quot;</pre><pre style=\"background-color: #ccffcc; font-family: monospace; font-size: 10px; margin: 0; padding: 0; line-height: 1; white-space: pre-wrap;\">&gt;     )</pre><pre style=\"font-family: monospace; font-size: 10px; margin: 0; padding: 0; line-height: 1; white-space: pre-wrap;\"></pre><pre style=\"font-family: monospace; font-size: 10px; margin: 0; padding: 0; line-height: 1; white-space: pre-wrap;\">      # Add sidebar</pre><pre style=\"background-color: #ccffcc; font-family: monospace; font-size: 10px; margin: 0; padding: 0; line-height: 1; white-space: pre-wrap;\">&gt;     st.sidebar.title(&quot;Experiment Parameters&quot;)</pre><pre style=\"font-family: monospace; font-size: 10px; margin: 0; padding: 0; line-height: 1; white-space: pre-wrap;\"></pre><pre style=\"font-family: monospace; font-size: 10px; margin: 0; padding: 0; line-height: 1; white-space: pre-wrap;\">      # Number of critical care beds</pre><pre style=\"background-color: #ccffcc; font-family: monospace; font-size: 10px; margin: 0; padding: 0; line-height: 1; white-space: pre-wrap;\">&gt;     num_critical_care_beds = st.sidebar.slider(</pre><pre style=\"background-color: #ccffcc; font-family: monospace; font-size: 10px; margin: 0; padding: 0; line-height: 1; white-space: pre-wrap;\">&gt;         &quot;Number of Critical Care Beds&quot;, min_value=20, max_value=30, value=24, step=1</pre><pre style=\"background-color: #ccffcc; font-family: monospace; font-size: 10px; margin: 0; padding: 0; line-height: 1; white-space: pre-wrap;\">&gt;     )</pre><pre style=\"font-family: monospace; font-size: 10px; margin: 0; padding: 0; line-height: 1; white-space: pre-wrap;\"></pre><pre style=\"font-family: monospace; font-size: 10px; margin: 0; padding: 0; line-height: 1; white-space: pre-wrap;\">      # Intensive cleaning duration</pre><pre style=\"background-color: #ccffcc; font-family: monospace; font-size: 10px; margin: 0; padding: 0; line-height: 1; white-space: pre-wrap;\">&gt;     intensive_cleaning_duration = st.sidebar.number_input(</pre><pre style=\"background-color: #ccffcc; font-family: monospace; font-size: 10px; margin: 0; padding: 0; line-height: 1; white-space: pre-wrap;\">&gt;         &quot;Intensive Cleaning Duration (hours)&quot;,</pre><pre style=\"background-color: #ccffcc; font-family: monospace; font-size: 10px; margin: 0; padding: 0; line-height: 1; white-space: pre-wrap;\">&gt;         min_value=1.0,</pre><pre style=\"background-color: #ccffcc; font-family: monospace; font-size: 10px; margin: 0; padding: 0; line-height: 1; white-space: pre-wrap;\">&gt;         max_value=10.0,</pre><pre style=\"background-color: #ccffcc; font-family: monospace; font-size: 10px; margin: 0; padding: 0; line-height: 1; white-space: pre-wrap;\">&gt;         value=5.0,</pre><pre style=\"background-color: #ccffcc; font-family: monospace; font-size: 10px; margin: 0; padding: 0; line-height: 1; white-space: pre-wrap;\">&gt;         step=0.1,</pre><pre style=\"background-color: #ccffcc; font-family: monospace; font-size: 10px; margin: 0; padding: 0; line-height: 1; white-space: pre-wrap;\">&gt;     )</pre><pre style=\"font-family: monospace; font-size: 10px; margin: 0; padding: 0; line-height: 1; white-space: pre-wrap;\"></pre><pre style=\"font-family: monospace; font-size: 10px; margin: 0; padding: 0; line-height: 1; white-space: pre-wrap;\">      # Trace</pre><pre style=\"background-color: #ccffcc; font-family: monospace; font-size: 10px; margin: 0; padding: 0; line-height: 1; white-space: pre-wrap;\">&gt;     trace = st.sidebar.checkbox(&quot;Trace&quot;, value=False)</pre><pre style=\"font-family: monospace; font-size: 10px; margin: 0; padding: 0; line-height: 1; white-space: pre-wrap;\"></pre><pre style=\"font-family: monospace; font-size: 10px; margin: 0; padding: 0; line-height: 1; white-space: pre-wrap;\">      # Number of replications</pre><pre style=\"background-color: #ccffcc; font-family: monospace; font-size: 10px; margin: 0; padding: 0; line-height: 1; white-space: pre-wrap;\">&gt;     num_replications = st.sidebar.number_input(</pre><pre style=\"background-color: #ccffcc; font-family: monospace; font-size: 10px; margin: 0; padding: 0; line-height: 1; white-space: pre-wrap;\">&gt;         &quot;Number of Replications&quot;, min_value=1, max_value=10, value=5, step=1</pre><pre style=\"background-color: #ccffcc; font-family: monospace; font-size: 10px; margin: 0; padding: 0; line-height: 1; white-space: pre-wrap;\">&gt;     )</pre><pre style=\"font-family: monospace; font-size: 10px; margin: 0; padding: 0; line-height: 1; white-space: pre-wrap;\"></pre><pre style=\"font-family: monospace; font-size: 10px; margin: 0; padding: 0; line-height: 1; white-space: pre-wrap;\">      # Create a button to trigger the simulation</pre><pre style=\"background-color: #ccffcc; font-family: monospace; font-size: 10px; margin: 0; padding: 0; line-height: 1; white-space: pre-wrap;\">&gt;     if st.button(&quot;Simulate&quot;):</pre><pre style=\"font-family: monospace; font-size: 10px; margin: 0; padding: 0; line-height: 1; white-space: pre-wrap;\">          # Display a spinner while the simulation is running</pre><pre style=\"background-color: #ccffcc; font-family: monospace; font-size: 10px; margin: 0; padding: 0; line-height: 1; white-space: pre-wrap;\">&gt;         with st.spinner(&quot;Please wait for results...&quot;):</pre><pre style=\"font-family: monospace; font-size: 10px; margin: 0; padding: 0; line-height: 1; white-space: pre-wrap;\">              # Create an instance of Experiment with the specified parameters</pre><pre style=\"background-color: #ccffcc; font-family: monospace; font-size: 10px; margin: 0; padding: 0; line-height: 1; white-space: pre-wrap;\">&gt;             experiment = Experiment(</pre><pre style=\"background-color: #ccffcc; font-family: monospace; font-size: 10px; margin: 0; padding: 0; line-height: 1; white-space: pre-wrap;\">&gt;                 num_critical_care_beds=num_critical_care_beds,</pre><pre style=\"background-color: #ccffcc; font-family: monospace; font-size: 10px; margin: 0; padding: 0; line-height: 1; white-space: pre-wrap;\">&gt;                 intensive_cleaning_duration=intensive_cleaning_duration,</pre><pre style=\"background-color: #ccffcc; font-family: monospace; font-size: 10px; margin: 0; padding: 0; line-height: 1; white-space: pre-wrap;\">&gt;                 trace=trace,</pre><pre style=\"background-color: #ccffcc; font-family: monospace; font-size: 10px; margin: 0; padding: 0; line-height: 1; white-space: pre-wrap;\">&gt;                 random_number_set=0,</pre><pre style=\"background-color: #ccffcc; font-family: monospace; font-size: 10px; margin: 0; padding: 0; line-height: 1; white-space: pre-wrap;\">&gt;             )</pre><pre style=\"font-family: monospace; font-size: 10px; margin: 0; padding: 0; line-height: 1; white-space: pre-wrap;\"></pre><pre style=\"font-family: monospace; font-size: 10px; margin: 0; padding: 0; line-height: 1; white-space: pre-wrap;\">              # Run the simulation</pre><pre style=\"background-color: #ccffcc; font-family: monospace; font-size: 10px; margin: 0; padding: 0; line-height: 1; white-space: pre-wrap;\">&gt;             results = multiple_replications(</pre><pre style=\"background-color: #ccffcc; font-family: monospace; font-size: 10px; margin: 0; padding: 0; line-height: 1; white-space: pre-wrap;\">&gt;                 experiment, num_replications=num_replications</pre><pre style=\"background-color: #ccffcc; font-family: monospace; font-size: 10px; margin: 0; padding: 0; line-height: 1; white-space: pre-wrap;\">&gt;             )</pre><pre style=\"font-family: monospace; font-size: 10px; margin: 0; padding: 0; line-height: 1; white-space: pre-wrap;\"></pre><pre style=\"font-family: monospace; font-size: 10px; margin: 0; padding: 0; line-height: 1; white-space: pre-wrap;\">              # Call the results_summary function</pre><pre style=\"background-color: #ccffcc; font-family: monospace; font-size: 10px; margin: 0; padding: 0; line-height: 1; white-space: pre-wrap;\">&gt;             summary = results_summary(results)</pre><pre style=\"font-family: monospace; font-size: 10px; margin: 0; padding: 0; line-height: 1; white-space: pre-wrap;\"></pre><pre style=\"font-family: monospace; font-size: 10px; margin: 0; padding: 0; line-height: 1; white-space: pre-wrap;\">              # Display the results as a DataFrame</pre><pre style=\"background-color: #ccffcc; font-family: monospace; font-size: 10px; margin: 0; padding: 0; line-height: 1; white-space: pre-wrap;\">&gt;             st.subheader(&quot;Simulation Results&quot;)</pre><pre style=\"background-color: #ccffcc; font-family: monospace; font-size: 10px; margin: 0; padding: 0; line-height: 1; white-space: pre-wrap;\">&gt;             st.dataframe(summary)</pre><pre style=\"font-family: monospace; font-size: 10px; margin: 0; padding: 0; line-height: 1; white-space: pre-wrap;\"></pre><pre style=\"font-family: monospace; font-size: 10px; margin: 0; padding: 0; line-height: 1; white-space: pre-wrap;\"></pre><pre style=\"background-color: #ccffcc; font-family: monospace; font-size: 10px; margin: 0; padding: 0; line-height: 1; white-space: pre-wrap;\">&gt; if __name__ == &quot;__main__&quot;:</pre><pre style=\"background-color: #ccffcc; font-family: monospace; font-size: 10px; margin: 0; padding: 0; line-height: 1; white-space: pre-wrap;\">&gt;     main()</pre>"
      ],
      "text/plain": [
       "<IPython.core.display.HTML object>"
      ]
     },
     "metadata": {},
     "output_type": "display_data"
    }
   ],
   "source": [
    "display_coverage('ccu_formatted_code_stage2.py,cover')"
   ]
  }
 ],
 "metadata": {
  "kernelspec": {
   "display_name": "gen_simpy",
   "language": "python",
   "name": "python3"
  },
  "language_info": {
   "codemirror_mode": {
    "name": "ipython",
    "version": 3
   },
   "file_extension": ".py",
   "mimetype": "text/x-python",
   "name": "python",
   "nbconvert_exporter": "python",
   "pygments_lexer": "ipython3",
   "version": "3.10.13"
  }
 },
 "nbformat": 4,
 "nbformat_minor": 5
}

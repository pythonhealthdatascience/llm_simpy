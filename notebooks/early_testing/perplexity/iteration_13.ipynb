{
 "cells": [
  {
   "cell_type": "markdown",
   "id": "f80a9659-62b8-45db-b729-698300677ef9",
   "metadata": {},
   "source": [
    "# Iteration 13: multiple reps (4)\n",
    "\n",
    "## Plain English Summary\n",
    "\n",
    "The final step is to summarise the replication analysis using the mean and variance of the replications."
   ]
  },
  {
   "cell_type": "markdown",
   "id": "2e3176fc-587b-434d-a3d2-ee98f6501b7e",
   "metadata": {},
   "source": [
    "## Notebook imports"
   ]
  },
  {
   "cell_type": "code",
   "execution_count": 1,
   "id": "c55ce33a-76d3-45a4-a286-3d3afd633dce",
   "metadata": {},
   "outputs": [],
   "source": [
    "from IPython.display import Markdown, display\n",
    "\n",
    "import numpy as np\n",
    "import math"
   ]
  },
  {
   "cell_type": "markdown",
   "id": "a55c3ecc-617e-419e-8fb5-f4559bbc45c6",
   "metadata": {},
   "source": [
    "## LLM Prompt"
   ]
  },
  {
   "cell_type": "code",
   "execution_count": 2,
   "id": "b2ec31fa-8440-403e-b7e7-aa24eaf705f1",
   "metadata": {},
   "outputs": [
    {
     "data": {
      "text/markdown": [
       "Create a new function called \"results_summary\". The function accepts the results dataframe from \"multiple_replications\".  The function performs the following:\n",
       "\n",
       "1. replication column should be dropped\n",
       "2. The function calculates the mean, and standard deviation of each column in the dataframe.\n",
       "3. The summary function returns as a pandas dataframe containing the results."
      ],
      "text/plain": [
       "<IPython.core.display.Markdown object>"
      ]
     },
     "metadata": {},
     "output_type": "display_data"
    }
   ],
   "source": [
    "display(Markdown(\"inputs/iteration_13.md\"))"
   ]
  },
  {
   "cell_type": "markdown",
   "id": "33dcc018-7a80-4c3f-9994-6103be666c64",
   "metadata": {},
   "source": [
    "## Date and time of input to LLM\n",
    "\n",
    "> 1425 5th December 2023 "
   ]
  },
  {
   "cell_type": "markdown",
   "id": "8f3e6afd-fa01-4b3c-a547-bf7251e6d886",
   "metadata": {
    "jp-MarkdownHeadingCollapsed": true
   },
   "source": [
    "## Sources\n",
    "\n",
    "* https://randalolson.com/2012/06/26/using-pandas-dataframes/\n",
    "* https://stackoverflow.com/questions/59363214/how-to-replicate-a-model-10-times-and-extract-several-objects-test-results-fro\n",
    "* https://pandas.pydata.org/docs/getting_started/intro_tutorials/06_calculate_statistics.html"
   ]
  },
  {
   "cell_type": "markdown",
   "id": "c7329706-d5b3-4392-9f6d-36ba96024902",
   "metadata": {},
   "source": [
    "## Observations on the LLM Output\n",
    "\n",
    "* This is a simple function that uses pandas functionality to quickly compute mean and std.\n"
   ]
  },
  {
   "cell_type": "markdown",
   "id": "f1f702d0-7aff-406d-8c86-d24bf494b62f",
   "metadata": {},
   "source": [
    "## LLM Output 1:"
   ]
  },
  {
   "cell_type": "code",
   "execution_count": 3,
   "id": "0e22ef3c-4105-4839-8e85-4a66de92fe12",
   "metadata": {},
   "outputs": [],
   "source": [
    "def results_summary(results):\n",
    "    summary = results.drop(columns='Replication').agg(['mean', 'std'])\n",
    "    return summary"
   ]
  },
  {
   "cell_type": "markdown",
   "id": "4b86cbe2-c46a-458a-a397-526e95817041",
   "metadata": {},
   "source": [
    "## `multiple_replications`, `CCUModel` and `Experiment` from prior 3 iterations"
   ]
  },
  {
   "cell_type": "code",
   "execution_count": 4,
   "id": "717d4211-32eb-40ea-a69f-aa4af990f145",
   "metadata": {},
   "outputs": [],
   "source": [
    "import pandas as pd\n",
    "\n",
    "def multiple_replications(experiment, n_reps=5):\n",
    "    all_results = []\n",
    "\n",
    "    for i in range(n_reps):\n",
    "        model = CCUModel(simpy.Environment(), experiment)\n",
    "        experiment.reset_kpi()\n",
    "        results = model.run()\n",
    "        results['Replication'] = i + 1\n",
    "        all_results.append(results)\n",
    "\n",
    "    return pd.concat(all_results, ignore_index=True)"
   ]
  },
  {
   "cell_type": "code",
   "execution_count": 5,
   "id": "22d873fe-8e6a-43d2-a893-c951f55619ce",
   "metadata": {},
   "outputs": [],
   "source": [
    "import simpy\n",
    "import numpy as np\n",
    "import pandas as pd\n",
    "\n",
    "class Experiment:\n",
    "    def __init__(self, \n",
    "                 interarrival_means=[22.72, 26.0, 37.0, 47.2, 575.0, 17.91], \n",
    "                 stay_distributions=[(128.79, 267.51), (177.89, 276.54), (140.15, 218.02), (212.86, 457.67), (87.53, 108.67), 57.34], \n",
    "                 elective_treatment_mean=57.34, \n",
    "                 num_critical_care_beds=24, \n",
    "                 intensive_cleaning_duration=5, \n",
    "                 warm_up_period=30*24, \n",
    "                 results_collection_period=12*30*24,\n",
    "                 trace=False):\n",
    "        self.interarrival_means = interarrival_means\n",
    "        self.stay_distributions = stay_distributions\n",
    "        self.elective_treatment_mean = elective_treatment_mean\n",
    "        self.num_critical_care_beds = num_critical_care_beds\n",
    "        self.intensive_cleaning_duration = intensive_cleaning_duration\n",
    "        self.warm_up_period = warm_up_period\n",
    "        self.results_collection_period = results_collection_period\n",
    "        self.total_treatment_time = 0\n",
    "        self.cancelled_elective_count = 0\n",
    "        self.mean_waiting_time_unplanned = 0\n",
    "        self.total_unplanned_admissions = 0\n",
    "        self.bed_occupancy = 0\n",
    "        self.trace = trace\n",
    "        self.patient_count = 0\n",
    "\n",
    "    def reset_kpi(self):\n",
    "        self.total_treatment_time = 0\n",
    "        self.cancelled_elective_count = 0\n",
    "        self.mean_waiting_time_unplanned = 0\n",
    "        self.total_unplanned_admissions = 0\n",
    "        self.bed_occupancy = 0\n",
    "        self.patient_count = 0"
   ]
  },
  {
   "cell_type": "code",
   "execution_count": 6,
   "id": "0c1e5984-8299-4caa-ab07-05ae3a7db856",
   "metadata": {},
   "outputs": [],
   "source": [
    "class CCUModel:\n",
    "    def __init__(self, env, experiment):\n",
    "        self.env = env\n",
    "        self.experiment = experiment\n",
    "        self.patient_count = 0\n",
    "        self.critical_care_beds = simpy.Resource(env, capacity=experiment.num_critical_care_beds)\n",
    "        self.performance_measures = None\n",
    "\n",
    "    def patient_arrival_AE(self):\n",
    "        while True:\n",
    "            yield self.env.timeout(np.random.exponential(self.experiment.interarrival_means[0]))\n",
    "            self.patient_count += 1\n",
    "            if self.experiment.trace:\n",
    "                print(f\"Patient {self.patient_count} arrived from Accident and Emergency at time {self.env.now}\")\n",
    "            self.env.process(self.unplanned_admission(self.experiment.stay_distributions[0]))\n",
    "\n",
    "    def patient_arrival_wards(self):\n",
    "        while True:\n",
    "            yield self.env.timeout(np.random.exponential(self.experiment.interarrival_means[1]))\n",
    "            self.patient_count += 1\n",
    "            if self.experiment.trace:\n",
    "                print(f\"Patient {self.patient_count} arrived from the Wards at time {self.env.now}\")\n",
    "            self.env.process(self.unplanned_admission(self.experiment.stay_distributions[1]))\n",
    "\n",
    "    def patient_arrival_surgery(self):\n",
    "        while True:\n",
    "            yield self.env.timeout(np.random.exponential(self.experiment.interarrival_means[2]))\n",
    "            self.patient_count += 1\n",
    "            if self.experiment.trace:\n",
    "                print(f\"Patient {self.patient_count} arrived from Emergency surgery at time {self.env.now}\")\n",
    "            self.env.process(self.unplanned_admission(self.experiment.stay_distributions[2]))\n",
    "\n",
    "    def patient_arrival_other_hospitals(self):\n",
    "        while True:\n",
    "            yield self.env.timeout(np.random.exponential(self.experiment.interarrival_means[3]))\n",
    "            self.patient_count += 1\n",
    "            if self.experiment.trace:\n",
    "                print(f\"Patient {self.patient_count} arrived from other hospitals at time {self.env.now}\")\n",
    "            self.env.process(self.unplanned_admission(self.experiment.stay_distributions[3]))\n",
    "\n",
    "    def patient_arrival_X_ray(self):\n",
    "        while True:\n",
    "            yield self.env.timeout(np.random.exponential(self.experiment.interarrival_means[4]))\n",
    "            self.patient_count += 1\n",
    "            if self.experiment.trace:\n",
    "                print(f\"Patient {self.patient_count} arrived from the X-Ray department at time {self.env.now}\")\n",
    "            self.env.process(self.unplanned_admission(self.experiment.stay_distributions[4]))\n",
    "\n",
    "    def patient_arrival_elective_surgery(self):\n",
    "        while True:\n",
    "            yield self.env.timeout(np.random.normal(self.experiment.interarrival_means[5], 3.16))\n",
    "            self.patient_count += 1\n",
    "            if self.experiment.trace:\n",
    "                print(f\"Elective surgery patient {self.patient_count} arrived at time {self.env.now}\")\n",
    "            if len(self.critical_care_beds.users) == self.critical_care_beds.capacity:\n",
    "                if self.experiment.trace:\n",
    "                    print(f\"Elective surgery for patient {self.patient_count} cancelled due to no available critical care beds at time {self.env.now}\")\n",
    "                if self.env.now > self.experiment.warm_up_period:\n",
    "                    self.experiment.cancelled_elective_count += 1\n",
    "            else:\n",
    "                self.env.process(self.elective_surgery_process(self.experiment.elective_treatment_mean))\n",
    "\n",
    "    def unplanned_admission(self, stay_distribution):\n",
    "        arrival_time = self.env.now\n",
    "        with self.critical_care_beds.request() as req:\n",
    "            yield req\n",
    "            wait_time = self.env.now - arrival_time\n",
    "            if self.experiment.trace:\n",
    "                print(f\"Patient {self.patient_count} admitted to critical care bed at time {self.env.now}\")\n",
    "            treatment_time = np.random.lognormal(np.log(stay_distribution[0]) - 0.5 * np.log(1 + (stay_distribution[1] / stay_distribution[0])**2),\n",
    "                                                 np.sqrt(np.log(1 + (stay_distribution[1] / stay_distribution[0])**2)))\n",
    "            yield self.env.timeout(treatment_time)\n",
    "            if self.experiment.trace:\n",
    "                print(f\"Patient {self.patient_count} discharged from critical care bed at time {self.env.now}\")\n",
    "            if self.env.now > self.experiment.warm_up_period:\n",
    "                self.experiment.total_treatment_time += treatment_time\n",
    "                self.experiment.mean_waiting_time_unplanned += wait_time\n",
    "                self.experiment.total_unplanned_admissions += 1\n",
    "            yield self.env.timeout(self.experiment.intensive_cleaning_duration)\n",
    "            if self.experiment.trace:\n",
    "                print(f\"Critical care bed is available for next patient at time {self.env.now}\")\n",
    "\n",
    "    def elective_surgery_process(self, treatment_mean):\n",
    "        with self.critical_care_beds.request() as req:\n",
    "            yield req\n",
    "            if self.experiment.trace:\n",
    "                print(f\"Elective surgery patient {self.patient_count} admitted to critical care bed at time {self.env.now}\")\n",
    "            treatment_time = np.random.exponential(treatment_mean)\n",
    "            yield self.env.timeout(treatment_time)\n",
    "            if self.experiment.trace:\n",
    "                print(f\"Elective surgery patient {self.patient_count} discharged from critical care bed at time {self.env.now}\")\n",
    "            if self.env.now > self.experiment.warm_up_period:\n",
    "                self.experiment.total_treatment_time += treatment_time\n",
    "            yield self.env.timeout(self.experiment.intensive_cleaning_duration)\n",
    "            if self.experiment.trace:\n",
    "                print(f\"Critical care bed is available for next patient at time {self.env.now}\")\n",
    "\n",
    "    def warmup_complete(self):\n",
    "        yield self.env.timeout(self.experiment.warm_up_period)\n",
    "        self.patient_count = 0\n",
    "        if self.experiment.trace:\n",
    "            print(\"Warm-up complete\")\n",
    "\n",
    "    def run(self):\n",
    "        self.env.process(self.patient_arrival_AE())\n",
    "        self.env.process(self.patient_arrival_wards())\n",
    "        self.env.process(self.patient_arrival_surgery())\n",
    "        self.env.process(self.patient_arrival_other_hospitals())\n",
    "        self.env.process(self.patient_arrival_X_ray())\n",
    "        self.env.process(self.patient_arrival_elective_surgery())\n",
    "        self.env.process(self.warmup_complete())\n",
    "        self.env.run(until=self.experiment.results_collection_period + self.experiment.warm_up_period)\n",
    "        if self.env.now > self.experiment.warm_up_period:\n",
    "            mean_waiting_time_unplanned = self.experiment.mean_waiting_time_unplanned / self.experiment.total_unplanned_admissions\n",
    "            bed_utilization = self.experiment.total_treatment_time / (self.experiment.num_critical_care_beds * self.experiment.results_collection_period)\n",
    "            bed_occupancy = bed_utilization * self.experiment.num_critical_care_beds\n",
    "            self.performance_measures = pd.DataFrame({'Cancelled Elective Operations': [self.experiment.cancelled_elective_count], 'Bed Utilization': [bed_utilization], 'Mean Waiting Time Unplanned': [mean_waiting_time_unplanned], 'Bed Occupancy': [bed_occupancy], 'Patient Count': [self.patient_count]})\n",
    "            return self.performance_measures\n"
   ]
  },
  {
   "cell_type": "code",
   "execution_count": 7,
   "id": "6af76cfb-56fe-411e-bf91-34348106d12d",
   "metadata": {},
   "outputs": [
    {
     "ename": "TypeError",
     "evalue": "multiple_replications() got an unexpected keyword argument 'n_replications'",
     "output_type": "error",
     "traceback": [
      "\u001b[0;31m---------------------------------------------------------------------------\u001b[0m",
      "\u001b[0;31mTypeError\u001b[0m                                 Traceback (most recent call last)",
      "Cell \u001b[0;32mIn[7], line 3\u001b[0m\n\u001b[1;32m      1\u001b[0m \u001b[38;5;66;03m# test code (written by tester)\u001b[39;00m\n\u001b[1;32m      2\u001b[0m experiment \u001b[38;5;241m=\u001b[39m Experiment()\n\u001b[0;32m----> 3\u001b[0m replications \u001b[38;5;241m=\u001b[39m \u001b[43mmultiple_replications\u001b[49m\u001b[43m(\u001b[49m\u001b[43mexperiment\u001b[49m\u001b[43m,\u001b[49m\u001b[43m \u001b[49m\u001b[43mn_replications\u001b[49m\u001b[38;5;241;43m=\u001b[39;49m\u001b[38;5;241;43m5\u001b[39;49m\u001b[43m)\u001b[49m\n\u001b[1;32m      4\u001b[0m results_summary(replications)\n",
      "\u001b[0;31mTypeError\u001b[0m: multiple_replications() got an unexpected keyword argument 'n_replications'"
     ]
    }
   ],
   "source": [
    "# test code (written by tester)\n",
    "experiment = Experiment()\n",
    "replications = multiple_replications(experiment, n_replications=5)\n",
    "results_summary(replications)"
   ]
  },
  {
   "cell_type": "markdown",
   "id": "1c97660d-7fd0-4ed7-af75-74c6559c1dd3",
   "metadata": {},
   "source": [
    "## Testing\n",
    "\n",
    "Here we do a number of regression tests to check that previous functionality is not affected by the `multiple_replications` function. \n",
    "\n",
    "* **Extreme value test 1**: Wards, Em Surgery, other hospitals, x-ray have their inter-arrival time is set to $M$ a very large number\n",
    "    * Expected result: The only type of patient to arrive to the model is \"Accident and Emergency.\" **NEW**: there are 0 cancelled electives.\n",
    "    * Actual result **(PASS)**: The only type of patient to arrive to the model is \"Accident and Emergency.\" **NEW**: there are 0 cancelled electives.\n",
    "* **Extreme value test 2**: All unplanned patient types have have their inter-arrival time is set to $M$ a very large number\n",
    "    * Expected result: The only type of patient to arrive to the model is \"Elective.\"\n",
    "    * Actual result **(PASS)**: The only type of patient to arrive to the model is \"Elective.\"\n",
    "* **Different results collection period**: The results collection period of the model is set to 10 hours.\n",
    "    * Expected result: The model runs no longer than warm-up + result collection period = 720 + 10 = 730 simulated time periods\n",
    "    * Actual result **(PASS)**: The model runs no longer than warm-up + result collection period = 720 + 10 = 730 simulated time periods\n",
    "* **Extreme value test 3**: `critical_care_beds` = 1\n",
    "    * Expected result: queues form after first arrival.\n",
    "    * Actual result **(PASS)**: queues form after first arrival. \n",
    "* **Extreme value test 4**: means of stay_distributions set to $M$ a very large number.\n",
    "    * Expected result: after 24 arrivals queues form and no patients are admitted.\n",
    "    * Actual result **(PASS)**: after 24 arrivals queues form and no patients are admitted.\n",
    "* **Vary warm up period**: Vary the warm-up period while holding the results collection period constant.\n",
    "    * Expected result: Run length is equal to the `results_collection_period`\n",
    "    * Actual result **(PASS)**: Run length is equal to the `results_collection_period`"
   ]
  },
  {
   "cell_type": "code",
   "execution_count": null,
   "id": "9f0b14e1-e38d-453a-97e7-af31cce1e7e4",
   "metadata": {},
   "outputs": [],
   "source": [
    "# The extreme value\n",
    "M = 10_000_000"
   ]
  },
  {
   "cell_type": "markdown",
   "id": "6e04274b-f252-4676-b44e-f6088000f218",
   "metadata": {},
   "source": [
    "### Test 1: Extreme value test 1\n",
    "\n",
    "PASS"
   ]
  },
  {
   "cell_type": "code",
   "execution_count": null,
   "id": "40147960-4a80-47cf-8792-794279d9cec1",
   "metadata": {},
   "outputs": [],
   "source": [
    "def run_test(experiment):\n",
    "    # Create a SimPy environment\n",
    "    env = simpy.Environment()\n",
    "    ccu_model = CCUModel(env, experiment)\n",
    "    results = ccu_model.run()\n",
    "    return ccu_model, results"
   ]
  },
  {
   "cell_type": "code",
   "execution_count": null,
   "id": "97cebfeb-06ec-478f-b905-9f6e4c3f441d",
   "metadata": {},
   "outputs": [],
   "source": [
    "def extreme_value_test_1(extreme_value=M):\n",
    "    '''\n",
    "    Extreme value test 1: \n",
    "    \n",
    "    Wards, Em Surgery, other hospitals, x-ray, electives have their inter-arrival time is\n",
    "    set to $M$ a very large number.\n",
    "    Expected result: The only type of patient to arrive to the model is \"Accident and Emergency.\"\n",
    "    There are no elective cancellations (as no electives arrive)\n",
    "    '''\n",
    "    mod_interarrival_means = [22.72] + [extreme_value] * 5 \n",
    "    experiment = Experiment(interarrival_means=mod_interarrival_means)\n",
    "    return run_test(experiment)"
   ]
  },
  {
   "cell_type": "code",
   "execution_count": null,
   "id": "a03360f0-a9f3-4bf1-9890-f3bd9fc9001b",
   "metadata": {},
   "outputs": [],
   "source": [
    "model, results = extreme_value_test_1()\n",
    "results"
   ]
  },
  {
   "cell_type": "markdown",
   "id": "1ed93f8c-4af9-4889-8280-ba22df44b41b",
   "metadata": {},
   "source": [
    "### Test 2: Extreme value test 2\n",
    "\n",
    "PASS"
   ]
  },
  {
   "cell_type": "code",
   "execution_count": null,
   "id": "4e42c351-bb72-4d93-b43f-b79bc6eeeca4",
   "metadata": {},
   "outputs": [],
   "source": [
    "def extreme_value_test_2(extreme_value=M):\n",
    "    '''\n",
    "    Extreme value test 2: \n",
    "    \n",
    "    All unplanned admissions have their inter-arrival time is\n",
    "    set to $M$ a very large number\n",
    "    \n",
    "    Expected result: The only type of patient to arrive to the model is \"Elective\"\n",
    "    '''\n",
    "    mod_interarrival_means=[extreme_value] * 5 + [17.91]\n",
    "    experiment = Experiment(interarrival_means=mod_interarrival_means, trace=True)\n",
    "    return run_test(experiment)"
   ]
  },
  {
   "cell_type": "code",
   "execution_count": null,
   "id": "3fcf1948-bdcf-4db4-835f-6b502f298393",
   "metadata": {},
   "outputs": [],
   "source": [
    "try:\n",
    "    model, results = extreme_value_test_2()\n",
    "except ZeroDivisionError:\n",
    "    print(\"caught zero division error due to extreme value test\")"
   ]
  },
  {
   "cell_type": "markdown",
   "id": "23a6dfc1-a226-43da-805d-62c6e16bc95b",
   "metadata": {},
   "source": [
    "### Test 3: Different run length\n",
    "\n",
    "PASS"
   ]
  },
  {
   "cell_type": "code",
   "execution_count": null,
   "id": "61303ad2-b636-4ffc-9a9f-29a761e31d14",
   "metadata": {},
   "outputs": [],
   "source": [
    "def test_results_collection_period(new_collect_period):\n",
    "    '''\n",
    "    Vary the results collection period while holding the \n",
    "    warm-up period constant.\n",
    "\n",
    "    Expected result Run length should be no longer than `new_run_length`\n",
    "    '''\n",
    "    experiment = Experiment(results_collection_period=new_collect_period)\n",
    "    model, results = run_test(experiment)\n",
    "    return model.env.now"
   ]
  },
  {
   "cell_type": "code",
   "execution_count": null,
   "id": "4bd7bc04-c616-44a4-8e91-0a62dba38154",
   "metadata": {},
   "outputs": [],
   "source": [
    "try:\n",
    "    test_results_collection_period(10)\n",
    "except ZeroDivisionError:\n",
    "    print(\"caught zero division error due to extreme value test\")"
   ]
  },
  {
   "attachments": {},
   "cell_type": "markdown",
   "id": "1b9400f5-1091-435f-bdf9-06695eac7a68",
   "metadata": {},
   "source": [
    "### Test 4: Extreme value test 3\n",
    "\n",
    "PASS."
   ]
  },
  {
   "cell_type": "code",
   "execution_count": null,
   "id": "bfba1aaa-9423-456d-b983-8d918e361ca4",
   "metadata": {},
   "outputs": [],
   "source": [
    "def extreme_value_test_3(critical_care_beds=1):\n",
    "    '''\n",
    "    Extreme value test 3: \n",
    "    \n",
    "    Critical care beds set to 1 or parameter\n",
    "    \n",
    "    Expected result: when critical_care_beds=1 queues form after first arrival.\n",
    "    Cancellations also begin after 1st arrival.\n",
    "\n",
    "    Note: reported utilisation will not quite be 100% because of the patient still\n",
    "    in service.\n",
    "    \n",
    "    '''\n",
    "    experiment = Experiment(num_critical_care_beds=critical_care_beds)\n",
    "    model, results = run_test(experiment)\n",
    "    print(f'{experiment.total_treatment_time=}')\n",
    "    print(f'{experiment.results_collection_period=}')\n",
    "    return model, results"
   ]
  },
  {
   "cell_type": "code",
   "execution_count": null,
   "id": "521e9525-0e91-4626-a606-a688d75610d3",
   "metadata": {},
   "outputs": [],
   "source": [
    "model, results = extreme_value_test_3()\n",
    "results"
   ]
  },
  {
   "cell_type": "markdown",
   "id": "606c7370-7dd5-422a-9168-8f5fdb69b854",
   "metadata": {},
   "source": [
    "### Test 5: Extreme value test 4\n",
    "\n",
    "PASS"
   ]
  },
  {
   "cell_type": "code",
   "execution_count": null,
   "id": "5e3ce364-a696-4728-a6b4-90a915f786f9",
   "metadata": {},
   "outputs": [],
   "source": [
    "def extreme_value_test_4(extreme_value=M):\n",
    "    '''\n",
    "    Extreme value test 4: \n",
    "    \n",
    "    means of stay_distributions set to $M$ a very large number.\n",
    "    Expected result: after 24 arrivals queues form and no patients are admitted.\n",
    "    '''\n",
    "    mod_stay_distributions=[(M, 267.51), \n",
    "                            (M, 276.54), \n",
    "                            (M, 218.02), \n",
    "                            (M, 457.67), \n",
    "                            (M, 108.67), \n",
    "                            57.34] \n",
    "    experiment = Experiment(stay_distributions=mod_stay_distributions, \n",
    "                            elective_treatment_mean=M, trace=True)\n",
    "    return run_test(experiment)"
   ]
  },
  {
   "cell_type": "code",
   "execution_count": null,
   "id": "58d4ac69-7301-4b22-b171-b94b9b73e148",
   "metadata": {},
   "outputs": [],
   "source": [
    "try:\n",
    "    extreme_value_test_4()\n",
    "except ZeroDivisionError:\n",
    "    print(\"caught expected zero division error due to extreme value test\")"
   ]
  },
  {
   "cell_type": "markdown",
   "id": "3534c645-2bae-41c1-9d79-c86bde7f1de8",
   "metadata": {},
   "source": [
    "### Test 6: Vary Warm-up parameter\n",
    "\n",
    "PASS"
   ]
  },
  {
   "cell_type": "code",
   "execution_count": null,
   "id": "95d968c9-f267-4044-ac5d-9a4624c8f3dd",
   "metadata": {},
   "outputs": [],
   "source": [
    "def test_warmup_period(new_warmup_period):\n",
    "    '''\n",
    "    Vary the warm-up period while holding the \n",
    "    results collection period constant.\n",
    "\n",
    "    Expected result Run length should be no longer than results_collection_period\n",
    "    '''\n",
    "    experiment = Experiment(warm_up_period=new_warmup_period)\n",
    "    model, results = run_test(experiment)\n",
    "    return model.env.now, experiment.results_collection_period"
   ]
  },
  {
   "cell_type": "code",
   "execution_count": null,
   "id": "e6e5161b-1626-4c8d-8632-f060701e351b",
   "metadata": {},
   "outputs": [],
   "source": [
    "test_warmup_period(0)"
   ]
  }
 ],
 "metadata": {
  "kernelspec": {
   "display_name": "Python 3 (ipykernel)",
   "language": "python",
   "name": "python3"
  },
  "language_info": {
   "codemirror_mode": {
    "name": "ipython",
    "version": 3
   },
   "file_extension": ".py",
   "mimetype": "text/x-python",
   "name": "python",
   "nbconvert_exporter": "python",
   "pygments_lexer": "ipython3",
   "version": "3.10.13"
  }
 },
 "nbformat": 4,
 "nbformat_minor": 5
}

{
 "cells": [
  {
   "cell_type": "markdown",
   "id": "d02fc8c1-9730-4d14-bb8d-711735df1f20",
   "metadata": {},
   "source": [
    "using python and numpy write function to sample from a continuous empirical distribution. \n",
    "\n",
    "function arguments\n",
    "\n",
    "1. a sorted list of lower bounds of a discrete empirical distribution\n",
    "2. a sorted list of the upper bounds of a discrete empirical distribution\n",
    "3. a sorted list of cumulative probabilities of a discrete empirical distribution\n",
    "\n",
    "The function\n",
    "\n",
    "1. creates a numpy random Generator object \n",
    "2. samples a value U from the uniform(0, 1) distribution\n",
    "2. uses U to obtain lower and upper bounds of a sample from the discrete empirical distribution \n",
    "3. uses linear interpolatation of U between the lower and upper bound in order to obtain a continuous value.  \n",
    "\n",
    "return the continuous value.\n",
    "\n",
    "do not use scipy"
   ]
  },
  {
   "cell_type": "code",
   "execution_count": null,
   "id": "3fee1a4b-0dd5-4f4a-8d15-1e414b6884d6",
   "metadata": {},
   "outputs": [],
   "source": [
    "import matplotlib.pyplot as plt\n",
    "import numpy as np"
   ]
  },
  {
   "cell_type": "code",
   "execution_count": 20,
   "id": "c38b8e7d-b035-482d-951e-373550d04a5d",
   "metadata": {},
   "outputs": [],
   "source": [
    "\n",
    "def sample_from_empirical_distribution(lower_bounds, upper_bounds, cumulative_probs):\n",
    "    # Create a numpy random Generator object\n",
    "    rg = np.random.default_rng()\n",
    "    \n",
    "    # Sample a value U from the uniform(0, 1) distribution\n",
    "    U = rg.random()\n",
    "    \n",
    "    # Obtain lower and upper bounds of a sample from the discrete empirical distribution\n",
    "    idx = np.searchsorted(cumulative_probs, U)\n",
    "    lb, ub = lower_bounds[idx], upper_bounds[idx]\n",
    "    \n",
    "    # Use linear interpolation of U between the lower and upper bound to obtain a continuous value\n",
    "    continuous_value = lb + (ub - lb) * (U - cumulative_probs[idx-1]) / (cumulative_probs[idx] - cumulative_probs[idx-1])\n",
    "    \n",
    "    return continuous_value\n"
   ]
  },
  {
   "cell_type": "code",
   "execution_count": 136,
   "id": "07dd6bdf-5cef-4c42-8261-d454462806bd",
   "metadata": {},
   "outputs": [],
   "source": [
    "class ContinuousEmpiricalDistribution:\n",
    "    \n",
    "    def __init__(self, lower_bounds, upper_bounds, freq, random_seed=None):\n",
    "        self.lower_bounds = np.asarray(lower_bounds)\n",
    "        self.upper_bounds = np.asarray(upper_bounds)\n",
    "        self.cumulative_probs = self.create_cumulative_probs(freq)\n",
    "        self.rng = np.random.default_rng(random_seed)\n",
    "\n",
    "    def create_cumulative_probs(self, freq):\n",
    "        freq = np.asarray(freq)\n",
    "        return np.cumsum(freq / freq.sum())\n",
    "\n",
    "    def sample(self, size=None):\n",
    "\n",
    "        if size is None:\n",
    "            size = 1\n",
    "\n",
    "        samples = []\n",
    "        for i in range(size):\n",
    "        \n",
    "            # Sample a value U from the uniform(0, 1) distribution\n",
    "            U = self.rng.random()\n",
    "            \n",
    "            # Obtain lower and upper bounds of a sample from the discrete empirical distribution\n",
    "            idx = np.searchsorted(self.cumulative_probs, U)\n",
    "            lb, ub = self.lower_bounds[idx], self.upper_bounds[idx]\n",
    "            \n",
    "            # Use linear interpolation of U between the lower and upper bound to obtain a continuous value\n",
    "            continuous_value = lb + (ub - lb) * (U - self.cumulative_probs[idx-1]) / (self.cumulative_probs[idx] - self.cumulative_probs[idx-1])\n",
    "\n",
    "            samples.append(continuous_value)\n",
    "\n",
    "        if size == 1:\n",
    "            return samples[0]\n",
    "        else:\n",
    "            return np.asarray(samples)\n"
   ]
  },
  {
   "cell_type": "code",
   "execution_count": 143,
   "id": "89621403-28e9-4fc9-9532-420c8a4763dd",
   "metadata": {},
   "outputs": [
    {
     "data": {
      "text/plain": [
       "8.734123868542092"
      ]
     },
     "execution_count": 143,
     "metadata": {},
     "output_type": "execute_result"
    }
   ],
   "source": [
    "dist = ContinuousEmpiricalDistribution(lower_bounds, upper_bounds, freq)\n",
    "dist.sample(size=None)"
   ]
  },
  {
   "cell_type": "code",
   "execution_count": 124,
   "id": "b7d0eedf-6dcb-4597-b8af-ede9d5d61c50",
   "metadata": {},
   "outputs": [],
   "source": [
    "\n",
    "\n"
   ]
  },
  {
   "cell_type": "code",
   "execution_count": 144,
   "id": "74f18101-69d3-40cb-85b9-e87a6585befb",
   "metadata": {},
   "outputs": [],
   "source": [
    "freq = [34,\n",
    "        4,\n",
    "        8,\n",
    "        13,\n",
    "        15,\n",
    "        13,\n",
    "        19,\n",
    "        13,\n",
    "        9,\n",
    "        12,\n",
    "        73]\n",
    "\n",
    "\n",
    "lower_bounds = [0,\n",
    "                5,\n",
    "                10,\n",
    "                15,\n",
    "                30,\n",
    "                45,\n",
    "                60,\n",
    "                120,\n",
    "                180,\n",
    "                240,\n",
    "                480]\n",
    "\n",
    "upper_bounds = [5,\n",
    "                10,\n",
    "                15,\n",
    "                30,\n",
    "                45,\n",
    "                60,\n",
    "                120,\n",
    "                180,\n",
    "                240,\n",
    "                480,\n",
    "                2880]\n",
    "\n",
    "\n",
    "# cumulative probs\n",
    "probs = [0.15962441314554,\n",
    "        0.178403755868545,\n",
    "        0.215962441314554,\n",
    "        0.276995305164319,\n",
    "        0.347417840375587,\n",
    "        0.408450704225352,\n",
    "        0.497652582159624,\n",
    "        0.55868544600939,\n",
    "        0.60093896713615,\n",
    "        0.657276995305164,\n",
    "        1.0]"
   ]
  },
  {
   "cell_type": "code",
   "execution_count": 98,
   "id": "816edec8-7af4-4642-ad85-219992ff2117",
   "metadata": {},
   "outputs": [],
   "source": [
    "n = 10_000\n",
    "results = [sample_from_empirical_distribution(lower_bounds, upper_bounds, probs) for _ in range(n)]"
   ]
  },
  {
   "cell_type": "code",
   "execution_count": 99,
   "id": "71f21108-0876-4e2f-8787-fd53d322664b",
   "metadata": {},
   "outputs": [],
   "source": [
    "def distribution_plot(samples, bins):\n",
    "    '''\n",
    "    helper function to visualise the distributions\n",
    "    '''\n",
    "    hist = np.histogram(samples, bins=np.arange(bins), \n",
    "                        density=True)\n",
    "    plt.hist(samples, density=True);\n",
    "    plt.ylabel('p(x)');\n",
    "    plt.xlabel('x');"
   ]
  },
  {
   "cell_type": "code",
   "execution_count": 100,
   "id": "06b1cdfc-b9b4-4755-91e3-de916ae39b1d",
   "metadata": {},
   "outputs": [
    {
     "data": {
      "image/png": "[encoded data removed]",
      "text/plain": [
       "<Figure size 640x480 with 1 Axes>"
      ]
     },
     "metadata": {},
     "output_type": "display_data"
    }
   ],
   "source": [
    "frq, edges = np.histogram(results, bins=upper_bounds)\n",
    "fig, ax = plt.subplots()\n",
    "ax.bar(edges[:-1], frq, width=np.diff(edges), edgecolor=\"black\", align=\"edge\")\n",
    "\n",
    "plt.show()"
   ]
  },
  {
   "cell_type": "code",
   "execution_count": 105,
   "id": "cec6194f-7f95-4af7-b4b4-d81b776322e1",
   "metadata": {},
   "outputs": [
    {
     "data": {
      "image/png": "[encoded data removed]",
      "text/plain": [
       "<Figure size 640x480 with 1 Axes>"
      ]
     },
     "metadata": {},
     "output_type": "display_data"
    }
   ],
   "source": [
    "\n",
    "\n",
    "fig, ax = plt.subplots()\n",
    "ax.bar(edges[:-1], (frq / n) * 100, width=np.diff(edges), edgecolor=\"black\", align=\"edge\")\n",
    "\n",
    "plt.show()"
   ]
  },
  {
   "cell_type": "code",
   "execution_count": null,
   "id": "ba1af441-956d-40e0-a2e5-810081be4a82",
   "metadata": {},
   "outputs": [],
   "source": [
    "## Erlang distribution"
   ]
  },
  {
   "cell_type": "code",
   "execution_count": 161,
   "id": "b3f04061-5a2b-4b79-a703-a26419aed9c9",
   "metadata": {},
   "outputs": [],
   "source": [
    "class Erlang:\n",
    "    '''\n",
    "    Sum of k erlang distributions\n",
    "    '''\n",
    "    def __init__(self, mean, stdev, location=0.0, random_seed=None):\n",
    "        self.mean = mean\n",
    "        self.stdev = stdev\n",
    "        self.location = location\n",
    "        self.rng = np.random.default_rng(random_seed)\n",
    "\n",
    "        # k also referred to as shape\n",
    "        self.k = round((mean / stdev) ** 2)\n",
    "\n",
    "        # theta also referred to as scale\n",
    "        self.theta = mean / self.k\n",
    "\n",
    "    def sample(self, size=None):\n",
    "        return self.rng.gamma(self.k, self.theta, size) + self.location"
   ]
  },
  {
   "cell_type": "code",
   "execution_count": null,
   "id": "2acd1ec9-24ff-46a2-9c3a-b700b94b7d7c",
   "metadata": {},
   "outputs": [],
   "source": [
    "Mean (32.29), Standard deviation (9.26), Location (2.83)"
   ]
  },
  {
   "cell_type": "code",
   "execution_count": 167,
   "id": "c040aa9d-5b59-4be2-80c7-482492cdafc0",
   "metadata": {},
   "outputs": [],
   "source": [
    "mean = 32.9\n",
    "stdev = 9.26\n",
    "location = 2.83\n",
    "\n",
    "N = 100_000\n",
    "dist = Erlang(mean, stdev, location)\n",
    "samples = dist.sample(N)"
   ]
  },
  {
   "cell_type": "code",
   "execution_count": 168,
   "id": "70341a87-7867-48b5-80c7-06930dfc3ce0",
   "metadata": {},
   "outputs": [
    {
     "data": {
      "image/png": "[encoded data removed]",
      "text/plain": [
       "<Figure size 640x480 with 1 Axes>"
      ]
     },
     "metadata": {},
     "output_type": "display_data"
    }
   ],
   "source": [
    "frq, edges = np.histogram(samples)\n",
    "fig, ax = plt.subplots()\n",
    "ax.bar(edges[:-1], (frq / n) * 100, width=np.diff(edges), edgecolor=\"black\", align=\"edge\")\n",
    "\n",
    "plt.show()"
   ]
  },
  {
   "cell_type": "code",
   "execution_count": 170,
   "id": "17f7f3f3-8342-4a1d-bb8b-0dd6456cb4ab",
   "metadata": {},
   "outputs": [
    {
     "data": {
      "text/plain": [
       "32.94872198412259"
      ]
     },
     "execution_count": 170,
     "metadata": {},
     "output_type": "execute_result"
    }
   ],
   "source": [
    "(samples - location).mean()"
   ]
  },
  {
   "cell_type": "code",
   "execution_count": null,
   "id": "10a29629-8af3-47a5-b5f9-4e84cb127ea5",
   "metadata": {},
   "outputs": [],
   "source": []
  }
 ],
 "metadata": {
  "kernelspec": {
   "display_name": "Python 3 (ipykernel)",
   "language": "python",
   "name": "python3"
  },
  "language_info": {
   "codemirror_mode": {
    "name": "ipython",
    "version": 3
   },
   "file_extension": ".py",
   "mimetype": "text/x-python",
   "name": "python",
   "nbconvert_exporter": "python",
   "pygments_lexer": "ipython3",
   "version": "3.10.13"
  }
 },
 "nbformat": 4,
 "nbformat_minor": 5
}
